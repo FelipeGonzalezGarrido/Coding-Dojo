{
  "cells": [
    {
      "cell_type": "markdown",
      "id": "125a4c10",
      "metadata": {
        "id": "125a4c10"
      },
      "source": [
        "<a href=\"https://colab.research.google.com/github/fralfaro/CodingDojo-DataScience/blob/main/docs/2-Pandas/2-Pandas.ipynb\" target=\"_parent\"><img src=\"https://colab.research.google.com/assets/colab-badge.svg\" alt=\"Open In Colab\"/></a>\n",
        "\n",
        "# Pandas\n",
        "\n",
        "## Introducción\n"
      ]
    },
    {
      "cell_type": "markdown",
      "id": "85d9d7da",
      "metadata": {
        "id": "85d9d7da"
      },
      "source": [
        "- **Pandas** es una herramienta open source (código abierto) rápida, poderosa, flexible y fácil de utilizar para análisis y manipulación de datos. \n",
        "- Construida sobre el lenguaje de programación **Python**\n",
        "- Al ser una biblioteca, esta debe ser **importada** en nuestro código para su utilización.\n",
        "-  Si está trabajando en su entorno local, previo a su importación debe ser **instalada** \n",
        "    - ```pip install pandas``` si usa ```pip```\n",
        "    - ```conda install pandas``` si usa ```conda```"
      ]
    },
    {
      "cell_type": "code",
      "execution_count": null,
      "id": "92f49b64",
      "metadata": {
        "id": "92f49b64"
      },
      "outputs": [],
      "source": [
        "# Código para importar biblioteca pandas. \n",
        "# Antes de usar pandas se DEBE importar (sino lanzará error!!!!)\n",
        "import pandas as pd"
      ]
    },
    {
      "cell_type": "markdown",
      "id": "e714ecdd",
      "metadata": {
        "id": "e714ecdd"
      },
      "source": [
        "<center>\n",
        "<img src=\"https://raw.githubusercontent.com/fralfaro/CodingDojo-DataScience/main/docs/2-Pandas/images/pros-cons-pandas.jpg\" width=\"800px\" >\n",
        "</center>\n",
        "\n",
        "> **Fuente**: https://data-flair.training/blogs/advantages-of-python-pandas/"
      ]
    },
    {
      "cell_type": "markdown",
      "id": "0b66f94e",
      "metadata": {
        "id": "0b66f94e"
      },
      "source": [
        "## Pandas: Series "
      ]
    },
    {
      "cell_type": "markdown",
      "id": "53b122d5",
      "metadata": {
        "id": "53b122d5"
      },
      "source": [
        "- Permite almacenar elementos en un arreglo **unidimensional**. Cada elemento puede esta asociado a un índice el cual puede o no ser definido\n",
        "- Sintáxis más común\n",
        "\n",
        "```python\n",
        "s = pd.Series(data, index=myindex)\n",
        "```\n",
        "donde ```data``` representa un conjunto unidimensional de elementos e ```myindex``` una lista del mismo largo de ```data``` que representa los índices\n",
        "- ```data``` puede ser tanto\n",
        "    - Diccionarios (llaves se transforman en índices y valores en datos)\n",
        "    - Arreglos n-dimensionales (listas, tuplas o numpy arrays)\n",
        "    - Valores escalares (ej. 5)\n",
        "\n",
        "> **Fuente**: https://pandas.pydata.org/pandas-docs/stable/user_guide/dsintro.html"
      ]
    },
    {
      "cell_type": "code",
      "execution_count": null,
      "id": "4e64b2c7",
      "metadata": {
        "id": "4e64b2c7",
        "outputId": "7a73ab71-515d-4b67-cce1-2a2698330b84"
      },
      "outputs": [
        {
          "name": "stdout",
          "output_type": "stream",
          "text": [
            "p    (1+5j)\n",
            "q         1\n",
            "r         a\n",
            "dtype: object\n"
          ]
        }
      ],
      "source": [
        "# Ejemplo# Estructuras de datos Pandas: Series \n",
        "import pandas as pd\n",
        "\n",
        "x = pd.Series((1+5j,1,'a'), index=[\"p\", \"q\", \"r\"])\n",
        "print(x)"
      ]
    },
    {
      "cell_type": "markdown",
      "id": "10d70287",
      "metadata": {
        "id": "10d70287"
      },
      "source": [
        "## Pandas: Dataframes"
      ]
    },
    {
      "cell_type": "markdown",
      "id": "0da1b9be",
      "metadata": {
        "id": "0da1b9be"
      },
      "source": [
        "- Es una estructura de datos **bi-dimensional**.\n",
        "- Es el objeto Pandas más común.\n",
        "- Utiliza una lógica de almacenamiento tipo **tabla**, similar a la de tablas SQL o la existente en hojas de cálculo (ej. MS. Excel, Libre Office Calc, Google Sheets, etc.).\n",
        "- Al igual que las series, también tiene índices asociados. Adicionalmente se le pueden pasar las etiquetas de las columnas\n",
        "- Sintáxis más común\n",
        "```python\n",
        "df = pd.DataFrame(data, index=myindex, columns=mycolumns)\n",
        "```\n",
        "donde ```data``` representa un conjunto bidimensional de elementos e ```myindex``` y ```mycolumns``` una lista del mismo largo de ```data``` que representa los índices y las etiquetas de las columnas respectivamente.\n",
        "- ```data``` puede ser tanto\n",
        "    - Diccionario de arreglos 1-dimensionales, listas, diccionarios o series\n",
        "    - Arreglos numpy de dos dimensiones\n",
        "    - Arreglos n-dimensionales\n",
        "    - Series\n",
        "    - Otros dataframe\n",
        "\n",
        "> **Fuente**: https://pandas.pydata.org/pandas-docs/stable/user_guide/dsintro.html"
      ]
    },
    {
      "cell_type": "code",
      "execution_count": null,
      "id": "1974f920",
      "metadata": {
        "id": "1974f920",
        "outputId": "b6a981df-6a56-412b-dbd8-7a421cc0f2a4"
      },
      "outputs": [
        {
          "name": "stdout",
          "output_type": "stream",
          "text": [
            "[[1, 2, 3], [4, 5, 6.7], [7, 8, 9]]\n"
          ]
        }
      ],
      "source": [
        "p=[[1,2,3],[4,5,6.7],[7,8,9]]\n",
        "print(p)\n",
        "# La variable p sería el equivalente a una matriz con la siguiente disposición\n",
        "# 1 2 3\n",
        "# 4 5 6.7\n",
        "# 7 8 9"
      ]
    },
    {
      "cell_type": "code",
      "execution_count": null,
      "id": "70df4f85",
      "metadata": {
        "id": "70df4f85",
        "outputId": "fe8e697d-a317-45fb-bccf-b94afde02e4a"
      },
      "outputs": [
        {
          "name": "stdout",
          "output_type": "stream",
          "text": [
            "<class 'pandas.core.frame.DataFrame'>\n",
            "Index: 3 entries, a to c\n",
            "Data columns (total 3 columns):\n",
            " #   Column  Non-Null Count  Dtype  \n",
            "---  ------  --------------  -----  \n",
            " 0   p       3 non-null      int64  \n",
            " 1   q       3 non-null      int64  \n",
            " 2   r       3 non-null      float64\n",
            "dtypes: float64(1), int64(2)\n",
            "memory usage: 96.0+ bytes\n"
          ]
        }
      ],
      "source": [
        "import pandas as pd\n",
        "\n",
        "df = pd.DataFrame([[1,2,3],[4,5,6.7],[7,8,9]], \n",
        "                  index=[\"a\", \"b\", \"c\"],\n",
        "                  columns=[\"p\", \"q\", \"r\"])\n",
        "df.info()"
      ]
    },
    {
      "cell_type": "code",
      "execution_count": null,
      "id": "33748031",
      "metadata": {
        "id": "33748031",
        "outputId": "2b028570-e6e9-4c1d-a294-a2c841b369a9"
      },
      "outputs": [
        {
          "data": {
            "text/html": [
              "<div>\n",
              "<style scoped>\n",
              "    .dataframe tbody tr th:only-of-type {\n",
              "        vertical-align: middle;\n",
              "    }\n",
              "\n",
              "    .dataframe tbody tr th {\n",
              "        vertical-align: top;\n",
              "    }\n",
              "\n",
              "    .dataframe thead th {\n",
              "        text-align: right;\n",
              "    }\n",
              "</style>\n",
              "<table border=\"1\" class=\"dataframe\">\n",
              "  <thead>\n",
              "    <tr style=\"text-align: right;\">\n",
              "      <th></th>\n",
              "      <th>p</th>\n",
              "      <th>q</th>\n",
              "      <th>r</th>\n",
              "    </tr>\n",
              "  </thead>\n",
              "  <tbody>\n",
              "    <tr>\n",
              "      <th>a</th>\n",
              "      <td>1</td>\n",
              "      <td>2</td>\n",
              "      <td>3.0</td>\n",
              "    </tr>\n",
              "    <tr>\n",
              "      <th>b</th>\n",
              "      <td>4</td>\n",
              "      <td>5</td>\n",
              "      <td>6.7</td>\n",
              "    </tr>\n",
              "    <tr>\n",
              "      <th>c</th>\n",
              "      <td>7</td>\n",
              "      <td>8</td>\n",
              "      <td>9.0</td>\n",
              "    </tr>\n",
              "  </tbody>\n",
              "</table>\n",
              "</div>"
            ],
            "text/plain": [
              "   p  q    r\n",
              "a  1  2  3.0\n",
              "b  4  5  6.7\n",
              "c  7  8  9.0"
            ]
          },
          "execution_count": 5,
          "metadata": {},
          "output_type": "execute_result"
        }
      ],
      "source": [
        "# Visualizando el contenido del dataframe\n",
        "df"
      ]
    },
    {
      "cell_type": "markdown",
      "id": "e7aca8de",
      "metadata": {
        "id": "e7aca8de"
      },
      "source": [
        "**Anexo - Cargando datos en Google Colab**"
      ]
    },
    {
      "cell_type": "markdown",
      "id": "a0c6bfd2",
      "metadata": {
        "id": "a0c6bfd2"
      },
      "source": [
        "- El uso de datos en Google Colab, requier subir esos datos a la nube de Google antes de poder utilizarlos (en caso de no encontrarse en línea) \n",
        "- https://login.codingdojo.com/m/502/12396/86599"
      ]
    },
    {
      "cell_type": "markdown",
      "id": "b832010d",
      "metadata": {
        "id": "b832010d"
      },
      "source": [
        "## Lectura de datos"
      ]
    },
    {
      "cell_type": "markdown",
      "id": "39ba9f06",
      "metadata": {
        "id": "39ba9f06"
      },
      "source": [
        "- Pandas permite una lectura sencilla con múltiples tipos de datos (Revisar: https://pandas.pydata.org/pandas-docs/stable/user_guide/io.html para distintos tipos de archivos).\n",
        "- Ejemplo"
      ]
    },
    {
      "cell_type": "code",
      "execution_count": null,
      "id": "f50267f1",
      "metadata": {
        "id": "f50267f1",
        "outputId": "105041e5-fbb6-4ebd-93be-dffe77a21fa0"
      },
      "outputs": [
        {
          "data": {
            "text/html": [
              "<div>\n",
              "<style scoped>\n",
              "    .dataframe tbody tr th:only-of-type {\n",
              "        vertical-align: middle;\n",
              "    }\n",
              "\n",
              "    .dataframe tbody tr th {\n",
              "        vertical-align: top;\n",
              "    }\n",
              "\n",
              "    .dataframe thead th {\n",
              "        text-align: right;\n",
              "    }\n",
              "</style>\n",
              "<table border=\"1\" class=\"dataframe\">\n",
              "  <thead>\n",
              "    <tr style=\"text-align: right;\">\n",
              "      <th></th>\n",
              "      <th>RM</th>\n",
              "      <th>LSTAT</th>\n",
              "      <th>PTRATIO</th>\n",
              "      <th>target</th>\n",
              "    </tr>\n",
              "  </thead>\n",
              "  <tbody>\n",
              "    <tr>\n",
              "      <th>0</th>\n",
              "      <td>6.575</td>\n",
              "      <td>4.98</td>\n",
              "      <td>15.3</td>\n",
              "      <td>24.0</td>\n",
              "    </tr>\n",
              "    <tr>\n",
              "      <th>1</th>\n",
              "      <td>6.421</td>\n",
              "      <td>9.14</td>\n",
              "      <td>17.8</td>\n",
              "      <td>21.6</td>\n",
              "    </tr>\n",
              "    <tr>\n",
              "      <th>2</th>\n",
              "      <td>7.185</td>\n",
              "      <td>4.03</td>\n",
              "      <td>17.8</td>\n",
              "      <td>34.7</td>\n",
              "    </tr>\n",
              "    <tr>\n",
              "      <th>3</th>\n",
              "      <td>6.998</td>\n",
              "      <td>2.94</td>\n",
              "      <td>18.7</td>\n",
              "      <td>33.4</td>\n",
              "    </tr>\n",
              "    <tr>\n",
              "      <th>4</th>\n",
              "      <td>7.147</td>\n",
              "      <td>5.33</td>\n",
              "      <td>18.7</td>\n",
              "      <td>36.2</td>\n",
              "    </tr>\n",
              "    <tr>\n",
              "      <th>...</th>\n",
              "      <td>...</td>\n",
              "      <td>...</td>\n",
              "      <td>...</td>\n",
              "      <td>...</td>\n",
              "    </tr>\n",
              "    <tr>\n",
              "      <th>501</th>\n",
              "      <td>6.593</td>\n",
              "      <td>9.67</td>\n",
              "      <td>21.0</td>\n",
              "      <td>22.4</td>\n",
              "    </tr>\n",
              "    <tr>\n",
              "      <th>502</th>\n",
              "      <td>6.120</td>\n",
              "      <td>9.08</td>\n",
              "      <td>21.0</td>\n",
              "      <td>20.6</td>\n",
              "    </tr>\n",
              "    <tr>\n",
              "      <th>503</th>\n",
              "      <td>6.976</td>\n",
              "      <td>5.64</td>\n",
              "      <td>21.0</td>\n",
              "      <td>23.9</td>\n",
              "    </tr>\n",
              "    <tr>\n",
              "      <th>504</th>\n",
              "      <td>6.794</td>\n",
              "      <td>6.48</td>\n",
              "      <td>21.0</td>\n",
              "      <td>22.0</td>\n",
              "    </tr>\n",
              "    <tr>\n",
              "      <th>505</th>\n",
              "      <td>6.030</td>\n",
              "      <td>7.88</td>\n",
              "      <td>21.0</td>\n",
              "      <td>11.9</td>\n",
              "    </tr>\n",
              "  </tbody>\n",
              "</table>\n",
              "<p>506 rows × 4 columns</p>\n",
              "</div>"
            ],
            "text/plain": [
              "        RM  LSTAT  PTRATIO  target\n",
              "0    6.575   4.98     15.3    24.0\n",
              "1    6.421   9.14     17.8    21.6\n",
              "2    7.185   4.03     17.8    34.7\n",
              "3    6.998   2.94     18.7    33.4\n",
              "4    7.147   5.33     18.7    36.2\n",
              "..     ...    ...      ...     ...\n",
              "501  6.593   9.67     21.0    22.4\n",
              "502  6.120   9.08     21.0    20.6\n",
              "503  6.976   5.64     21.0    23.9\n",
              "504  6.794   6.48     21.0    22.0\n",
              "505  6.030   7.88     21.0    11.9\n",
              "\n",
              "[506 rows x 4 columns]"
            ]
          },
          "execution_count": 6,
          "metadata": {},
          "output_type": "execute_result"
        }
      ],
      "source": [
        "import pandas as pd\n",
        "filename = \"https://raw.githubusercontent.com/fralfaro/CodingDojo-DataScience/main/docs/2-Pandas/data/bostonHousing1978.xlsx\" \n",
        "# Para apertura de archivos excel, instalación de biblioteca openpyxl es necesaria en entorno local\n",
        "df = pd.read_excel(filename) \n",
        "df\n",
        "# Si deseas leer un archivo con extensión .csv, se debe utilizar la función pandas\n",
        "# pd.read_csv(filename) donde filename es una variable con la ruta de tu archivo .csv"
      ]
    },
    {
      "cell_type": "markdown",
      "id": "60ab9276",
      "metadata": {
        "id": "60ab9276"
      },
      "source": [
        "## Operaciones básicas"
      ]
    },
    {
      "cell_type": "code",
      "execution_count": null,
      "id": "90c393e4",
      "metadata": {
        "id": "90c393e4",
        "outputId": "972e0471-cb4d-4df9-ecfa-417d5a1b269d"
      },
      "outputs": [
        {
          "data": {
            "text/html": [
              "<div>\n",
              "<style scoped>\n",
              "    .dataframe tbody tr th:only-of-type {\n",
              "        vertical-align: middle;\n",
              "    }\n",
              "\n",
              "    .dataframe tbody tr th {\n",
              "        vertical-align: top;\n",
              "    }\n",
              "\n",
              "    .dataframe thead th {\n",
              "        text-align: right;\n",
              "    }\n",
              "</style>\n",
              "<table border=\"1\" class=\"dataframe\">\n",
              "  <thead>\n",
              "    <tr style=\"text-align: right;\">\n",
              "      <th></th>\n",
              "      <th>RM</th>\n",
              "      <th>LSTAT</th>\n",
              "      <th>PTRATIO</th>\n",
              "      <th>target</th>\n",
              "    </tr>\n",
              "  </thead>\n",
              "  <tbody>\n",
              "    <tr>\n",
              "      <th>0</th>\n",
              "      <td>6.575</td>\n",
              "      <td>4.98</td>\n",
              "      <td>15.3</td>\n",
              "      <td>24.0</td>\n",
              "    </tr>\n",
              "    <tr>\n",
              "      <th>1</th>\n",
              "      <td>6.421</td>\n",
              "      <td>9.14</td>\n",
              "      <td>17.8</td>\n",
              "      <td>21.6</td>\n",
              "    </tr>\n",
              "    <tr>\n",
              "      <th>2</th>\n",
              "      <td>7.185</td>\n",
              "      <td>4.03</td>\n",
              "      <td>17.8</td>\n",
              "      <td>34.7</td>\n",
              "    </tr>\n",
              "    <tr>\n",
              "      <th>3</th>\n",
              "      <td>6.998</td>\n",
              "      <td>2.94</td>\n",
              "      <td>18.7</td>\n",
              "      <td>33.4</td>\n",
              "    </tr>\n",
              "    <tr>\n",
              "      <th>4</th>\n",
              "      <td>7.147</td>\n",
              "      <td>5.33</td>\n",
              "      <td>18.7</td>\n",
              "      <td>36.2</td>\n",
              "    </tr>\n",
              "  </tbody>\n",
              "</table>\n",
              "</div>"
            ],
            "text/plain": [
              "      RM  LSTAT  PTRATIO  target\n",
              "0  6.575   4.98     15.3    24.0\n",
              "1  6.421   9.14     17.8    21.6\n",
              "2  7.185   4.03     17.8    34.7\n",
              "3  6.998   2.94     18.7    33.4\n",
              "4  7.147   5.33     18.7    36.2"
            ]
          },
          "execution_count": 7,
          "metadata": {},
          "output_type": "execute_result"
        }
      ],
      "source": [
        "# Seleccione el número N superior de registros (default = 5)\n",
        "df.head()"
      ]
    },
    {
      "cell_type": "code",
      "execution_count": null,
      "id": "8aee21fa",
      "metadata": {
        "id": "8aee21fa",
        "outputId": "e9415cf4-d95a-4569-e833-a698c1b12f61"
      },
      "outputs": [
        {
          "data": {
            "text/html": [
              "<div>\n",
              "<style scoped>\n",
              "    .dataframe tbody tr th:only-of-type {\n",
              "        vertical-align: middle;\n",
              "    }\n",
              "\n",
              "    .dataframe tbody tr th {\n",
              "        vertical-align: top;\n",
              "    }\n",
              "\n",
              "    .dataframe thead th {\n",
              "        text-align: right;\n",
              "    }\n",
              "</style>\n",
              "<table border=\"1\" class=\"dataframe\">\n",
              "  <thead>\n",
              "    <tr style=\"text-align: right;\">\n",
              "      <th></th>\n",
              "      <th>RM</th>\n",
              "      <th>LSTAT</th>\n",
              "      <th>PTRATIO</th>\n",
              "      <th>target</th>\n",
              "    </tr>\n",
              "  </thead>\n",
              "  <tbody>\n",
              "    <tr>\n",
              "      <th>501</th>\n",
              "      <td>6.593</td>\n",
              "      <td>9.67</td>\n",
              "      <td>21.0</td>\n",
              "      <td>22.4</td>\n",
              "    </tr>\n",
              "    <tr>\n",
              "      <th>502</th>\n",
              "      <td>6.120</td>\n",
              "      <td>9.08</td>\n",
              "      <td>21.0</td>\n",
              "      <td>20.6</td>\n",
              "    </tr>\n",
              "    <tr>\n",
              "      <th>503</th>\n",
              "      <td>6.976</td>\n",
              "      <td>5.64</td>\n",
              "      <td>21.0</td>\n",
              "      <td>23.9</td>\n",
              "    </tr>\n",
              "    <tr>\n",
              "      <th>504</th>\n",
              "      <td>6.794</td>\n",
              "      <td>6.48</td>\n",
              "      <td>21.0</td>\n",
              "      <td>22.0</td>\n",
              "    </tr>\n",
              "    <tr>\n",
              "      <th>505</th>\n",
              "      <td>6.030</td>\n",
              "      <td>7.88</td>\n",
              "      <td>21.0</td>\n",
              "      <td>11.9</td>\n",
              "    </tr>\n",
              "  </tbody>\n",
              "</table>\n",
              "</div>"
            ],
            "text/plain": [
              "        RM  LSTAT  PTRATIO  target\n",
              "501  6.593   9.67     21.0    22.4\n",
              "502  6.120   9.08     21.0    20.6\n",
              "503  6.976   5.64     21.0    23.9\n",
              "504  6.794   6.48     21.0    22.0\n",
              "505  6.030   7.88     21.0    11.9"
            ]
          },
          "execution_count": 8,
          "metadata": {},
          "output_type": "execute_result"
        }
      ],
      "source": [
        "# Seleccione el número N inferior de registros (default = 5)\n",
        "df.tail()"
      ]
    },
    {
      "cell_type": "code",
      "execution_count": null,
      "id": "f71fa1d3",
      "metadata": {
        "id": "f71fa1d3",
        "outputId": "23b08bda-85b3-4022-d30e-93338a418403"
      },
      "outputs": [
        {
          "data": {
            "text/plain": [
              "RM         float64\n",
              "LSTAT      float64\n",
              "PTRATIO    float64\n",
              "target     float64\n",
              "dtype: object"
            ]
          },
          "execution_count": 9,
          "metadata": {},
          "output_type": "execute_result"
        }
      ],
      "source": [
        "# Verifica los tipos de datos de la columna usando el atributo dtypes\n",
        "df.dtypes"
      ]
    },
    {
      "cell_type": "code",
      "execution_count": null,
      "id": "a2885734",
      "metadata": {
        "id": "a2885734",
        "outputId": "c42cba78-ea49-4474-f2f9-4b8957a2256d"
      },
      "outputs": [
        {
          "data": {
            "text/plain": [
              "(506, 4)"
            ]
          },
          "execution_count": 10,
          "metadata": {},
          "output_type": "execute_result"
        }
      ],
      "source": [
        "# Use el atributo shape para obtener el número de filas y columnas en tu marco de datos\n",
        "df.shape"
      ]
    },
    {
      "cell_type": "code",
      "execution_count": null,
      "id": "8856fa11",
      "metadata": {
        "id": "8856fa11",
        "outputId": "85901131-c976-4007-f25b-5f987e9baaab"
      },
      "outputs": [
        {
          "name": "stdout",
          "output_type": "stream",
          "text": [
            "<class 'pandas.core.frame.DataFrame'>\n",
            "RangeIndex: 506 entries, 0 to 505\n",
            "Data columns (total 4 columns):\n",
            " #   Column   Non-Null Count  Dtype  \n",
            "---  ------   --------------  -----  \n",
            " 0   RM       506 non-null    float64\n",
            " 1   LSTAT    506 non-null    float64\n",
            " 2   PTRATIO  506 non-null    float64\n",
            " 3   target   506 non-null    float64\n",
            "dtypes: float64(4)\n",
            "memory usage: 15.9 KB\n"
          ]
        }
      ],
      "source": [
        "# El método info da a la columna tipos de datos + el número de valores no nulos\n",
        "# Ten esto en cuenta en caso de que alguna vez quieras verificar si hay valores perdidos\n",
        "df.info()"
      ]
    },
    {
      "cell_type": "markdown",
      "id": "5859ae0a",
      "metadata": {
        "id": "5859ae0a"
      },
      "source": [
        "## Rebanar (slice)"
      ]
    },
    {
      "cell_type": "code",
      "execution_count": null,
      "id": "12dfed5b",
      "metadata": {
        "id": "12dfed5b",
        "outputId": "8eff3b83-820f-4837-b9ab-182423bf655a"
      },
      "outputs": [
        {
          "data": {
            "text/html": [
              "<div>\n",
              "<style scoped>\n",
              "    .dataframe tbody tr th:only-of-type {\n",
              "        vertical-align: middle;\n",
              "    }\n",
              "\n",
              "    .dataframe tbody tr th {\n",
              "        vertical-align: top;\n",
              "    }\n",
              "\n",
              "    .dataframe thead th {\n",
              "        text-align: right;\n",
              "    }\n",
              "</style>\n",
              "<table border=\"1\" class=\"dataframe\">\n",
              "  <thead>\n",
              "    <tr style=\"text-align: right;\">\n",
              "      <th></th>\n",
              "      <th>RM</th>\n",
              "    </tr>\n",
              "  </thead>\n",
              "  <tbody>\n",
              "    <tr>\n",
              "      <th>0</th>\n",
              "      <td>6.575</td>\n",
              "    </tr>\n",
              "    <tr>\n",
              "      <th>1</th>\n",
              "      <td>6.421</td>\n",
              "    </tr>\n",
              "    <tr>\n",
              "      <th>2</th>\n",
              "      <td>7.185</td>\n",
              "    </tr>\n",
              "    <tr>\n",
              "      <th>3</th>\n",
              "      <td>6.998</td>\n",
              "    </tr>\n",
              "    <tr>\n",
              "      <th>4</th>\n",
              "      <td>7.147</td>\n",
              "    </tr>\n",
              "  </tbody>\n",
              "</table>\n",
              "</div>"
            ],
            "text/plain": [
              "      RM\n",
              "0  6.575\n",
              "1  6.421\n",
              "2  7.185\n",
              "3  6.998\n",
              "4  7.147"
            ]
          },
          "execution_count": 12,
          "metadata": {},
          "output_type": "execute_result"
        }
      ],
      "source": [
        "# Seleccionar una columna usando llaves dobles\n",
        "df[['RM']].head() # Esto es un DataFrame pandas"
      ]
    },
    {
      "cell_type": "code",
      "execution_count": null,
      "id": "b0ab5f6e",
      "metadata": {
        "id": "b0ab5f6e",
        "outputId": "0b33d513-5e8d-468b-f1cc-0c04d864d084"
      },
      "outputs": [
        {
          "data": {
            "text/html": [
              "<div>\n",
              "<style scoped>\n",
              "    .dataframe tbody tr th:only-of-type {\n",
              "        vertical-align: middle;\n",
              "    }\n",
              "\n",
              "    .dataframe tbody tr th {\n",
              "        vertical-align: top;\n",
              "    }\n",
              "\n",
              "    .dataframe thead th {\n",
              "        text-align: right;\n",
              "    }\n",
              "</style>\n",
              "<table border=\"1\" class=\"dataframe\">\n",
              "  <thead>\n",
              "    <tr style=\"text-align: right;\">\n",
              "      <th></th>\n",
              "      <th>RM</th>\n",
              "      <th>target</th>\n",
              "    </tr>\n",
              "  </thead>\n",
              "  <tbody>\n",
              "    <tr>\n",
              "      <th>0</th>\n",
              "      <td>6.575</td>\n",
              "      <td>24.0</td>\n",
              "    </tr>\n",
              "    <tr>\n",
              "      <th>1</th>\n",
              "      <td>6.421</td>\n",
              "      <td>21.6</td>\n",
              "    </tr>\n",
              "    <tr>\n",
              "      <th>2</th>\n",
              "      <td>7.185</td>\n",
              "      <td>34.7</td>\n",
              "    </tr>\n",
              "    <tr>\n",
              "      <th>3</th>\n",
              "      <td>6.998</td>\n",
              "      <td>33.4</td>\n",
              "    </tr>\n",
              "    <tr>\n",
              "      <th>4</th>\n",
              "      <td>7.147</td>\n",
              "      <td>36.2</td>\n",
              "    </tr>\n",
              "  </tbody>\n",
              "</table>\n",
              "</div>"
            ],
            "text/plain": [
              "      RM  target\n",
              "0  6.575    24.0\n",
              "1  6.421    21.6\n",
              "2  7.185    34.7\n",
              "3  6.998    33.4\n",
              "4  7.147    36.2"
            ]
          },
          "execution_count": 13,
          "metadata": {},
          "output_type": "execute_result"
        }
      ],
      "source": [
        "# Seleccionar múltiple columnas usando llaves dobles\n",
        "df[['RM', 'target']].head()"
      ]
    },
    {
      "cell_type": "code",
      "execution_count": null,
      "id": "180e7c24",
      "metadata": {
        "id": "180e7c24",
        "outputId": "518408fb-c15b-44a2-89a5-4d8904fbb343"
      },
      "outputs": [
        {
          "data": {
            "text/plain": [
              "0    6.575\n",
              "1    6.421\n",
              "2    7.185\n",
              "3    6.998\n",
              "4    7.147\n",
              "Name: RM, dtype: float64"
            ]
          },
          "execution_count": 14,
          "metadata": {},
          "output_type": "execute_result"
        }
      ],
      "source": [
        "# Selecciona una columna usando llaves simples\n",
        "# Esto produce una serie pandas que es una matriz de una dimensión de datos indexados\n",
        "df['RM'].head()"
      ]
    },
    {
      "cell_type": "code",
      "execution_count": null,
      "id": "530c1c62",
      "metadata": {
        "id": "530c1c62",
        "outputId": "da5d012d-bb97-4fe3-e0db-1388cc556df5"
      },
      "outputs": [
        {
          "ename": "KeyError",
          "evalue": "('RM', 'target')",
          "output_type": "error",
          "traceback": [
            "\u001b[1;31m---------------------------------------------------------------------------\u001b[0m",
            "\u001b[1;31mKeyError\u001b[0m                                  Traceback (most recent call last)",
            "File \u001b[1;32m~\\AppData\\Local\\pypoetry\\Cache\\virtualenvs\\docs-rzB-GL7Y-py3.8\\lib\\site-packages\\pandas\\core\\indexes\\base.py:3621\u001b[0m, in \u001b[0;36mIndex.get_loc\u001b[1;34m(self, key, method, tolerance)\u001b[0m\n\u001b[0;32m   3620\u001b[0m \u001b[38;5;28;01mtry\u001b[39;00m:\n\u001b[1;32m-> 3621\u001b[0m     \u001b[38;5;28;01mreturn\u001b[39;00m \u001b[38;5;28;43mself\u001b[39;49m\u001b[38;5;241;43m.\u001b[39;49m\u001b[43m_engine\u001b[49m\u001b[38;5;241;43m.\u001b[39;49m\u001b[43mget_loc\u001b[49m\u001b[43m(\u001b[49m\u001b[43mcasted_key\u001b[49m\u001b[43m)\u001b[49m\n\u001b[0;32m   3622\u001b[0m \u001b[38;5;28;01mexcept\u001b[39;00m \u001b[38;5;167;01mKeyError\u001b[39;00m \u001b[38;5;28;01mas\u001b[39;00m err:\n",
            "File \u001b[1;32m~\\AppData\\Local\\pypoetry\\Cache\\virtualenvs\\docs-rzB-GL7Y-py3.8\\lib\\site-packages\\pandas\\_libs\\index.pyx:136\u001b[0m, in \u001b[0;36mpandas._libs.index.IndexEngine.get_loc\u001b[1;34m()\u001b[0m\n",
            "File \u001b[1;32m~\\AppData\\Local\\pypoetry\\Cache\\virtualenvs\\docs-rzB-GL7Y-py3.8\\lib\\site-packages\\pandas\\_libs\\index.pyx:163\u001b[0m, in \u001b[0;36mpandas._libs.index.IndexEngine.get_loc\u001b[1;34m()\u001b[0m\n",
            "File \u001b[1;32mpandas\\_libs\\hashtable_class_helper.pxi:5198\u001b[0m, in \u001b[0;36mpandas._libs.hashtable.PyObjectHashTable.get_item\u001b[1;34m()\u001b[0m\n",
            "File \u001b[1;32mpandas\\_libs\\hashtable_class_helper.pxi:5206\u001b[0m, in \u001b[0;36mpandas._libs.hashtable.PyObjectHashTable.get_item\u001b[1;34m()\u001b[0m\n",
            "\u001b[1;31mKeyError\u001b[0m: ('RM', 'target')",
            "\nThe above exception was the direct cause of the following exception:\n",
            "\u001b[1;31mKeyError\u001b[0m                                  Traceback (most recent call last)",
            "Input \u001b[1;32mIn [15]\u001b[0m, in \u001b[0;36m<cell line: 3>\u001b[1;34m()\u001b[0m\n\u001b[0;32m      1\u001b[0m \u001b[38;5;66;03m# Ten en cuenta que no puedes seleccionar columnas múltiples usando llaves simples\u001b[39;00m\n\u001b[0;32m      2\u001b[0m \u001b[38;5;66;03m# Error de llave (KeyError)\u001b[39;00m\n\u001b[1;32m----> 3\u001b[0m \u001b[43mdf\u001b[49m\u001b[43m[\u001b[49m\u001b[38;5;124;43m'\u001b[39;49m\u001b[38;5;124;43mRM\u001b[39;49m\u001b[38;5;124;43m'\u001b[39;49m\u001b[43m,\u001b[49m\u001b[43m \u001b[49m\u001b[38;5;124;43m'\u001b[39;49m\u001b[38;5;124;43mtarget\u001b[39;49m\u001b[38;5;124;43m'\u001b[39;49m\u001b[43m]\u001b[49m\n",
            "File \u001b[1;32m~\\AppData\\Local\\pypoetry\\Cache\\virtualenvs\\docs-rzB-GL7Y-py3.8\\lib\\site-packages\\pandas\\core\\frame.py:3505\u001b[0m, in \u001b[0;36mDataFrame.__getitem__\u001b[1;34m(self, key)\u001b[0m\n\u001b[0;32m   3503\u001b[0m \u001b[38;5;28;01mif\u001b[39;00m \u001b[38;5;28mself\u001b[39m\u001b[38;5;241m.\u001b[39mcolumns\u001b[38;5;241m.\u001b[39mnlevels \u001b[38;5;241m>\u001b[39m \u001b[38;5;241m1\u001b[39m:\n\u001b[0;32m   3504\u001b[0m     \u001b[38;5;28;01mreturn\u001b[39;00m \u001b[38;5;28mself\u001b[39m\u001b[38;5;241m.\u001b[39m_getitem_multilevel(key)\n\u001b[1;32m-> 3505\u001b[0m indexer \u001b[38;5;241m=\u001b[39m \u001b[38;5;28;43mself\u001b[39;49m\u001b[38;5;241;43m.\u001b[39;49m\u001b[43mcolumns\u001b[49m\u001b[38;5;241;43m.\u001b[39;49m\u001b[43mget_loc\u001b[49m\u001b[43m(\u001b[49m\u001b[43mkey\u001b[49m\u001b[43m)\u001b[49m\n\u001b[0;32m   3506\u001b[0m \u001b[38;5;28;01mif\u001b[39;00m is_integer(indexer):\n\u001b[0;32m   3507\u001b[0m     indexer \u001b[38;5;241m=\u001b[39m [indexer]\n",
            "File \u001b[1;32m~\\AppData\\Local\\pypoetry\\Cache\\virtualenvs\\docs-rzB-GL7Y-py3.8\\lib\\site-packages\\pandas\\core\\indexes\\base.py:3623\u001b[0m, in \u001b[0;36mIndex.get_loc\u001b[1;34m(self, key, method, tolerance)\u001b[0m\n\u001b[0;32m   3621\u001b[0m     \u001b[38;5;28;01mreturn\u001b[39;00m \u001b[38;5;28mself\u001b[39m\u001b[38;5;241m.\u001b[39m_engine\u001b[38;5;241m.\u001b[39mget_loc(casted_key)\n\u001b[0;32m   3622\u001b[0m \u001b[38;5;28;01mexcept\u001b[39;00m \u001b[38;5;167;01mKeyError\u001b[39;00m \u001b[38;5;28;01mas\u001b[39;00m err:\n\u001b[1;32m-> 3623\u001b[0m     \u001b[38;5;28;01mraise\u001b[39;00m \u001b[38;5;167;01mKeyError\u001b[39;00m(key) \u001b[38;5;28;01mfrom\u001b[39;00m \u001b[38;5;21;01merr\u001b[39;00m\n\u001b[0;32m   3624\u001b[0m \u001b[38;5;28;01mexcept\u001b[39;00m \u001b[38;5;167;01mTypeError\u001b[39;00m:\n\u001b[0;32m   3625\u001b[0m     \u001b[38;5;66;03m# If we have a listlike key, _check_indexing_error will raise\u001b[39;00m\n\u001b[0;32m   3626\u001b[0m     \u001b[38;5;66;03m#  InvalidIndexError. Otherwise we fall through and re-raise\u001b[39;00m\n\u001b[0;32m   3627\u001b[0m     \u001b[38;5;66;03m#  the TypeError.\u001b[39;00m\n\u001b[0;32m   3628\u001b[0m     \u001b[38;5;28mself\u001b[39m\u001b[38;5;241m.\u001b[39m_check_indexing_error(key)\n",
            "\u001b[1;31mKeyError\u001b[0m: ('RM', 'target')"
          ]
        }
      ],
      "source": [
        "# Ten en cuenta que no puedes seleccionar columnas múltiples usando llaves simples\n",
        "# Error de llave (KeyError)\n",
        "df['RM', 'target']"
      ]
    },
    {
      "cell_type": "code",
      "execution_count": null,
      "id": "bdb83d5a",
      "metadata": {
        "id": "bdb83d5a",
        "outputId": "d340ed84-1745-4036-b520-e76936c39476"
      },
      "outputs": [
        {
          "data": {
            "text/plain": [
              "0    6.575\n",
              "1    6.421\n",
              "2    7.185\n",
              "3    6.998\n",
              "4    7.147\n",
              "5    6.430\n",
              "6    6.012\n",
              "7    6.172\n",
              "8    5.631\n",
              "9    6.004\n",
              "Name: RM, dtype: float64"
            ]
          },
          "execution_count": 18,
          "metadata": {},
          "output_type": "execute_result"
        }
      ],
      "source": [
        "df['RM'][0:10] # Obtención de un subconjunto de los datos (similar a listas)"
      ]
    },
    {
      "cell_type": "code",
      "execution_count": null,
      "id": "ddd67cbb",
      "metadata": {
        "id": "ddd67cbb",
        "outputId": "5ad25bfd-1373-441d-8e03-f3b018c1a58c"
      },
      "outputs": [
        {
          "data": {
            "text/plain": [
              "0    6.575\n",
              "1    6.421\n",
              "2    7.185\n",
              "3    6.998\n",
              "4    7.147\n",
              "Name: RM, dtype: float64"
            ]
          },
          "execution_count": 19,
          "metadata": {},
          "output_type": "execute_result"
        }
      ],
      "source": [
        "# Seleccionar columna usando notación de puntos\n",
        "# Esto no es recomendable\n",
        "df.RM.head()"
      ]
    },
    {
      "cell_type": "code",
      "execution_count": null,
      "id": "0a248c4b",
      "metadata": {
        "id": "0a248c4b",
        "outputId": "13110ca6-5a2c-4955-d53e-cfbc359c631b"
      },
      "outputs": [
        {
          "data": {
            "text/html": [
              "<div>\n",
              "<style scoped>\n",
              "    .dataframe tbody tr th:only-of-type {\n",
              "        vertical-align: middle;\n",
              "    }\n",
              "\n",
              "    .dataframe tbody tr th {\n",
              "        vertical-align: top;\n",
              "    }\n",
              "\n",
              "    .dataframe thead th {\n",
              "        text-align: right;\n",
              "    }\n",
              "</style>\n",
              "<table border=\"1\" class=\"dataframe\">\n",
              "  <thead>\n",
              "    <tr style=\"text-align: right;\">\n",
              "      <th></th>\n",
              "      <th>RM</th>\n",
              "      <th>target</th>\n",
              "    </tr>\n",
              "  </thead>\n",
              "  <tbody>\n",
              "    <tr>\n",
              "      <th>0</th>\n",
              "      <td>6.575</td>\n",
              "      <td>24.0</td>\n",
              "    </tr>\n",
              "    <tr>\n",
              "      <th>1</th>\n",
              "      <td>6.421</td>\n",
              "      <td>21.6</td>\n",
              "    </tr>\n",
              "    <tr>\n",
              "      <th>2</th>\n",
              "      <td>7.185</td>\n",
              "      <td>34.7</td>\n",
              "    </tr>\n",
              "    <tr>\n",
              "      <th>3</th>\n",
              "      <td>6.998</td>\n",
              "      <td>33.4</td>\n",
              "    </tr>\n",
              "    <tr>\n",
              "      <th>4</th>\n",
              "      <td>7.147</td>\n",
              "      <td>36.2</td>\n",
              "    </tr>\n",
              "    <tr>\n",
              "      <th>5</th>\n",
              "      <td>6.430</td>\n",
              "      <td>28.7</td>\n",
              "    </tr>\n",
              "    <tr>\n",
              "      <th>6</th>\n",
              "      <td>6.012</td>\n",
              "      <td>22.9</td>\n",
              "    </tr>\n",
              "    <tr>\n",
              "      <th>7</th>\n",
              "      <td>6.172</td>\n",
              "      <td>27.1</td>\n",
              "    </tr>\n",
              "    <tr>\n",
              "      <th>8</th>\n",
              "      <td>5.631</td>\n",
              "      <td>16.5</td>\n",
              "    </tr>\n",
              "    <tr>\n",
              "      <th>9</th>\n",
              "      <td>6.004</td>\n",
              "      <td>18.9</td>\n",
              "    </tr>\n",
              "    <tr>\n",
              "      <th>10</th>\n",
              "      <td>6.377</td>\n",
              "      <td>15.0</td>\n",
              "    </tr>\n",
              "  </tbody>\n",
              "</table>\n",
              "</div>"
            ],
            "text/plain": [
              "       RM  target\n",
              "0   6.575    24.0\n",
              "1   6.421    21.6\n",
              "2   7.185    34.7\n",
              "3   6.998    33.4\n",
              "4   7.147    36.2\n",
              "5   6.430    28.7\n",
              "6   6.012    22.9\n",
              "7   6.172    27.1\n",
              "8   5.631    16.5\n",
              "9   6.004    18.9\n",
              "10  6.377    15.0"
            ]
          },
          "execution_count": 20,
          "metadata": {},
          "output_type": "execute_result"
        }
      ],
      "source": [
        "# Notación con loc (locate). \n",
        "# df.loc[filas, columnas]\n",
        "df.loc[0:10, ['RM','target']]"
      ]
    },
    {
      "cell_type": "markdown",
      "id": "0c169cd5",
      "metadata": {
        "id": "0c169cd5"
      },
      "source": [
        "## Filtrado"
      ]
    },
    {
      "cell_type": "code",
      "execution_count": null,
      "id": "dcfd0de8",
      "metadata": {
        "id": "dcfd0de8",
        "outputId": "95bdd340-37c8-433d-dcce-d35c89afba9a"
      },
      "outputs": [
        {
          "data": {
            "text/html": [
              "<div>\n",
              "<style scoped>\n",
              "    .dataframe tbody tr th:only-of-type {\n",
              "        vertical-align: middle;\n",
              "    }\n",
              "\n",
              "    .dataframe tbody tr th {\n",
              "        vertical-align: top;\n",
              "    }\n",
              "\n",
              "    .dataframe thead th {\n",
              "        text-align: right;\n",
              "    }\n",
              "</style>\n",
              "<table border=\"1\" class=\"dataframe\">\n",
              "  <thead>\n",
              "    <tr style=\"text-align: right;\">\n",
              "      <th></th>\n",
              "      <th>Month</th>\n",
              "      <th>Starting Balance</th>\n",
              "      <th>Repayment</th>\n",
              "      <th>Interest Paid</th>\n",
              "      <th>Principal Paid</th>\n",
              "      <th>New Balance</th>\n",
              "      <th>Mortgage Name</th>\n",
              "      <th>Interest Rate</th>\n",
              "    </tr>\n",
              "  </thead>\n",
              "  <tbody>\n",
              "    <tr>\n",
              "      <th>0</th>\n",
              "      <td>1</td>\n",
              "      <td>400000.00</td>\n",
              "      <td>1686.42</td>\n",
              "      <td>1000.00</td>\n",
              "      <td>686.42</td>\n",
              "      <td>399313.58</td>\n",
              "      <td>30 Year</td>\n",
              "      <td>0.03</td>\n",
              "    </tr>\n",
              "    <tr>\n",
              "      <th>1</th>\n",
              "      <td>2</td>\n",
              "      <td>399313.58</td>\n",
              "      <td>1686.42</td>\n",
              "      <td>998.28</td>\n",
              "      <td>688.14</td>\n",
              "      <td>398625.44</td>\n",
              "      <td>30 Year</td>\n",
              "      <td>0.03</td>\n",
              "    </tr>\n",
              "    <tr>\n",
              "      <th>2</th>\n",
              "      <td>3</td>\n",
              "      <td>398625.44</td>\n",
              "      <td>1686.42</td>\n",
              "      <td>996.56</td>\n",
              "      <td>689.86</td>\n",
              "      <td>397935.58</td>\n",
              "      <td>30 Year</td>\n",
              "      <td>0.03</td>\n",
              "    </tr>\n",
              "    <tr>\n",
              "      <th>3</th>\n",
              "      <td>4</td>\n",
              "      <td>397935.58</td>\n",
              "      <td>1686.42</td>\n",
              "      <td>994.83</td>\n",
              "      <td>691.59</td>\n",
              "      <td>397243.99</td>\n",
              "      <td>30 Year</td>\n",
              "      <td>0.03</td>\n",
              "    </tr>\n",
              "    <tr>\n",
              "      <th>4</th>\n",
              "      <td>5</td>\n",
              "      <td>397243.99</td>\n",
              "      <td>1686.42</td>\n",
              "      <td>993.10</td>\n",
              "      <td>693.32</td>\n",
              "      <td>396550.67</td>\n",
              "      <td>30 Year</td>\n",
              "      <td>0.03</td>\n",
              "    </tr>\n",
              "  </tbody>\n",
              "</table>\n",
              "</div>"
            ],
            "text/plain": [
              "   Month  Starting Balance  Repayment  Interest Paid  Principal Paid  \\\n",
              "0      1         400000.00    1686.42        1000.00          686.42   \n",
              "1      2         399313.58    1686.42         998.28          688.14   \n",
              "2      3         398625.44    1686.42         996.56          689.86   \n",
              "3      4         397935.58    1686.42         994.83          691.59   \n",
              "4      5         397243.99    1686.42         993.10          693.32   \n",
              "\n",
              "   New Balance Mortgage Name  Interest Rate  \n",
              "0    399313.58       30 Year           0.03  \n",
              "1    398625.44       30 Year           0.03  \n",
              "2    397935.58       30 Year           0.03  \n",
              "3    397243.99       30 Year           0.03  \n",
              "4    396550.67       30 Year           0.03  "
            ]
          },
          "execution_count": 21,
          "metadata": {},
          "output_type": "execute_result"
        }
      ],
      "source": [
        "import pandas as pd\n",
        "filename = \"https://raw.githubusercontent.com/fralfaro/CodingDojo-DataScience/main/docs/2-Pandas/data/mortgages.csv\"\n",
        "df = pd.read_csv(filename) # La función read_csv usa la coma \",\" como separador por omisión\n",
        "df.head()"
      ]
    },
    {
      "cell_type": "code",
      "execution_count": null,
      "id": "35025e49",
      "metadata": {
        "id": "35025e49",
        "outputId": "26c9fd36-600c-4f67-c3ec-520ffc08fb92"
      },
      "outputs": [
        {
          "data": {
            "text/plain": [
              "30 Year    720\n",
              "15 Year    360\n",
              "Name: Mortgage Name, dtype: int64"
            ]
          },
          "execution_count": 22,
          "metadata": {},
          "output_type": "execute_result"
        }
      ],
      "source": [
        "# Comencemos primero mirando los valores contenidos en la columna Nombre de la hipoteca\n",
        "# Además, te animo a buscar qué hace el método value_counts usando la función de ayuda de Python\n",
        "df['Mortgage Name'].value_counts()"
      ]
    },
    {
      "cell_type": "code",
      "execution_count": null,
      "id": "04c7908a",
      "metadata": {
        "id": "04c7908a",
        "outputId": "d60f2f12-6098-499c-91e6-a4937fb4306f"
      },
      "outputs": [
        {
          "data": {
            "text/plain": [
              "0    True\n",
              "1    True\n",
              "2    True\n",
              "3    True\n",
              "4    True\n",
              "Name: Mortgage Name, dtype: bool"
            ]
          },
          "execution_count": 23,
          "metadata": {},
          "output_type": "execute_result"
        }
      ],
      "source": [
        "# Observa que el filtro produce una serie de pandas de valores verdaderos y falsos.\n",
        "# df['Mortgage Name']==\"30 Year\" Lo que se obtiene acá es una serie repleta de valores True y False.\n",
        "# Los True representan aquellos registros con contenido \"30 Year\" y los False aquellos\n",
        "# con contenido distinto a \"30 Year\"\n",
        "mortgage_filter = df['Mortgage Name']=='30 Year'\n",
        "mortgage_filter.head()"
      ]
    },
    {
      "cell_type": "code",
      "execution_count": null,
      "id": "7ecfa215",
      "metadata": {
        "id": "7ecfa215",
        "outputId": "b46b38f9-ce41-4ecf-a626-c23cfd267b97"
      },
      "outputs": [
        {
          "data": {
            "text/html": [
              "<div>\n",
              "<style scoped>\n",
              "    .dataframe tbody tr th:only-of-type {\n",
              "        vertical-align: middle;\n",
              "    }\n",
              "\n",
              "    .dataframe tbody tr th {\n",
              "        vertical-align: top;\n",
              "    }\n",
              "\n",
              "    .dataframe thead th {\n",
              "        text-align: right;\n",
              "    }\n",
              "</style>\n",
              "<table border=\"1\" class=\"dataframe\">\n",
              "  <thead>\n",
              "    <tr style=\"text-align: right;\">\n",
              "      <th></th>\n",
              "      <th>Month</th>\n",
              "      <th>Starting Balance</th>\n",
              "      <th>Repayment</th>\n",
              "      <th>Interest Paid</th>\n",
              "      <th>Principal Paid</th>\n",
              "      <th>New Balance</th>\n",
              "      <th>Mortgage Name</th>\n",
              "      <th>Interest Rate</th>\n",
              "    </tr>\n",
              "  </thead>\n",
              "  <tbody>\n",
              "    <tr>\n",
              "      <th>0</th>\n",
              "      <td>1</td>\n",
              "      <td>400000.00</td>\n",
              "      <td>1686.42</td>\n",
              "      <td>1000.00</td>\n",
              "      <td>686.42</td>\n",
              "      <td>399313.58</td>\n",
              "      <td>30 Year</td>\n",
              "      <td>0.03</td>\n",
              "    </tr>\n",
              "    <tr>\n",
              "      <th>1</th>\n",
              "      <td>2</td>\n",
              "      <td>399313.58</td>\n",
              "      <td>1686.42</td>\n",
              "      <td>998.28</td>\n",
              "      <td>688.14</td>\n",
              "      <td>398625.44</td>\n",
              "      <td>30 Year</td>\n",
              "      <td>0.03</td>\n",
              "    </tr>\n",
              "    <tr>\n",
              "      <th>2</th>\n",
              "      <td>3</td>\n",
              "      <td>398625.44</td>\n",
              "      <td>1686.42</td>\n",
              "      <td>996.56</td>\n",
              "      <td>689.86</td>\n",
              "      <td>397935.58</td>\n",
              "      <td>30 Year</td>\n",
              "      <td>0.03</td>\n",
              "    </tr>\n",
              "    <tr>\n",
              "      <th>3</th>\n",
              "      <td>4</td>\n",
              "      <td>397935.58</td>\n",
              "      <td>1686.42</td>\n",
              "      <td>994.83</td>\n",
              "      <td>691.59</td>\n",
              "      <td>397243.99</td>\n",
              "      <td>30 Year</td>\n",
              "      <td>0.03</td>\n",
              "    </tr>\n",
              "    <tr>\n",
              "      <th>4</th>\n",
              "      <td>5</td>\n",
              "      <td>397243.99</td>\n",
              "      <td>1686.42</td>\n",
              "      <td>993.10</td>\n",
              "      <td>693.32</td>\n",
              "      <td>396550.67</td>\n",
              "      <td>30 Year</td>\n",
              "      <td>0.03</td>\n",
              "    </tr>\n",
              "    <tr>\n",
              "      <th>...</th>\n",
              "      <td>...</td>\n",
              "      <td>...</td>\n",
              "      <td>...</td>\n",
              "      <td>...</td>\n",
              "      <td>...</td>\n",
              "      <td>...</td>\n",
              "      <td>...</td>\n",
              "      <td>...</td>\n",
              "    </tr>\n",
              "    <tr>\n",
              "      <th>715</th>\n",
              "      <td>356</td>\n",
              "      <td>10596.54</td>\n",
              "      <td>2147.29</td>\n",
              "      <td>44.15</td>\n",
              "      <td>2103.14</td>\n",
              "      <td>8493.40</td>\n",
              "      <td>30 Year</td>\n",
              "      <td>0.05</td>\n",
              "    </tr>\n",
              "    <tr>\n",
              "      <th>716</th>\n",
              "      <td>357</td>\n",
              "      <td>8493.40</td>\n",
              "      <td>2147.29</td>\n",
              "      <td>35.38</td>\n",
              "      <td>2111.91</td>\n",
              "      <td>6381.49</td>\n",
              "      <td>30 Year</td>\n",
              "      <td>0.05</td>\n",
              "    </tr>\n",
              "    <tr>\n",
              "      <th>717</th>\n",
              "      <td>358</td>\n",
              "      <td>6381.49</td>\n",
              "      <td>2147.29</td>\n",
              "      <td>26.58</td>\n",
              "      <td>2120.71</td>\n",
              "      <td>4260.78</td>\n",
              "      <td>30 Year</td>\n",
              "      <td>0.05</td>\n",
              "    </tr>\n",
              "    <tr>\n",
              "      <th>718</th>\n",
              "      <td>359</td>\n",
              "      <td>4260.78</td>\n",
              "      <td>2147.29</td>\n",
              "      <td>17.75</td>\n",
              "      <td>2129.54</td>\n",
              "      <td>2131.24</td>\n",
              "      <td>30 Year</td>\n",
              "      <td>0.05</td>\n",
              "    </tr>\n",
              "    <tr>\n",
              "      <th>719</th>\n",
              "      <td>360</td>\n",
              "      <td>2131.24</td>\n",
              "      <td>2147.29</td>\n",
              "      <td>8.88</td>\n",
              "      <td>2138.41</td>\n",
              "      <td>-7.17</td>\n",
              "      <td>30 Year</td>\n",
              "      <td>0.05</td>\n",
              "    </tr>\n",
              "  </tbody>\n",
              "</table>\n",
              "<p>720 rows × 8 columns</p>\n",
              "</div>"
            ],
            "text/plain": [
              "     Month  Starting Balance  Repayment  Interest Paid  Principal Paid  \\\n",
              "0        1         400000.00    1686.42        1000.00          686.42   \n",
              "1        2         399313.58    1686.42         998.28          688.14   \n",
              "2        3         398625.44    1686.42         996.56          689.86   \n",
              "3        4         397935.58    1686.42         994.83          691.59   \n",
              "4        5         397243.99    1686.42         993.10          693.32   \n",
              "..     ...               ...        ...            ...             ...   \n",
              "715    356          10596.54    2147.29          44.15         2103.14   \n",
              "716    357           8493.40    2147.29          35.38         2111.91   \n",
              "717    358           6381.49    2147.29          26.58         2120.71   \n",
              "718    359           4260.78    2147.29          17.75         2129.54   \n",
              "719    360           2131.24    2147.29           8.88         2138.41   \n",
              "\n",
              "     New Balance Mortgage Name  Interest Rate  \n",
              "0      399313.58       30 Year           0.03  \n",
              "1      398625.44       30 Year           0.03  \n",
              "2      397935.58       30 Year           0.03  \n",
              "3      397243.99       30 Year           0.03  \n",
              "4      396550.67       30 Year           0.03  \n",
              "..           ...           ...            ...  \n",
              "715      8493.40       30 Year           0.05  \n",
              "716      6381.49       30 Year           0.05  \n",
              "717      4260.78       30 Year           0.05  \n",
              "718      2131.24       30 Year           0.05  \n",
              "719        -7.17       30 Year           0.05  \n",
              "\n",
              "[720 rows x 8 columns]"
            ]
          },
          "execution_count": 24,
          "metadata": {},
          "output_type": "execute_result"
        }
      ],
      "source": [
        "# Método 1 con corchetes\n",
        "# Filtra el marco de datos para obtener un marco de datos de solo '30 Year '\n",
        "df[mortgage_filter]"
      ]
    },
    {
      "cell_type": "code",
      "execution_count": null,
      "id": "c8efa704",
      "metadata": {
        "id": "c8efa704",
        "outputId": "d18245d1-34ee-4251-d198-62e7ad6d8d76"
      },
      "outputs": [
        {
          "data": {
            "text/html": [
              "<div>\n",
              "<style scoped>\n",
              "    .dataframe tbody tr th:only-of-type {\n",
              "        vertical-align: middle;\n",
              "    }\n",
              "\n",
              "    .dataframe tbody tr th {\n",
              "        vertical-align: top;\n",
              "    }\n",
              "\n",
              "    .dataframe thead th {\n",
              "        text-align: right;\n",
              "    }\n",
              "</style>\n",
              "<table border=\"1\" class=\"dataframe\">\n",
              "  <thead>\n",
              "    <tr style=\"text-align: right;\">\n",
              "      <th></th>\n",
              "      <th>Month</th>\n",
              "      <th>Starting Balance</th>\n",
              "      <th>Repayment</th>\n",
              "      <th>Interest Paid</th>\n",
              "      <th>Principal Paid</th>\n",
              "      <th>New Balance</th>\n",
              "      <th>Mortgage Name</th>\n",
              "      <th>Interest Rate</th>\n",
              "    </tr>\n",
              "  </thead>\n",
              "  <tbody>\n",
              "    <tr>\n",
              "      <th>0</th>\n",
              "      <td>1</td>\n",
              "      <td>400000.00</td>\n",
              "      <td>1686.42</td>\n",
              "      <td>1000.00</td>\n",
              "      <td>686.42</td>\n",
              "      <td>399313.58</td>\n",
              "      <td>30 Year</td>\n",
              "      <td>0.03</td>\n",
              "    </tr>\n",
              "    <tr>\n",
              "      <th>1</th>\n",
              "      <td>2</td>\n",
              "      <td>399313.58</td>\n",
              "      <td>1686.42</td>\n",
              "      <td>998.28</td>\n",
              "      <td>688.14</td>\n",
              "      <td>398625.44</td>\n",
              "      <td>30 Year</td>\n",
              "      <td>0.03</td>\n",
              "    </tr>\n",
              "    <tr>\n",
              "      <th>2</th>\n",
              "      <td>3</td>\n",
              "      <td>398625.44</td>\n",
              "      <td>1686.42</td>\n",
              "      <td>996.56</td>\n",
              "      <td>689.86</td>\n",
              "      <td>397935.58</td>\n",
              "      <td>30 Year</td>\n",
              "      <td>0.03</td>\n",
              "    </tr>\n",
              "    <tr>\n",
              "      <th>3</th>\n",
              "      <td>4</td>\n",
              "      <td>397935.58</td>\n",
              "      <td>1686.42</td>\n",
              "      <td>994.83</td>\n",
              "      <td>691.59</td>\n",
              "      <td>397243.99</td>\n",
              "      <td>30 Year</td>\n",
              "      <td>0.03</td>\n",
              "    </tr>\n",
              "    <tr>\n",
              "      <th>4</th>\n",
              "      <td>5</td>\n",
              "      <td>397243.99</td>\n",
              "      <td>1686.42</td>\n",
              "      <td>993.10</td>\n",
              "      <td>693.32</td>\n",
              "      <td>396550.67</td>\n",
              "      <td>30 Year</td>\n",
              "      <td>0.03</td>\n",
              "    </tr>\n",
              "    <tr>\n",
              "      <th>...</th>\n",
              "      <td>...</td>\n",
              "      <td>...</td>\n",
              "      <td>...</td>\n",
              "      <td>...</td>\n",
              "      <td>...</td>\n",
              "      <td>...</td>\n",
              "      <td>...</td>\n",
              "      <td>...</td>\n",
              "    </tr>\n",
              "    <tr>\n",
              "      <th>715</th>\n",
              "      <td>356</td>\n",
              "      <td>10596.54</td>\n",
              "      <td>2147.29</td>\n",
              "      <td>44.15</td>\n",
              "      <td>2103.14</td>\n",
              "      <td>8493.40</td>\n",
              "      <td>30 Year</td>\n",
              "      <td>0.05</td>\n",
              "    </tr>\n",
              "    <tr>\n",
              "      <th>716</th>\n",
              "      <td>357</td>\n",
              "      <td>8493.40</td>\n",
              "      <td>2147.29</td>\n",
              "      <td>35.38</td>\n",
              "      <td>2111.91</td>\n",
              "      <td>6381.49</td>\n",
              "      <td>30 Year</td>\n",
              "      <td>0.05</td>\n",
              "    </tr>\n",
              "    <tr>\n",
              "      <th>717</th>\n",
              "      <td>358</td>\n",
              "      <td>6381.49</td>\n",
              "      <td>2147.29</td>\n",
              "      <td>26.58</td>\n",
              "      <td>2120.71</td>\n",
              "      <td>4260.78</td>\n",
              "      <td>30 Year</td>\n",
              "      <td>0.05</td>\n",
              "    </tr>\n",
              "    <tr>\n",
              "      <th>718</th>\n",
              "      <td>359</td>\n",
              "      <td>4260.78</td>\n",
              "      <td>2147.29</td>\n",
              "      <td>17.75</td>\n",
              "      <td>2129.54</td>\n",
              "      <td>2131.24</td>\n",
              "      <td>30 Year</td>\n",
              "      <td>0.05</td>\n",
              "    </tr>\n",
              "    <tr>\n",
              "      <th>719</th>\n",
              "      <td>360</td>\n",
              "      <td>2131.24</td>\n",
              "      <td>2147.29</td>\n",
              "      <td>8.88</td>\n",
              "      <td>2138.41</td>\n",
              "      <td>-7.17</td>\n",
              "      <td>30 Year</td>\n",
              "      <td>0.05</td>\n",
              "    </tr>\n",
              "  </tbody>\n",
              "</table>\n",
              "<p>720 rows × 8 columns</p>\n",
              "</div>"
            ],
            "text/plain": [
              "     Month  Starting Balance  Repayment  Interest Paid  Principal Paid  \\\n",
              "0        1         400000.00    1686.42        1000.00          686.42   \n",
              "1        2         399313.58    1686.42         998.28          688.14   \n",
              "2        3         398625.44    1686.42         996.56          689.86   \n",
              "3        4         397935.58    1686.42         994.83          691.59   \n",
              "4        5         397243.99    1686.42         993.10          693.32   \n",
              "..     ...               ...        ...            ...             ...   \n",
              "715    356          10596.54    2147.29          44.15         2103.14   \n",
              "716    357           8493.40    2147.29          35.38         2111.91   \n",
              "717    358           6381.49    2147.29          26.58         2120.71   \n",
              "718    359           4260.78    2147.29          17.75         2129.54   \n",
              "719    360           2131.24    2147.29           8.88         2138.41   \n",
              "\n",
              "     New Balance Mortgage Name  Interest Rate  \n",
              "0      399313.58       30 Year           0.03  \n",
              "1      398625.44       30 Year           0.03  \n",
              "2      397935.58       30 Year           0.03  \n",
              "3      397243.99       30 Year           0.03  \n",
              "4      396550.67       30 Year           0.03  \n",
              "..           ...           ...            ...  \n",
              "715      8493.40       30 Year           0.05  \n",
              "716      6381.49       30 Year           0.05  \n",
              "717      4260.78       30 Year           0.05  \n",
              "718      2131.24       30 Year           0.05  \n",
              "719        -7.17       30 Year           0.05  \n",
              "\n",
              "[720 rows x 8 columns]"
            ]
          },
          "execution_count": 25,
          "metadata": {},
          "output_type": "execute_result"
        }
      ],
      "source": [
        "# Aproximación 2 usando loc\n",
        "# Filtre el marco de datos para obtener un marco de datos de hipotecas de solo 30 años\n",
        "df.loc[mortgage_filter, :]"
      ]
    },
    {
      "cell_type": "code",
      "execution_count": null,
      "id": "0d32a9fe",
      "metadata": {
        "id": "0d32a9fe",
        "outputId": "7d4fa549-cfe6-47a2-ff22-84aa13d91cc5"
      },
      "outputs": [
        {
          "data": {
            "text/plain": [
              "30 Year    720\n",
              "15 Year    360\n",
              "Name: Mortgage Name, dtype: int64"
            ]
          },
          "execution_count": 26,
          "metadata": {},
          "output_type": "execute_result"
        }
      ],
      "source": [
        "# Observa que pareciera que nada ha cambiado.\n",
        "# Esto se debe a que no actualizamos el marco de datos después de aplicar el filtro.\n",
        "# La salida anterior es local; ya no podemos usarla ya que en realidad no cambiamos/actualizamos el marco de datos\n",
        "# Necesitaríamos guardar el código anterior como una variable para usar el marco de datos filtrado en futuras celdas\n",
        "# de código\n",
        "df['Mortgage Name'].value_counts()"
      ]
    },
    {
      "cell_type": "code",
      "execution_count": null,
      "id": "054d808a",
      "metadata": {
        "id": "054d808a",
        "outputId": "3bbc8b79-1c3e-47d8-8033-09d81cbe7676"
      },
      "outputs": [
        {
          "data": {
            "text/plain": [
              "30 Year    720\n",
              "Name: Mortgage Name, dtype: int64"
            ]
          },
          "execution_count": 27,
          "metadata": {},
          "output_type": "execute_result"
        }
      ],
      "source": [
        "# Filtra el marco de datos para obtener un marco de datos de hipotecas de solo 30 años\n",
        "# Ten en cuenta que estamos sobrescribiendo df aquí para guardar solo los datos de la hipoteca a 30 años\n",
        "# Y ahora, solo hay hipotecas a 30 años en la salida cuando ejecutamos .value_counts()\n",
        "df = df.loc[mortgage_filter, :]\n",
        "df['Mortgage Name'].value_counts()"
      ]
    },
    {
      "cell_type": "code",
      "execution_count": null,
      "id": "bdd11237",
      "metadata": {
        "id": "bdd11237",
        "outputId": "bd36ff73-9acd-4d7a-a112-0725370d8953"
      },
      "outputs": [
        {
          "data": {
            "text/plain": [
              "0.03    360\n",
              "0.05    360\n",
              "Name: Interest Rate, dtype: int64"
            ]
          },
          "execution_count": 28,
          "metadata": {},
          "output_type": "execute_result"
        }
      ],
      "source": [
        "# Filtro por tasa de interés\n",
        "# Ve si puedes averiguar qué hace el método de recuento de valores utilizando la función de ayuda\n",
        "df['Interest Rate'].value_counts()"
      ]
    },
    {
      "cell_type": "code",
      "execution_count": null,
      "id": "56c8bcd7",
      "metadata": {
        "id": "56c8bcd7",
        "outputId": "1f0b462d-a01d-4664-bc50-b6fbf2879368"
      },
      "outputs": [
        {
          "data": {
            "text/plain": [
              "0       True\n",
              "1       True\n",
              "2       True\n",
              "3       True\n",
              "4       True\n",
              "       ...  \n",
              "715    False\n",
              "716    False\n",
              "717    False\n",
              "718    False\n",
              "719    False\n",
              "Name: Interest Rate, Length: 720, dtype: bool"
            ]
          },
          "execution_count": 29,
          "metadata": {},
          "output_type": "execute_result"
        }
      ],
      "source": [
        "# Observa que el filtro produce una serie de pandas de valores verdaderos y falsos.\n",
        "df['Interest Rate']==0.03"
      ]
    },
    {
      "cell_type": "code",
      "execution_count": null,
      "id": "75441860",
      "metadata": {
        "id": "75441860"
      },
      "outputs": [],
      "source": [
        "interest_filter = df['Interest Rate']==0.03\n",
        "# df = df.loc[interest_filter, :]\n",
        "# df['Interest Rate'].value_counts()"
      ]
    },
    {
      "cell_type": "code",
      "execution_count": null,
      "id": "5396df6d",
      "metadata": {
        "id": "5396df6d",
        "outputId": "7cbb44be-882b-47b3-af98-a08ed0aa9750"
      },
      "outputs": [
        {
          "name": "stdout",
          "output_type": "stream",
          "text": [
            "<class 'pandas.core.frame.DataFrame'>\n",
            "Int64Index: 720 entries, 0 to 719\n",
            "Data columns (total 8 columns):\n",
            " #   Column            Non-Null Count  Dtype  \n",
            "---  ------            --------------  -----  \n",
            " 0   Month             720 non-null    int64  \n",
            " 1   Starting Balance  720 non-null    float64\n",
            " 2   Repayment         720 non-null    float64\n",
            " 3   Interest Paid     720 non-null    float64\n",
            " 4   Principal Paid    720 non-null    float64\n",
            " 5   New Balance       720 non-null    float64\n",
            " 6   Mortgage Name     720 non-null    object \n",
            " 7   Interest Rate     720 non-null    float64\n",
            "dtypes: float64(6), int64(1), object(1)\n",
            "memory usage: 50.6+ KB\n"
          ]
        }
      ],
      "source": [
        "df.info()"
      ]
    },
    {
      "cell_type": "code",
      "execution_count": null,
      "id": "6a9e022c",
      "metadata": {
        "id": "6a9e022c",
        "outputId": "4012e3b0-b164-4dd5-921a-9fa1af62c0ea"
      },
      "outputs": [
        {
          "data": {
            "text/plain": [
              "0.03    360\n",
              "Name: Interest Rate, dtype: int64"
            ]
          },
          "execution_count": 32,
          "metadata": {},
          "output_type": "execute_result"
        }
      ],
      "source": [
        "df = df.loc[mortgage_filter & interest_filter, :]\n",
        "df['Interest Rate'].value_counts()"
      ]
    },
    {
      "cell_type": "markdown",
      "id": "b72855ac",
      "metadata": {
        "id": "b72855ac"
      },
      "source": [
        "## Renombrar y eliminar columnas"
      ]
    },
    {
      "cell_type": "code",
      "execution_count": null,
      "id": "0bd5e461",
      "metadata": {
        "id": "0bd5e461",
        "outputId": "768ae135-a524-4000-e356-7cb45015afa2"
      },
      "outputs": [
        {
          "data": {
            "text/html": [
              "<div>\n",
              "<style scoped>\n",
              "    .dataframe tbody tr th:only-of-type {\n",
              "        vertical-align: middle;\n",
              "    }\n",
              "\n",
              "    .dataframe tbody tr th {\n",
              "        vertical-align: top;\n",
              "    }\n",
              "\n",
              "    .dataframe thead th {\n",
              "        text-align: right;\n",
              "    }\n",
              "</style>\n",
              "<table border=\"1\" class=\"dataframe\">\n",
              "  <thead>\n",
              "    <tr style=\"text-align: right;\">\n",
              "      <th></th>\n",
              "      <th>Month</th>\n",
              "      <th>starting_balance</th>\n",
              "      <th>Repayment</th>\n",
              "      <th>interest_paid</th>\n",
              "      <th>principal_paid</th>\n",
              "      <th>New Balance</th>\n",
              "      <th>Mortgage Name</th>\n",
              "      <th>Interest Rate</th>\n",
              "    </tr>\n",
              "  </thead>\n",
              "  <tbody>\n",
              "    <tr>\n",
              "      <th>0</th>\n",
              "      <td>1</td>\n",
              "      <td>400000.00</td>\n",
              "      <td>1686.42</td>\n",
              "      <td>1000.00</td>\n",
              "      <td>686.42</td>\n",
              "      <td>399313.58</td>\n",
              "      <td>30 Year</td>\n",
              "      <td>0.03</td>\n",
              "    </tr>\n",
              "    <tr>\n",
              "      <th>1</th>\n",
              "      <td>2</td>\n",
              "      <td>399313.58</td>\n",
              "      <td>1686.42</td>\n",
              "      <td>998.28</td>\n",
              "      <td>688.14</td>\n",
              "      <td>398625.44</td>\n",
              "      <td>30 Year</td>\n",
              "      <td>0.03</td>\n",
              "    </tr>\n",
              "    <tr>\n",
              "      <th>2</th>\n",
              "      <td>3</td>\n",
              "      <td>398625.44</td>\n",
              "      <td>1686.42</td>\n",
              "      <td>996.56</td>\n",
              "      <td>689.86</td>\n",
              "      <td>397935.58</td>\n",
              "      <td>30 Year</td>\n",
              "      <td>0.03</td>\n",
              "    </tr>\n",
              "    <tr>\n",
              "      <th>3</th>\n",
              "      <td>4</td>\n",
              "      <td>397935.58</td>\n",
              "      <td>1686.42</td>\n",
              "      <td>994.83</td>\n",
              "      <td>691.59</td>\n",
              "      <td>397243.99</td>\n",
              "      <td>30 Year</td>\n",
              "      <td>0.03</td>\n",
              "    </tr>\n",
              "    <tr>\n",
              "      <th>4</th>\n",
              "      <td>5</td>\n",
              "      <td>397243.99</td>\n",
              "      <td>1686.42</td>\n",
              "      <td>993.10</td>\n",
              "      <td>693.32</td>\n",
              "      <td>396550.67</td>\n",
              "      <td>30 Year</td>\n",
              "      <td>0.03</td>\n",
              "    </tr>\n",
              "  </tbody>\n",
              "</table>\n",
              "</div>"
            ],
            "text/plain": [
              "   Month  starting_balance  Repayment  interest_paid  principal_paid  \\\n",
              "0      1         400000.00    1686.42        1000.00          686.42   \n",
              "1      2         399313.58    1686.42         998.28          688.14   \n",
              "2      3         398625.44    1686.42         996.56          689.86   \n",
              "3      4         397935.58    1686.42         994.83          691.59   \n",
              "4      5         397243.99    1686.42         993.10          693.32   \n",
              "\n",
              "   New Balance Mortgage Name  Interest Rate  \n",
              "0    399313.58       30 Year           0.03  \n",
              "1    398625.44       30 Year           0.03  \n",
              "2    397935.58       30 Year           0.03  \n",
              "3    397243.99       30 Year           0.03  \n",
              "4    396550.67       30 Year           0.03  "
            ]
          },
          "execution_count": 33,
          "metadata": {},
          "output_type": "execute_result"
        }
      ],
      "source": [
        "# Enfoque 1 sustitución de diccionario mediante el método de cambio de nombre\n",
        "df = df.rename(columns={'Starting Balance': 'starting_balance',\n",
        "                        'Interest Paid': 'interest_paid', \n",
        "                        'Principal Paid': 'principal_paid'})\n",
        "# DataFrame after renaming columns\n",
        "df.head()"
      ]
    },
    {
      "cell_type": "code",
      "execution_count": null,
      "id": "df3f241c",
      "metadata": {
        "id": "df3f241c",
        "outputId": "416aa622-db02-4b5d-b6f9-60b9ad2310f7"
      },
      "outputs": [
        {
          "data": {
            "text/html": [
              "<div>\n",
              "<style scoped>\n",
              "    .dataframe tbody tr th:only-of-type {\n",
              "        vertical-align: middle;\n",
              "    }\n",
              "\n",
              "    .dataframe tbody tr th {\n",
              "        vertical-align: top;\n",
              "    }\n",
              "\n",
              "    .dataframe thead th {\n",
              "        text-align: right;\n",
              "    }\n",
              "</style>\n",
              "<table border=\"1\" class=\"dataframe\">\n",
              "  <thead>\n",
              "    <tr style=\"text-align: right;\">\n",
              "      <th></th>\n",
              "      <th>month</th>\n",
              "      <th>starting_balance</th>\n",
              "      <th>repayment</th>\n",
              "      <th>interest_paid</th>\n",
              "      <th>principal_paid</th>\n",
              "      <th>new_balance</th>\n",
              "      <th>mortgage_name</th>\n",
              "      <th>interest_rate</th>\n",
              "    </tr>\n",
              "  </thead>\n",
              "  <tbody>\n",
              "    <tr>\n",
              "      <th>0</th>\n",
              "      <td>1</td>\n",
              "      <td>400000.00</td>\n",
              "      <td>1686.42</td>\n",
              "      <td>1000.00</td>\n",
              "      <td>686.42</td>\n",
              "      <td>399313.58</td>\n",
              "      <td>30 Year</td>\n",
              "      <td>0.03</td>\n",
              "    </tr>\n",
              "    <tr>\n",
              "      <th>1</th>\n",
              "      <td>2</td>\n",
              "      <td>399313.58</td>\n",
              "      <td>1686.42</td>\n",
              "      <td>998.28</td>\n",
              "      <td>688.14</td>\n",
              "      <td>398625.44</td>\n",
              "      <td>30 Year</td>\n",
              "      <td>0.03</td>\n",
              "    </tr>\n",
              "    <tr>\n",
              "      <th>2</th>\n",
              "      <td>3</td>\n",
              "      <td>398625.44</td>\n",
              "      <td>1686.42</td>\n",
              "      <td>996.56</td>\n",
              "      <td>689.86</td>\n",
              "      <td>397935.58</td>\n",
              "      <td>30 Year</td>\n",
              "      <td>0.03</td>\n",
              "    </tr>\n",
              "    <tr>\n",
              "      <th>3</th>\n",
              "      <td>4</td>\n",
              "      <td>397935.58</td>\n",
              "      <td>1686.42</td>\n",
              "      <td>994.83</td>\n",
              "      <td>691.59</td>\n",
              "      <td>397243.99</td>\n",
              "      <td>30 Year</td>\n",
              "      <td>0.03</td>\n",
              "    </tr>\n",
              "    <tr>\n",
              "      <th>4</th>\n",
              "      <td>5</td>\n",
              "      <td>397243.99</td>\n",
              "      <td>1686.42</td>\n",
              "      <td>993.10</td>\n",
              "      <td>693.32</td>\n",
              "      <td>396550.67</td>\n",
              "      <td>30 Year</td>\n",
              "      <td>0.03</td>\n",
              "    </tr>\n",
              "  </tbody>\n",
              "</table>\n",
              "</div>"
            ],
            "text/plain": [
              "   month  starting_balance  repayment  interest_paid  principal_paid  \\\n",
              "0      1         400000.00    1686.42        1000.00          686.42   \n",
              "1      2         399313.58    1686.42         998.28          688.14   \n",
              "2      3         398625.44    1686.42         996.56          689.86   \n",
              "3      4         397935.58    1686.42         994.83          691.59   \n",
              "4      5         397243.99    1686.42         993.10          693.32   \n",
              "\n",
              "   new_balance mortgage_name  interest_rate  \n",
              "0    399313.58       30 Year           0.03  \n",
              "1    398625.44       30 Year           0.03  \n",
              "2    397935.58       30 Year           0.03  \n",
              "3    397243.99       30 Year           0.03  \n",
              "4    396550.67       30 Year           0.03  "
            ]
          },
          "execution_count": 34,
          "metadata": {},
          "output_type": "execute_result"
        }
      ],
      "source": [
        "# Enfoque 2\n",
        "# Incluso si quieres cambiar el nombre de una sola columna, debes enumerar el resto de las columnas\n",
        "df.columns = ['month',\n",
        "              'starting_balance',\n",
        "              'repayment',\n",
        "              'interest_paid',\n",
        "              'principal_paid',\n",
        "              'new_balance',\n",
        "              'mortgage_name',\n",
        "              'interest_rate']\n",
        "df.head()"
      ]
    },
    {
      "cell_type": "code",
      "execution_count": null,
      "id": "e491c546",
      "metadata": {
        "id": "e491c546",
        "outputId": "50c11329-8b97-46b8-b499-aa9450336f71"
      },
      "outputs": [
        {
          "data": {
            "text/html": [
              "<div>\n",
              "<style scoped>\n",
              "    .dataframe tbody tr th:only-of-type {\n",
              "        vertical-align: middle;\n",
              "    }\n",
              "\n",
              "    .dataframe tbody tr th {\n",
              "        vertical-align: top;\n",
              "    }\n",
              "\n",
              "    .dataframe thead th {\n",
              "        text-align: right;\n",
              "    }\n",
              "</style>\n",
              "<table border=\"1\" class=\"dataframe\">\n",
              "  <thead>\n",
              "    <tr style=\"text-align: right;\">\n",
              "      <th></th>\n",
              "      <th>month</th>\n",
              "      <th>starting_balance</th>\n",
              "      <th>repayment</th>\n",
              "      <th>interest_paid</th>\n",
              "      <th>principal_paid</th>\n",
              "      <th>mortgage_name</th>\n",
              "      <th>interest_rate</th>\n",
              "    </tr>\n",
              "  </thead>\n",
              "  <tbody>\n",
              "    <tr>\n",
              "      <th>0</th>\n",
              "      <td>1</td>\n",
              "      <td>400000.00</td>\n",
              "      <td>1686.42</td>\n",
              "      <td>1000.00</td>\n",
              "      <td>686.42</td>\n",
              "      <td>30 Year</td>\n",
              "      <td>0.03</td>\n",
              "    </tr>\n",
              "    <tr>\n",
              "      <th>1</th>\n",
              "      <td>2</td>\n",
              "      <td>399313.58</td>\n",
              "      <td>1686.42</td>\n",
              "      <td>998.28</td>\n",
              "      <td>688.14</td>\n",
              "      <td>30 Year</td>\n",
              "      <td>0.03</td>\n",
              "    </tr>\n",
              "    <tr>\n",
              "      <th>2</th>\n",
              "      <td>3</td>\n",
              "      <td>398625.44</td>\n",
              "      <td>1686.42</td>\n",
              "      <td>996.56</td>\n",
              "      <td>689.86</td>\n",
              "      <td>30 Year</td>\n",
              "      <td>0.03</td>\n",
              "    </tr>\n",
              "    <tr>\n",
              "      <th>3</th>\n",
              "      <td>4</td>\n",
              "      <td>397935.58</td>\n",
              "      <td>1686.42</td>\n",
              "      <td>994.83</td>\n",
              "      <td>691.59</td>\n",
              "      <td>30 Year</td>\n",
              "      <td>0.03</td>\n",
              "    </tr>\n",
              "    <tr>\n",
              "      <th>4</th>\n",
              "      <td>5</td>\n",
              "      <td>397243.99</td>\n",
              "      <td>1686.42</td>\n",
              "      <td>993.10</td>\n",
              "      <td>693.32</td>\n",
              "      <td>30 Year</td>\n",
              "      <td>0.03</td>\n",
              "    </tr>\n",
              "  </tbody>\n",
              "</table>\n",
              "</div>"
            ],
            "text/plain": [
              "   month  starting_balance  repayment  interest_paid  principal_paid  \\\n",
              "0      1         400000.00    1686.42        1000.00          686.42   \n",
              "1      2         399313.58    1686.42         998.28          688.14   \n",
              "2      3         398625.44    1686.42         996.56          689.86   \n",
              "3      4         397935.58    1686.42         994.83          691.59   \n",
              "4      5         397243.99    1686.42         993.10          693.32   \n",
              "\n",
              "  mortgage_name  interest_rate  \n",
              "0       30 Year           0.03  \n",
              "1       30 Year           0.03  \n",
              "2       30 Year           0.03  \n",
              "3       30 Year           0.03  \n",
              "4       30 Year           0.03  "
            ]
          },
          "execution_count": 35,
          "metadata": {},
          "output_type": "execute_result"
        }
      ],
      "source": [
        "# También es posible eliminar ciertas columnas de tu dataframe\n",
        "# Enfoque 1\n",
        "df = df.drop(columns=['new_balance'])\n",
        "df.head()"
      ]
    },
    {
      "cell_type": "code",
      "execution_count": null,
      "id": "35e0ce4f",
      "metadata": {
        "id": "35e0ce4f",
        "outputId": "54905fce-6707-4531-cdc8-248331e6d81f"
      },
      "outputs": [
        {
          "data": {
            "text/html": [
              "<div>\n",
              "<style scoped>\n",
              "    .dataframe tbody tr th:only-of-type {\n",
              "        vertical-align: middle;\n",
              "    }\n",
              "\n",
              "    .dataframe tbody tr th {\n",
              "        vertical-align: top;\n",
              "    }\n",
              "\n",
              "    .dataframe thead th {\n",
              "        text-align: right;\n",
              "    }\n",
              "</style>\n",
              "<table border=\"1\" class=\"dataframe\">\n",
              "  <thead>\n",
              "    <tr style=\"text-align: right;\">\n",
              "      <th></th>\n",
              "      <th>month</th>\n",
              "      <th>repayment</th>\n",
              "      <th>interest_paid</th>\n",
              "      <th>principal_paid</th>\n",
              "      <th>mortgage_name</th>\n",
              "      <th>interest_rate</th>\n",
              "    </tr>\n",
              "  </thead>\n",
              "  <tbody>\n",
              "    <tr>\n",
              "      <th>0</th>\n",
              "      <td>1</td>\n",
              "      <td>1686.42</td>\n",
              "      <td>1000.00</td>\n",
              "      <td>686.42</td>\n",
              "      <td>30 Year</td>\n",
              "      <td>0.03</td>\n",
              "    </tr>\n",
              "    <tr>\n",
              "      <th>1</th>\n",
              "      <td>2</td>\n",
              "      <td>1686.42</td>\n",
              "      <td>998.28</td>\n",
              "      <td>688.14</td>\n",
              "      <td>30 Year</td>\n",
              "      <td>0.03</td>\n",
              "    </tr>\n",
              "    <tr>\n",
              "      <th>2</th>\n",
              "      <td>3</td>\n",
              "      <td>1686.42</td>\n",
              "      <td>996.56</td>\n",
              "      <td>689.86</td>\n",
              "      <td>30 Year</td>\n",
              "      <td>0.03</td>\n",
              "    </tr>\n",
              "    <tr>\n",
              "      <th>3</th>\n",
              "      <td>4</td>\n",
              "      <td>1686.42</td>\n",
              "      <td>994.83</td>\n",
              "      <td>691.59</td>\n",
              "      <td>30 Year</td>\n",
              "      <td>0.03</td>\n",
              "    </tr>\n",
              "    <tr>\n",
              "      <th>4</th>\n",
              "      <td>5</td>\n",
              "      <td>1686.42</td>\n",
              "      <td>993.10</td>\n",
              "      <td>693.32</td>\n",
              "      <td>30 Year</td>\n",
              "      <td>0.03</td>\n",
              "    </tr>\n",
              "  </tbody>\n",
              "</table>\n",
              "</div>"
            ],
            "text/plain": [
              "   month  repayment  interest_paid  principal_paid mortgage_name  \\\n",
              "0      1    1686.42        1000.00          686.42       30 Year   \n",
              "1      2    1686.42         998.28          688.14       30 Year   \n",
              "2      3    1686.42         996.56          689.86       30 Year   \n",
              "3      4    1686.42         994.83          691.59       30 Year   \n",
              "4      5    1686.42         993.10          693.32       30 Year   \n",
              "\n",
              "   interest_rate  \n",
              "0           0.03  \n",
              "1           0.03  \n",
              "2           0.03  \n",
              "3           0.03  \n",
              "4           0.03  "
            ]
          },
          "execution_count": 36,
          "metadata": {},
          "output_type": "execute_result"
        }
      ],
      "source": [
        "# Enfoque 2 usa el comando del\n",
        "del df['starting_balance']\n",
        "df.head()"
      ]
    },
    {
      "cell_type": "markdown",
      "id": "0f5f1372",
      "metadata": {
        "id": "0f5f1372"
      },
      "source": [
        "## Identificar datos faltantes"
      ]
    },
    {
      "cell_type": "code",
      "execution_count": null,
      "id": "06147596",
      "metadata": {
        "id": "06147596",
        "outputId": "e80c7397-2efa-493c-8af2-b12a6d341c4a"
      },
      "outputs": [
        {
          "data": {
            "text/html": [
              "<div>\n",
              "<style scoped>\n",
              "    .dataframe tbody tr th:only-of-type {\n",
              "        vertical-align: middle;\n",
              "    }\n",
              "\n",
              "    .dataframe tbody tr th {\n",
              "        vertical-align: top;\n",
              "    }\n",
              "\n",
              "    .dataframe thead th {\n",
              "        text-align: right;\n",
              "    }\n",
              "</style>\n",
              "<table border=\"1\" class=\"dataframe\">\n",
              "  <thead>\n",
              "    <tr style=\"text-align: right;\">\n",
              "      <th></th>\n",
              "      <th>x</th>\n",
              "      <th>y</th>\n",
              "    </tr>\n",
              "  </thead>\n",
              "  <tbody>\n",
              "    <tr>\n",
              "      <th>0</th>\n",
              "      <td>0.000000</td>\n",
              "      <td>-51.000000</td>\n",
              "    </tr>\n",
              "    <tr>\n",
              "      <th>1</th>\n",
              "      <td>25.000000</td>\n",
              "      <td>-12.000000</td>\n",
              "    </tr>\n",
              "    <tr>\n",
              "      <th>2</th>\n",
              "      <td>117.583220</td>\n",
              "      <td>134.907414</td>\n",
              "    </tr>\n",
              "    <tr>\n",
              "      <th>3</th>\n",
              "      <td>108.922466</td>\n",
              "      <td>134.085180</td>\n",
              "    </tr>\n",
              "    <tr>\n",
              "      <th>4</th>\n",
              "      <td>69.887445</td>\n",
              "      <td>NaN</td>\n",
              "    </tr>\n",
              "  </tbody>\n",
              "</table>\n",
              "</div>"
            ],
            "text/plain": [
              "            x           y\n",
              "0    0.000000  -51.000000\n",
              "1   25.000000  -12.000000\n",
              "2  117.583220  134.907414\n",
              "3  108.922466  134.085180\n",
              "4   69.887445         NaN"
            ]
          },
          "execution_count": 37,
          "metadata": {},
          "output_type": "execute_result"
        }
      ],
      "source": [
        "filename = 'https://raw.githubusercontent.com/fralfaro/CodingDojo-DataScience/main/docs/2-Pandas/data/linear.csv'\n",
        "df = pd.read_csv(filename)\n",
        "df.head()"
      ]
    },
    {
      "cell_type": "code",
      "execution_count": null,
      "id": "d6fcc788",
      "metadata": {
        "id": "d6fcc788",
        "outputId": "133880c8-1abc-43bf-8ab1-76d744e00154"
      },
      "outputs": [
        {
          "name": "stdout",
          "output_type": "stream",
          "text": [
            "<class 'pandas.core.frame.DataFrame'>\n",
            "RangeIndex: 102 entries, 0 to 101\n",
            "Data columns (total 2 columns):\n",
            " #   Column  Non-Null Count  Dtype  \n",
            "---  ------  --------------  -----  \n",
            " 0   x       102 non-null    float64\n",
            " 1   y       94 non-null     float64\n",
            "dtypes: float64(2)\n",
            "memory usage: 1.7 KB\n"
          ]
        }
      ],
      "source": [
        "# Hay datos faltantes en la segunda columna (columna 'y')\n",
        "df.info()"
      ]
    },
    {
      "cell_type": "code",
      "execution_count": null,
      "id": "08587bbf",
      "metadata": {
        "id": "08587bbf",
        "outputId": "20e696d3-3949-46c0-8890-ee926cc9b786"
      },
      "outputs": [
        {
          "data": {
            "text/plain": [
              "0    False\n",
              "1    False\n",
              "2    False\n",
              "3    False\n",
              "4     True\n",
              "Name: y, dtype: bool"
            ]
          },
          "execution_count": 39,
          "metadata": {},
          "output_type": "execute_result"
        }
      ],
      "source": [
        "# Observa que tenemos una serie pandas de valores verdaderos y falsos.\n",
        "# .isna es una función que reemplaza cada valor existente con False\n",
        "# y cada valor no existente con True\n",
        "df['y'].isna().head()"
      ]
    },
    {
      "cell_type": "code",
      "execution_count": null,
      "id": "d0bd44ab",
      "metadata": {
        "id": "d0bd44ab",
        "outputId": "1dd3f75a-8c87-45b0-c550-a741e116f026"
      },
      "outputs": [
        {
          "data": {
            "text/html": [
              "<div>\n",
              "<style scoped>\n",
              "    .dataframe tbody tr th:only-of-type {\n",
              "        vertical-align: middle;\n",
              "    }\n",
              "\n",
              "    .dataframe tbody tr th {\n",
              "        vertical-align: top;\n",
              "    }\n",
              "\n",
              "    .dataframe thead th {\n",
              "        text-align: right;\n",
              "    }\n",
              "</style>\n",
              "<table border=\"1\" class=\"dataframe\">\n",
              "  <thead>\n",
              "    <tr style=\"text-align: right;\">\n",
              "      <th></th>\n",
              "      <th>x</th>\n",
              "      <th>y</th>\n",
              "    </tr>\n",
              "  </thead>\n",
              "  <tbody>\n",
              "    <tr>\n",
              "      <th>4</th>\n",
              "      <td>69.887445</td>\n",
              "      <td>NaN</td>\n",
              "    </tr>\n",
              "    <tr>\n",
              "      <th>53</th>\n",
              "      <td>93.143070</td>\n",
              "      <td>NaN</td>\n",
              "    </tr>\n",
              "    <tr>\n",
              "      <th>60</th>\n",
              "      <td>95.542388</td>\n",
              "      <td>NaN</td>\n",
              "    </tr>\n",
              "    <tr>\n",
              "      <th>62</th>\n",
              "      <td>120.699573</td>\n",
              "      <td>NaN</td>\n",
              "    </tr>\n",
              "    <tr>\n",
              "      <th>64</th>\n",
              "      <td>82.657622</td>\n",
              "      <td>NaN</td>\n",
              "    </tr>\n",
              "    <tr>\n",
              "      <th>65</th>\n",
              "      <td>105.534175</td>\n",
              "      <td>NaN</td>\n",
              "    </tr>\n",
              "    <tr>\n",
              "      <th>92</th>\n",
              "      <td>37.546425</td>\n",
              "      <td>NaN</td>\n",
              "    </tr>\n",
              "    <tr>\n",
              "      <th>94</th>\n",
              "      <td>35.914205</td>\n",
              "      <td>NaN</td>\n",
              "    </tr>\n",
              "  </tbody>\n",
              "</table>\n",
              "</div>"
            ],
            "text/plain": [
              "             x   y\n",
              "4    69.887445 NaN\n",
              "53   93.143070 NaN\n",
              "60   95.542388 NaN\n",
              "62  120.699573 NaN\n",
              "64   82.657622 NaN\n",
              "65  105.534175 NaN\n",
              "92   37.546425 NaN\n",
              "94   35.914205 NaN"
            ]
          },
          "execution_count": 40,
          "metadata": {},
          "output_type": "execute_result"
        }
      ],
      "source": [
        "y_missing = df['y'].isna() # Acá crearemos un filtro para valores NaN\n",
        "# Mira las filas que contienen NaN para y\n",
        "df.loc[y_missing,:]"
      ]
    },
    {
      "cell_type": "code",
      "execution_count": null,
      "id": "bbd10d5f",
      "metadata": {
        "id": "bbd10d5f",
        "outputId": "1ac1adf8-2b43-4648-abbe-da94e3ee5e73"
      },
      "outputs": [
        {
          "data": {
            "text/plain": [
              "0     True\n",
              "1     True\n",
              "2     True\n",
              "3     True\n",
              "4    False\n",
              "Name: y, dtype: bool"
            ]
          },
          "execution_count": 41,
          "metadata": {},
          "output_type": "execute_result"
        }
      ],
      "source": [
        "# Para obtener todos los valores NO NULOS en y, podemos utilizar la negación del filtro\n",
        "~y_missing.head()"
      ]
    },
    {
      "cell_type": "code",
      "execution_count": null,
      "id": "38109269",
      "metadata": {
        "id": "38109269",
        "outputId": "5f87939a-4e65-451c-b01f-c26ef8e800cb"
      },
      "outputs": [
        {
          "data": {
            "text/html": [
              "<div>\n",
              "<style scoped>\n",
              "    .dataframe tbody tr th:only-of-type {\n",
              "        vertical-align: middle;\n",
              "    }\n",
              "\n",
              "    .dataframe tbody tr th {\n",
              "        vertical-align: top;\n",
              "    }\n",
              "\n",
              "    .dataframe thead th {\n",
              "        text-align: right;\n",
              "    }\n",
              "</style>\n",
              "<table border=\"1\" class=\"dataframe\">\n",
              "  <thead>\n",
              "    <tr style=\"text-align: right;\">\n",
              "      <th></th>\n",
              "      <th>x</th>\n",
              "      <th>y</th>\n",
              "    </tr>\n",
              "  </thead>\n",
              "  <tbody>\n",
              "    <tr>\n",
              "      <th>0</th>\n",
              "      <td>0.000000</td>\n",
              "      <td>-51.000000</td>\n",
              "    </tr>\n",
              "    <tr>\n",
              "      <th>1</th>\n",
              "      <td>25.000000</td>\n",
              "      <td>-12.000000</td>\n",
              "    </tr>\n",
              "    <tr>\n",
              "      <th>2</th>\n",
              "      <td>117.583220</td>\n",
              "      <td>134.907414</td>\n",
              "    </tr>\n",
              "    <tr>\n",
              "      <th>3</th>\n",
              "      <td>108.922466</td>\n",
              "      <td>134.085180</td>\n",
              "    </tr>\n",
              "    <tr>\n",
              "      <th>5</th>\n",
              "      <td>96.839983</td>\n",
              "      <td>114.530638</td>\n",
              "    </tr>\n",
              "  </tbody>\n",
              "</table>\n",
              "</div>"
            ],
            "text/plain": [
              "            x           y\n",
              "0    0.000000  -51.000000\n",
              "1   25.000000  -12.000000\n",
              "2  117.583220  134.907414\n",
              "3  108.922466  134.085180\n",
              "5   96.839983  114.530638"
            ]
          },
          "execution_count": 42,
          "metadata": {},
          "output_type": "execute_result"
        }
      ],
      "source": [
        "# Ten en cuenta que podemos usar el operador not (~) para negar el filtro\n",
        "# cada fila que no tiene nan se devuelve\n",
        "df.loc[~y_missing,:].head()"
      ]
    },
    {
      "cell_type": "code",
      "execution_count": null,
      "id": "9d91b628",
      "metadata": {
        "id": "9d91b628",
        "outputId": "6e6c942f-baf9-4be6-dff8-47fa36dcf9ba"
      },
      "outputs": [
        {
          "data": {
            "text/plain": [
              "8"
            ]
          },
          "execution_count": 43,
          "metadata": {},
          "output_type": "execute_result"
        }
      ],
      "source": [
        "# El código cuenta el número de valores perdidos\n",
        "# sum() funciona porque los booleanos son un subtipo de enteros\n",
        "df['y'].isna().sum()"
      ]
    },
    {
      "cell_type": "code",
      "execution_count": null,
      "id": "a8158857",
      "metadata": {
        "id": "a8158857",
        "outputId": "c3b1b4d9-0a4f-4674-aa3b-671894738423"
      },
      "outputs": [
        {
          "data": {
            "text/plain": [
              "2"
            ]
          },
          "execution_count": 44,
          "metadata": {},
          "output_type": "execute_result"
        }
      ],
      "source": [
        "# el código anterior funciona de manera muy similar al código siguiente\n",
        "True + False + False + True"
      ]
    },
    {
      "cell_type": "code",
      "execution_count": null,
      "id": "9007d047",
      "metadata": {
        "id": "9007d047",
        "outputId": "c66cd5cb-2800-40b7-f4f6-f26a6c3a7701"
      },
      "outputs": [
        {
          "data": {
            "text/html": [
              "<div>\n",
              "<style scoped>\n",
              "    .dataframe tbody tr th:only-of-type {\n",
              "        vertical-align: middle;\n",
              "    }\n",
              "\n",
              "    .dataframe tbody tr th {\n",
              "        vertical-align: top;\n",
              "    }\n",
              "\n",
              "    .dataframe thead th {\n",
              "        text-align: right;\n",
              "    }\n",
              "</style>\n",
              "<table border=\"1\" class=\"dataframe\">\n",
              "  <thead>\n",
              "    <tr style=\"text-align: right;\">\n",
              "      <th></th>\n",
              "      <th>x</th>\n",
              "      <th>y</th>\n",
              "    </tr>\n",
              "  </thead>\n",
              "  <tbody>\n",
              "    <tr>\n",
              "      <th>0</th>\n",
              "      <td>0.000000</td>\n",
              "      <td>-51.000000</td>\n",
              "    </tr>\n",
              "    <tr>\n",
              "      <th>1</th>\n",
              "      <td>25.000000</td>\n",
              "      <td>-12.000000</td>\n",
              "    </tr>\n",
              "    <tr>\n",
              "      <th>2</th>\n",
              "      <td>117.583220</td>\n",
              "      <td>134.907414</td>\n",
              "    </tr>\n",
              "    <tr>\n",
              "      <th>3</th>\n",
              "      <td>108.922466</td>\n",
              "      <td>134.085180</td>\n",
              "    </tr>\n",
              "    <tr>\n",
              "      <th>5</th>\n",
              "      <td>96.839983</td>\n",
              "      <td>114.530638</td>\n",
              "    </tr>\n",
              "    <tr>\n",
              "      <th>6</th>\n",
              "      <td>51.775940</td>\n",
              "      <td>31.376437</td>\n",
              "    </tr>\n",
              "    <tr>\n",
              "      <th>7</th>\n",
              "      <td>35.016737</td>\n",
              "      <td>8.764634</td>\n",
              "    </tr>\n",
              "    <tr>\n",
              "      <th>8</th>\n",
              "      <td>79.457646</td>\n",
              "      <td>73.285341</td>\n",
              "    </tr>\n",
              "    <tr>\n",
              "      <th>9</th>\n",
              "      <td>45.344909</td>\n",
              "      <td>18.859865</td>\n",
              "    </tr>\n",
              "    <tr>\n",
              "      <th>10</th>\n",
              "      <td>77.767132</td>\n",
              "      <td>72.946609</td>\n",
              "    </tr>\n",
              "  </tbody>\n",
              "</table>\n",
              "</div>"
            ],
            "text/plain": [
              "             x           y\n",
              "0     0.000000  -51.000000\n",
              "1    25.000000  -12.000000\n",
              "2   117.583220  134.907414\n",
              "3   108.922466  134.085180\n",
              "5    96.839983  114.530638\n",
              "6    51.775940   31.376437\n",
              "7    35.016737    8.764634\n",
              "8    79.457646   73.285341\n",
              "9    45.344909   18.859865\n",
              "10   77.767132   72.946609"
            ]
          },
          "execution_count": 45,
          "metadata": {},
          "output_type": "execute_result"
        }
      ],
      "source": [
        "# Puedes eliminar filas enteras si contienen nans 'any' o 'all'\n",
        "# ten en cuenta que no hay una fila con el índice 4\n",
        "df.loc[0:10,:].dropna(how = 'any')\n",
        "#‘any’ : If any NA values are present, drop that row or column.\n",
        "#‘all’ : If all values are NA, drop that row or column."
      ]
    },
    {
      "cell_type": "code",
      "execution_count": null,
      "id": "6e053c4e",
      "metadata": {
        "id": "6e053c4e",
        "outputId": "316bf5c5-a97d-4d9a-bea2-3648fa19a895"
      },
      "outputs": [
        {
          "data": {
            "text/plain": [
              "0     -51.000000\n",
              "1     -12.000000\n",
              "2     134.907414\n",
              "3     134.085180\n",
              "4            NaN\n",
              "5     114.530638\n",
              "6      31.376437\n",
              "7       8.764634\n",
              "8      73.285341\n",
              "9      18.859865\n",
              "10     72.946609\n",
              "Name: y, dtype: float64"
            ]
          },
          "execution_count": 46,
          "metadata": {},
          "output_type": "execute_result"
        }
      ],
      "source": [
        "import pandas as pd\n",
        "filename = 'data/linear.csv'\n",
        "df = pd.read_csv(filename)\n",
        "df.head()\n",
        "# Mirando dónde se encuentran los datos faltantes\n",
        "df.loc[0:10, 'y']"
      ]
    },
    {
      "cell_type": "code",
      "execution_count": null,
      "id": "21cfefc7",
      "metadata": {
        "id": "21cfefc7",
        "outputId": "aab426ef-928e-4290-8036-96a95eb45034"
      },
      "outputs": [
        {
          "data": {
            "text/plain": [
              "0     -51.000000\n",
              "1     -12.000000\n",
              "2     134.907414\n",
              "3     134.085180\n",
              "4     124.307909\n",
              "5     114.530638\n",
              "6      31.376437\n",
              "7       8.764634\n",
              "8      73.285341\n",
              "9      18.859865\n",
              "10     72.946609\n",
              "Name: y, dtype: float64"
            ]
          },
          "execution_count": 47,
          "metadata": {},
          "output_type": "execute_result"
        }
      ],
      "source": [
        "# Opción1: Completar el nan con un cero puede ser una mala idea\n",
        "# df.loc[0:10, 'y'].fillna(0)\n",
        "# Opción 2: valor back fill (relleno hacia atrás)\n",
        "# df.loc[0:10, 'y'].fillna(method='bfill')\n",
        "# Opción 3: valor forward fill (relleno hacia adelante)\n",
        "# df.loc[0:10, 'y'].fillna(method='ffill')\n",
        "# interpolación lineal (relleno de valores)\n",
        "df = df.loc[0:10, 'y'].interpolate(method = 'linear')\n",
        "df"
      ]
    },
    {
      "cell_type": "markdown",
      "id": "95de0158",
      "metadata": {
        "id": "95de0158"
      },
      "source": [
        "## Conversión a otros tipos de datos"
      ]
    },
    {
      "cell_type": "code",
      "execution_count": null,
      "id": "45cf341e",
      "metadata": {
        "id": "45cf341e",
        "outputId": "d37d1908-d057-41c2-e073-0c7fb7473fec"
      },
      "outputs": [
        {
          "data": {
            "text/plain": [
              "array([-51.        , -12.        , 134.9074137 , 134.0851795 ,\n",
              "       124.30790855, 114.5306376 ,  31.37643731,   8.76463417,\n",
              "        73.28534128,  18.85986466,  72.9466086 ])"
            ]
          },
          "execution_count": 48,
          "metadata": {},
          "output_type": "execute_result"
        }
      ],
      "source": [
        "#df.to_numpy()\n",
        "# Approach 2\n",
        "df.values"
      ]
    },
    {
      "cell_type": "code",
      "execution_count": null,
      "id": "95e11d06",
      "metadata": {
        "id": "95e11d06",
        "outputId": "2e9cbee3-17dd-458f-d451-42dc051831d2"
      },
      "outputs": [
        {
          "data": {
            "text/plain": [
              "{0: -51.0,\n",
              " 1: -12.0,\n",
              " 2: 134.9074137,\n",
              " 3: 134.0851795,\n",
              " 4: 124.30790855000001,\n",
              " 5: 114.5306376,\n",
              " 6: 31.37643731,\n",
              " 7: 8.764634165,\n",
              " 8: 73.28534128,\n",
              " 9: 18.85986466,\n",
              " 10: 72.9466086}"
            ]
          },
          "execution_count": 49,
          "metadata": {},
          "output_type": "execute_result"
        }
      ],
      "source": [
        "# Puedes suprimir la salida en un Colab o Jupyter Notebook usando un ;\n",
        "df.to_dict()"
      ]
    },
    {
      "cell_type": "markdown",
      "id": "68895582",
      "metadata": {
        "id": "68895582"
      },
      "source": [
        "## Pandas: Exportar datos"
      ]
    },
    {
      "cell_type": "code",
      "execution_count": null,
      "id": "f05b4b0d",
      "metadata": {
        "id": "f05b4b0d",
        "outputId": "190ffcf4-e3a3-45d9-d083-c314d2ec9303"
      },
      "outputs": [
        {
          "data": {
            "text/html": [
              "<div>\n",
              "<style scoped>\n",
              "    .dataframe tbody tr th:only-of-type {\n",
              "        vertical-align: middle;\n",
              "    }\n",
              "\n",
              "    .dataframe tbody tr th {\n",
              "        vertical-align: top;\n",
              "    }\n",
              "\n",
              "    .dataframe thead th {\n",
              "        text-align: right;\n",
              "    }\n",
              "</style>\n",
              "<table border=\"1\" class=\"dataframe\">\n",
              "  <thead>\n",
              "    <tr style=\"text-align: right;\">\n",
              "      <th></th>\n",
              "      <th>Month</th>\n",
              "      <th>Starting Balance</th>\n",
              "      <th>Repayment</th>\n",
              "      <th>Interest Paid</th>\n",
              "      <th>Principal Paid</th>\n",
              "      <th>New Balance</th>\n",
              "      <th>Mortgage Name</th>\n",
              "      <th>Interest Rate</th>\n",
              "    </tr>\n",
              "  </thead>\n",
              "  <tbody>\n",
              "    <tr>\n",
              "      <th>0</th>\n",
              "      <td>1</td>\n",
              "      <td>400000.00</td>\n",
              "      <td>1686.42</td>\n",
              "      <td>1000.00</td>\n",
              "      <td>686.42</td>\n",
              "      <td>399313.58</td>\n",
              "      <td>30 Year</td>\n",
              "      <td>0.03</td>\n",
              "    </tr>\n",
              "    <tr>\n",
              "      <th>1</th>\n",
              "      <td>2</td>\n",
              "      <td>399313.58</td>\n",
              "      <td>1686.42</td>\n",
              "      <td>998.28</td>\n",
              "      <td>688.14</td>\n",
              "      <td>398625.44</td>\n",
              "      <td>30 Year</td>\n",
              "      <td>0.03</td>\n",
              "    </tr>\n",
              "    <tr>\n",
              "      <th>2</th>\n",
              "      <td>3</td>\n",
              "      <td>398625.44</td>\n",
              "      <td>1686.42</td>\n",
              "      <td>996.56</td>\n",
              "      <td>689.86</td>\n",
              "      <td>397935.58</td>\n",
              "      <td>30 Year</td>\n",
              "      <td>0.03</td>\n",
              "    </tr>\n",
              "    <tr>\n",
              "      <th>3</th>\n",
              "      <td>4</td>\n",
              "      <td>397935.58</td>\n",
              "      <td>1686.42</td>\n",
              "      <td>994.83</td>\n",
              "      <td>691.59</td>\n",
              "      <td>397243.99</td>\n",
              "      <td>30 Year</td>\n",
              "      <td>0.03</td>\n",
              "    </tr>\n",
              "    <tr>\n",
              "      <th>4</th>\n",
              "      <td>5</td>\n",
              "      <td>397243.99</td>\n",
              "      <td>1686.42</td>\n",
              "      <td>993.10</td>\n",
              "      <td>693.32</td>\n",
              "      <td>396550.67</td>\n",
              "      <td>30 Year</td>\n",
              "      <td>0.03</td>\n",
              "    </tr>\n",
              "  </tbody>\n",
              "</table>\n",
              "</div>"
            ],
            "text/plain": [
              "   Month  Starting Balance  Repayment  Interest Paid  Principal Paid  \\\n",
              "0      1         400000.00    1686.42        1000.00          686.42   \n",
              "1      2         399313.58    1686.42         998.28          688.14   \n",
              "2      3         398625.44    1686.42         996.56          689.86   \n",
              "3      4         397935.58    1686.42         994.83          691.59   \n",
              "4      5         397243.99    1686.42         993.10          693.32   \n",
              "\n",
              "   New Balance Mortgage Name  Interest Rate  \n",
              "0    399313.58       30 Year           0.03  \n",
              "1    398625.44       30 Year           0.03  \n",
              "2    397935.58       30 Year           0.03  \n",
              "3    397243.99       30 Year           0.03  \n",
              "4    396550.67       30 Year           0.03  "
            ]
          },
          "execution_count": 50,
          "metadata": {},
          "output_type": "execute_result"
        }
      ],
      "source": [
        "filename = \"https://raw.githubusercontent.com/fralfaro/CodingDojo-DataScience/main/docs/2-Pandas/data/mortgages.csv\"\n",
        "df = pd.read_csv(filename)\n",
        "df.head()"
      ]
    },
    {
      "cell_type": "code",
      "execution_count": null,
      "id": "1d540b01",
      "metadata": {
        "id": "1d540b01",
        "outputId": "0c403201-cae3-4837-8551-1408aa4a21c1"
      },
      "outputs": [
        {
          "data": {
            "text/html": [
              "<div>\n",
              "<style scoped>\n",
              "    .dataframe tbody tr th:only-of-type {\n",
              "        vertical-align: middle;\n",
              "    }\n",
              "\n",
              "    .dataframe tbody tr th {\n",
              "        vertical-align: top;\n",
              "    }\n",
              "\n",
              "    .dataframe thead th {\n",
              "        text-align: right;\n",
              "    }\n",
              "</style>\n",
              "<table border=\"1\" class=\"dataframe\">\n",
              "  <thead>\n",
              "    <tr style=\"text-align: right;\">\n",
              "      <th></th>\n",
              "      <th>Month</th>\n",
              "      <th>Starting Balance</th>\n",
              "      <th>Repayment</th>\n",
              "      <th>Interest Paid</th>\n",
              "      <th>Principal Paid</th>\n",
              "      <th>New Balance</th>\n",
              "      <th>Mortgage Name</th>\n",
              "      <th>Interest Rate</th>\n",
              "    </tr>\n",
              "  </thead>\n",
              "  <tbody>\n",
              "    <tr>\n",
              "      <th>0</th>\n",
              "      <td>1</td>\n",
              "      <td>400000.00</td>\n",
              "      <td>1686.42</td>\n",
              "      <td>1000.00</td>\n",
              "      <td>686.42</td>\n",
              "      <td>399313.58</td>\n",
              "      <td>30 Year</td>\n",
              "      <td>0.03</td>\n",
              "    </tr>\n",
              "    <tr>\n",
              "      <th>1</th>\n",
              "      <td>2</td>\n",
              "      <td>399313.58</td>\n",
              "      <td>1686.42</td>\n",
              "      <td>998.28</td>\n",
              "      <td>688.14</td>\n",
              "      <td>398625.44</td>\n",
              "      <td>30 Year</td>\n",
              "      <td>0.03</td>\n",
              "    </tr>\n",
              "    <tr>\n",
              "      <th>2</th>\n",
              "      <td>3</td>\n",
              "      <td>398625.44</td>\n",
              "      <td>1686.42</td>\n",
              "      <td>996.56</td>\n",
              "      <td>689.86</td>\n",
              "      <td>397935.58</td>\n",
              "      <td>30 Year</td>\n",
              "      <td>0.03</td>\n",
              "    </tr>\n",
              "    <tr>\n",
              "      <th>3</th>\n",
              "      <td>4</td>\n",
              "      <td>397935.58</td>\n",
              "      <td>1686.42</td>\n",
              "      <td>994.83</td>\n",
              "      <td>691.59</td>\n",
              "      <td>397243.99</td>\n",
              "      <td>30 Year</td>\n",
              "      <td>0.03</td>\n",
              "    </tr>\n",
              "    <tr>\n",
              "      <th>4</th>\n",
              "      <td>5</td>\n",
              "      <td>397243.99</td>\n",
              "      <td>1686.42</td>\n",
              "      <td>993.10</td>\n",
              "      <td>693.32</td>\n",
              "      <td>396550.67</td>\n",
              "      <td>30 Year</td>\n",
              "      <td>0.03</td>\n",
              "    </tr>\n",
              "    <tr>\n",
              "      <th>...</th>\n",
              "      <td>...</td>\n",
              "      <td>...</td>\n",
              "      <td>...</td>\n",
              "      <td>...</td>\n",
              "      <td>...</td>\n",
              "      <td>...</td>\n",
              "      <td>...</td>\n",
              "      <td>...</td>\n",
              "    </tr>\n",
              "    <tr>\n",
              "      <th>355</th>\n",
              "      <td>356</td>\n",
              "      <td>8364.12</td>\n",
              "      <td>1686.42</td>\n",
              "      <td>20.91</td>\n",
              "      <td>1665.51</td>\n",
              "      <td>6698.61</td>\n",
              "      <td>30 Year</td>\n",
              "      <td>0.03</td>\n",
              "    </tr>\n",
              "    <tr>\n",
              "      <th>356</th>\n",
              "      <td>357</td>\n",
              "      <td>6698.61</td>\n",
              "      <td>1686.42</td>\n",
              "      <td>16.74</td>\n",
              "      <td>1669.68</td>\n",
              "      <td>5028.93</td>\n",
              "      <td>30 Year</td>\n",
              "      <td>0.03</td>\n",
              "    </tr>\n",
              "    <tr>\n",
              "      <th>357</th>\n",
              "      <td>358</td>\n",
              "      <td>5028.93</td>\n",
              "      <td>1686.42</td>\n",
              "      <td>12.57</td>\n",
              "      <td>1673.85</td>\n",
              "      <td>3355.08</td>\n",
              "      <td>30 Year</td>\n",
              "      <td>0.03</td>\n",
              "    </tr>\n",
              "    <tr>\n",
              "      <th>358</th>\n",
              "      <td>359</td>\n",
              "      <td>3355.08</td>\n",
              "      <td>1686.42</td>\n",
              "      <td>8.38</td>\n",
              "      <td>1678.04</td>\n",
              "      <td>1677.04</td>\n",
              "      <td>30 Year</td>\n",
              "      <td>0.03</td>\n",
              "    </tr>\n",
              "    <tr>\n",
              "      <th>359</th>\n",
              "      <td>360</td>\n",
              "      <td>1677.04</td>\n",
              "      <td>1686.42</td>\n",
              "      <td>4.19</td>\n",
              "      <td>1682.23</td>\n",
              "      <td>-5.19</td>\n",
              "      <td>30 Year</td>\n",
              "      <td>0.03</td>\n",
              "    </tr>\n",
              "  </tbody>\n",
              "</table>\n",
              "<p>360 rows × 8 columns</p>\n",
              "</div>"
            ],
            "text/plain": [
              "     Month  Starting Balance  Repayment  Interest Paid  Principal Paid  \\\n",
              "0        1         400000.00    1686.42        1000.00          686.42   \n",
              "1        2         399313.58    1686.42         998.28          688.14   \n",
              "2        3         398625.44    1686.42         996.56          689.86   \n",
              "3        4         397935.58    1686.42         994.83          691.59   \n",
              "4        5         397243.99    1686.42         993.10          693.32   \n",
              "..     ...               ...        ...            ...             ...   \n",
              "355    356           8364.12    1686.42          20.91         1665.51   \n",
              "356    357           6698.61    1686.42          16.74         1669.68   \n",
              "357    358           5028.93    1686.42          12.57         1673.85   \n",
              "358    359           3355.08    1686.42           8.38         1678.04   \n",
              "359    360           1677.04    1686.42           4.19         1682.23   \n",
              "\n",
              "     New Balance Mortgage Name  Interest Rate  \n",
              "0      399313.58       30 Year           0.03  \n",
              "1      398625.44       30 Year           0.03  \n",
              "2      397935.58       30 Year           0.03  \n",
              "3      397243.99       30 Year           0.03  \n",
              "4      396550.67       30 Year           0.03  \n",
              "..           ...           ...            ...  \n",
              "355      6698.61       30 Year           0.03  \n",
              "356      5028.93       30 Year           0.03  \n",
              "357      3355.08       30 Year           0.03  \n",
              "358      1677.04       30 Year           0.03  \n",
              "359        -5.19       30 Year           0.03  \n",
              "\n",
              "[360 rows x 8 columns]"
            ]
          },
          "execution_count": 51,
          "metadata": {},
          "output_type": "execute_result"
        }
      ],
      "source": [
        "# Filtros/procesado de datos\n",
        "mortgage_filter = df['Mortgage Name']=='30 Year'\n",
        "interest_filter = df['Interest Rate']==0.03\n",
        "df = df.loc[mortgage_filter & interest_filter, :]\n",
        "df"
      ]
    },
    {
      "cell_type": "code",
      "execution_count": null,
      "id": "0926d023",
      "metadata": {
        "id": "0926d023"
      },
      "outputs": [],
      "source": [
        "# Exportar DataFrame a un archivo csv\n",
        "df.to_csv(path_or_buf='https://raw.githubusercontent.com/fralfaro/CodingDojo-DataScience/main/docs/2-Pandas/data/processed/oneMortgage.csv',index = False)\n",
        "# Exportar DataFrame a un archivo de Excel\n",
        "df.to_excel(excel_writer='https://raw.githubusercontent.com/fralfaro/CodingDojo-DataScience/main/docs/2-Pandas/data/processed/oneMortgage.xlsx',index=False)\n",
        "# Archivos pueden ser descargados desde Google Drive/Colab"
      ]
    },
    {
      "cell_type": "markdown",
      "id": "57c4a043",
      "metadata": {
        "id": "57c4a043"
      },
      "source": [
        "## Pandas: función apply\n",
        "```.apply()``` permite aplicar una función a todos los elementos de un DataFrame pandas. "
      ]
    },
    {
      "cell_type": "code",
      "execution_count": null,
      "id": "63023b17",
      "metadata": {
        "id": "63023b17",
        "outputId": "13189f4f-76bc-46d2-c375-c2a613f3e130"
      },
      "outputs": [
        {
          "data": {
            "text/html": [
              "<div>\n",
              "<style scoped>\n",
              "    .dataframe tbody tr th:only-of-type {\n",
              "        vertical-align: middle;\n",
              "    }\n",
              "\n",
              "    .dataframe tbody tr th {\n",
              "        vertical-align: top;\n",
              "    }\n",
              "\n",
              "    .dataframe thead th {\n",
              "        text-align: right;\n",
              "    }\n",
              "</style>\n",
              "<table border=\"1\" class=\"dataframe\">\n",
              "  <thead>\n",
              "    <tr style=\"text-align: right;\">\n",
              "      <th></th>\n",
              "      <th>A</th>\n",
              "      <th>B</th>\n",
              "    </tr>\n",
              "  </thead>\n",
              "  <tbody>\n",
              "    <tr>\n",
              "      <th>0</th>\n",
              "      <td>1</td>\n",
              "      <td>2</td>\n",
              "    </tr>\n",
              "    <tr>\n",
              "      <th>1</th>\n",
              "      <td>3</td>\n",
              "      <td>4</td>\n",
              "    </tr>\n",
              "    <tr>\n",
              "      <th>2</th>\n",
              "      <td>5</td>\n",
              "      <td>6</td>\n",
              "    </tr>\n",
              "  </tbody>\n",
              "</table>\n",
              "</div>"
            ],
            "text/plain": [
              "   A  B\n",
              "0  1  2\n",
              "1  3  4\n",
              "2  5  6"
            ]
          },
          "execution_count": 53,
          "metadata": {},
          "output_type": "execute_result"
        }
      ],
      "source": [
        "# Ej. Queremos calcular el cuadrado (elevado a  2) de todos \n",
        "# los elementos del siguiente DataFrame\n",
        "df = pd.DataFrame([[1, 2],[3, 4], [5, 6]], columns=['A', 'B'])\n",
        "df"
      ]
    },
    {
      "cell_type": "code",
      "execution_count": null,
      "id": "cc8222d2",
      "metadata": {
        "id": "cc8222d2",
        "outputId": "b5240739-59ff-4100-fc60-ebdcfc3017bb"
      },
      "outputs": [
        {
          "name": "stdout",
          "output_type": "stream",
          "text": [
            "El resultado es 3\n",
            "Resultado de operaciones matemáticas: (3, -1, 2, 0.5)\n"
          ]
        }
      ],
      "source": [
        "# Inciso de funciones. Una función es un conjunto de instrucciones encapsuladas que pueden\n",
        "# ser llamadas en cualquier momento (como una caja negra)\n",
        "def suma(a, b):\n",
        "    return a + b\n",
        "\n",
        "x = suma(1, 2)\n",
        "print(\"El resultado es\", x)\n",
        "\n",
        "\n",
        "def op_mat(a, b):\n",
        "    x1 = a + b\n",
        "    x2 = a - b\n",
        "    x3 = a * b\n",
        "    x4 = a/b\n",
        "    return x1, x2, x3, x4\n",
        "\n",
        "print(\"Resultado de operaciones matemáticas:\",op_mat(1, 2))"
      ]
    },
    {
      "cell_type": "code",
      "execution_count": null,
      "id": "4c7b9c25",
      "metadata": {
        "id": "4c7b9c25",
        "outputId": "8169b462-4b46-4ea2-f4ce-3134081d73ac"
      },
      "outputs": [
        {
          "data": {
            "text/plain": [
              "16"
            ]
          },
          "execution_count": 55,
          "metadata": {},
          "output_type": "execute_result"
        }
      ],
      "source": [
        "# Creamos la función pow2 que calcula el cuadrado de un número\n",
        "def pow2(n): # Función que retorna n elevado a 2\n",
        "    return n**2\n",
        "\n",
        "# Ejemplo de uso\n",
        "pow2(4) # Resultado 16"
      ]
    },
    {
      "cell_type": "code",
      "execution_count": null,
      "id": "ebdd2aff",
      "metadata": {
        "id": "ebdd2aff",
        "outputId": "a41887eb-7eba-4148-c776-0ad6c9d031c8"
      },
      "outputs": [
        {
          "data": {
            "text/html": [
              "<div>\n",
              "<style scoped>\n",
              "    .dataframe tbody tr th:only-of-type {\n",
              "        vertical-align: middle;\n",
              "    }\n",
              "\n",
              "    .dataframe tbody tr th {\n",
              "        vertical-align: top;\n",
              "    }\n",
              "\n",
              "    .dataframe thead th {\n",
              "        text-align: right;\n",
              "    }\n",
              "</style>\n",
              "<table border=\"1\" class=\"dataframe\">\n",
              "  <thead>\n",
              "    <tr style=\"text-align: right;\">\n",
              "      <th></th>\n",
              "      <th>A</th>\n",
              "      <th>B</th>\n",
              "    </tr>\n",
              "  </thead>\n",
              "  <tbody>\n",
              "    <tr>\n",
              "      <th>0</th>\n",
              "      <td>1</td>\n",
              "      <td>4</td>\n",
              "    </tr>\n",
              "    <tr>\n",
              "      <th>1</th>\n",
              "      <td>9</td>\n",
              "      <td>16</td>\n",
              "    </tr>\n",
              "    <tr>\n",
              "      <th>2</th>\n",
              "      <td>25</td>\n",
              "      <td>36</td>\n",
              "    </tr>\n",
              "  </tbody>\n",
              "</table>\n",
              "</div>"
            ],
            "text/plain": [
              "    A   B\n",
              "0   1   4\n",
              "1   9  16\n",
              "2  25  36"
            ]
          },
          "execution_count": 56,
          "metadata": {},
          "output_type": "execute_result"
        }
      ],
      "source": [
        "# Aplicaremos esta función pow2 a todos los elementos de\n",
        "# nuestro dataframe. Para ello, entregamos la función\n",
        "# pow2 como entrada a .apply\n",
        "df.apply(pow2)"
      ]
    },
    {
      "cell_type": "markdown",
      "id": "56c8e50a",
      "metadata": {
        "id": "56c8e50a"
      },
      "source": [
        "## Métodos agregados\n",
        "\n",
        "- Se aplican a todos los datos de un DataFrame/Serie"
      ]
    },
    {
      "cell_type": "code",
      "execution_count": null,
      "id": "3f75c320",
      "metadata": {
        "id": "3f75c320",
        "outputId": "4cc151d3-8096-4d17-c655-6c4faa5c585e"
      },
      "outputs": [
        {
          "data": {
            "text/plain": [
              "A     9\n",
              "B    12\n",
              "dtype: int64"
            ]
          },
          "execution_count": 57,
          "metadata": {},
          "output_type": "execute_result"
        }
      ],
      "source": [
        "# sumar todos los valores en todas las columnas\n",
        "df.sum()"
      ]
    },
    {
      "cell_type": "markdown",
      "id": "d2d6f8b9",
      "metadata": {
        "id": "d2d6f8b9"
      },
      "source": [
        "## Group by"
      ]
    },
    {
      "cell_type": "code",
      "execution_count": null,
      "id": "4cf9ff54",
      "metadata": {
        "id": "4cf9ff54",
        "outputId": "aed3b27d-04a4-480c-9e07-8c7fc0839607"
      },
      "outputs": [
        {
          "data": {
            "text/html": [
              "<div>\n",
              "<style scoped>\n",
              "    .dataframe tbody tr th:only-of-type {\n",
              "        vertical-align: middle;\n",
              "    }\n",
              "\n",
              "    .dataframe tbody tr th {\n",
              "        vertical-align: top;\n",
              "    }\n",
              "\n",
              "    .dataframe thead th {\n",
              "        text-align: right;\n",
              "    }\n",
              "</style>\n",
              "<table border=\"1\" class=\"dataframe\">\n",
              "  <thead>\n",
              "    <tr style=\"text-align: right;\">\n",
              "      <th></th>\n",
              "      <th>key</th>\n",
              "      <th>data</th>\n",
              "    </tr>\n",
              "  </thead>\n",
              "  <tbody>\n",
              "    <tr>\n",
              "      <th>0</th>\n",
              "      <td>Seattle</td>\n",
              "      <td>1</td>\n",
              "    </tr>\n",
              "    <tr>\n",
              "      <th>1</th>\n",
              "      <td>Kirkland</td>\n",
              "      <td>2</td>\n",
              "    </tr>\n",
              "    <tr>\n",
              "      <th>2</th>\n",
              "      <td>Redmond</td>\n",
              "      <td>3</td>\n",
              "    </tr>\n",
              "    <tr>\n",
              "      <th>3</th>\n",
              "      <td>Seattle</td>\n",
              "      <td>4</td>\n",
              "    </tr>\n",
              "    <tr>\n",
              "      <th>4</th>\n",
              "      <td>Kirkland</td>\n",
              "      <td>5</td>\n",
              "    </tr>\n",
              "    <tr>\n",
              "      <th>5</th>\n",
              "      <td>Redmond</td>\n",
              "      <td>6</td>\n",
              "    </tr>\n",
              "  </tbody>\n",
              "</table>\n",
              "</div>"
            ],
            "text/plain": [
              "        key  data\n",
              "0   Seattle     1\n",
              "1  Kirkland     2\n",
              "2   Redmond     3\n",
              "3   Seattle     4\n",
              "4  Kirkland     5\n",
              "5   Redmond     6"
            ]
          },
          "execution_count": 58,
          "metadata": {},
          "output_type": "execute_result"
        }
      ],
      "source": [
        "import pandas as pd\n",
        "df_cities = pd.DataFrame(data = [['Seattle', 1],\n",
        "                          ['Kirkland', 2],\n",
        "                          ['Redmond', 3],\n",
        "                          ['Seattle', 4],\n",
        "                          ['Kirkland', 5],\n",
        "                          ['Redmond', 6]], columns = ['key', 'data'])\n",
        "df_cities"
      ]
    },
    {
      "cell_type": "code",
      "execution_count": null,
      "id": "516475b9",
      "metadata": {
        "id": "516475b9",
        "outputId": "ec192184-0b92-4aa8-ca8e-1f938470e160"
      },
      "outputs": [
        {
          "name": "stdout",
          "output_type": "stream",
          "text": [
            "<class 'pandas.core.frame.DataFrame'>\n",
            "RangeIndex: 6 entries, 0 to 5\n",
            "Data columns (total 2 columns):\n",
            " #   Column  Non-Null Count  Dtype \n",
            "---  ------  --------------  ----- \n",
            " 0   key     6 non-null      object\n",
            " 1   data    6 non-null      int64 \n",
            "dtypes: int64(1), object(1)\n",
            "memory usage: 224.0+ bytes\n"
          ]
        }
      ],
      "source": [
        "df_cities.info()"
      ]
    },
    {
      "cell_type": "code",
      "execution_count": null,
      "id": "29e2a300",
      "metadata": {
        "id": "29e2a300",
        "outputId": "b1f1950f-82be-450d-9df0-b05db7fa84a6"
      },
      "outputs": [
        {
          "data": {
            "text/html": [
              "<div>\n",
              "<style scoped>\n",
              "    .dataframe tbody tr th:only-of-type {\n",
              "        vertical-align: middle;\n",
              "    }\n",
              "\n",
              "    .dataframe tbody tr th {\n",
              "        vertical-align: top;\n",
              "    }\n",
              "\n",
              "    .dataframe thead th {\n",
              "        text-align: right;\n",
              "    }\n",
              "</style>\n",
              "<table border=\"1\" class=\"dataframe\">\n",
              "  <thead>\n",
              "    <tr style=\"text-align: right;\">\n",
              "      <th></th>\n",
              "      <th>data</th>\n",
              "    </tr>\n",
              "    <tr>\n",
              "      <th>key</th>\n",
              "      <th></th>\n",
              "    </tr>\n",
              "  </thead>\n",
              "  <tbody>\n",
              "    <tr>\n",
              "      <th>Kirkland</th>\n",
              "      <td>7</td>\n",
              "    </tr>\n",
              "    <tr>\n",
              "      <th>Redmond</th>\n",
              "      <td>9</td>\n",
              "    </tr>\n",
              "    <tr>\n",
              "      <th>Seattle</th>\n",
              "      <td>5</td>\n",
              "    </tr>\n",
              "  </tbody>\n",
              "</table>\n",
              "</div>"
            ],
            "text/plain": [
              "          data\n",
              "key           \n",
              "Kirkland     7\n",
              "Redmond      9\n",
              "Seattle      5"
            ]
          },
          "execution_count": 60,
          "metadata": {},
          "output_type": "execute_result"
        }
      ],
      "source": [
        "# Sumamos todos los valores agrupados por llave 'key'\n",
        "df_cities.groupby(['key']).sum()"
      ]
    },
    {
      "cell_type": "code",
      "execution_count": null,
      "id": "17ffaf54",
      "metadata": {
        "id": "17ffaf54",
        "outputId": "cd7ac382-dc9f-4ae8-9a9e-8de8a17af687"
      },
      "outputs": [
        {
          "data": {
            "text/html": [
              "<div>\n",
              "<style scoped>\n",
              "    .dataframe tbody tr th:only-of-type {\n",
              "        vertical-align: middle;\n",
              "    }\n",
              "\n",
              "    .dataframe tbody tr th {\n",
              "        vertical-align: top;\n",
              "    }\n",
              "\n",
              "    .dataframe thead th {\n",
              "        text-align: right;\n",
              "    }\n",
              "</style>\n",
              "<table border=\"1\" class=\"dataframe\">\n",
              "  <thead>\n",
              "    <tr style=\"text-align: right;\">\n",
              "      <th></th>\n",
              "      <th>Month</th>\n",
              "      <th>Starting Balance</th>\n",
              "      <th>Repayment</th>\n",
              "      <th>Interest Paid</th>\n",
              "      <th>Principal Paid</th>\n",
              "      <th>New Balance</th>\n",
              "      <th>Mortgage Name</th>\n",
              "      <th>Interest Rate</th>\n",
              "    </tr>\n",
              "  </thead>\n",
              "  <tbody>\n",
              "    <tr>\n",
              "      <th>0</th>\n",
              "      <td>1</td>\n",
              "      <td>400000.00</td>\n",
              "      <td>1686.42</td>\n",
              "      <td>1000.00</td>\n",
              "      <td>686.42</td>\n",
              "      <td>399313.58</td>\n",
              "      <td>30 Year</td>\n",
              "      <td>0.03</td>\n",
              "    </tr>\n",
              "    <tr>\n",
              "      <th>1</th>\n",
              "      <td>2</td>\n",
              "      <td>399313.58</td>\n",
              "      <td>1686.42</td>\n",
              "      <td>998.28</td>\n",
              "      <td>688.14</td>\n",
              "      <td>398625.44</td>\n",
              "      <td>30 Year</td>\n",
              "      <td>0.03</td>\n",
              "    </tr>\n",
              "    <tr>\n",
              "      <th>2</th>\n",
              "      <td>3</td>\n",
              "      <td>398625.44</td>\n",
              "      <td>1686.42</td>\n",
              "      <td>996.56</td>\n",
              "      <td>689.86</td>\n",
              "      <td>397935.58</td>\n",
              "      <td>30 Year</td>\n",
              "      <td>0.03</td>\n",
              "    </tr>\n",
              "    <tr>\n",
              "      <th>3</th>\n",
              "      <td>4</td>\n",
              "      <td>397935.58</td>\n",
              "      <td>1686.42</td>\n",
              "      <td>994.83</td>\n",
              "      <td>691.59</td>\n",
              "      <td>397243.99</td>\n",
              "      <td>30 Year</td>\n",
              "      <td>0.03</td>\n",
              "    </tr>\n",
              "    <tr>\n",
              "      <th>4</th>\n",
              "      <td>5</td>\n",
              "      <td>397243.99</td>\n",
              "      <td>1686.42</td>\n",
              "      <td>993.10</td>\n",
              "      <td>693.32</td>\n",
              "      <td>396550.67</td>\n",
              "      <td>30 Year</td>\n",
              "      <td>0.03</td>\n",
              "    </tr>\n",
              "  </tbody>\n",
              "</table>\n",
              "</div>"
            ],
            "text/plain": [
              "   Month  Starting Balance  Repayment  Interest Paid  Principal Paid  \\\n",
              "0      1         400000.00    1686.42        1000.00          686.42   \n",
              "1      2         399313.58    1686.42         998.28          688.14   \n",
              "2      3         398625.44    1686.42         996.56          689.86   \n",
              "3      4         397935.58    1686.42         994.83          691.59   \n",
              "4      5         397243.99    1686.42         993.10          693.32   \n",
              "\n",
              "   New Balance Mortgage Name  Interest Rate  \n",
              "0    399313.58       30 Year           0.03  \n",
              "1    398625.44       30 Year           0.03  \n",
              "2    397935.58       30 Year           0.03  \n",
              "3    397243.99       30 Year           0.03  \n",
              "4    396550.67       30 Year           0.03  "
            ]
          },
          "execution_count": 61,
          "metadata": {},
          "output_type": "execute_result"
        }
      ],
      "source": [
        "import pandas as pd\n",
        "filename = \"https://raw.githubusercontent.com/fralfaro/CodingDojo-DataScience/main/docs/2-Pandas/data/mortgages.csv\"\n",
        "df = pd.read_csv(filename)\n",
        "df.head()"
      ]
    },
    {
      "cell_type": "code",
      "execution_count": null,
      "id": "cf8de546",
      "metadata": {
        "id": "cf8de546",
        "outputId": "91504dd5-100d-4612-8fe1-f8a9d3cc036b"
      },
      "outputs": [
        {
          "data": {
            "text/html": [
              "<div>\n",
              "<style scoped>\n",
              "    .dataframe tbody tr th:only-of-type {\n",
              "        vertical-align: middle;\n",
              "    }\n",
              "\n",
              "    .dataframe tbody tr th {\n",
              "        vertical-align: top;\n",
              "    }\n",
              "\n",
              "    .dataframe thead th {\n",
              "        text-align: right;\n",
              "    }\n",
              "</style>\n",
              "<table border=\"1\" class=\"dataframe\">\n",
              "  <thead>\n",
              "    <tr style=\"text-align: right;\">\n",
              "      <th></th>\n",
              "      <th></th>\n",
              "      <th>Interest Paid</th>\n",
              "      <th>Repayment</th>\n",
              "    </tr>\n",
              "    <tr>\n",
              "      <th>Mortgage Name</th>\n",
              "      <th>Interest Rate</th>\n",
              "      <th></th>\n",
              "      <th></th>\n",
              "    </tr>\n",
              "  </thead>\n",
              "  <tbody>\n",
              "    <tr>\n",
              "      <th rowspan=\"2\" valign=\"top\">15 Year</th>\n",
              "      <th>0.03</th>\n",
              "      <td>97217.42</td>\n",
              "      <td>497219.4</td>\n",
              "    </tr>\n",
              "    <tr>\n",
              "      <th>0.05</th>\n",
              "      <td>169370.43</td>\n",
              "      <td>569370.6</td>\n",
              "    </tr>\n",
              "    <tr>\n",
              "      <th rowspan=\"2\" valign=\"top\">30 Year</th>\n",
              "      <th>0.03</th>\n",
              "      <td>207106.01</td>\n",
              "      <td>607111.2</td>\n",
              "    </tr>\n",
              "    <tr>\n",
              "      <th>0.05</th>\n",
              "      <td>373017.23</td>\n",
              "      <td>773024.4</td>\n",
              "    </tr>\n",
              "  </tbody>\n",
              "</table>\n",
              "</div>"
            ],
            "text/plain": [
              "                             Interest Paid  Repayment\n",
              "Mortgage Name Interest Rate                          \n",
              "15 Year       0.03                97217.42   497219.4\n",
              "              0.05               169370.43   569370.6\n",
              "30 Year       0.03               207106.01   607111.2\n",
              "              0.05               373017.23   773024.4"
            ]
          },
          "execution_count": 62,
          "metadata": {},
          "output_type": "execute_result"
        }
      ],
      "source": [
        "df.groupby(['Mortgage Name', 'Interest Rate'])[['Interest Paid', 'Repayment']].sum()"
      ]
    },
    {
      "cell_type": "markdown",
      "id": "25883398",
      "metadata": {
        "id": "25883398"
      },
      "source": [
        "## Actividad 2"
      ]
    },
    {
      "cell_type": "markdown",
      "id": "ea127ca0",
      "metadata": {
        "id": "ea127ca0"
      },
      "source": [
        "El fichero [titanic.csv](https://aprendeconalf.es/docencia/python/ejercicios/soluciones/pandas/titanic.csv) contiene información sobre los pasajeros del Titanic. Escribir un programa con los siguientes requisitos:\n",
        "\n",
        "1. Generar un DataFrame con los datos del fichero.\n",
        "2. Mostrar por pantalla las dimensiones del DataFrame, el número de datos que contiene, los nombres de sus columnas y filas, los tipos de datos de las columnas, las 10 primeras filas y las 10 últimas filas\n",
        "3. Mostrar por pantalla los datos del pasajero con identificador 148.\n",
        "4. Mostrar por pantalla las filas pares del DataFrame.\n",
        "5. Mostrar por pantalla los nombres de las personas que iban en primera clase ordenadas alfabéticamente.\n",
        "6. Mostrar por pantalla el porcentaje de personas que sobrevivieron y murieron.\n",
        "7. Mostrar por pantalla el porcentaje de personas que sobrevivieron en cada clase.\n",
        "8. Eliminar del DataFrame los pasajeros con edad desconocida.\n",
        "9. Mostrar por pantalla la edad media de las mujeres que viajaban en cada clase.\n",
        "10. Añadir una nueva columna booleana para ver si el pasajero era menor de edad o no.\n",
        "11. Mostrar por pantalla el porcentaje de menores y mayores de edad que sobrevivieron en cada clase.\n",
        "\n",
        "> **Fuente**: https://aprendeconalf.es/docencia/python/ejercicios/pandas/"
      ]
    },
    {
      "cell_type": "code",
      "execution_count": null,
      "id": "33b42a99",
      "metadata": {
        "id": "33b42a99"
      },
      "outputs": [],
      "source": [
        "# solucion\n"
      ]
    }
  ],
  "metadata": {
    "kernelspec": {
      "display_name": "Python 3 (ipykernel)",
      "language": "python",
      "name": "python3"
    },
    "language_info": {
      "codemirror_mode": {
        "name": "ipython",
        "version": 3
      },
      "file_extension": ".py",
      "mimetype": "text/x-python",
      "name": "python",
      "nbconvert_exporter": "python",
      "pygments_lexer": "ipython3",
      "version": "3.8.10"
    },
    "vscode": {
      "interpreter": {
        "hash": "8bb49ada1c49af35e8d68aa4f21a32c70a905f8c89742e7f0056ae28466ec816"
      }
    },
    "colab": {
      "provenance": []
    }
  },
  "nbformat": 4,
  "nbformat_minor": 5
}