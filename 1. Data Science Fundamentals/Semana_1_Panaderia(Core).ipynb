{
  "cells": [
    {
      "cell_type": "markdown",
      "metadata": {
        "id": "view-in-github",
        "colab_type": "text"
      },
      "source": [
        "<a href=\"https://colab.research.google.com/github/FelipeGonzalezGarrido/Coding-Dojo/blob/main/1.%20Data%20Science%20Fundamentals/Semana_1_Panaderia(Core).ipynb\" target=\"_parent\"><img src=\"https://colab.research.google.com/assets/colab-badge.svg\" alt=\"Open In Colab\"/></a>"
      ]
    },
    {
      "cell_type": "markdown",
      "metadata": {
        "id": "j6tUQdy1HF4F"
      },
      "source": [
        "# Introduccion a numpy\n",
        "\n",
        "## Tarea\n",
        "\n",
        "se busca vender pasteles y recaudar $200\n"
      ]
    },
    {
      "cell_type": "markdown",
      "metadata": {
        "id": "4lwDi5d1HF4M"
      },
      "source": [
        "Lista de precios\n",
        "\n",
        "brownies: 2\n",
        "\n",
        "galletas: 1\n",
        "\n",
        "pasteles: 10"
      ]
    },
    {
      "cell_type": "code",
      "execution_count": 1,
      "metadata": {
        "colab": {
          "base_uri": "https://localhost:8080/"
        },
        "id": "p6v4YY_QHF4N",
        "outputId": "379320f1-bd42-4770-8fe6-5f03ddc0612d"
      },
      "outputs": [
        {
          "output_type": "execute_result",
          "data": {
            "text/plain": [
              "list"
            ]
          },
          "metadata": {},
          "execution_count": 1
        }
      ],
      "source": [
        "# Lista de precios\n",
        "price = [2,1,10]\n",
        "type(price)\n"
      ]
    },
    {
      "cell_type": "code",
      "execution_count": 2,
      "metadata": {
        "colab": {
          "base_uri": "https://localhost:8080/"
        },
        "id": "tLG8OYbhHF4P",
        "outputId": "7a4c9c8e-18c4-4ca1-bc67-3f72a5475c34"
      },
      "outputs": [
        {
          "output_type": "execute_result",
          "data": {
            "text/plain": [
              "list"
            ]
          },
          "metadata": {},
          "execution_count": 2
        }
      ],
      "source": [
        "#Lista de cantidad\n",
        "quantity_sold = [17,40,1]\n",
        "type(quantity_sold)"
      ]
    },
    {
      "cell_type": "markdown",
      "metadata": {
        "id": "s8H6j4N2HF4P"
      },
      "source": [
        "Para buscar el dinero recaudado se puede multiplicar cada tipo de elemento"
      ]
    },
    {
      "cell_type": "code",
      "execution_count": 3,
      "metadata": {
        "id": "GpmDxvcwHF4Q"
      },
      "outputs": [],
      "source": [
        "productos = [\"brownies\",\"galletas\",\"pasteles\"]"
      ]
    },
    {
      "cell_type": "code",
      "execution_count": 4,
      "metadata": {
        "colab": {
          "base_uri": "https://localhost:8080/"
        },
        "id": "KRgdQZBIHF4Q",
        "outputId": "7c601a4a-fc79-47c0-81ae-e2cd99ebf20c"
      },
      "outputs": [
        {
          "output_type": "stream",
          "name": "stdout",
          "text": [
            "el valor de brownies vendidos es: $ 34\n",
            "el valor de galletas vendidos es: $ 40\n",
            "el valor de pasteles vendidos es: $ 10\n"
          ]
        }
      ],
      "source": [
        "for x in range(len(price)):\n",
        "    print(f\"el valor de {productos[x]} vendidos es: $ {price[x] * quantity_sold[x]}\")\n"
      ]
    },
    {
      "cell_type": "markdown",
      "metadata": {
        "id": "m5aAh1nyHF4R"
      },
      "source": [
        "## Otra forma de hacer esto es importando Numpy"
      ]
    },
    {
      "cell_type": "code",
      "execution_count": null,
      "metadata": {
        "id": "xEL41ouzHF4R"
      },
      "outputs": [],
      "source": [
        "import numpy as np"
      ]
    },
    {
      "cell_type": "code",
      "execution_count": null,
      "metadata": {
        "id": "MXpfi7HWHF4S",
        "outputId": "074a9846-7302-4924-fc41-b079cd999776"
      },
      "outputs": [
        {
          "data": {
            "text/plain": [
              "numpy.ndarray"
            ]
          },
          "execution_count": 53,
          "metadata": {},
          "output_type": "execute_result"
        }
      ],
      "source": [
        "price_array = np.array(price) # se crea array con nombre de lista_array\n",
        "quantity_sold_array = np.array(quantity_sold)\n",
        "type(price_array)# esta conversion de lista a array se llama numpy.ndarray - donde n es la dimension"
      ]
    },
    {
      "cell_type": "code",
      "execution_count": null,
      "metadata": {
        "id": "-A426RgOHF4T",
        "outputId": "f6b0314f-e09a-46ef-8ae0-5d01f7c91eb0"
      },
      "outputs": [
        {
          "data": {
            "text/plain": [
              "array([34, 40, 10])"
            ]
          },
          "execution_count": 54,
          "metadata": {},
          "output_type": "execute_result"
        }
      ],
      "source": [
        "price_array * quantity_sold_array # a diferencia de las listas. \n",
        "                                  #los arrays pueden ser sumados entre si, mientras tengan la misma cantidad de elementos."
      ]
    },
    {
      "cell_type": "markdown",
      "metadata": {
        "id": "Z2bokcbNHF4T"
      },
      "source": [
        "Para calcular la ganancia de cada venta se debe restar el costo de produccion de cada elemento.\n",
        "para esto se creara un array con numpy."
      ]
    },
    {
      "cell_type": "code",
      "execution_count": null,
      "metadata": {
        "id": "BlS-3OyIHF4U"
      },
      "outputs": [],
      "source": [
        "cost_array = np.array([0.25, 0.50, 5.00]) # en lugar de crear una lista y convertirla. aca se crea directamente como array"
      ]
    },
    {
      "cell_type": "code",
      "execution_count": null,
      "metadata": {
        "id": "nPSoNN9pHF4U",
        "outputId": "eb74b684-9c83-47f8-e5ac-184aba5a8e83"
      },
      "outputs": [
        {
          "name": "stdout",
          "output_type": "stream",
          "text": [
            "[1.75 0.5  5.  ]\n"
          ]
        }
      ],
      "source": [
        "profit_array = price_array - cost_array #para obtener la ganancia se resta el costo de produccion al precio de venta\n",
        "print(profit_array) #es decir por cada brownie, galleta o pastel se gana 1.75, 0.5 y 5 respectivamente."
      ]
    },
    {
      "cell_type": "markdown",
      "metadata": {
        "id": "j7VaW0wXHF4V"
      },
      "source": [
        "Booleanos elementwise\n",
        "\n",
        "Para saber que elementos obtuvieron un beneficio superior a 2 se puede utilizar el tipo de dato booleano\n",
        "el cual, segun elementwise (misma ubicacion de valor en arrays a procesar) dira True o False segun corresponda."
      ]
    },
    {
      "cell_type": "code",
      "execution_count": null,
      "metadata": {
        "id": "qGBQwSSyHF4V",
        "outputId": "e3ba13d8-9638-4909-ac23-16019df5c07c"
      },
      "outputs": [
        {
          "data": {
            "text/plain": [
              "array([False, False,  True])"
            ]
          },
          "execution_count": 57,
          "metadata": {},
          "output_type": "execute_result"
        }
      ],
      "source": [
        "profit_array > 2.00"
      ]
    },
    {
      "cell_type": "markdown",
      "metadata": {
        "id": "iAre9R-WHF4W"
      },
      "source": [
        "## Anadir, eliminar y reemplazar elementos en un array de NumPy\n",
        "\n",
        "### Adicion.\n",
        "\n",
        "tambien se busca vender tartas por $7, por lo que se tendra que actualizar el array de precios."
      ]
    },
    {
      "cell_type": "code",
      "execution_count": null,
      "metadata": {
        "id": "XTPeATKUHF4W",
        "outputId": "f744bed7-b4a9-4fa9-da48-283d79b5086e"
      },
      "outputs": [
        {
          "name": "stdout",
          "output_type": "stream",
          "text": [
            "[ 2  1 10]\n"
          ]
        }
      ],
      "source": [
        "#price_array = price_array + [7]  de esta forma, se suma el valor indicado a cada elemento del array.\n",
        "#price_array = price_array - [7] asi, con esto se corrige lo hecho anteriormente.\n",
        "print(price_array)"
      ]
    },
    {
      "cell_type": "code",
      "execution_count": null,
      "metadata": {
        "id": "6kJd1YklHF4W",
        "outputId": "0e94658c-c9cf-40ab-93c3-a88added4005"
      },
      "outputs": [
        {
          "name": "stdout",
          "output_type": "stream",
          "text": [
            "[ 2  1 10  7]\n"
          ]
        }
      ],
      "source": [
        "price_array = np.append(price_array,7)# al igual que una lista, se utiliza el metodo append para aniadir un valor al array\n",
        "print(price_array)"
      ]
    },
    {
      "cell_type": "markdown",
      "metadata": {
        "id": "pGqfrCHgHF4X"
      },
      "source": [
        "### Adicion de multiples valores en una linea.\n",
        "\n",
        "tambien se busca agregar otros productos.\n",
        "\n",
        "dulces: 4.50 - magdalenas: 3  - pan_de_platano:4  - torta=9"
      ]
    },
    {
      "cell_type": "code",
      "execution_count": null,
      "metadata": {
        "id": "GNXO5t7CHF4X",
        "outputId": "92f6e41c-952f-435c-ef6f-62d40c337473"
      },
      "outputs": [
        {
          "name": "stdout",
          "output_type": "stream",
          "text": [
            "[ 2.   1.  10.   7.   4.5  3.   4.   9. ]\n",
            "float64\n"
          ]
        }
      ],
      "source": [
        "price_array = np.append(price, [7, 4.50, 3, 4, 9])\n",
        "print(price_array) # el resultado se muestra como decimal para acomodar al valor 4.50 del array\n",
        "print(price_array.dtype) # mostrara el type de dato almacenado en array"
      ]
    },
    {
      "cell_type": "markdown",
      "metadata": {
        "id": "kmMrwbGUHF4Y"
      },
      "source": [
        "### Eliminar\n",
        "\n",
        "En este caso, se busca eliminar el valor de la torta. lo cual se realiza con el comando np.delete().\n",
        "al igual que una lista, el array utiliza la indexacion. partiendo del 0 y donde el ultimo es -1."
      ]
    },
    {
      "cell_type": "code",
      "execution_count": null,
      "metadata": {
        "id": "dvi79MVwHF4Y",
        "outputId": "aee392a6-337d-4c68-df20-5ed62dd3409f"
      },
      "outputs": [
        {
          "name": "stdout",
          "output_type": "stream",
          "text": [
            "[ 2.   1.  10.   7.   4.5  3.   4. ]\n"
          ]
        }
      ],
      "source": [
        "price_array = np.delete(price_array, -1)\n",
        "print(price_array)"
      ]
    },
    {
      "cell_type": "markdown",
      "metadata": {
        "id": "U1r5TZToHF4Y"
      },
      "source": [
        "### Reemplazar - Actualizar\n",
        "Se busca tambien actualizar el precio de los pasteles de 10 a 12.\n",
        "\n",
        "esto mediante el indice del elemento.\n"
      ]
    },
    {
      "cell_type": "code",
      "execution_count": null,
      "metadata": {
        "id": "BZ-DJypxHF4Y",
        "outputId": "4a015c95-6333-482c-b532-77f824d26649"
      },
      "outputs": [
        {
          "name": "stdout",
          "output_type": "stream",
          "text": [
            "[ 2.   1.  12.   7.   4.5  3.   4. ]\n"
          ]
        }
      ],
      "source": [
        "price_array[2] = 12\n",
        "print(price_array)"
      ]
    },
    {
      "cell_type": "markdown",
      "metadata": {
        "id": "WNv01wAUHF4Z"
      },
      "source": [
        "actualizar el quantity_sold_array para incluir la venta de 2 tartas, 3 bandejas de dulces, \n",
        "16 magdalenas y 5 panes de platano. una galleta vendida en realidad se cayo. 40 pasa a ser 39"
      ]
    },
    {
      "cell_type": "code",
      "execution_count": null,
      "metadata": {
        "id": "xEsgK1e5HF4Z",
        "outputId": "e2bc94b6-b2ab-43be-eff7-b2ddaac4e8cd"
      },
      "outputs": [
        {
          "name": "stdout",
          "output_type": "stream",
          "text": [
            "[17 40  1]\n"
          ]
        }
      ],
      "source": [
        "print(quantity_sold_array)# pre-validacion de objetos vendidos "
      ]
    },
    {
      "cell_type": "code",
      "execution_count": null,
      "metadata": {
        "id": "Mic-Bg6RHF4Z",
        "outputId": "57c2968b-9b84-4073-b4ce-e91b69fe8552"
      },
      "outputs": [
        {
          "name": "stdout",
          "output_type": "stream",
          "text": [
            "[17 39  1  2  3 16  5]\n"
          ]
        }
      ],
      "source": [
        "quantity_sold_array = np.append(quantity_sold_array,[2,3,16,5]) # se adicionan objetos vendidos\n",
        "quantity_sold_array[1] = 39 # se corrige galleta caida\n",
        "print(quantity_sold_array)# validacion"
      ]
    },
    {
      "cell_type": "code",
      "execution_count": null,
      "metadata": {
        "id": "4sYGMf3IHF4Z",
        "outputId": "cfad2897-5940-4186-c328-ec2f29f95d68"
      },
      "outputs": [
        {
          "name": "stdout",
          "output_type": "stream",
          "text": [
            "cada elemento vendio: [34.  39.  12.  14.  13.5 48.  20. ]\n",
            "el total recaudado fue: 180.5\n"
          ]
        }
      ],
      "source": [
        "total_array = quantity_sold_array * price_array\n",
        "print(f\"cada elemento vendio: {total_array}\")\n",
        "print(f\"el total recaudado fue: {total_array.sum()}\")"
      ]
    },
    {
      "cell_type": "code",
      "execution_count": null,
      "metadata": {
        "id": "UhpgXuIpHF4a",
        "outputId": "18e49ddd-9f05-46f7-a7f7-db56cb2cb09f"
      },
      "outputs": [
        {
          "name": "stdout",
          "output_type": "stream",
          "text": [
            "[0 0 2 1 6 0 2]\n"
          ]
        }
      ],
      "source": [
        "quantity_leftover_array = np.array([0,0,2,1,6,0,2])# se debe identificar con 0 los productos vendidos para mantener \n",
        "print(quantity_leftover_array) #la misma cantidad de elementos entre los array y asi poder calcularlos entre si"
      ]
    },
    {
      "cell_type": "code",
      "execution_count": null,
      "metadata": {
        "id": "g_SocOAQHF4a",
        "outputId": "5ee6a715-5b09-418a-9229-bafcf7295ba8"
      },
      "outputs": [
        {
          "name": "stdout",
          "output_type": "stream",
          "text": [
            " suma de objetos vendidos en liquidacion: $33.0\n",
            " suma de ventas hechas, incluyendo liquidacion: $213.5\n"
          ]
        }
      ],
      "source": [
        "sale_array = (price_array * 0.5) * quantity_leftover_array # para vender a la mitad se multiplica el valor por 0.5\n",
        "total_sold = sale_array + total_array\n",
        "print(f\" suma de objetos vendidos en liquidacion: ${sale_array.sum()}\")\n",
        "print(f\" suma de ventas hechas, incluyendo liquidacion: ${total_sold.sum()}\")\n"
      ]
    },
    {
      "cell_type": "code",
      "execution_count": null,
      "metadata": {
        "id": "N0IFpRrFHF4a"
      },
      "outputs": [],
      "source": []
    }
  ],
  "metadata": {
    "kernelspec": {
      "display_name": "Python 3",
      "language": "python",
      "name": "python3"
    },
    "language_info": {
      "codemirror_mode": {
        "name": "ipython",
        "version": 3
      },
      "file_extension": ".py",
      "mimetype": "text/x-python",
      "name": "python",
      "nbconvert_exporter": "python",
      "pygments_lexer": "ipython3",
      "version": "3.8.5"
    },
    "colab": {
      "provenance": [],
      "include_colab_link": true
    }
  },
  "nbformat": 4,
  "nbformat_minor": 0
}