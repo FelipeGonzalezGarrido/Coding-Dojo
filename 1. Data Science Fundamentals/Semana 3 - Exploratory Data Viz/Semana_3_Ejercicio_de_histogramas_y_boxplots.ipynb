{
  "nbformat": 4,
  "nbformat_minor": 0,
  "metadata": {
    "colab": {
      "provenance": [],
      "authorship_tag": "ABX9TyMKdJ9xbToBX2oGYd0h/Zhv",
      "include_colab_link": true
    },
    "kernelspec": {
      "name": "python3",
      "display_name": "Python 3"
    },
    "language_info": {
      "name": "python"
    }
  },
  "cells": [
    {
      "cell_type": "markdown",
      "metadata": {
        "id": "view-in-github",
        "colab_type": "text"
      },
      "source": [
        "<a href=\"https://colab.research.google.com/github/FelipeGonzalezGarrido/Coding-Dojo/blob/main/1.%20Data%20Science%20Fundamentals/Semana%203%20-%20Exploratory%20Data%20Viz/Semana_3_Ejercicio_de_histogramas_y_boxplots.ipynb\" target=\"_parent\"><img src=\"https://colab.research.google.com/assets/colab-badge.svg\" alt=\"Open In Colab\"/></a>"
      ]
    },
    {
      "cell_type": "code",
      "execution_count": null,
      "metadata": {
        "colab": {
          "base_uri": "https://localhost:8080/"
        },
        "id": "lBsePTXCQien",
        "outputId": "05a9c2b7-4c2a-4dd4-c98d-2399ec9aad47"
      },
      "outputs": [
        {
          "output_type": "stream",
          "name": "stdout",
          "text": [
            "Mounted at /content/drive\n"
          ]
        }
      ],
      "source": [
        "from google.colab import drive\n",
        "drive.mount (\"/content/drive\")"
      ]
    },
    {
      "cell_type": "code",
      "source": [
        "import pandas as pd\n",
        "import matplotlib.pyplot as plt\n",
        "\n",
        "filename = \"/content/drive/MyDrive/Data CodingDojo/catsvdogs.xlsx\""
      ],
      "metadata": {
        "id": "sfMrul8TQozi"
      },
      "execution_count": null,
      "outputs": []
    },
    {
      "cell_type": "code",
      "source": [
        "df = pd.read_excel(filename)\n",
        "df.head()"
      ],
      "metadata": {
        "colab": {
          "base_uri": "https://localhost:8080/",
          "height": 285
        },
        "id": "4nvkS9I8RuPH",
        "outputId": "bb35315c-ef46-4616-e167-22a5ae334070"
      },
      "execution_count": null,
      "outputs": [
        {
          "output_type": "execute_result",
          "data": {
            "text/plain": [
              "     Location  Number of Households (in 1000)  \\\n",
              "0     Alabama                            1828   \n",
              "1     Arizona                            2515   \n",
              "2    Arkansas                            1148   \n",
              "3  California                           12974   \n",
              "4    Colorado                            1986   \n",
              "\n",
              "   Percentage of households with pets  Number of Pet Households (in 1000)  \\\n",
              "0                                59.5                                1088   \n",
              "1                                59.5                                1497   \n",
              "2                                62.4                                 716   \n",
              "3                                52.9                                6865   \n",
              "4                                61.3                                1217   \n",
              "\n",
              "   Percentage of Dog Owners  Dog Owning Households (1000s)  \\\n",
              "0                      44.1                            807   \n",
              "1                      40.1                           1008   \n",
              "2                      47.9                            550   \n",
              "3                      32.8                           4260   \n",
              "4                      42.5                            845   \n",
              "\n",
              "   Mean Number of Dogs per household  Dog Population (in 1000)  \\\n",
              "0                                1.7                      1410   \n",
              "1                                1.8                      1798   \n",
              "2                                2.0                      1097   \n",
              "3                                1.6                      6687   \n",
              "4                                1.6                      1349   \n",
              "\n",
              "   Percentage of Cat Owners  Cat Owning Households  Mean Number of Cats  \\\n",
              "0                      27.4                    501                  2.5   \n",
              "1                      29.6                    743                  1.9   \n",
              "2                      30.6                    351                  2.3   \n",
              "3                      28.3                   3687                  1.9   \n",
              "4                      32.3                    642                  1.9   \n",
              "\n",
              "   Cat Population  \n",
              "0            1252  \n",
              "1            1438  \n",
              "2             810  \n",
              "3            7118  \n",
              "4            1191  "
            ],
            "text/html": [
              "\n",
              "  <div id=\"df-45d812e4-b9e7-42da-9ddc-838c18ac5103\">\n",
              "    <div class=\"colab-df-container\">\n",
              "      <div>\n",
              "<style scoped>\n",
              "    .dataframe tbody tr th:only-of-type {\n",
              "        vertical-align: middle;\n",
              "    }\n",
              "\n",
              "    .dataframe tbody tr th {\n",
              "        vertical-align: top;\n",
              "    }\n",
              "\n",
              "    .dataframe thead th {\n",
              "        text-align: right;\n",
              "    }\n",
              "</style>\n",
              "<table border=\"1\" class=\"dataframe\">\n",
              "  <thead>\n",
              "    <tr style=\"text-align: right;\">\n",
              "      <th></th>\n",
              "      <th>Location</th>\n",
              "      <th>Number of Households (in 1000)</th>\n",
              "      <th>Percentage of households with pets</th>\n",
              "      <th>Number of Pet Households (in 1000)</th>\n",
              "      <th>Percentage of Dog Owners</th>\n",
              "      <th>Dog Owning Households (1000s)</th>\n",
              "      <th>Mean Number of Dogs per household</th>\n",
              "      <th>Dog Population (in 1000)</th>\n",
              "      <th>Percentage of Cat Owners</th>\n",
              "      <th>Cat Owning Households</th>\n",
              "      <th>Mean Number of Cats</th>\n",
              "      <th>Cat Population</th>\n",
              "    </tr>\n",
              "  </thead>\n",
              "  <tbody>\n",
              "    <tr>\n",
              "      <th>0</th>\n",
              "      <td>Alabama</td>\n",
              "      <td>1828</td>\n",
              "      <td>59.5</td>\n",
              "      <td>1088</td>\n",
              "      <td>44.1</td>\n",
              "      <td>807</td>\n",
              "      <td>1.7</td>\n",
              "      <td>1410</td>\n",
              "      <td>27.4</td>\n",
              "      <td>501</td>\n",
              "      <td>2.5</td>\n",
              "      <td>1252</td>\n",
              "    </tr>\n",
              "    <tr>\n",
              "      <th>1</th>\n",
              "      <td>Arizona</td>\n",
              "      <td>2515</td>\n",
              "      <td>59.5</td>\n",
              "      <td>1497</td>\n",
              "      <td>40.1</td>\n",
              "      <td>1008</td>\n",
              "      <td>1.8</td>\n",
              "      <td>1798</td>\n",
              "      <td>29.6</td>\n",
              "      <td>743</td>\n",
              "      <td>1.9</td>\n",
              "      <td>1438</td>\n",
              "    </tr>\n",
              "    <tr>\n",
              "      <th>2</th>\n",
              "      <td>Arkansas</td>\n",
              "      <td>1148</td>\n",
              "      <td>62.4</td>\n",
              "      <td>716</td>\n",
              "      <td>47.9</td>\n",
              "      <td>550</td>\n",
              "      <td>2.0</td>\n",
              "      <td>1097</td>\n",
              "      <td>30.6</td>\n",
              "      <td>351</td>\n",
              "      <td>2.3</td>\n",
              "      <td>810</td>\n",
              "    </tr>\n",
              "    <tr>\n",
              "      <th>3</th>\n",
              "      <td>California</td>\n",
              "      <td>12974</td>\n",
              "      <td>52.9</td>\n",
              "      <td>6865</td>\n",
              "      <td>32.8</td>\n",
              "      <td>4260</td>\n",
              "      <td>1.6</td>\n",
              "      <td>6687</td>\n",
              "      <td>28.3</td>\n",
              "      <td>3687</td>\n",
              "      <td>1.9</td>\n",
              "      <td>7118</td>\n",
              "    </tr>\n",
              "    <tr>\n",
              "      <th>4</th>\n",
              "      <td>Colorado</td>\n",
              "      <td>1986</td>\n",
              "      <td>61.3</td>\n",
              "      <td>1217</td>\n",
              "      <td>42.5</td>\n",
              "      <td>845</td>\n",
              "      <td>1.6</td>\n",
              "      <td>1349</td>\n",
              "      <td>32.3</td>\n",
              "      <td>642</td>\n",
              "      <td>1.9</td>\n",
              "      <td>1191</td>\n",
              "    </tr>\n",
              "  </tbody>\n",
              "</table>\n",
              "</div>\n",
              "      <button class=\"colab-df-convert\" onclick=\"convertToInteractive('df-45d812e4-b9e7-42da-9ddc-838c18ac5103')\"\n",
              "              title=\"Convert this dataframe to an interactive table.\"\n",
              "              style=\"display:none;\">\n",
              "        \n",
              "  <svg xmlns=\"http://www.w3.org/2000/svg\" height=\"24px\"viewBox=\"0 0 24 24\"\n",
              "       width=\"24px\">\n",
              "    <path d=\"M0 0h24v24H0V0z\" fill=\"none\"/>\n",
              "    <path d=\"M18.56 5.44l.94 2.06.94-2.06 2.06-.94-2.06-.94-.94-2.06-.94 2.06-2.06.94zm-11 1L8.5 8.5l.94-2.06 2.06-.94-2.06-.94L8.5 2.5l-.94 2.06-2.06.94zm10 10l.94 2.06.94-2.06 2.06-.94-2.06-.94-.94-2.06-.94 2.06-2.06.94z\"/><path d=\"M17.41 7.96l-1.37-1.37c-.4-.4-.92-.59-1.43-.59-.52 0-1.04.2-1.43.59L10.3 9.45l-7.72 7.72c-.78.78-.78 2.05 0 2.83L4 21.41c.39.39.9.59 1.41.59.51 0 1.02-.2 1.41-.59l7.78-7.78 2.81-2.81c.8-.78.8-2.07 0-2.86zM5.41 20L4 18.59l7.72-7.72 1.47 1.35L5.41 20z\"/>\n",
              "  </svg>\n",
              "      </button>\n",
              "      \n",
              "  <style>\n",
              "    .colab-df-container {\n",
              "      display:flex;\n",
              "      flex-wrap:wrap;\n",
              "      gap: 12px;\n",
              "    }\n",
              "\n",
              "    .colab-df-convert {\n",
              "      background-color: #E8F0FE;\n",
              "      border: none;\n",
              "      border-radius: 50%;\n",
              "      cursor: pointer;\n",
              "      display: none;\n",
              "      fill: #1967D2;\n",
              "      height: 32px;\n",
              "      padding: 0 0 0 0;\n",
              "      width: 32px;\n",
              "    }\n",
              "\n",
              "    .colab-df-convert:hover {\n",
              "      background-color: #E2EBFA;\n",
              "      box-shadow: 0px 1px 2px rgba(60, 64, 67, 0.3), 0px 1px 3px 1px rgba(60, 64, 67, 0.15);\n",
              "      fill: #174EA6;\n",
              "    }\n",
              "\n",
              "    [theme=dark] .colab-df-convert {\n",
              "      background-color: #3B4455;\n",
              "      fill: #D2E3FC;\n",
              "    }\n",
              "\n",
              "    [theme=dark] .colab-df-convert:hover {\n",
              "      background-color: #434B5C;\n",
              "      box-shadow: 0px 1px 3px 1px rgba(0, 0, 0, 0.15);\n",
              "      filter: drop-shadow(0px 1px 2px rgba(0, 0, 0, 0.3));\n",
              "      fill: #FFFFFF;\n",
              "    }\n",
              "  </style>\n",
              "\n",
              "      <script>\n",
              "        const buttonEl =\n",
              "          document.querySelector('#df-45d812e4-b9e7-42da-9ddc-838c18ac5103 button.colab-df-convert');\n",
              "        buttonEl.style.display =\n",
              "          google.colab.kernel.accessAllowed ? 'block' : 'none';\n",
              "\n",
              "        async function convertToInteractive(key) {\n",
              "          const element = document.querySelector('#df-45d812e4-b9e7-42da-9ddc-838c18ac5103');\n",
              "          const dataTable =\n",
              "            await google.colab.kernel.invokeFunction('convertToInteractive',\n",
              "                                                     [key], {});\n",
              "          if (!dataTable) return;\n",
              "\n",
              "          const docLinkHtml = 'Like what you see? Visit the ' +\n",
              "            '<a target=\"_blank\" href=https://colab.research.google.com/notebooks/data_table.ipynb>data table notebook</a>'\n",
              "            + ' to learn more about interactive tables.';\n",
              "          element.innerHTML = '';\n",
              "          dataTable['output_type'] = 'display_data';\n",
              "          await google.colab.output.renderOutput(dataTable, element);\n",
              "          const docLink = document.createElement('div');\n",
              "          docLink.innerHTML = docLinkHtml;\n",
              "          element.appendChild(docLink);\n",
              "        }\n",
              "      </script>\n",
              "    </div>\n",
              "  </div>\n",
              "  "
            ]
          },
          "metadata": {},
          "execution_count": 3
        }
      ]
    },
    {
      "cell_type": "code",
      "source": [
        "df.duplicated().sum()"
      ],
      "metadata": {
        "colab": {
          "base_uri": "https://localhost:8080/"
        },
        "id": "BirCzZkbaiz4",
        "outputId": "5029b6c5-04bf-40b8-d111-ed997210b4b6"
      },
      "execution_count": null,
      "outputs": [
        {
          "output_type": "execute_result",
          "data": {
            "text/plain": [
              "0"
            ]
          },
          "metadata": {},
          "execution_count": 4
        }
      ]
    },
    {
      "cell_type": "code",
      "source": [
        "df.info()"
      ],
      "metadata": {
        "colab": {
          "base_uri": "https://localhost:8080/"
        },
        "id": "uVRjk9dxZqoK",
        "outputId": "a7f7e852-c9c7-41d9-e58d-3c7c9cac8f18"
      },
      "execution_count": null,
      "outputs": [
        {
          "output_type": "stream",
          "name": "stdout",
          "text": [
            "<class 'pandas.core.frame.DataFrame'>\n",
            "RangeIndex: 49 entries, 0 to 48\n",
            "Data columns (total 12 columns):\n",
            " #   Column                              Non-Null Count  Dtype  \n",
            "---  ------                              --------------  -----  \n",
            " 0   Location                            49 non-null     object \n",
            " 1   Number of Households (in 1000)      49 non-null     int64  \n",
            " 2   Percentage of households with pets  49 non-null     float64\n",
            " 3   Number of Pet Households (in 1000)  49 non-null     int64  \n",
            " 4   Percentage of Dog Owners            49 non-null     float64\n",
            " 5   Dog Owning Households (1000s)       49 non-null     int64  \n",
            " 6   Mean Number of Dogs per household   49 non-null     float64\n",
            " 7   Dog Population (in 1000)            49 non-null     int64  \n",
            " 8   Percentage of Cat Owners            49 non-null     float64\n",
            " 9   Cat Owning Households               49 non-null     int64  \n",
            " 10  Mean Number of Cats                 49 non-null     float64\n",
            " 11  Cat Population                      49 non-null     int64  \n",
            "dtypes: float64(5), int64(6), object(1)\n",
            "memory usage: 4.7+ KB\n"
          ]
        }
      ]
    },
    {
      "cell_type": "markdown",
      "source": [
        "# 1. Tracen un histograma del porcentaje de dueños de perros.\n",
        "\n"
      ],
      "metadata": {
        "id": "wbkDdaRxTZ3D"
      }
    },
    {
      "cell_type": "code",
      "source": [
        "df[\"Percentage of Dog Owners\"].hist()   "
      ],
      "metadata": {
        "colab": {
          "base_uri": "https://localhost:8080/",
          "height": 283
        },
        "id": "TtdftjXkRyno",
        "outputId": "1be60009-c4bd-47a7-c936-9a71ea4bbc0e"
      },
      "execution_count": null,
      "outputs": [
        {
          "output_type": "execute_result",
          "data": {
            "text/plain": [
              "<matplotlib.axes._subplots.AxesSubplot at 0x7feb4e7e55d0>"
            ]
          },
          "metadata": {},
          "execution_count": 6
        },
        {
          "output_type": "display_data",
          "data": {
            "text/plain": [
              "<Figure size 432x288 with 1 Axes>"
            ],
            "image/png": "[encoded data removed]"
          },
          "metadata": {
            "needs_background": "light"
          }
        }
      ]
    },
    {
      "cell_type": "markdown",
      "source": [
        "# 2. Tracen un histograma del porcentaje de dueños de gatos.\n",
        "\n"
      ],
      "metadata": {
        "id": "xPvGGrv0Tczr"
      }
    },
    {
      "cell_type": "code",
      "source": [
        "df[\"Percentage of Cat Owners\"].hist()"
      ],
      "metadata": {
        "colab": {
          "base_uri": "https://localhost:8080/",
          "height": 283
        },
        "id": "ebSsAGewpmYg",
        "outputId": "06c55fcd-b19a-47f0-9311-ff07693931ad"
      },
      "execution_count": null,
      "outputs": [
        {
          "output_type": "execute_result",
          "data": {
            "text/plain": [
              "<matplotlib.axes._subplots.AxesSubplot at 0x7feb4b205550>"
            ]
          },
          "metadata": {},
          "execution_count": 7
        },
        {
          "output_type": "display_data",
          "data": {
            "text/plain": [
              "<Figure size 432x288 with 1 Axes>"
            ],
            "image/png": "[encoded data removed]"
          },
          "metadata": {
            "needs_background": "light"
          }
        }
      ]
    },
    {
      "cell_type": "markdown",
      "source": [
        "#3a. ¿Qué podemos ver al comparar estos dos histogramas? ¿Qué información nos dice?\n",
        "de 10 a 15 tanto perros como gatos comparten cifras similares en torno a los 1000.  podria asumirse como la primera mascota de una persona.\n",
        "\n",
        "20 a 35, los duenios de gatos superan con creces a los duenios de perro, es en los ultimos anios de este rango donde comienza a subir la tenencia de perros por rango etario\n",
        "\n",
        "36 a 45 tenencia de perro dominante con respecto a gatos, puede atribuirse al ser un animal protector y social, en un entorno de familia.\n",
        "\n",
        "\n",
        "\n",
        "45 a 50, tenencia de gatos alta, son animales independientes y calmados puede coincidir con etapa de vida del duenio\n"
      ],
      "metadata": {
        "id": "-KY7xI5MTpbT"
      }
    },
    {
      "cell_type": "markdown",
      "source": [
        "#3b. Opcional/bono: tracen estos dos histogramas en el mismo trazado. Un ejemplo de lo que debería verse se proporciona abajo:\n",
        "![histograms.png](data:image/png;base64,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)"
      ],
      "metadata": {
        "id": "MEJ3LrhvTuF3"
      }
    },
    {
      "cell_type": "code",
      "source": [
        "plt.style.use('seaborn')\n",
        "plt.hist(df[\"Percentage of Dog Owners\"],edgecolor=\"black\", alpha=0.7, label = 'Dogs', bins=7)\n",
        "plt.hist(df[\"Percentage of Cat Owners\"],edgecolor=\"black\",  alpha=0.7, label = 'Cats', color=\"orange\",bins=10)\n",
        "plt.legend(loc = 'best')\n",
        "plt.xlabel('Percentage of Animal Owners')\n",
        "plt.ylabel('Count')\n",
        "plt.show"
      ],
      "metadata": {
        "colab": {
          "base_uri": "https://localhost:8080/",
          "height": 379
        },
        "id": "r9XY1XqUkT_S",
        "outputId": "419f1d7e-a9a6-437e-b9a0-422765f19bea"
      },
      "execution_count": null,
      "outputs": [
        {
          "output_type": "execute_result",
          "data": {
            "text/plain": [
              "<function matplotlib.pyplot.show(*args, **kw)>"
            ]
          },
          "metadata": {},
          "execution_count": 8
        },
        {
          "output_type": "display_data",
          "data": {
            "text/plain": [
              "<Figure size 576x396 with 1 Axes>"
            ],
            "image/png": "[encoded data removed]"
          },
          "metadata": {}
        }
      ]
    },
    {
      "cell_type": "markdown",
      "source": [
        "#4. Creen dos boxplots en mismo trazado: uno en la media del número de gatos por hogar y el otro de la media del número de perros. Un ejemplo de lo que debería verse se proporciona abajo:\n",
        "\n",
        "![boxplots.png](data:image/png;base64,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)"
      ],
      "metadata": {
        "id": "Av-ib-HlTy69"
      }
    },
    {
      "cell_type": "code",
      "source": [
        "cats = df['Mean Number of Cats']\n",
        "dogs = df['Mean Number of Dogs per household']\n",
        "fig, axes = plt.subplots(nrows = 1, ncols = 1, figsize = (8,5))\n",
        "boxplots = axes.boxplot([cats,dogs],\n",
        "           notch = True,\n",
        "           labels=['Cats', 'Dogs'],\n",
        "           widths = .7,\n",
        "           patch_artist=True,\n",
        "           medianprops = dict(linestyle='-', linewidth=2, color='Yellow'),\n",
        "           boxprops = dict(linestyle='--', linewidth=2, color='Black', facecolor = 'blue', alpha = .4)\n",
        "          );\n",
        "# The more you understand any library, the more you can do\n",
        "boxplot1 = boxplots['boxes'][0]\n",
        "boxplot1.set_facecolor('red')\n",
        "plt.ylabel('Mean Number of Animals per State', fontsize = 20);\n",
        "plt.xticks(fontsize = 14);\n",
        "plt.yticks(fontsize = 16);"
      ],
      "metadata": {
        "colab": {
          "base_uri": "https://localhost:8080/",
          "height": 344
        },
        "id": "E1zeb0SSq_OA",
        "outputId": "4fb77f37-7414-4587-eea7-0f9763355ca1"
      },
      "execution_count": null,
      "outputs": [
        {
          "output_type": "display_data",
          "data": {
            "text/plain": [
              "<Figure size 576x360 with 1 Axes>"
            ],
            "image/png": "[encoded data removed]"
          },
          "metadata": {}
        }
      ]
    },
    {
      "cell_type": "markdown",
      "source": [
        "#5. ¿Qué podemos ver al comparar estos dos boxplots? ¿Qué información nos dice?\n",
        "\n",
        "La tenencia de gatos por hogar es mayor a la de perros.\n",
        "esto puede ser atribuido al tamanio de la mascota en si.\n",
        "\n",
        "gatos presentan mayor variabilidad  o dispersion de datos desde la mediana donde la tenencia es de 2 hacia arriba, mientras que los perros presentan mayor variabilidad antes de la mediana la cual es menor a 1.6\n",
        "\n",
        "\n"
      ],
      "metadata": {
        "id": "zSI53VjeT1Q-"
      }
    }
  ]
}