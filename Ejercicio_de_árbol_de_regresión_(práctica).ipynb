{
  "nbformat": 4,
  "nbformat_minor": 0,
  "metadata": {
    "colab": {
      "provenance": [],
      "authorship_tag": "ABX9TyPZGpjKGU0X3BLLeg7ancZA",
      "include_colab_link": true
    },
    "kernelspec": {
      "name": "python3",
      "display_name": "Python 3"
    },
    "language_info": {
      "name": "python"
    }
  },
  "cells": [
    {
      "cell_type": "markdown",
      "metadata": {
        "id": "view-in-github",
        "colab_type": "text"
      },
      "source": [
        "<a href=\"https://colab.research.google.com/github/FelipeGonzalezGarrido/Coding-Dojo/blob/main/Ejercicio_de_%C3%A1rbol_de_regresi%C3%B3n_(pr%C3%A1ctica).ipynb\" target=\"_parent\"><img src=\"https://colab.research.google.com/assets/colab-badge.svg\" alt=\"Open In Colab\"/></a>"
      ]
    },
    {
      "cell_type": "code",
      "execution_count": 1,
      "metadata": {
        "colab": {
          "base_uri": "https://localhost:8080/"
        },
        "id": "5LqhujF7_p_P",
        "outputId": "a34f7170-2e05-46e4-f214-5a147f0cb60b"
      },
      "outputs": [
        {
          "output_type": "stream",
          "name": "stdout",
          "text": [
            "Mounted at /content/drive\n"
          ]
        }
      ],
      "source": [
        " from google.colab import drive\n",
        " drive.mount (\"/content/drive\")"
      ]
    },
    {
      "cell_type": "code",
      "source": [
        "import pandas as pd\n",
        "from sklearn.model_selection import train_test_split\n",
        "from sklearn.tree import DecisionTreeRegressor\n"
      ],
      "metadata": {
        "id": "kkQRbADFAunh"
      },
      "execution_count": 6,
      "outputs": []
    },
    {
      "cell_type": "code",
      "source": [
        "filename = \"/content/drive/MyDrive/Data CodingDojo/Boston_Housing_from_Sklearn.csv\"\n",
        "df = pd.read_csv(filename)\n",
        "df.head() "
      ],
      "metadata": {
        "colab": {
          "base_uri": "https://localhost:8080/",
          "height": 206
        },
        "id": "a0JNAAyGAYZe",
        "outputId": "b06f6811-78d7-45d9-91c3-8bdb4accf666"
      },
      "execution_count": 4,
      "outputs": [
        {
          "output_type": "execute_result",
          "data": {
            "text/plain": [
              "      CRIM    NOX     RM   AGE  PTRATIO  LSTAT  PRICE\n",
              "0  0.00632  0.538  6.575  65.2     15.3   4.98   24.0\n",
              "1  0.02731  0.469  6.421  78.9     17.8   9.14   21.6\n",
              "2  0.02729  0.469  7.185  61.1     17.8   4.03   34.7\n",
              "3  0.03237  0.458  6.998  45.8     18.7   2.94   33.4\n",
              "4  0.06905  0.458  7.147  54.2     18.7   5.33   36.2"
            ],
            "text/html": [
              "\n",
              "  <div id=\"df-7de3f42d-48b2-4c31-88ff-630cbd091b70\">\n",
              "    <div class=\"colab-df-container\">\n",
              "      <div>\n",
              "<style scoped>\n",
              "    .dataframe tbody tr th:only-of-type {\n",
              "        vertical-align: middle;\n",
              "    }\n",
              "\n",
              "    .dataframe tbody tr th {\n",
              "        vertical-align: top;\n",
              "    }\n",
              "\n",
              "    .dataframe thead th {\n",
              "        text-align: right;\n",
              "    }\n",
              "</style>\n",
              "<table border=\"1\" class=\"dataframe\">\n",
              "  <thead>\n",
              "    <tr style=\"text-align: right;\">\n",
              "      <th></th>\n",
              "      <th>CRIM</th>\n",
              "      <th>NOX</th>\n",
              "      <th>RM</th>\n",
              "      <th>AGE</th>\n",
              "      <th>PTRATIO</th>\n",
              "      <th>LSTAT</th>\n",
              "      <th>PRICE</th>\n",
              "    </tr>\n",
              "  </thead>\n",
              "  <tbody>\n",
              "    <tr>\n",
              "      <th>0</th>\n",
              "      <td>0.00632</td>\n",
              "      <td>0.538</td>\n",
              "      <td>6.575</td>\n",
              "      <td>65.2</td>\n",
              "      <td>15.3</td>\n",
              "      <td>4.98</td>\n",
              "      <td>24.0</td>\n",
              "    </tr>\n",
              "    <tr>\n",
              "      <th>1</th>\n",
              "      <td>0.02731</td>\n",
              "      <td>0.469</td>\n",
              "      <td>6.421</td>\n",
              "      <td>78.9</td>\n",
              "      <td>17.8</td>\n",
              "      <td>9.14</td>\n",
              "      <td>21.6</td>\n",
              "    </tr>\n",
              "    <tr>\n",
              "      <th>2</th>\n",
              "      <td>0.02729</td>\n",
              "      <td>0.469</td>\n",
              "      <td>7.185</td>\n",
              "      <td>61.1</td>\n",
              "      <td>17.8</td>\n",
              "      <td>4.03</td>\n",
              "      <td>34.7</td>\n",
              "    </tr>\n",
              "    <tr>\n",
              "      <th>3</th>\n",
              "      <td>0.03237</td>\n",
              "      <td>0.458</td>\n",
              "      <td>6.998</td>\n",
              "      <td>45.8</td>\n",
              "      <td>18.7</td>\n",
              "      <td>2.94</td>\n",
              "      <td>33.4</td>\n",
              "    </tr>\n",
              "    <tr>\n",
              "      <th>4</th>\n",
              "      <td>0.06905</td>\n",
              "      <td>0.458</td>\n",
              "      <td>7.147</td>\n",
              "      <td>54.2</td>\n",
              "      <td>18.7</td>\n",
              "      <td>5.33</td>\n",
              "      <td>36.2</td>\n",
              "    </tr>\n",
              "  </tbody>\n",
              "</table>\n",
              "</div>\n",
              "      <button class=\"colab-df-convert\" onclick=\"convertToInteractive('df-7de3f42d-48b2-4c31-88ff-630cbd091b70')\"\n",
              "              title=\"Convert this dataframe to an interactive table.\"\n",
              "              style=\"display:none;\">\n",
              "        \n",
              "  <svg xmlns=\"http://www.w3.org/2000/svg\" height=\"24px\"viewBox=\"0 0 24 24\"\n",
              "       width=\"24px\">\n",
              "    <path d=\"M0 0h24v24H0V0z\" fill=\"none\"/>\n",
              "    <path d=\"M18.56 5.44l.94 2.06.94-2.06 2.06-.94-2.06-.94-.94-2.06-.94 2.06-2.06.94zm-11 1L8.5 8.5l.94-2.06 2.06-.94-2.06-.94L8.5 2.5l-.94 2.06-2.06.94zm10 10l.94 2.06.94-2.06 2.06-.94-2.06-.94-.94-2.06-.94 2.06-2.06.94z\"/><path d=\"M17.41 7.96l-1.37-1.37c-.4-.4-.92-.59-1.43-.59-.52 0-1.04.2-1.43.59L10.3 9.45l-7.72 7.72c-.78.78-.78 2.05 0 2.83L4 21.41c.39.39.9.59 1.41.59.51 0 1.02-.2 1.41-.59l7.78-7.78 2.81-2.81c.8-.78.8-2.07 0-2.86zM5.41 20L4 18.59l7.72-7.72 1.47 1.35L5.41 20z\"/>\n",
              "  </svg>\n",
              "      </button>\n",
              "      \n",
              "  <style>\n",
              "    .colab-df-container {\n",
              "      display:flex;\n",
              "      flex-wrap:wrap;\n",
              "      gap: 12px;\n",
              "    }\n",
              "\n",
              "    .colab-df-convert {\n",
              "      background-color: #E8F0FE;\n",
              "      border: none;\n",
              "      border-radius: 50%;\n",
              "      cursor: pointer;\n",
              "      display: none;\n",
              "      fill: #1967D2;\n",
              "      height: 32px;\n",
              "      padding: 0 0 0 0;\n",
              "      width: 32px;\n",
              "    }\n",
              "\n",
              "    .colab-df-convert:hover {\n",
              "      background-color: #E2EBFA;\n",
              "      box-shadow: 0px 1px 2px rgba(60, 64, 67, 0.3), 0px 1px 3px 1px rgba(60, 64, 67, 0.15);\n",
              "      fill: #174EA6;\n",
              "    }\n",
              "\n",
              "    [theme=dark] .colab-df-convert {\n",
              "      background-color: #3B4455;\n",
              "      fill: #D2E3FC;\n",
              "    }\n",
              "\n",
              "    [theme=dark] .colab-df-convert:hover {\n",
              "      background-color: #434B5C;\n",
              "      box-shadow: 0px 1px 3px 1px rgba(0, 0, 0, 0.15);\n",
              "      filter: drop-shadow(0px 1px 2px rgba(0, 0, 0, 0.3));\n",
              "      fill: #FFFFFF;\n",
              "    }\n",
              "  </style>\n",
              "\n",
              "      <script>\n",
              "        const buttonEl =\n",
              "          document.querySelector('#df-7de3f42d-48b2-4c31-88ff-630cbd091b70 button.colab-df-convert');\n",
              "        buttonEl.style.display =\n",
              "          google.colab.kernel.accessAllowed ? 'block' : 'none';\n",
              "\n",
              "        async function convertToInteractive(key) {\n",
              "          const element = document.querySelector('#df-7de3f42d-48b2-4c31-88ff-630cbd091b70');\n",
              "          const dataTable =\n",
              "            await google.colab.kernel.invokeFunction('convertToInteractive',\n",
              "                                                     [key], {});\n",
              "          if (!dataTable) return;\n",
              "\n",
              "          const docLinkHtml = 'Like what you see? Visit the ' +\n",
              "            '<a target=\"_blank\" href=https://colab.research.google.com/notebooks/data_table.ipynb>data table notebook</a>'\n",
              "            + ' to learn more about interactive tables.';\n",
              "          element.innerHTML = '';\n",
              "          dataTable['output_type'] = 'display_data';\n",
              "          await google.colab.output.renderOutput(dataTable, element);\n",
              "          const docLink = document.createElement('div');\n",
              "          docLink.innerHTML = docLinkHtml;\n",
              "          element.appendChild(docLink);\n",
              "        }\n",
              "      </script>\n",
              "    </div>\n",
              "  </div>\n",
              "  "
            ]
          },
          "metadata": {},
          "execution_count": 4
        }
      ]
    },
    {
      "cell_type": "code",
      "source": [
        "df.info()"
      ],
      "metadata": {
        "colab": {
          "base_uri": "https://localhost:8080/"
        },
        "id": "2v6mEAEvAs8J",
        "outputId": "00e31abb-95d2-4c85-b4c4-c5eb268f7b48"
      },
      "execution_count": 5,
      "outputs": [
        {
          "output_type": "stream",
          "name": "stdout",
          "text": [
            "<class 'pandas.core.frame.DataFrame'>\n",
            "RangeIndex: 506 entries, 0 to 505\n",
            "Data columns (total 7 columns):\n",
            " #   Column   Non-Null Count  Dtype  \n",
            "---  ------   --------------  -----  \n",
            " 0   CRIM     506 non-null    float64\n",
            " 1   NOX      506 non-null    float64\n",
            " 2   RM       506 non-null    float64\n",
            " 3   AGE      506 non-null    float64\n",
            " 4   PTRATIO  506 non-null    float64\n",
            " 5   LSTAT    506 non-null    float64\n",
            " 6   PRICE    506 non-null    float64\n",
            "dtypes: float64(7)\n",
            "memory usage: 27.8 KB\n"
          ]
        }
      ]
    },
    {
      "cell_type": "code",
      "source": [
        "X = df.drop(columns=\"PRICE\")\n",
        "y = df[\"PRICE\"]"
      ],
      "metadata": {
        "id": "sRJs1_q0BTg4"
      },
      "execution_count": 8,
      "outputs": []
    },
    {
      "cell_type": "code",
      "source": [
        "X_train,X_test,y_train,y_test = train_test_split(X,y, random_state=42)"
      ],
      "metadata": {
        "id": "Sgh6FFMMAw-m"
      },
      "execution_count": 9,
      "outputs": []
    },
    {
      "cell_type": "markdown",
      "source": [
        "Importar modelo arbol"
      ],
      "metadata": {
        "id": "FvMXC6V2Bc-m"
      }
    },
    {
      "cell_type": "markdown",
      "source": [
        "#1. Ejecutar modelo de arbol de regresion con los parametros por defecto"
      ],
      "metadata": {
        "id": "_6JsrSvLRGL0"
      }
    },
    {
      "cell_type": "code",
      "source": [
        "from sklearn.tree import DecisionTreeClassifier"
      ],
      "metadata": {
        "id": "58AadsZFBRc4"
      },
      "execution_count": 10,
      "outputs": []
    },
    {
      "cell_type": "markdown",
      "source": [
        "Instancia modelo\n"
      ],
      "metadata": {
        "id": "uMMIgQttBlPH"
      }
    },
    {
      "cell_type": "code",
      "source": [
        "dec_tree = DecisionTreeRegressor(random_state = 42)"
      ],
      "metadata": {
        "id": "v3-Zk09ABj3u"
      },
      "execution_count": 11,
      "outputs": []
    },
    {
      "cell_type": "markdown",
      "source": [
        "Ajustar modelo a datos de entrenamiento"
      ],
      "metadata": {
        "id": "7sbaETTcBwa4"
      }
    },
    {
      "cell_type": "code",
      "source": [
        "dec_tree.fit(X_train, y_train)"
      ],
      "metadata": {
        "colab": {
          "base_uri": "https://localhost:8080/"
        },
        "id": "_zlgAMTvBvhA",
        "outputId": "f7d6d846-b61d-4906-dca2-cdf470afcfa4"
      },
      "execution_count": 12,
      "outputs": [
        {
          "output_type": "execute_result",
          "data": {
            "text/plain": [
              "DecisionTreeRegressor(random_state=42)"
            ]
          },
          "metadata": {},
          "execution_count": 12
        }
      ]
    },
    {
      "cell_type": "markdown",
      "source": [
        "Predecir valores objetivos para el conjunto de entrenamiento y prueba"
      ],
      "metadata": {
        "id": "57p1hUpzEEDg"
      }
    },
    {
      "cell_type": "code",
      "source": [
        " train_preds = dec_tree.predict(X_train)\n",
        " test_preds = dec_tree.predict(X_test)"
      ],
      "metadata": {
        "id": "XDUmHiMKB0tN"
      },
      "execution_count": 13,
      "outputs": []
    },
    {
      "cell_type": "markdown",
      "source": [
        "![imagen.png](data:image/png;base64,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)"
      ],
      "metadata": {
        "id": "TQnVgVH_KVR2"
      }
    },
    {
      "cell_type": "markdown",
      "source": [
        "Evaluar modelo"
      ],
      "metadata": {
        "id": "jgd9w8fWNU8f"
      }
    },
    {
      "cell_type": "code",
      "source": [
        "train_score = dec_tree.score(X_train, y_train)\n",
        "test_score = dec_tree.score(X_test, y_test)\n",
        "print(train_score)\n",
        "print(test_score)"
      ],
      "metadata": {
        "colab": {
          "base_uri": "https://localhost:8080/"
        },
        "id": "8G366gf5KMHx",
        "outputId": "8263d1d1-1e1e-4cc9-d82c-81dd9dee896c"
      },
      "execution_count": 15,
      "outputs": [
        {
          "output_type": "stream",
          "name": "stdout",
          "text": [
            "1.0\n",
            "0.6193230918136841\n"
          ]
        }
      ]
    },
    {
      "cell_type": "markdown",
      "source": [
        "#2. Determinar la profundidad del arbol por defecto"
      ],
      "metadata": {
        "id": "JeZb3IZvNfrF"
      }
    },
    {
      "cell_type": "code",
      "source": [
        "dec_tree.get_depth()"
      ],
      "metadata": {
        "colab": {
          "base_uri": "https://localhost:8080/"
        },
        "id": "6MyzeX1cNPvj",
        "outputId": "db6e8c32-8622-43cc-a343-e539bb08c674"
      },
      "execution_count": 16,
      "outputs": [
        {
          "output_type": "execute_result",
          "data": {
            "text/plain": [
              "20"
            ]
          },
          "metadata": {},
          "execution_count": 16
        }
      ]
    },
    {
      "cell_type": "markdown",
      "source": [
        "Nodos hojas"
      ],
      "metadata": {
        "id": "HvcIpENFNm3L"
      }
    },
    {
      "cell_type": "code",
      "source": [
        "dec_tree.get_n_leaves()"
      ],
      "metadata": {
        "colab": {
          "base_uri": "https://localhost:8080/"
        },
        "id": "rEQ4VWpoNjnD",
        "outputId": "e0f5227e-5af6-45da-8062-1079cc30610d"
      },
      "execution_count": 17,
      "outputs": [
        {
          "output_type": "execute_result",
          "data": {
            "text/plain": [
              "360"
            ]
          },
          "metadata": {},
          "execution_count": 17
        }
      ]
    },
    {
      "cell_type": "markdown",
      "source": [
        "#3. Intentar diferentes valores para max_depth y determinar el valor optimo basandose en el mejor R2"
      ],
      "metadata": {
        "id": "dDSfTo3fRTCt"
      }
    },
    {
      "cell_type": "code",
      "source": [
        "dec_tree_7 = DecisionTreeRegressor(max_depth=7, random_state = 42)\n",
        "dec_tree_7.fit(X_train, y_train)\n",
        "train_7_score = dec_tree_7.score(X_train, y_train)\n",
        "test_7_score = dec_tree_7.score(X_test, y_test)\n",
        "print(train_7_score)\n",
        "print(test_7_score)"
      ],
      "metadata": {
        "colab": {
          "base_uri": "https://localhost:8080/"
        },
        "id": "ePhmt7tHNlSW",
        "outputId": "d5db1f64-b40b-4992-9b1e-23b3f88e6b74"
      },
      "execution_count": 45,
      "outputs": [
        {
          "output_type": "stream",
          "name": "stdout",
          "text": [
            "0.958516936961625\n",
            "0.8463768203632204\n"
          ]
        }
      ]
    },
    {
      "cell_type": "code",
      "source": [
        "max_depth_range = list(range(2,20))\n",
        "r2 = []\n",
        "for depth in max_depth_range:\n",
        "  dec_tree = DecisionTreeRegressor(max_depth=depth, random_state =42)\n",
        "  dec_tree.fit(X_train, y_train)\n",
        "  score = dec_tree.score(X_test, y_test)\n",
        "  r2.append(score)"
      ],
      "metadata": {
        "id": "xZi3yPFpN3N9"
      },
      "execution_count": 28,
      "outputs": []
    },
    {
      "cell_type": "code",
      "source": [
        "r2"
      ],
      "metadata": {
        "colab": {
          "base_uri": "https://localhost:8080/"
        },
        "id": "TmRYq425OrzG",
        "outputId": "374235a0-7574-41df-b4f7-e202ec5a378a"
      },
      "execution_count": 46,
      "outputs": [
        {
          "output_type": "execute_result",
          "data": {
            "text/plain": [
              "[0.6370379660938668,\n",
              " 0.6928945219667566,\n",
              " 0.7080984792681855,\n",
              " 0.770697400084247,\n",
              " 0.8259854674532312,\n",
              " 0.8463768203632204,\n",
              " 0.6383005344293057,\n",
              " 0.6845876043422093,\n",
              " 0.8460104271509634,\n",
              " 0.8297363137769441,\n",
              " 0.8271023856015939,\n",
              " 0.814125554883834,\n",
              " 0.8229955282755737,\n",
              " 0.7338563810264247,\n",
              " 0.5752097762818518,\n",
              " 0.683430185486966,\n",
              " 0.6716605024065316,\n",
              " 0.7688469449948019]"
            ]
          },
          "metadata": {},
          "execution_count": 46
        }
      ]
    },
    {
      "cell_type": "code",
      "source": [
        "import matplotlib.pyplot as plt\n",
        "plt.plot(max_depth_range, r2)\n",
        "plt.xlabel(\"max_depth\")\n",
        "plt.ylabel(\"r2\")"
      ],
      "metadata": {
        "colab": {
          "base_uri": "https://localhost:8080/",
          "height": 298
        },
        "id": "4DDi3RhfOwdw",
        "outputId": "aaf25c12-99ed-428b-e1db-ad4f0b5eda41"
      },
      "execution_count": 40,
      "outputs": [
        {
          "output_type": "execute_result",
          "data": {
            "text/plain": [
              "Text(0, 0.5, 'r2')"
            ]
          },
          "metadata": {},
          "execution_count": 40
        },
        {
          "output_type": "display_data",
          "data": {
            "text/plain": [
              "<Figure size 432x288 with 1 Axes>"
            ],
            "image/png": "[encoded data removed]"
          },
          "metadata": {
            "needs_background": "light"
          }
        }
      ]
    },
    {
      "cell_type": "markdown",
      "source": [
        "Se puede apreciar 2 picos R2 donde el resultado es bueno en el conjunto de prueba. siendo este el valor 0,84 y puede darse con un max_depth de 7, y 10.\n",
        "donde max_depth 7 es ligeramente mejor que 10"
      ],
      "metadata": {
        "id": "qgcnu-wcPbUj"
      }
    },
    {
      "cell_type": "code",
      "source": [],
      "metadata": {
        "id": "AgbbO1qDPH45"
      },
      "execution_count": null,
      "outputs": []
    }
  ]
}