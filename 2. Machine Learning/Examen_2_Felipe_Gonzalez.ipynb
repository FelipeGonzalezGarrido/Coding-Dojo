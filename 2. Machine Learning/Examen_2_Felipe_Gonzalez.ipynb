{
  "nbformat": 4,
  "nbformat_minor": 0,
  "metadata": {
    "colab": {
      "provenance": []
    },
    "kernelspec": {
      "name": "python3",
      "display_name": "Python 3"
    },
    "language_info": {
      "name": "python"
    }
  },
  "cells": [
    {
      "cell_type": "markdown",
      "source": [
        "# Tipo de farmaco\n",
        "\n",
        "Se busca utilizar la información sobre los pacientes para ayudar a los médicos a recomendarles el mejor tipo de medicamento.\n",
        "\n",
        "\n",
        "\n",
        "\n",
        "realizado por:\n",
        "- Felipe Gonzalez\n",
        "- Coding Dojo\n",
        "- Profesor: Francisco Alfaro\n",
        "- Profesor Asistente: Marco Fernandini"
      ],
      "metadata": {
        "id": "d_WcQoptie7a"
      }
    },
    {
      "cell_type": "markdown",
      "source": [
        "#**Librerias a utilizar**"
      ],
      "metadata": {
        "id": "oj6q9ZIK1XdC"
      }
    },
    {
      "cell_type": "code",
      "execution_count": 1,
      "metadata": {
        "colab": {
          "base_uri": "https://localhost:8080/"
        },
        "id": "zUdDAjZ3icm6",
        "outputId": "ea34ee6d-6760-467d-e0c6-eed2b89a031b"
      },
      "outputs": [
        {
          "output_type": "stream",
          "name": "stdout",
          "text": [
            "Mounted at /content/drive\n"
          ]
        }
      ],
      "source": [
        "from google.colab import drive\n",
        "drive.mount (\"/content/drive\")"
      ]
    },
    {
      "cell_type": "code",
      "source": [
        "import pandas as pd\n",
        "from sklearn.model_selection import train_test_split\n",
        "from sklearn.compose import make_column_selector, make_column_transformer\n",
        "from sklearn.preprocessing import StandardScaler, OneHotEncoder\n",
        "from sklearn.preprocessing import StandardScaler, OneHotEncoder\n",
        "import numpy as np\n",
        "import matplotlib.pyplot as plt\n",
        "import seaborn as sns\n",
        "from sklearn.ensemble import RandomForestClassifier\n",
        "from sklearn.neighbors import KNeighborsClassifier"
      ],
      "metadata": {
        "id": "QFxDffDLix88"
      },
      "execution_count": 241,
      "outputs": []
    },
    {
      "cell_type": "code",
      "source": [
        "filename = \"/content/drive/MyDrive/Data CodingDojo/drug200.csv\"\n",
        "df = pd.read_csv(filename)\n",
        "df.head()"
      ],
      "metadata": {
        "colab": {
          "base_uri": "https://localhost:8080/",
          "height": 206
        },
        "id": "M7O_oseuiy2x",
        "outputId": "389216e4-e611-48c2-8eba-78527b72c857"
      },
      "execution_count": 242,
      "outputs": [
        {
          "output_type": "execute_result",
          "data": {
            "text/plain": [
              "   Age Sex      BP Cholesterol  Na_to_K   Drug\n",
              "0   23   F    HIGH        HIGH   25.355  DrugY\n",
              "1   47   M     LOW        HIGH   13.093  drugC\n",
              "2   47   M     LOW        HIGH   10.114  drugC\n",
              "3   28   F  NORMAL        HIGH    7.798  drugX\n",
              "4   61   F     LOW        HIGH   18.043  DrugY"
            ],
            "text/html": [
              "\n",
              "  <div id=\"df-b34373ef-a695-4733-9b7b-ab0ac40903a3\">\n",
              "    <div class=\"colab-df-container\">\n",
              "      <div>\n",
              "<style scoped>\n",
              "    .dataframe tbody tr th:only-of-type {\n",
              "        vertical-align: middle;\n",
              "    }\n",
              "\n",
              "    .dataframe tbody tr th {\n",
              "        vertical-align: top;\n",
              "    }\n",
              "\n",
              "    .dataframe thead th {\n",
              "        text-align: right;\n",
              "    }\n",
              "</style>\n",
              "<table border=\"1\" class=\"dataframe\">\n",
              "  <thead>\n",
              "    <tr style=\"text-align: right;\">\n",
              "      <th></th>\n",
              "      <th>Age</th>\n",
              "      <th>Sex</th>\n",
              "      <th>BP</th>\n",
              "      <th>Cholesterol</th>\n",
              "      <th>Na_to_K</th>\n",
              "      <th>Drug</th>\n",
              "    </tr>\n",
              "  </thead>\n",
              "  <tbody>\n",
              "    <tr>\n",
              "      <th>0</th>\n",
              "      <td>23</td>\n",
              "      <td>F</td>\n",
              "      <td>HIGH</td>\n",
              "      <td>HIGH</td>\n",
              "      <td>25.355</td>\n",
              "      <td>DrugY</td>\n",
              "    </tr>\n",
              "    <tr>\n",
              "      <th>1</th>\n",
              "      <td>47</td>\n",
              "      <td>M</td>\n",
              "      <td>LOW</td>\n",
              "      <td>HIGH</td>\n",
              "      <td>13.093</td>\n",
              "      <td>drugC</td>\n",
              "    </tr>\n",
              "    <tr>\n",
              "      <th>2</th>\n",
              "      <td>47</td>\n",
              "      <td>M</td>\n",
              "      <td>LOW</td>\n",
              "      <td>HIGH</td>\n",
              "      <td>10.114</td>\n",
              "      <td>drugC</td>\n",
              "    </tr>\n",
              "    <tr>\n",
              "      <th>3</th>\n",
              "      <td>28</td>\n",
              "      <td>F</td>\n",
              "      <td>NORMAL</td>\n",
              "      <td>HIGH</td>\n",
              "      <td>7.798</td>\n",
              "      <td>drugX</td>\n",
              "    </tr>\n",
              "    <tr>\n",
              "      <th>4</th>\n",
              "      <td>61</td>\n",
              "      <td>F</td>\n",
              "      <td>LOW</td>\n",
              "      <td>HIGH</td>\n",
              "      <td>18.043</td>\n",
              "      <td>DrugY</td>\n",
              "    </tr>\n",
              "  </tbody>\n",
              "</table>\n",
              "</div>\n",
              "      <button class=\"colab-df-convert\" onclick=\"convertToInteractive('df-b34373ef-a695-4733-9b7b-ab0ac40903a3')\"\n",
              "              title=\"Convert this dataframe to an interactive table.\"\n",
              "              style=\"display:none;\">\n",
              "        \n",
              "  <svg xmlns=\"http://www.w3.org/2000/svg\" height=\"24px\"viewBox=\"0 0 24 24\"\n",
              "       width=\"24px\">\n",
              "    <path d=\"M0 0h24v24H0V0z\" fill=\"none\"/>\n",
              "    <path d=\"M18.56 5.44l.94 2.06.94-2.06 2.06-.94-2.06-.94-.94-2.06-.94 2.06-2.06.94zm-11 1L8.5 8.5l.94-2.06 2.06-.94-2.06-.94L8.5 2.5l-.94 2.06-2.06.94zm10 10l.94 2.06.94-2.06 2.06-.94-2.06-.94-.94-2.06-.94 2.06-2.06.94z\"/><path d=\"M17.41 7.96l-1.37-1.37c-.4-.4-.92-.59-1.43-.59-.52 0-1.04.2-1.43.59L10.3 9.45l-7.72 7.72c-.78.78-.78 2.05 0 2.83L4 21.41c.39.39.9.59 1.41.59.51 0 1.02-.2 1.41-.59l7.78-7.78 2.81-2.81c.8-.78.8-2.07 0-2.86zM5.41 20L4 18.59l7.72-7.72 1.47 1.35L5.41 20z\"/>\n",
              "  </svg>\n",
              "      </button>\n",
              "      \n",
              "  <style>\n",
              "    .colab-df-container {\n",
              "      display:flex;\n",
              "      flex-wrap:wrap;\n",
              "      gap: 12px;\n",
              "    }\n",
              "\n",
              "    .colab-df-convert {\n",
              "      background-color: #E8F0FE;\n",
              "      border: none;\n",
              "      border-radius: 50%;\n",
              "      cursor: pointer;\n",
              "      display: none;\n",
              "      fill: #1967D2;\n",
              "      height: 32px;\n",
              "      padding: 0 0 0 0;\n",
              "      width: 32px;\n",
              "    }\n",
              "\n",
              "    .colab-df-convert:hover {\n",
              "      background-color: #E2EBFA;\n",
              "      box-shadow: 0px 1px 2px rgba(60, 64, 67, 0.3), 0px 1px 3px 1px rgba(60, 64, 67, 0.15);\n",
              "      fill: #174EA6;\n",
              "    }\n",
              "\n",
              "    [theme=dark] .colab-df-convert {\n",
              "      background-color: #3B4455;\n",
              "      fill: #D2E3FC;\n",
              "    }\n",
              "\n",
              "    [theme=dark] .colab-df-convert:hover {\n",
              "      background-color: #434B5C;\n",
              "      box-shadow: 0px 1px 3px 1px rgba(0, 0, 0, 0.15);\n",
              "      filter: drop-shadow(0px 1px 2px rgba(0, 0, 0, 0.3));\n",
              "      fill: #FFFFFF;\n",
              "    }\n",
              "  </style>\n",
              "\n",
              "      <script>\n",
              "        const buttonEl =\n",
              "          document.querySelector('#df-b34373ef-a695-4733-9b7b-ab0ac40903a3 button.colab-df-convert');\n",
              "        buttonEl.style.display =\n",
              "          google.colab.kernel.accessAllowed ? 'block' : 'none';\n",
              "\n",
              "        async function convertToInteractive(key) {\n",
              "          const element = document.querySelector('#df-b34373ef-a695-4733-9b7b-ab0ac40903a3');\n",
              "          const dataTable =\n",
              "            await google.colab.kernel.invokeFunction('convertToInteractive',\n",
              "                                                     [key], {});\n",
              "          if (!dataTable) return;\n",
              "\n",
              "          const docLinkHtml = 'Like what you see? Visit the ' +\n",
              "            '<a target=\"_blank\" href=https://colab.research.google.com/notebooks/data_table.ipynb>data table notebook</a>'\n",
              "            + ' to learn more about interactive tables.';\n",
              "          element.innerHTML = '';\n",
              "          dataTable['output_type'] = 'display_data';\n",
              "          await google.colab.output.renderOutput(dataTable, element);\n",
              "          const docLink = document.createElement('div');\n",
              "          docLink.innerHTML = docLinkHtml;\n",
              "          element.appendChild(docLink);\n",
              "        }\n",
              "      </script>\n",
              "    </div>\n",
              "  </div>\n",
              "  "
            ]
          },
          "metadata": {},
          "execution_count": 242
        }
      ]
    },
    {
      "cell_type": "markdown",
      "source": [
        "#**Analisis de datos con Pandas**"
      ],
      "metadata": {
        "id": "Ufr3K_nBjJZc"
      }
    },
    {
      "cell_type": "markdown",
      "source": [
        "## Se puede afirmar que el conjunto de datos:\n",
        "\n",
        "- Su dimension por defecto es: 6 columnas y 200 registros\n",
        "- No tiene valores nulos.\n",
        "- No tiene valores duplicados.\n",
        "- Presenta incosistencia en nombre de droga \"DrugY\" el cual fue normalizado a \"drugY\".\n",
        "- No presenta valores numericos anormales.\n",
        "- El data type de cada columna coincide con el diccionario de datos otorgado"
      ],
      "metadata": {
        "id": "Pk8u2FVkjYro"
      }
    },
    {
      "cell_type": "code",
      "source": [
        "df.info()"
      ],
      "metadata": {
        "colab": {
          "base_uri": "https://localhost:8080/"
        },
        "id": "x2heao4XjG74",
        "outputId": "a1417d51-5b27-4283-e01c-5925411f4ba7"
      },
      "execution_count": 243,
      "outputs": [
        {
          "output_type": "stream",
          "name": "stdout",
          "text": [
            "<class 'pandas.core.frame.DataFrame'>\n",
            "RangeIndex: 200 entries, 0 to 199\n",
            "Data columns (total 6 columns):\n",
            " #   Column       Non-Null Count  Dtype  \n",
            "---  ------       --------------  -----  \n",
            " 0   Age          200 non-null    int64  \n",
            " 1   Sex          200 non-null    object \n",
            " 2   BP           200 non-null    object \n",
            " 3   Cholesterol  200 non-null    object \n",
            " 4   Na_to_K      200 non-null    float64\n",
            " 5   Drug         200 non-null    object \n",
            "dtypes: float64(1), int64(1), object(4)\n",
            "memory usage: 9.5+ KB\n"
          ]
        }
      ]
    },
    {
      "cell_type": "markdown",
      "source": [
        "**busqueda de nulos**"
      ],
      "metadata": {
        "id": "ZstcFrc4jw8E"
      }
    },
    {
      "cell_type": "code",
      "source": [
        "df.isna().sum()"
      ],
      "metadata": {
        "colab": {
          "base_uri": "https://localhost:8080/"
        },
        "id": "R1tyAUHgjNVI",
        "outputId": "f1893a3a-ea4e-4fb2-e804-79268d051c14"
      },
      "execution_count": 244,
      "outputs": [
        {
          "output_type": "execute_result",
          "data": {
            "text/plain": [
              "Age            0\n",
              "Sex            0\n",
              "BP             0\n",
              "Cholesterol    0\n",
              "Na_to_K        0\n",
              "Drug           0\n",
              "dtype: int64"
            ]
          },
          "metadata": {},
          "execution_count": 244
        }
      ]
    },
    {
      "cell_type": "markdown",
      "source": [
        "**busqueda de duplicados**"
      ],
      "metadata": {
        "id": "__M6yPMmjzTw"
      }
    },
    {
      "cell_type": "code",
      "source": [
        "df.duplicated().sum()"
      ],
      "metadata": {
        "colab": {
          "base_uri": "https://localhost:8080/"
        },
        "id": "JTfPs7dpjP4E",
        "outputId": "06fbe058-dabf-422a-ef15-86378caf644b"
      },
      "execution_count": 245,
      "outputs": [
        {
          "output_type": "execute_result",
          "data": {
            "text/plain": [
              "0"
            ]
          },
          "metadata": {},
          "execution_count": 245
        }
      ]
    },
    {
      "cell_type": "markdown",
      "source": [
        "**busqueda de inconsistencias**\n",
        "\n",
        "- Gracias a funcion .unique() Se aprecia una incosistencia con el nombre de droga \"DrugY\" , el cual siguiendo los demas nombres, deberia ser \"drugY\"."
      ],
      "metadata": {
        "id": "bhG0N_Ihj63k"
      }
    },
    {
      "cell_type": "code",
      "source": [
        "df[\"Drug\"].unique()"
      ],
      "metadata": {
        "colab": {
          "base_uri": "https://localhost:8080/"
        },
        "id": "NehElufwjS-B",
        "outputId": "e64eec52-de59-4bb9-9e12-aa61898c9f5b"
      },
      "execution_count": 250,
      "outputs": [
        {
          "output_type": "execute_result",
          "data": {
            "text/plain": [
              "array(['drugY', 'drugC', 'drugX', 'drugA', 'drugB'], dtype=object)"
            ]
          },
          "metadata": {},
          "execution_count": 250
        }
      ]
    },
    {
      "cell_type": "code",
      "source": [
        "df[df[\"Drug\"] == \"DrugY\"]"
      ],
      "metadata": {
        "colab": {
          "base_uri": "https://localhost:8080/",
          "height": 424
        },
        "id": "SJcX49MereWC",
        "outputId": "e7c8ae64-c9ee-4012-865c-84798905198d"
      },
      "execution_count": 247,
      "outputs": [
        {
          "output_type": "execute_result",
          "data": {
            "text/plain": [
              "     Age Sex      BP Cholesterol  Na_to_K   Drug\n",
              "0     23   F    HIGH        HIGH   25.355  DrugY\n",
              "4     61   F     LOW        HIGH   18.043  DrugY\n",
              "6     49   F  NORMAL        HIGH   16.275  DrugY\n",
              "8     60   M  NORMAL        HIGH   15.171  DrugY\n",
              "9     43   M     LOW      NORMAL   19.368  DrugY\n",
              "..   ...  ..     ...         ...      ...    ...\n",
              "188   65   M    HIGH      NORMAL   34.997  DrugY\n",
              "189   64   M    HIGH      NORMAL   20.932  DrugY\n",
              "190   58   M    HIGH        HIGH   18.991  DrugY\n",
              "192   72   M     LOW        HIGH   16.310  DrugY\n",
              "194   46   F    HIGH        HIGH   34.686  DrugY\n",
              "\n",
              "[91 rows x 6 columns]"
            ],
            "text/html": [
              "\n",
              "  <div id=\"df-688e8473-e060-474b-ac03-df043caed576\">\n",
              "    <div class=\"colab-df-container\">\n",
              "      <div>\n",
              "<style scoped>\n",
              "    .dataframe tbody tr th:only-of-type {\n",
              "        vertical-align: middle;\n",
              "    }\n",
              "\n",
              "    .dataframe tbody tr th {\n",
              "        vertical-align: top;\n",
              "    }\n",
              "\n",
              "    .dataframe thead th {\n",
              "        text-align: right;\n",
              "    }\n",
              "</style>\n",
              "<table border=\"1\" class=\"dataframe\">\n",
              "  <thead>\n",
              "    <tr style=\"text-align: right;\">\n",
              "      <th></th>\n",
              "      <th>Age</th>\n",
              "      <th>Sex</th>\n",
              "      <th>BP</th>\n",
              "      <th>Cholesterol</th>\n",
              "      <th>Na_to_K</th>\n",
              "      <th>Drug</th>\n",
              "    </tr>\n",
              "  </thead>\n",
              "  <tbody>\n",
              "    <tr>\n",
              "      <th>0</th>\n",
              "      <td>23</td>\n",
              "      <td>F</td>\n",
              "      <td>HIGH</td>\n",
              "      <td>HIGH</td>\n",
              "      <td>25.355</td>\n",
              "      <td>DrugY</td>\n",
              "    </tr>\n",
              "    <tr>\n",
              "      <th>4</th>\n",
              "      <td>61</td>\n",
              "      <td>F</td>\n",
              "      <td>LOW</td>\n",
              "      <td>HIGH</td>\n",
              "      <td>18.043</td>\n",
              "      <td>DrugY</td>\n",
              "    </tr>\n",
              "    <tr>\n",
              "      <th>6</th>\n",
              "      <td>49</td>\n",
              "      <td>F</td>\n",
              "      <td>NORMAL</td>\n",
              "      <td>HIGH</td>\n",
              "      <td>16.275</td>\n",
              "      <td>DrugY</td>\n",
              "    </tr>\n",
              "    <tr>\n",
              "      <th>8</th>\n",
              "      <td>60</td>\n",
              "      <td>M</td>\n",
              "      <td>NORMAL</td>\n",
              "      <td>HIGH</td>\n",
              "      <td>15.171</td>\n",
              "      <td>DrugY</td>\n",
              "    </tr>\n",
              "    <tr>\n",
              "      <th>9</th>\n",
              "      <td>43</td>\n",
              "      <td>M</td>\n",
              "      <td>LOW</td>\n",
              "      <td>NORMAL</td>\n",
              "      <td>19.368</td>\n",
              "      <td>DrugY</td>\n",
              "    </tr>\n",
              "    <tr>\n",
              "      <th>...</th>\n",
              "      <td>...</td>\n",
              "      <td>...</td>\n",
              "      <td>...</td>\n",
              "      <td>...</td>\n",
              "      <td>...</td>\n",
              "      <td>...</td>\n",
              "    </tr>\n",
              "    <tr>\n",
              "      <th>188</th>\n",
              "      <td>65</td>\n",
              "      <td>M</td>\n",
              "      <td>HIGH</td>\n",
              "      <td>NORMAL</td>\n",
              "      <td>34.997</td>\n",
              "      <td>DrugY</td>\n",
              "    </tr>\n",
              "    <tr>\n",
              "      <th>189</th>\n",
              "      <td>64</td>\n",
              "      <td>M</td>\n",
              "      <td>HIGH</td>\n",
              "      <td>NORMAL</td>\n",
              "      <td>20.932</td>\n",
              "      <td>DrugY</td>\n",
              "    </tr>\n",
              "    <tr>\n",
              "      <th>190</th>\n",
              "      <td>58</td>\n",
              "      <td>M</td>\n",
              "      <td>HIGH</td>\n",
              "      <td>HIGH</td>\n",
              "      <td>18.991</td>\n",
              "      <td>DrugY</td>\n",
              "    </tr>\n",
              "    <tr>\n",
              "      <th>192</th>\n",
              "      <td>72</td>\n",
              "      <td>M</td>\n",
              "      <td>LOW</td>\n",
              "      <td>HIGH</td>\n",
              "      <td>16.310</td>\n",
              "      <td>DrugY</td>\n",
              "    </tr>\n",
              "    <tr>\n",
              "      <th>194</th>\n",
              "      <td>46</td>\n",
              "      <td>F</td>\n",
              "      <td>HIGH</td>\n",
              "      <td>HIGH</td>\n",
              "      <td>34.686</td>\n",
              "      <td>DrugY</td>\n",
              "    </tr>\n",
              "  </tbody>\n",
              "</table>\n",
              "<p>91 rows × 6 columns</p>\n",
              "</div>\n",
              "      <button class=\"colab-df-convert\" onclick=\"convertToInteractive('df-688e8473-e060-474b-ac03-df043caed576')\"\n",
              "              title=\"Convert this dataframe to an interactive table.\"\n",
              "              style=\"display:none;\">\n",
              "        \n",
              "  <svg xmlns=\"http://www.w3.org/2000/svg\" height=\"24px\"viewBox=\"0 0 24 24\"\n",
              "       width=\"24px\">\n",
              "    <path d=\"M0 0h24v24H0V0z\" fill=\"none\"/>\n",
              "    <path d=\"M18.56 5.44l.94 2.06.94-2.06 2.06-.94-2.06-.94-.94-2.06-.94 2.06-2.06.94zm-11 1L8.5 8.5l.94-2.06 2.06-.94-2.06-.94L8.5 2.5l-.94 2.06-2.06.94zm10 10l.94 2.06.94-2.06 2.06-.94-2.06-.94-.94-2.06-.94 2.06-2.06.94z\"/><path d=\"M17.41 7.96l-1.37-1.37c-.4-.4-.92-.59-1.43-.59-.52 0-1.04.2-1.43.59L10.3 9.45l-7.72 7.72c-.78.78-.78 2.05 0 2.83L4 21.41c.39.39.9.59 1.41.59.51 0 1.02-.2 1.41-.59l7.78-7.78 2.81-2.81c.8-.78.8-2.07 0-2.86zM5.41 20L4 18.59l7.72-7.72 1.47 1.35L5.41 20z\"/>\n",
              "  </svg>\n",
              "      </button>\n",
              "      \n",
              "  <style>\n",
              "    .colab-df-container {\n",
              "      display:flex;\n",
              "      flex-wrap:wrap;\n",
              "      gap: 12px;\n",
              "    }\n",
              "\n",
              "    .colab-df-convert {\n",
              "      background-color: #E8F0FE;\n",
              "      border: none;\n",
              "      border-radius: 50%;\n",
              "      cursor: pointer;\n",
              "      display: none;\n",
              "      fill: #1967D2;\n",
              "      height: 32px;\n",
              "      padding: 0 0 0 0;\n",
              "      width: 32px;\n",
              "    }\n",
              "\n",
              "    .colab-df-convert:hover {\n",
              "      background-color: #E2EBFA;\n",
              "      box-shadow: 0px 1px 2px rgba(60, 64, 67, 0.3), 0px 1px 3px 1px rgba(60, 64, 67, 0.15);\n",
              "      fill: #174EA6;\n",
              "    }\n",
              "\n",
              "    [theme=dark] .colab-df-convert {\n",
              "      background-color: #3B4455;\n",
              "      fill: #D2E3FC;\n",
              "    }\n",
              "\n",
              "    [theme=dark] .colab-df-convert:hover {\n",
              "      background-color: #434B5C;\n",
              "      box-shadow: 0px 1px 3px 1px rgba(0, 0, 0, 0.15);\n",
              "      filter: drop-shadow(0px 1px 2px rgba(0, 0, 0, 0.3));\n",
              "      fill: #FFFFFF;\n",
              "    }\n",
              "  </style>\n",
              "\n",
              "      <script>\n",
              "        const buttonEl =\n",
              "          document.querySelector('#df-688e8473-e060-474b-ac03-df043caed576 button.colab-df-convert');\n",
              "        buttonEl.style.display =\n",
              "          google.colab.kernel.accessAllowed ? 'block' : 'none';\n",
              "\n",
              "        async function convertToInteractive(key) {\n",
              "          const element = document.querySelector('#df-688e8473-e060-474b-ac03-df043caed576');\n",
              "          const dataTable =\n",
              "            await google.colab.kernel.invokeFunction('convertToInteractive',\n",
              "                                                     [key], {});\n",
              "          if (!dataTable) return;\n",
              "\n",
              "          const docLinkHtml = 'Like what you see? Visit the ' +\n",
              "            '<a target=\"_blank\" href=https://colab.research.google.com/notebooks/data_table.ipynb>data table notebook</a>'\n",
              "            + ' to learn more about interactive tables.';\n",
              "          element.innerHTML = '';\n",
              "          dataTable['output_type'] = 'display_data';\n",
              "          await google.colab.output.renderOutput(dataTable, element);\n",
              "          const docLink = document.createElement('div');\n",
              "          docLink.innerHTML = docLinkHtml;\n",
              "          element.appendChild(docLink);\n",
              "        }\n",
              "      </script>\n",
              "    </div>\n",
              "  </div>\n",
              "  "
            ]
          },
          "metadata": {},
          "execution_count": 247
        }
      ]
    },
    {
      "cell_type": "code",
      "source": [
        "df[\"Drug\"].replace({\"DrugY\":\"drugY\"}, inplace=True)"
      ],
      "metadata": {
        "id": "njSWkCpurkan"
      },
      "execution_count": 248,
      "outputs": []
    },
    {
      "cell_type": "markdown",
      "source": [
        "**busqueda de valores anormales**\n",
        "\n",
        "- Funcion .decribe() no arroja valores anormales."
      ],
      "metadata": {
        "id": "lJDi8136kYYX"
      }
    },
    {
      "cell_type": "code",
      "source": [
        "df.describe()"
      ],
      "metadata": {
        "colab": {
          "base_uri": "https://localhost:8080/",
          "height": 300
        },
        "id": "G5fVO8fwkB7J",
        "outputId": "ab834405-d6fb-45aa-8b84-3eaaadcb8f74"
      },
      "execution_count": 249,
      "outputs": [
        {
          "output_type": "execute_result",
          "data": {
            "text/plain": [
              "              Age     Na_to_K\n",
              "count  200.000000  200.000000\n",
              "mean    44.315000   16.084485\n",
              "std     16.544315    7.223956\n",
              "min     15.000000    6.269000\n",
              "25%     31.000000   10.445500\n",
              "50%     45.000000   13.936500\n",
              "75%     58.000000   19.380000\n",
              "max     74.000000   38.247000"
            ],
            "text/html": [
              "\n",
              "  <div id=\"df-08ebde36-b132-4ea5-ba89-e9f7445fdc63\">\n",
              "    <div class=\"colab-df-container\">\n",
              "      <div>\n",
              "<style scoped>\n",
              "    .dataframe tbody tr th:only-of-type {\n",
              "        vertical-align: middle;\n",
              "    }\n",
              "\n",
              "    .dataframe tbody tr th {\n",
              "        vertical-align: top;\n",
              "    }\n",
              "\n",
              "    .dataframe thead th {\n",
              "        text-align: right;\n",
              "    }\n",
              "</style>\n",
              "<table border=\"1\" class=\"dataframe\">\n",
              "  <thead>\n",
              "    <tr style=\"text-align: right;\">\n",
              "      <th></th>\n",
              "      <th>Age</th>\n",
              "      <th>Na_to_K</th>\n",
              "    </tr>\n",
              "  </thead>\n",
              "  <tbody>\n",
              "    <tr>\n",
              "      <th>count</th>\n",
              "      <td>200.000000</td>\n",
              "      <td>200.000000</td>\n",
              "    </tr>\n",
              "    <tr>\n",
              "      <th>mean</th>\n",
              "      <td>44.315000</td>\n",
              "      <td>16.084485</td>\n",
              "    </tr>\n",
              "    <tr>\n",
              "      <th>std</th>\n",
              "      <td>16.544315</td>\n",
              "      <td>7.223956</td>\n",
              "    </tr>\n",
              "    <tr>\n",
              "      <th>min</th>\n",
              "      <td>15.000000</td>\n",
              "      <td>6.269000</td>\n",
              "    </tr>\n",
              "    <tr>\n",
              "      <th>25%</th>\n",
              "      <td>31.000000</td>\n",
              "      <td>10.445500</td>\n",
              "    </tr>\n",
              "    <tr>\n",
              "      <th>50%</th>\n",
              "      <td>45.000000</td>\n",
              "      <td>13.936500</td>\n",
              "    </tr>\n",
              "    <tr>\n",
              "      <th>75%</th>\n",
              "      <td>58.000000</td>\n",
              "      <td>19.380000</td>\n",
              "    </tr>\n",
              "    <tr>\n",
              "      <th>max</th>\n",
              "      <td>74.000000</td>\n",
              "      <td>38.247000</td>\n",
              "    </tr>\n",
              "  </tbody>\n",
              "</table>\n",
              "</div>\n",
              "      <button class=\"colab-df-convert\" onclick=\"convertToInteractive('df-08ebde36-b132-4ea5-ba89-e9f7445fdc63')\"\n",
              "              title=\"Convert this dataframe to an interactive table.\"\n",
              "              style=\"display:none;\">\n",
              "        \n",
              "  <svg xmlns=\"http://www.w3.org/2000/svg\" height=\"24px\"viewBox=\"0 0 24 24\"\n",
              "       width=\"24px\">\n",
              "    <path d=\"M0 0h24v24H0V0z\" fill=\"none\"/>\n",
              "    <path d=\"M18.56 5.44l.94 2.06.94-2.06 2.06-.94-2.06-.94-.94-2.06-.94 2.06-2.06.94zm-11 1L8.5 8.5l.94-2.06 2.06-.94-2.06-.94L8.5 2.5l-.94 2.06-2.06.94zm10 10l.94 2.06.94-2.06 2.06-.94-2.06-.94-.94-2.06-.94 2.06-2.06.94z\"/><path d=\"M17.41 7.96l-1.37-1.37c-.4-.4-.92-.59-1.43-.59-.52 0-1.04.2-1.43.59L10.3 9.45l-7.72 7.72c-.78.78-.78 2.05 0 2.83L4 21.41c.39.39.9.59 1.41.59.51 0 1.02-.2 1.41-.59l7.78-7.78 2.81-2.81c.8-.78.8-2.07 0-2.86zM5.41 20L4 18.59l7.72-7.72 1.47 1.35L5.41 20z\"/>\n",
              "  </svg>\n",
              "      </button>\n",
              "      \n",
              "  <style>\n",
              "    .colab-df-container {\n",
              "      display:flex;\n",
              "      flex-wrap:wrap;\n",
              "      gap: 12px;\n",
              "    }\n",
              "\n",
              "    .colab-df-convert {\n",
              "      background-color: #E8F0FE;\n",
              "      border: none;\n",
              "      border-radius: 50%;\n",
              "      cursor: pointer;\n",
              "      display: none;\n",
              "      fill: #1967D2;\n",
              "      height: 32px;\n",
              "      padding: 0 0 0 0;\n",
              "      width: 32px;\n",
              "    }\n",
              "\n",
              "    .colab-df-convert:hover {\n",
              "      background-color: #E2EBFA;\n",
              "      box-shadow: 0px 1px 2px rgba(60, 64, 67, 0.3), 0px 1px 3px 1px rgba(60, 64, 67, 0.15);\n",
              "      fill: #174EA6;\n",
              "    }\n",
              "\n",
              "    [theme=dark] .colab-df-convert {\n",
              "      background-color: #3B4455;\n",
              "      fill: #D2E3FC;\n",
              "    }\n",
              "\n",
              "    [theme=dark] .colab-df-convert:hover {\n",
              "      background-color: #434B5C;\n",
              "      box-shadow: 0px 1px 3px 1px rgba(0, 0, 0, 0.15);\n",
              "      filter: drop-shadow(0px 1px 2px rgba(0, 0, 0, 0.3));\n",
              "      fill: #FFFFFF;\n",
              "    }\n",
              "  </style>\n",
              "\n",
              "      <script>\n",
              "        const buttonEl =\n",
              "          document.querySelector('#df-08ebde36-b132-4ea5-ba89-e9f7445fdc63 button.colab-df-convert');\n",
              "        buttonEl.style.display =\n",
              "          google.colab.kernel.accessAllowed ? 'block' : 'none';\n",
              "\n",
              "        async function convertToInteractive(key) {\n",
              "          const element = document.querySelector('#df-08ebde36-b132-4ea5-ba89-e9f7445fdc63');\n",
              "          const dataTable =\n",
              "            await google.colab.kernel.invokeFunction('convertToInteractive',\n",
              "                                                     [key], {});\n",
              "          if (!dataTable) return;\n",
              "\n",
              "          const docLinkHtml = 'Like what you see? Visit the ' +\n",
              "            '<a target=\"_blank\" href=https://colab.research.google.com/notebooks/data_table.ipynb>data table notebook</a>'\n",
              "            + ' to learn more about interactive tables.';\n",
              "          element.innerHTML = '';\n",
              "          dataTable['output_type'] = 'display_data';\n",
              "          await google.colab.output.renderOutput(dataTable, element);\n",
              "          const docLink = document.createElement('div');\n",
              "          docLink.innerHTML = docLinkHtml;\n",
              "          element.appendChild(docLink);\n",
              "        }\n",
              "      </script>\n",
              "    </div>\n",
              "  </div>\n",
              "  "
            ]
          },
          "metadata": {},
          "execution_count": 249
        }
      ]
    },
    {
      "cell_type": "markdown",
      "source": [
        "#**Inicio de preprocesamiento de datos**"
      ],
      "metadata": {
        "id": "QQrh0CtKkxTE"
      }
    },
    {
      "cell_type": "markdown",
      "source": [
        "La mision es buscar el mejor tipo de farmaco para cada cliente.\n",
        "\n",
        "por lo que nuestra columna objetivo sera \"Drug\""
      ],
      "metadata": {
        "id": "6pSaiMCBk8CA"
      }
    },
    {
      "cell_type": "markdown",
      "source": [
        "**codificacion ordinal**\n",
        "\n",
        "columnas a codificar:\n",
        "- BP\n",
        "- Cholesterol"
      ],
      "metadata": {
        "id": "3Gt2bgjx4055"
      }
    },
    {
      "cell_type": "markdown",
      "source": [
        "Visualizacion de dataframe"
      ],
      "metadata": {
        "id": "NljQhtwW5_wq"
      }
    },
    {
      "cell_type": "code",
      "source": [
        "df.head()"
      ],
      "metadata": {
        "colab": {
          "base_uri": "https://localhost:8080/",
          "height": 206
        },
        "id": "R6nijJul4z-w",
        "outputId": "2de4f9b4-1b73-4fae-e0e9-27fa4f02ba51"
      },
      "execution_count": 251,
      "outputs": [
        {
          "output_type": "execute_result",
          "data": {
            "text/plain": [
              "   Age Sex      BP Cholesterol  Na_to_K   Drug\n",
              "0   23   F    HIGH        HIGH   25.355  drugY\n",
              "1   47   M     LOW        HIGH   13.093  drugC\n",
              "2   47   M     LOW        HIGH   10.114  drugC\n",
              "3   28   F  NORMAL        HIGH    7.798  drugX\n",
              "4   61   F     LOW        HIGH   18.043  drugY"
            ],
            "text/html": [
              "\n",
              "  <div id=\"df-f75658e3-f282-4c7b-b5f7-c5f499253c59\">\n",
              "    <div class=\"colab-df-container\">\n",
              "      <div>\n",
              "<style scoped>\n",
              "    .dataframe tbody tr th:only-of-type {\n",
              "        vertical-align: middle;\n",
              "    }\n",
              "\n",
              "    .dataframe tbody tr th {\n",
              "        vertical-align: top;\n",
              "    }\n",
              "\n",
              "    .dataframe thead th {\n",
              "        text-align: right;\n",
              "    }\n",
              "</style>\n",
              "<table border=\"1\" class=\"dataframe\">\n",
              "  <thead>\n",
              "    <tr style=\"text-align: right;\">\n",
              "      <th></th>\n",
              "      <th>Age</th>\n",
              "      <th>Sex</th>\n",
              "      <th>BP</th>\n",
              "      <th>Cholesterol</th>\n",
              "      <th>Na_to_K</th>\n",
              "      <th>Drug</th>\n",
              "    </tr>\n",
              "  </thead>\n",
              "  <tbody>\n",
              "    <tr>\n",
              "      <th>0</th>\n",
              "      <td>23</td>\n",
              "      <td>F</td>\n",
              "      <td>HIGH</td>\n",
              "      <td>HIGH</td>\n",
              "      <td>25.355</td>\n",
              "      <td>drugY</td>\n",
              "    </tr>\n",
              "    <tr>\n",
              "      <th>1</th>\n",
              "      <td>47</td>\n",
              "      <td>M</td>\n",
              "      <td>LOW</td>\n",
              "      <td>HIGH</td>\n",
              "      <td>13.093</td>\n",
              "      <td>drugC</td>\n",
              "    </tr>\n",
              "    <tr>\n",
              "      <th>2</th>\n",
              "      <td>47</td>\n",
              "      <td>M</td>\n",
              "      <td>LOW</td>\n",
              "      <td>HIGH</td>\n",
              "      <td>10.114</td>\n",
              "      <td>drugC</td>\n",
              "    </tr>\n",
              "    <tr>\n",
              "      <th>3</th>\n",
              "      <td>28</td>\n",
              "      <td>F</td>\n",
              "      <td>NORMAL</td>\n",
              "      <td>HIGH</td>\n",
              "      <td>7.798</td>\n",
              "      <td>drugX</td>\n",
              "    </tr>\n",
              "    <tr>\n",
              "      <th>4</th>\n",
              "      <td>61</td>\n",
              "      <td>F</td>\n",
              "      <td>LOW</td>\n",
              "      <td>HIGH</td>\n",
              "      <td>18.043</td>\n",
              "      <td>drugY</td>\n",
              "    </tr>\n",
              "  </tbody>\n",
              "</table>\n",
              "</div>\n",
              "      <button class=\"colab-df-convert\" onclick=\"convertToInteractive('df-f75658e3-f282-4c7b-b5f7-c5f499253c59')\"\n",
              "              title=\"Convert this dataframe to an interactive table.\"\n",
              "              style=\"display:none;\">\n",
              "        \n",
              "  <svg xmlns=\"http://www.w3.org/2000/svg\" height=\"24px\"viewBox=\"0 0 24 24\"\n",
              "       width=\"24px\">\n",
              "    <path d=\"M0 0h24v24H0V0z\" fill=\"none\"/>\n",
              "    <path d=\"M18.56 5.44l.94 2.06.94-2.06 2.06-.94-2.06-.94-.94-2.06-.94 2.06-2.06.94zm-11 1L8.5 8.5l.94-2.06 2.06-.94-2.06-.94L8.5 2.5l-.94 2.06-2.06.94zm10 10l.94 2.06.94-2.06 2.06-.94-2.06-.94-.94-2.06-.94 2.06-2.06.94z\"/><path d=\"M17.41 7.96l-1.37-1.37c-.4-.4-.92-.59-1.43-.59-.52 0-1.04.2-1.43.59L10.3 9.45l-7.72 7.72c-.78.78-.78 2.05 0 2.83L4 21.41c.39.39.9.59 1.41.59.51 0 1.02-.2 1.41-.59l7.78-7.78 2.81-2.81c.8-.78.8-2.07 0-2.86zM5.41 20L4 18.59l7.72-7.72 1.47 1.35L5.41 20z\"/>\n",
              "  </svg>\n",
              "      </button>\n",
              "      \n",
              "  <style>\n",
              "    .colab-df-container {\n",
              "      display:flex;\n",
              "      flex-wrap:wrap;\n",
              "      gap: 12px;\n",
              "    }\n",
              "\n",
              "    .colab-df-convert {\n",
              "      background-color: #E8F0FE;\n",
              "      border: none;\n",
              "      border-radius: 50%;\n",
              "      cursor: pointer;\n",
              "      display: none;\n",
              "      fill: #1967D2;\n",
              "      height: 32px;\n",
              "      padding: 0 0 0 0;\n",
              "      width: 32px;\n",
              "    }\n",
              "\n",
              "    .colab-df-convert:hover {\n",
              "      background-color: #E2EBFA;\n",
              "      box-shadow: 0px 1px 2px rgba(60, 64, 67, 0.3), 0px 1px 3px 1px rgba(60, 64, 67, 0.15);\n",
              "      fill: #174EA6;\n",
              "    }\n",
              "\n",
              "    [theme=dark] .colab-df-convert {\n",
              "      background-color: #3B4455;\n",
              "      fill: #D2E3FC;\n",
              "    }\n",
              "\n",
              "    [theme=dark] .colab-df-convert:hover {\n",
              "      background-color: #434B5C;\n",
              "      box-shadow: 0px 1px 3px 1px rgba(0, 0, 0, 0.15);\n",
              "      filter: drop-shadow(0px 1px 2px rgba(0, 0, 0, 0.3));\n",
              "      fill: #FFFFFF;\n",
              "    }\n",
              "  </style>\n",
              "\n",
              "      <script>\n",
              "        const buttonEl =\n",
              "          document.querySelector('#df-f75658e3-f282-4c7b-b5f7-c5f499253c59 button.colab-df-convert');\n",
              "        buttonEl.style.display =\n",
              "          google.colab.kernel.accessAllowed ? 'block' : 'none';\n",
              "\n",
              "        async function convertToInteractive(key) {\n",
              "          const element = document.querySelector('#df-f75658e3-f282-4c7b-b5f7-c5f499253c59');\n",
              "          const dataTable =\n",
              "            await google.colab.kernel.invokeFunction('convertToInteractive',\n",
              "                                                     [key], {});\n",
              "          if (!dataTable) return;\n",
              "\n",
              "          const docLinkHtml = 'Like what you see? Visit the ' +\n",
              "            '<a target=\"_blank\" href=https://colab.research.google.com/notebooks/data_table.ipynb>data table notebook</a>'\n",
              "            + ' to learn more about interactive tables.';\n",
              "          element.innerHTML = '';\n",
              "          dataTable['output_type'] = 'display_data';\n",
              "          await google.colab.output.renderOutput(dataTable, element);\n",
              "          const docLink = document.createElement('div');\n",
              "          docLink.innerHTML = docLinkHtml;\n",
              "          element.appendChild(docLink);\n",
              "        }\n",
              "      </script>\n",
              "    </div>\n",
              "  </div>\n",
              "  "
            ]
          },
          "metadata": {},
          "execution_count": 251
        }
      ]
    },
    {
      "cell_type": "code",
      "source": [
        "df[\"BP\"].value_counts()"
      ],
      "metadata": {
        "colab": {
          "base_uri": "https://localhost:8080/"
        },
        "id": "02_K8uRh5gao",
        "outputId": "3c1efe8b-2491-41e6-b0f7-6477a904af4f"
      },
      "execution_count": 256,
      "outputs": [
        {
          "output_type": "execute_result",
          "data": {
            "text/plain": [
              "2    77\n",
              "0    64\n",
              "1    59\n",
              "Name: BP, dtype: int64"
            ]
          },
          "metadata": {},
          "execution_count": 256
        }
      ]
    },
    {
      "cell_type": "code",
      "source": [
        "df[\"Cholesterol\"].value_counts()"
      ],
      "metadata": {
        "colab": {
          "base_uri": "https://localhost:8080/"
        },
        "id": "PTi3iiI446IG",
        "outputId": "eccc35e1-f755-460d-c9ac-b740e0c7cf98"
      },
      "execution_count": 257,
      "outputs": [
        {
          "output_type": "execute_result",
          "data": {
            "text/plain": [
              "1    103\n",
              "0     97\n",
              "Name: Cholesterol, dtype: int64"
            ]
          },
          "metadata": {},
          "execution_count": 257
        }
      ]
    },
    {
      "cell_type": "code",
      "source": [
        "df[\"BP\"].replace({\"LOW\":0,\"NORMAL\":1,\"HIGH\":2}, inplace=True)"
      ],
      "metadata": {
        "id": "BmtNFI6P5A3w"
      },
      "execution_count": 254,
      "outputs": []
    },
    {
      "cell_type": "code",
      "source": [
        "df[\"Cholesterol\"].replace({\"NORMAL\":0,\"HIGH\":1}, inplace=True)"
      ],
      "metadata": {
        "id": "dcYj7kmZ5rnA"
      },
      "execution_count": 255,
      "outputs": []
    },
    {
      "cell_type": "markdown",
      "source": [
        "**Inicio train test split**"
      ],
      "metadata": {
        "id": "KM_Y-m50lNOZ"
      }
    },
    {
      "cell_type": "code",
      "source": [
        "X = df.drop(columns = \"Drug\")\n",
        "y = df[\"Drug\"]\n",
        "\n",
        "X_train, X_test, y_train, y_test = train_test_split( X, y, random_state =42)"
      ],
      "metadata": {
        "id": "8WPQ2Vvgk1f_"
      },
      "execution_count": 258,
      "outputs": []
    },
    {
      "cell_type": "markdown",
      "source": [
        "**Selector de columnas, categoricas y numericas**"
      ],
      "metadata": {
        "id": "Pz_f3jAUljvK"
      }
    },
    {
      "cell_type": "code",
      "source": [
        "cat_selector = make_column_selector(dtype_include =\"object\")\n",
        "num_selector = make_column_selector(dtype_include =\"number\")"
      ],
      "metadata": {
        "id": "h92NTfcelaIj"
      },
      "execution_count": 259,
      "outputs": []
    },
    {
      "cell_type": "markdown",
      "source": [
        "**Instanciar scalador y OHE**"
      ],
      "metadata": {
        "id": "IysLvjTVmDLX"
      }
    },
    {
      "cell_type": "code",
      "source": [
        "scaler = StandardScaler()\n",
        "ohe = OneHotEncoder()"
      ],
      "metadata": {
        "id": "pgeh0mk8l1Wv"
      },
      "execution_count": 260,
      "outputs": []
    },
    {
      "cell_type": "markdown",
      "source": [
        "**Creacion de ColumnTransformer**"
      ],
      "metadata": {
        "id": "dohmnfecmkBj"
      }
    },
    {
      "cell_type": "code",
      "source": [
        "num_tuple = (scaler, num_selector)\n",
        "cat_tuple = (ohe, cat_selector)"
      ],
      "metadata": {
        "id": "ypTDDPzmmghL"
      },
      "execution_count": 261,
      "outputs": []
    },
    {
      "cell_type": "code",
      "source": [
        "preprocessor = make_column_transformer(num_tuple, cat_tuple)"
      ],
      "metadata": {
        "id": "mn1abuZXmzGT"
      },
      "execution_count": 262,
      "outputs": []
    },
    {
      "cell_type": "markdown",
      "source": [
        "**Ajuste al conjunto de datos**"
      ],
      "metadata": {
        "id": "dBEav6Bgm_L1"
      }
    },
    {
      "cell_type": "code",
      "source": [
        "preprocessor.fit(X_train)"
      ],
      "metadata": {
        "colab": {
          "base_uri": "https://localhost:8080/"
        },
        "id": "1NpLeii7m8Lz",
        "outputId": "890f7bb7-4721-47b0-ccfe-ee972e162ba8"
      },
      "execution_count": 263,
      "outputs": [
        {
          "output_type": "execute_result",
          "data": {
            "text/plain": [
              "ColumnTransformer(transformers=[('standardscaler', StandardScaler(),\n",
              "                                 <sklearn.compose._column_transformer.make_column_selector object at 0x7fed8d7158b0>),\n",
              "                                ('onehotencoder', OneHotEncoder(),\n",
              "                                 <sklearn.compose._column_transformer.make_column_selector object at 0x7fed8d56d3a0>)])"
            ]
          },
          "metadata": {},
          "execution_count": 263
        }
      ]
    },
    {
      "cell_type": "markdown",
      "source": [
        "**Transformacion de datos**"
      ],
      "metadata": {
        "id": "FfpY8AqgnPj0"
      }
    },
    {
      "cell_type": "code",
      "source": [
        "X_train_processed = preprocessor.transform(X_train)\n",
        "X_test_processed = preprocessor.transform(X_test)"
      ],
      "metadata": {
        "id": "u4pX0svZnELT"
      },
      "execution_count": 264,
      "outputs": []
    },
    {
      "cell_type": "markdown",
      "source": [
        "**Comprobacion de preprocesamiento exitoso**"
      ],
      "metadata": {
        "id": "bSg5-RI0nT-y"
      }
    },
    {
      "cell_type": "code",
      "source": [
        "print(np.isnan(X_train_processed).sum().sum(), 'missing values in training data')\n",
        "print(np.isnan(X_test_processed).sum().sum(), 'missing values in testing data')\n",
        "print('\\n')\n",
        "print('All data in X_train_processed are', X_train_processed.dtype)\n",
        "print('All data in X_test_processed are', X_test_processed.dtype)\n",
        "print('\\n')\n",
        "print('shape of data is', X_train_processed.shape)"
      ],
      "metadata": {
        "colab": {
          "base_uri": "https://localhost:8080/"
        },
        "id": "5ALZ1sCpnOs5",
        "outputId": "6456b6e9-6616-4950-98e3-d12c18e36c11"
      },
      "execution_count": 265,
      "outputs": [
        {
          "output_type": "stream",
          "name": "stdout",
          "text": [
            "0 missing values in training data\n",
            "0 missing values in testing data\n",
            "\n",
            "\n",
            "All data in X_train_processed are float64\n",
            "All data in X_test_processed are float64\n",
            "\n",
            "\n",
            "shape of data is (150, 6)\n"
          ]
        }
      ]
    },
    {
      "cell_type": "markdown",
      "source": [
        "#**Visualizaciones**"
      ],
      "metadata": {
        "id": "SDOKETpnnfHA"
      }
    },
    {
      "cell_type": "markdown",
      "source": [
        "- cabe recalcar que visualizaciones se realizan con dataframe original, sin codificar ni escalar para un entendimiento para humanos.\n"
      ],
      "metadata": {
        "id": "cgSC0vvmoOJU"
      }
    },
    {
      "cell_type": "code",
      "source": [
        "df[\"Age\"].plot(kind=\"hist\", color=\"gray\", alpha=.5)\n",
        "plt.title('Edad de pacientes examinados',fontsize = 16);\n",
        "plt.ylabel('Cantidad de pacientes',fontsize = 16);\n",
        "plt.xlabel(\"Rango de edad\", fontsize = 16)\n",
        "plt.xticks(rotation = \"horizontal\");"
      ],
      "metadata": {
        "colab": {
          "base_uri": "https://localhost:8080/",
          "height": 384
        },
        "id": "KXlnsaDunXfm",
        "outputId": "17489e04-6cbf-4206-b7a0-221aed6fe5ff"
      },
      "execution_count": 268,
      "outputs": [
        {
          "output_type": "display_data",
          "data": {
            "text/plain": [
              "<Figure size 576x396 with 1 Axes>"
            ],
            "image/png": "[encoded data removed]"
          },
          "metadata": {}
        }
      ]
    },
    {
      "cell_type": "markdown",
      "source": [
        "Se puede apreciar a travez de un histograma la cantidad de pacientes examinados por rangos etarios.\n",
        "\n",
        "- donde se puede notar que el rango etario 45 - 50 fue quien mas farmaco necesito.\n",
        "- Tambien es posible apreciar que el grupo etario que se encuentra alreadedor de los 20 años es el que menos farmaco necesita."
      ],
      "metadata": {
        "id": "9DQOCvv-oufP"
      }
    },
    {
      "cell_type": "code",
      "source": [
        "sns.boxplot(x=df[\"Drug\"], y= df[\"Age\"])"
      ],
      "metadata": {
        "colab": {
          "base_uri": "https://localhost:8080/",
          "height": 379
        },
        "id": "gIUNqA0GoKh8",
        "outputId": "c3c750c1-5655-4511-ff33-d1f69008c306"
      },
      "execution_count": 207,
      "outputs": [
        {
          "output_type": "execute_result",
          "data": {
            "text/plain": [
              "<matplotlib.axes._subplots.AxesSubplot at 0x7fed8d5444f0>"
            ]
          },
          "metadata": {},
          "execution_count": 207
        },
        {
          "output_type": "display_data",
          "data": {
            "text/plain": [
              "<Figure size 576x396 with 1 Axes>"
            ],
            "image/png": "[encoded data removed]"
          },
          "metadata": {}
        }
      ]
    },
    {
      "cell_type": "markdown",
      "source": [
        "Se puede apreciar en boxplot mostrado que:\n",
        "- las drogas mas apliamente utilizadas son drugY, drugC y drugX, mientras que drugA se utiliza en pacientes de hasta 50 años y drugB se utiliza en pacientes con rango etario de 50 a 70."
      ],
      "metadata": {
        "id": "1vz69OzAs7CR"
      }
    },
    {
      "cell_type": "markdown",
      "source": [
        "#Aplicacion de modelo de clasificacion\n",
        "\n",
        "Se requiere recomendar el mejor tipo de medicamento a los pacientes, este problema es de clasificacion. por ende los modelos a utilizar seran de clasificacion.\n",
        "\n",
        "El modelo es multiclase, el cual tambien se encuentra desbalanceado debido a sus proporciones."
      ],
      "metadata": {
        "id": "dZ7iJfEttuOc"
      }
    },
    {
      "cell_type": "code",
      "source": [
        "#Visualizacion de vector objetivo\n",
        "df[\"Drug\"].value_counts()"
      ],
      "metadata": {
        "colab": {
          "base_uri": "https://localhost:8080/"
        },
        "id": "xD_72uiRqvEs",
        "outputId": "b61139a6-5c6b-40c9-b7e7-3d04dee24850"
      },
      "execution_count": 208,
      "outputs": [
        {
          "output_type": "execute_result",
          "data": {
            "text/plain": [
              "drugY    91\n",
              "drugX    54\n",
              "drugA    23\n",
              "drugC    16\n",
              "drugB    16\n",
              "Name: Drug, dtype: int64"
            ]
          },
          "metadata": {},
          "execution_count": 208
        }
      ]
    },
    {
      "cell_type": "markdown",
      "source": [
        "##**RandomForest**\n"
      ],
      "metadata": {
        "id": "NSx4_vsXxh8c"
      }
    },
    {
      "cell_type": "code",
      "source": [
        "rf = RandomForestClassifier(random_state= 42) # no se configura ningun hiperparametro\n",
        "rf.fit(X_train_processed, y_train)# ajuste a datos procesados y vector objetivo\n",
        "rf_train_score = rf.score(X_train_processed, y_train) # score en conjunto de entrenamiento\n",
        "rf_test_score = rf.score(X_test_processed, y_test) # score en conjunto de prueba\n",
        "rf_predict = rf.predict(X_test_processed)\n",
        "print(\"Score para conjunto de entrenamiento por defecto:\", rf_train_score,\"\\n\"\"Score para conjunto de prueba por defecto:\", rf_test_score)"
      ],
      "metadata": {
        "colab": {
          "base_uri": "https://localhost:8080/"
        },
        "id": "kRDnMXo0u-UY",
        "outputId": "4237d703-cb09-4061-8143-f8e1d7ee0bdd"
      },
      "execution_count": 269,
      "outputs": [
        {
          "output_type": "stream",
          "name": "stdout",
          "text": [
            "Score para conjunto de entrenamiento por defecto: 1.0 \n",
            "Score para conjunto de prueba por defecto: 0.96\n"
          ]
        }
      ]
    },
    {
      "cell_type": "markdown",
      "source": [
        "**busqueda de hiperparametros para la optimizacion**\n",
        "\n"
      ],
      "metadata": {
        "id": "rJ8XT_pUzXqm"
      }
    },
    {
      "cell_type": "code",
      "source": [
        "rf.get_params()"
      ],
      "metadata": {
        "colab": {
          "base_uri": "https://localhost:8080/"
        },
        "id": "ZgCAq_6n3xte",
        "outputId": "71fdc174-8de4-419a-e3ee-3dd497a02001"
      },
      "execution_count": 190,
      "outputs": [
        {
          "output_type": "execute_result",
          "data": {
            "text/plain": [
              "{'bootstrap': True,\n",
              " 'ccp_alpha': 0.0,\n",
              " 'class_weight': None,\n",
              " 'criterion': 'gini',\n",
              " 'max_depth': None,\n",
              " 'max_features': 'auto',\n",
              " 'max_leaf_nodes': None,\n",
              " 'max_samples': None,\n",
              " 'min_impurity_decrease': 0.0,\n",
              " 'min_samples_leaf': 1,\n",
              " 'min_samples_split': 2,\n",
              " 'min_weight_fraction_leaf': 0.0,\n",
              " 'n_estimators': 100,\n",
              " 'n_jobs': None,\n",
              " 'oob_score': False,\n",
              " 'random_state': 42,\n",
              " 'verbose': 0,\n",
              " 'warm_start': False}"
            ]
          },
          "metadata": {},
          "execution_count": 190
        }
      ]
    },
    {
      "cell_type": "markdown",
      "source": [
        "**optimizacion de modelo Random Forest**\n",
        "\n",
        "- Se utilizaran los hiperparametros 'max_depth' y  'n_estimators' para la optimizacion\n",
        "- el bucle for a continuacion nos ayuda a iterar en un rango dado para buscar el mejor rendimiento del modelo."
      ],
      "metadata": {
        "id": "H-V09LriG8IU"
      }
    },
    {
      "cell_type": "markdown",
      "source": [
        "**Bucle for para busqueda de max_depth optimo en modelo de random forest**"
      ],
      "metadata": {
        "id": "S49yOeuh9BAe"
      }
    },
    {
      "cell_type": "code",
      "source": [
        "# Lista de valores a probar para max_depth:\n",
        "max_depth = list(range(2, 10))\n",
        "r2_depth = []\n",
        "for x in max_depth:\n",
        "    rf_x = RandomForestClassifier(max_depth = x,\n",
        "                             random_state = 42)\n",
        "    rf_x.fit(X_train_processed, y_train)\n",
        "    score = rf_x.score(X_test_processed, y_test)\n",
        "    r2_depth.append(score)\n",
        "plt.plot(max_depth, r2_depth)\n",
        "plt.xlabel('max_depth')\n",
        "plt.ylabel('R2');\n",
        "     \n"
      ],
      "metadata": {
        "colab": {
          "base_uri": "https://localhost:8080/",
          "height": 361
        },
        "id": "gLFzU-pd7b58",
        "outputId": "8cc4d938-6d42-4c23-b04b-21bcc8cc2b5b"
      },
      "execution_count": 270,
      "outputs": [
        {
          "output_type": "display_data",
          "data": {
            "text/plain": [
              "<Figure size 576x396 with 1 Axes>"
            ],
            "image/png": "[encoded data removed]"
          },
          "metadata": {}
        }
      ]
    },
    {
      "cell_type": "markdown",
      "source": [
        "**bucle for para busqueda de n_estimators optimo para modelo de random forest**"
      ],
      "metadata": {
        "id": "NYP02grLGW3e"
      }
    },
    {
      "cell_type": "code",
      "source": [
        "n_estimators = list(range(60,70))\n",
        "r2_estimators = []\n",
        "for x in n_estimators:\n",
        "    rf_x = RandomForestClassifier(max_depth = 6,\n",
        "                                  n_estimators=x,\n",
        "                             random_state = 42)\n",
        "    rf_x.fit(X_train_processed, y_train)\n",
        "    score_estimators = rf_x.score(X_test_processed, y_test)\n",
        "    r2_estimators.append(score_estimators)\n",
        "plt.plot(n_estimators, r2_estimators)\n",
        "plt.xlabel('n_estimators')\n",
        "plt.ylabel('R2');"
      ],
      "metadata": {
        "colab": {
          "base_uri": "https://localhost:8080/",
          "height": 361
        },
        "id": "OxCOOnri-2Yg",
        "outputId": "3bbc82eb-6e4f-4365-c53e-b8716e4ff396"
      },
      "execution_count": 271,
      "outputs": [
        {
          "output_type": "display_data",
          "data": {
            "text/plain": [
              "<Figure size 576x396 with 1 Axes>"
            ],
            "image/png": "[encoded data removed]"
          },
          "metadata": {}
        }
      ]
    },
    {
      "cell_type": "markdown",
      "source": [
        "Con el grafico resultante se puede apreciar que el max_depth optimo es 6 y el n_estimators optimo es 68"
      ],
      "metadata": {
        "id": "3zZ5oK0r9LFH"
      }
    },
    {
      "cell_type": "markdown",
      "source": [
        "**RF Optimizado**"
      ],
      "metadata": {
        "id": "lBbLxNl59TIt"
      }
    },
    {
      "cell_type": "code",
      "source": [
        "rf = RandomForestClassifier(random_state= 42, max_depth = 6, n_estimators=68)\n",
        "rf.fit(X_train_processed, y_train)\n",
        "rf_train_score_opt = rf.score(X_train_processed, y_train)\n",
        "rf_test_score_opt = rf.score(X_test_processed, y_test)\n",
        "print(\"Score optimizado de RF para conjunto de entrenamiento:\", rf_train_score_opt,\"\\n\"\"Score optimizado de RF para conjunto de prueba:\", rf_test_score_opt)\n"
      ],
      "metadata": {
        "colab": {
          "base_uri": "https://localhost:8080/"
        },
        "id": "LmIrThwX78fo",
        "outputId": "8538483d-8499-40ef-9740-c8c17deb16b7"
      },
      "execution_count": 272,
      "outputs": [
        {
          "output_type": "stream",
          "name": "stdout",
          "text": [
            "Score optimizado de RF para conjunto de entrenamiento: 1.0 \n",
            "Score optimizado de RF para conjunto de prueba: 0.96\n"
          ]
        }
      ]
    },
    {
      "cell_type": "markdown",
      "source": [
        "###**A pesar de la optimizacion de hiperparametros el modelo Random Forest mantuvo su resultado R^2**"
      ],
      "metadata": {
        "id": "oB9oGtH3CZB8"
      }
    },
    {
      "cell_type": "markdown",
      "source": [
        "##**Modelo KNN**"
      ],
      "metadata": {
        "id": "27Ld-cmuyWhr"
      }
    },
    {
      "cell_type": "code",
      "source": [
        "knn = KNeighborsClassifier()\n",
        "knn.fit(X_train_processed, y_train)\n",
        "knn_train_score = knn.score(X_train_processed, y_train)\n",
        "knn_test_score = knn.score(X_test_processed, y_test)\n",
        "print(\"Score para conjunto de entrenamiento por defecto:\", knn_train_score,\"\\n\"\"Score para conjunto de prueba por defecto:\", knn_test_score)"
      ],
      "metadata": {
        "colab": {
          "base_uri": "https://localhost:8080/"
        },
        "id": "mLwKmcdVxgnT",
        "outputId": "f3e10fdc-453b-4e69-e138-e2a8ae61a6cb"
      },
      "execution_count": 273,
      "outputs": [
        {
          "output_type": "stream",
          "name": "stdout",
          "text": [
            "Score para conjunto de entrenamiento por defecto: 0.8733333333333333 \n",
            "Score para conjunto de prueba por defecto: 0.84\n"
          ]
        }
      ]
    },
    {
      "cell_type": "markdown",
      "source": [
        "**busqueda de hiperparametro para optimizacion**"
      ],
      "metadata": {
        "id": "11WnVKPr02Vj"
      }
    },
    {
      "cell_type": "code",
      "source": [
        "knn.get_params()"
      ],
      "metadata": {
        "colab": {
          "base_uri": "https://localhost:8080/"
        },
        "id": "63hiXtsdzFLt",
        "outputId": "1a72911d-4534-4375-9ed9-92adc34970ae"
      },
      "execution_count": 99,
      "outputs": [
        {
          "output_type": "execute_result",
          "data": {
            "text/plain": [
              "{'algorithm': 'auto',\n",
              " 'leaf_size': 30,\n",
              " 'metric': 'minkowski',\n",
              " 'metric_params': None,\n",
              " 'n_jobs': None,\n",
              " 'n_neighbors': 5,\n",
              " 'p': 2,\n",
              " 'weights': 'uniform'}"
            ]
          },
          "metadata": {},
          "execution_count": 99
        }
      ]
    },
    {
      "cell_type": "markdown",
      "source": [
        "**optimizacion de modelo KNN**\n",
        "\n",
        "- Se utilizara el hiperparametro  'n_neighbors' para la optimizacion\n",
        "- el bucle for a continuacion nos ayuda a iterar en un rango dado para buscar el mejor rendimiento del modelo."
      ],
      "metadata": {
        "id": "lLpbL7xD0FFb"
      }
    },
    {
      "cell_type": "code",
      "source": [
        "score_knn = []\n",
        "for x in range(1,10):\n",
        "  knn_x = KNeighborsClassifier(n_neighbors=x)\n",
        "  knn_x.fit(X_train_processed,y_train)\n",
        "  predictions = knn_x.predict(X_test_processed)\n",
        "  knn_score = knn_x.score(X_test_processed, y_test)\n",
        "  score_knn.append(knn_score)\n",
        "score_knn"
      ],
      "metadata": {
        "colab": {
          "base_uri": "https://localhost:8080/"
        },
        "id": "pD3-ynBq0Bgw",
        "outputId": "622bb86f-43d5-4fca-a9c9-41e0779a2704"
      },
      "execution_count": 277,
      "outputs": [
        {
          "output_type": "execute_result",
          "data": {
            "text/plain": [
              "[0.94, 0.9, 0.88, 0.82, 0.84, 0.82, 0.82, 0.76, 0.82]"
            ]
          },
          "metadata": {},
          "execution_count": 277
        }
      ]
    },
    {
      "cell_type": "markdown",
      "source": [
        "**Modelo optimizado con hiperparametro n_neighbors= 1**"
      ],
      "metadata": {
        "id": "nyKHRarP0sKw"
      }
    },
    {
      "cell_type": "code",
      "source": [
        "knn = KNeighborsClassifier(n_neighbors=1)\n",
        "knn.fit(X_train_processed, y_train)\n",
        "knn_train_score = knn.score(X_train_processed, y_train)\n",
        "knn_test_score = knn.score(X_test_processed, y_test)\n",
        "print(\"Score para conjunto de entrenamiento:\", knn_train_score,\"\\n\"\"Score para conjunto de prueba:\", knn_test_score)"
      ],
      "metadata": {
        "colab": {
          "base_uri": "https://localhost:8080/"
        },
        "id": "03NI-2CJ0bkw",
        "outputId": "38f20402-b7b7-489e-8bac-73ca066bbfd3"
      },
      "execution_count": 278,
      "outputs": [
        {
          "output_type": "stream",
          "name": "stdout",
          "text": [
            "Score para conjunto de entrenamiento: 1.0 \n",
            "Score para conjunto de prueba: 0.94\n"
          ]
        }
      ]
    },
    {
      "cell_type": "markdown",
      "source": [
        "## Conclusion.\n",
        "\n",
        "Modelo utilizados:\n",
        "\n",
        "- Random Forest \n",
        "- KNN\n",
        "\n",
        "Con los resultados por defecto, es posible ver que:\n",
        "\n",
        "- El modelo Random Forest fue superior a KNN con un mejor puntaje R^2.\n",
        "\n",
        "Con los modelos optimizados, tanto max_depth para RF y n_neighbors para KNN:\n",
        "\n",
        "- El modelo Random Forest siguio siendo superior aunque con la optimizacion de hiperparametros no subio el puntaje R^2, aun asi se mantuvo sobre el modelo  KNN aunque por un menor margen dado que KNN logro buena puntuacion R^2 final.\n",
        "\n",
        "\n",
        "-**En definitiva se recomienda utilizar el modelo de Random Forest por su buen desempeño al momento de evaluar el conjunto de prueba dentro del modelo de validacion train test split**\n"
      ],
      "metadata": {
        "id": "9kIpa_UV2mly"
      }
    },
    {
      "cell_type": "code",
      "source": [],
      "metadata": {
        "id": "KmuVtix-21Bp"
      },
      "execution_count": null,
      "outputs": []
    }
  ]
}