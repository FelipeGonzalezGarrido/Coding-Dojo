{
  "nbformat": 4,
  "nbformat_minor": 0,
  "metadata": {
    "colab": {
      "provenance": []
    },
    "kernelspec": {
      "name": "python3",
      "display_name": "Python 3"
    },
    "language_info": {
      "name": "python"
    }
  },
  "cells": [
    {
      "cell_type": "markdown",
      "source": [
        "##**Examen de Cinturón**\n",
        "###**Datos Personales**\n",
        "\n",
        "- Nombre Completo: Felipe Gonzalez Garrido\n",
        "- ID Coding Dojo: 80479\n",
        "- Track: MACHINE LEARNING V22.1 \n",
        "- Nombre del examen: Diabetes\n",
        "- Intento: 2\n"
      ],
      "metadata": {
        "id": "lC2LX8POwfk3"
      }
    },
    {
      "cell_type": "markdown",
      "source": [
        "#Descripcion del problema\n",
        "\n",
        "Este consiste en predecir de forma diagnostica si un paciente tiene diabetes o no, basandose en determinadas medida de diagnosticos incluidas en el conjunto de datos.\n",
        "\n",
        "Se realizara:\n",
        "- Limpieza de datos.\n",
        "- Exploracion visual de datos.\n",
        "- Creacion de un modelo optimo para predecir si paciente tiene diabetes."
      ],
      "metadata": {
        "id": "Ti6Ic2sHxACi"
      }
    },
    {
      "cell_type": "markdown",
      "source": [
        "# Solucion"
      ],
      "metadata": {
        "id": "-esoD4_Uydrj"
      }
    },
    {
      "cell_type": "markdown",
      "source": [
        "# I. Análisis Exploratorio\n",
        "\n",
        "\n",
        "**Manipulación de datos**\n"
      ],
      "metadata": {
        "id": "kBfBLAwExo-Z"
      }
    },
    {
      "cell_type": "code",
      "execution_count": null,
      "metadata": {
        "colab": {
          "base_uri": "https://localhost:8080/"
        },
        "id": "fMWq0u4WwXl1",
        "outputId": "fc0d9c9b-dbf3-4d22-d0cc-95d5df1a953a"
      },
      "outputs": [
        {
          "output_type": "stream",
          "name": "stdout",
          "text": [
            "Mounted at /content/drive\n"
          ]
        }
      ],
      "source": [
        "from google.colab import drive\n",
        "drive.mount (\"/content/drive\")"
      ]
    },
    {
      "cell_type": "markdown",
      "source": [
        "**Librerias a utilizar**"
      ],
      "metadata": {
        "id": "exfrRQUsyrvJ"
      }
    },
    {
      "cell_type": "code",
      "source": [
        "import pandas as pd\n",
        "import seaborn as sns\n",
        "import matplotlib.pyplot as plt\n",
        "import numpy as np\n",
        "from sklearn.model_selection import train_test_split\n",
        "from sklearn.ensemble import RandomForestClassifier\n",
        "from sklearn.compose import make_column_selector, make_column_transformer\n",
        "from sklearn.preprocessing import StandardScaler\n",
        "from sklearn.ensemble import RandomForestClassifier\n",
        "from sklearn.neighbors import KNeighborsClassifier\n",
        "from sklearn.metrics import accuracy_score"
      ],
      "metadata": {
        "id": "kOOoJzrpxzL1"
      },
      "execution_count": 204,
      "outputs": []
    },
    {
      "cell_type": "code",
      "source": [
        "filename = \"/content/drive/MyDrive/Data CodingDojo/diabetes.csv\"\n",
        "df = pd.read_csv(filename)\n",
        "df.head()"
      ],
      "metadata": {
        "colab": {
          "base_uri": "https://localhost:8080/",
          "height": 206
        },
        "id": "a6nftMKgx-e3",
        "outputId": "8f392b66-5bd7-42ae-8a5b-5ec5645430c8"
      },
      "execution_count": 225,
      "outputs": [
        {
          "output_type": "execute_result",
          "data": {
            "text/plain": [
              "   Pregnancies  Glucose  BloodPressure  SkinThickness  Insulin   BMI  \\\n",
              "0            6      148             72             35        0  33.6   \n",
              "1            1       85             66             29        0  26.6   \n",
              "2            8      183             64              0        0  23.3   \n",
              "3            1       89             66             23       94  28.1   \n",
              "4            0      137             40             35      168  43.1   \n",
              "\n",
              "   DiabetesPedigreeFunction  Age  Outcome  \n",
              "0                     0.627   50        1  \n",
              "1                     0.351   31        0  \n",
              "2                     0.672   32        1  \n",
              "3                     0.167   21        0  \n",
              "4                     2.288   33        1  "
            ],
            "text/html": [
              "\n",
              "  <div id=\"df-47481f92-66dd-45b5-a8f3-36f9a177020a\">\n",
              "    <div class=\"colab-df-container\">\n",
              "      <div>\n",
              "<style scoped>\n",
              "    .dataframe tbody tr th:only-of-type {\n",
              "        vertical-align: middle;\n",
              "    }\n",
              "\n",
              "    .dataframe tbody tr th {\n",
              "        vertical-align: top;\n",
              "    }\n",
              "\n",
              "    .dataframe thead th {\n",
              "        text-align: right;\n",
              "    }\n",
              "</style>\n",
              "<table border=\"1\" class=\"dataframe\">\n",
              "  <thead>\n",
              "    <tr style=\"text-align: right;\">\n",
              "      <th></th>\n",
              "      <th>Pregnancies</th>\n",
              "      <th>Glucose</th>\n",
              "      <th>BloodPressure</th>\n",
              "      <th>SkinThickness</th>\n",
              "      <th>Insulin</th>\n",
              "      <th>BMI</th>\n",
              "      <th>DiabetesPedigreeFunction</th>\n",
              "      <th>Age</th>\n",
              "      <th>Outcome</th>\n",
              "    </tr>\n",
              "  </thead>\n",
              "  <tbody>\n",
              "    <tr>\n",
              "      <th>0</th>\n",
              "      <td>6</td>\n",
              "      <td>148</td>\n",
              "      <td>72</td>\n",
              "      <td>35</td>\n",
              "      <td>0</td>\n",
              "      <td>33.6</td>\n",
              "      <td>0.627</td>\n",
              "      <td>50</td>\n",
              "      <td>1</td>\n",
              "    </tr>\n",
              "    <tr>\n",
              "      <th>1</th>\n",
              "      <td>1</td>\n",
              "      <td>85</td>\n",
              "      <td>66</td>\n",
              "      <td>29</td>\n",
              "      <td>0</td>\n",
              "      <td>26.6</td>\n",
              "      <td>0.351</td>\n",
              "      <td>31</td>\n",
              "      <td>0</td>\n",
              "    </tr>\n",
              "    <tr>\n",
              "      <th>2</th>\n",
              "      <td>8</td>\n",
              "      <td>183</td>\n",
              "      <td>64</td>\n",
              "      <td>0</td>\n",
              "      <td>0</td>\n",
              "      <td>23.3</td>\n",
              "      <td>0.672</td>\n",
              "      <td>32</td>\n",
              "      <td>1</td>\n",
              "    </tr>\n",
              "    <tr>\n",
              "      <th>3</th>\n",
              "      <td>1</td>\n",
              "      <td>89</td>\n",
              "      <td>66</td>\n",
              "      <td>23</td>\n",
              "      <td>94</td>\n",
              "      <td>28.1</td>\n",
              "      <td>0.167</td>\n",
              "      <td>21</td>\n",
              "      <td>0</td>\n",
              "    </tr>\n",
              "    <tr>\n",
              "      <th>4</th>\n",
              "      <td>0</td>\n",
              "      <td>137</td>\n",
              "      <td>40</td>\n",
              "      <td>35</td>\n",
              "      <td>168</td>\n",
              "      <td>43.1</td>\n",
              "      <td>2.288</td>\n",
              "      <td>33</td>\n",
              "      <td>1</td>\n",
              "    </tr>\n",
              "  </tbody>\n",
              "</table>\n",
              "</div>\n",
              "      <button class=\"colab-df-convert\" onclick=\"convertToInteractive('df-47481f92-66dd-45b5-a8f3-36f9a177020a')\"\n",
              "              title=\"Convert this dataframe to an interactive table.\"\n",
              "              style=\"display:none;\">\n",
              "        \n",
              "  <svg xmlns=\"http://www.w3.org/2000/svg\" height=\"24px\"viewBox=\"0 0 24 24\"\n",
              "       width=\"24px\">\n",
              "    <path d=\"M0 0h24v24H0V0z\" fill=\"none\"/>\n",
              "    <path d=\"M18.56 5.44l.94 2.06.94-2.06 2.06-.94-2.06-.94-.94-2.06-.94 2.06-2.06.94zm-11 1L8.5 8.5l.94-2.06 2.06-.94-2.06-.94L8.5 2.5l-.94 2.06-2.06.94zm10 10l.94 2.06.94-2.06 2.06-.94-2.06-.94-.94-2.06-.94 2.06-2.06.94z\"/><path d=\"M17.41 7.96l-1.37-1.37c-.4-.4-.92-.59-1.43-.59-.52 0-1.04.2-1.43.59L10.3 9.45l-7.72 7.72c-.78.78-.78 2.05 0 2.83L4 21.41c.39.39.9.59 1.41.59.51 0 1.02-.2 1.41-.59l7.78-7.78 2.81-2.81c.8-.78.8-2.07 0-2.86zM5.41 20L4 18.59l7.72-7.72 1.47 1.35L5.41 20z\"/>\n",
              "  </svg>\n",
              "      </button>\n",
              "      \n",
              "  <style>\n",
              "    .colab-df-container {\n",
              "      display:flex;\n",
              "      flex-wrap:wrap;\n",
              "      gap: 12px;\n",
              "    }\n",
              "\n",
              "    .colab-df-convert {\n",
              "      background-color: #E8F0FE;\n",
              "      border: none;\n",
              "      border-radius: 50%;\n",
              "      cursor: pointer;\n",
              "      display: none;\n",
              "      fill: #1967D2;\n",
              "      height: 32px;\n",
              "      padding: 0 0 0 0;\n",
              "      width: 32px;\n",
              "    }\n",
              "\n",
              "    .colab-df-convert:hover {\n",
              "      background-color: #E2EBFA;\n",
              "      box-shadow: 0px 1px 2px rgba(60, 64, 67, 0.3), 0px 1px 3px 1px rgba(60, 64, 67, 0.15);\n",
              "      fill: #174EA6;\n",
              "    }\n",
              "\n",
              "    [theme=dark] .colab-df-convert {\n",
              "      background-color: #3B4455;\n",
              "      fill: #D2E3FC;\n",
              "    }\n",
              "\n",
              "    [theme=dark] .colab-df-convert:hover {\n",
              "      background-color: #434B5C;\n",
              "      box-shadow: 0px 1px 3px 1px rgba(0, 0, 0, 0.15);\n",
              "      filter: drop-shadow(0px 1px 2px rgba(0, 0, 0, 0.3));\n",
              "      fill: #FFFFFF;\n",
              "    }\n",
              "  </style>\n",
              "\n",
              "      <script>\n",
              "        const buttonEl =\n",
              "          document.querySelector('#df-47481f92-66dd-45b5-a8f3-36f9a177020a button.colab-df-convert');\n",
              "        buttonEl.style.display =\n",
              "          google.colab.kernel.accessAllowed ? 'block' : 'none';\n",
              "\n",
              "        async function convertToInteractive(key) {\n",
              "          const element = document.querySelector('#df-47481f92-66dd-45b5-a8f3-36f9a177020a');\n",
              "          const dataTable =\n",
              "            await google.colab.kernel.invokeFunction('convertToInteractive',\n",
              "                                                     [key], {});\n",
              "          if (!dataTable) return;\n",
              "\n",
              "          const docLinkHtml = 'Like what you see? Visit the ' +\n",
              "            '<a target=\"_blank\" href=https://colab.research.google.com/notebooks/data_table.ipynb>data table notebook</a>'\n",
              "            + ' to learn more about interactive tables.';\n",
              "          element.innerHTML = '';\n",
              "          dataTable['output_type'] = 'display_data';\n",
              "          await google.colab.output.renderOutput(dataTable, element);\n",
              "          const docLink = document.createElement('div');\n",
              "          docLink.innerHTML = docLinkHtml;\n",
              "          element.appendChild(docLink);\n",
              "        }\n",
              "      </script>\n",
              "    </div>\n",
              "  </div>\n",
              "  "
            ]
          },
          "metadata": {},
          "execution_count": 225
        }
      ]
    },
    {
      "cell_type": "code",
      "source": [
        "df.info()"
      ],
      "metadata": {
        "colab": {
          "base_uri": "https://localhost:8080/"
        },
        "id": "FOYXhb8VyHLi",
        "outputId": "16160ed3-70e1-405b-e591-54385a631a44"
      },
      "execution_count": 206,
      "outputs": [
        {
          "output_type": "stream",
          "name": "stdout",
          "text": [
            "<class 'pandas.core.frame.DataFrame'>\n",
            "RangeIndex: 768 entries, 0 to 767\n",
            "Data columns (total 9 columns):\n",
            " #   Column                    Non-Null Count  Dtype  \n",
            "---  ------                    --------------  -----  \n",
            " 0   Pregnancies               768 non-null    int64  \n",
            " 1   Glucose                   768 non-null    int64  \n",
            " 2   BloodPressure             768 non-null    int64  \n",
            " 3   SkinThickness             768 non-null    int64  \n",
            " 4   Insulin                   768 non-null    int64  \n",
            " 5   BMI                       768 non-null    float64\n",
            " 6   DiabetesPedigreeFunction  768 non-null    float64\n",
            " 7   Age                       768 non-null    int64  \n",
            " 8   Outcome                   768 non-null    int64  \n",
            "dtypes: float64(2), int64(7)\n",
            "memory usage: 54.1 KB\n"
          ]
        }
      ]
    },
    {
      "cell_type": "code",
      "source": [
        "df.duplicated().sum()"
      ],
      "metadata": {
        "colab": {
          "base_uri": "https://localhost:8080/"
        },
        "id": "lpf1LrrJyJ1J",
        "outputId": "acfd199a-c396-452a-ee92-3f5314b7adb6"
      },
      "execution_count": null,
      "outputs": [
        {
          "output_type": "execute_result",
          "data": {
            "text/plain": [
              "0"
            ]
          },
          "metadata": {},
          "execution_count": 6
        }
      ]
    },
    {
      "cell_type": "code",
      "source": [
        "df.isna().sum()"
      ],
      "metadata": {
        "colab": {
          "base_uri": "https://localhost:8080/"
        },
        "id": "vYTfGSmYyOh8",
        "outputId": "5f551a3d-e2f1-4c6b-f505-3e26d78bc3a5"
      },
      "execution_count": null,
      "outputs": [
        {
          "output_type": "execute_result",
          "data": {
            "text/plain": [
              "Pregnancies                 0\n",
              "Glucose                     0\n",
              "BloodPressure               0\n",
              "SkinThickness               0\n",
              "Insulin                     0\n",
              "BMI                         0\n",
              "DiabetesPedigreeFunction    0\n",
              "Age                         0\n",
              "Outcome                     0\n",
              "dtype: int64"
            ]
          },
          "metadata": {},
          "execution_count": 7
        }
      ]
    },
    {
      "cell_type": "code",
      "source": [
        "df.describe()"
      ],
      "metadata": {
        "colab": {
          "base_uri": "https://localhost:8080/",
          "height": 300
        },
        "id": "HIOr3bFcyST-",
        "outputId": "abb39ae4-edbf-4e1f-ca96-9216d7c75093"
      },
      "execution_count": null,
      "outputs": [
        {
          "output_type": "execute_result",
          "data": {
            "text/plain": [
              "       Pregnancies     Glucose  BloodPressure  SkinThickness     Insulin  \\\n",
              "count   768.000000  768.000000     768.000000     768.000000  768.000000   \n",
              "mean      3.845052  120.894531      69.105469      20.536458   79.799479   \n",
              "std       3.369578   31.972618      19.355807      15.952218  115.244002   \n",
              "min       0.000000    0.000000       0.000000       0.000000    0.000000   \n",
              "25%       1.000000   99.000000      62.000000       0.000000    0.000000   \n",
              "50%       3.000000  117.000000      72.000000      23.000000   30.500000   \n",
              "75%       6.000000  140.250000      80.000000      32.000000  127.250000   \n",
              "max      17.000000  199.000000     122.000000      99.000000  846.000000   \n",
              "\n",
              "              BMI  DiabetesPedigreeFunction         Age     Outcome  \n",
              "count  768.000000                768.000000  768.000000  768.000000  \n",
              "mean    31.992578                  0.471876   33.240885    0.348958  \n",
              "std      7.884160                  0.331329   11.760232    0.476951  \n",
              "min      0.000000                  0.078000   21.000000    0.000000  \n",
              "25%     27.300000                  0.243750   24.000000    0.000000  \n",
              "50%     32.000000                  0.372500   29.000000    0.000000  \n",
              "75%     36.600000                  0.626250   41.000000    1.000000  \n",
              "max     67.100000                  2.420000   81.000000    1.000000  "
            ],
            "text/html": [
              "\n",
              "  <div id=\"df-98edae98-b3cc-4f8f-a634-a4d84c2dee43\">\n",
              "    <div class=\"colab-df-container\">\n",
              "      <div>\n",
              "<style scoped>\n",
              "    .dataframe tbody tr th:only-of-type {\n",
              "        vertical-align: middle;\n",
              "    }\n",
              "\n",
              "    .dataframe tbody tr th {\n",
              "        vertical-align: top;\n",
              "    }\n",
              "\n",
              "    .dataframe thead th {\n",
              "        text-align: right;\n",
              "    }\n",
              "</style>\n",
              "<table border=\"1\" class=\"dataframe\">\n",
              "  <thead>\n",
              "    <tr style=\"text-align: right;\">\n",
              "      <th></th>\n",
              "      <th>Pregnancies</th>\n",
              "      <th>Glucose</th>\n",
              "      <th>BloodPressure</th>\n",
              "      <th>SkinThickness</th>\n",
              "      <th>Insulin</th>\n",
              "      <th>BMI</th>\n",
              "      <th>DiabetesPedigreeFunction</th>\n",
              "      <th>Age</th>\n",
              "      <th>Outcome</th>\n",
              "    </tr>\n",
              "  </thead>\n",
              "  <tbody>\n",
              "    <tr>\n",
              "      <th>count</th>\n",
              "      <td>768.000000</td>\n",
              "      <td>768.000000</td>\n",
              "      <td>768.000000</td>\n",
              "      <td>768.000000</td>\n",
              "      <td>768.000000</td>\n",
              "      <td>768.000000</td>\n",
              "      <td>768.000000</td>\n",
              "      <td>768.000000</td>\n",
              "      <td>768.000000</td>\n",
              "    </tr>\n",
              "    <tr>\n",
              "      <th>mean</th>\n",
              "      <td>3.845052</td>\n",
              "      <td>120.894531</td>\n",
              "      <td>69.105469</td>\n",
              "      <td>20.536458</td>\n",
              "      <td>79.799479</td>\n",
              "      <td>31.992578</td>\n",
              "      <td>0.471876</td>\n",
              "      <td>33.240885</td>\n",
              "      <td>0.348958</td>\n",
              "    </tr>\n",
              "    <tr>\n",
              "      <th>std</th>\n",
              "      <td>3.369578</td>\n",
              "      <td>31.972618</td>\n",
              "      <td>19.355807</td>\n",
              "      <td>15.952218</td>\n",
              "      <td>115.244002</td>\n",
              "      <td>7.884160</td>\n",
              "      <td>0.331329</td>\n",
              "      <td>11.760232</td>\n",
              "      <td>0.476951</td>\n",
              "    </tr>\n",
              "    <tr>\n",
              "      <th>min</th>\n",
              "      <td>0.000000</td>\n",
              "      <td>0.000000</td>\n",
              "      <td>0.000000</td>\n",
              "      <td>0.000000</td>\n",
              "      <td>0.000000</td>\n",
              "      <td>0.000000</td>\n",
              "      <td>0.078000</td>\n",
              "      <td>21.000000</td>\n",
              "      <td>0.000000</td>\n",
              "    </tr>\n",
              "    <tr>\n",
              "      <th>25%</th>\n",
              "      <td>1.000000</td>\n",
              "      <td>99.000000</td>\n",
              "      <td>62.000000</td>\n",
              "      <td>0.000000</td>\n",
              "      <td>0.000000</td>\n",
              "      <td>27.300000</td>\n",
              "      <td>0.243750</td>\n",
              "      <td>24.000000</td>\n",
              "      <td>0.000000</td>\n",
              "    </tr>\n",
              "    <tr>\n",
              "      <th>50%</th>\n",
              "      <td>3.000000</td>\n",
              "      <td>117.000000</td>\n",
              "      <td>72.000000</td>\n",
              "      <td>23.000000</td>\n",
              "      <td>30.500000</td>\n",
              "      <td>32.000000</td>\n",
              "      <td>0.372500</td>\n",
              "      <td>29.000000</td>\n",
              "      <td>0.000000</td>\n",
              "    </tr>\n",
              "    <tr>\n",
              "      <th>75%</th>\n",
              "      <td>6.000000</td>\n",
              "      <td>140.250000</td>\n",
              "      <td>80.000000</td>\n",
              "      <td>32.000000</td>\n",
              "      <td>127.250000</td>\n",
              "      <td>36.600000</td>\n",
              "      <td>0.626250</td>\n",
              "      <td>41.000000</td>\n",
              "      <td>1.000000</td>\n",
              "    </tr>\n",
              "    <tr>\n",
              "      <th>max</th>\n",
              "      <td>17.000000</td>\n",
              "      <td>199.000000</td>\n",
              "      <td>122.000000</td>\n",
              "      <td>99.000000</td>\n",
              "      <td>846.000000</td>\n",
              "      <td>67.100000</td>\n",
              "      <td>2.420000</td>\n",
              "      <td>81.000000</td>\n",
              "      <td>1.000000</td>\n",
              "    </tr>\n",
              "  </tbody>\n",
              "</table>\n",
              "</div>\n",
              "      <button class=\"colab-df-convert\" onclick=\"convertToInteractive('df-98edae98-b3cc-4f8f-a634-a4d84c2dee43')\"\n",
              "              title=\"Convert this dataframe to an interactive table.\"\n",
              "              style=\"display:none;\">\n",
              "        \n",
              "  <svg xmlns=\"http://www.w3.org/2000/svg\" height=\"24px\"viewBox=\"0 0 24 24\"\n",
              "       width=\"24px\">\n",
              "    <path d=\"M0 0h24v24H0V0z\" fill=\"none\"/>\n",
              "    <path d=\"M18.56 5.44l.94 2.06.94-2.06 2.06-.94-2.06-.94-.94-2.06-.94 2.06-2.06.94zm-11 1L8.5 8.5l.94-2.06 2.06-.94-2.06-.94L8.5 2.5l-.94 2.06-2.06.94zm10 10l.94 2.06.94-2.06 2.06-.94-2.06-.94-.94-2.06-.94 2.06-2.06.94z\"/><path d=\"M17.41 7.96l-1.37-1.37c-.4-.4-.92-.59-1.43-.59-.52 0-1.04.2-1.43.59L10.3 9.45l-7.72 7.72c-.78.78-.78 2.05 0 2.83L4 21.41c.39.39.9.59 1.41.59.51 0 1.02-.2 1.41-.59l7.78-7.78 2.81-2.81c.8-.78.8-2.07 0-2.86zM5.41 20L4 18.59l7.72-7.72 1.47 1.35L5.41 20z\"/>\n",
              "  </svg>\n",
              "      </button>\n",
              "      \n",
              "  <style>\n",
              "    .colab-df-container {\n",
              "      display:flex;\n",
              "      flex-wrap:wrap;\n",
              "      gap: 12px;\n",
              "    }\n",
              "\n",
              "    .colab-df-convert {\n",
              "      background-color: #E8F0FE;\n",
              "      border: none;\n",
              "      border-radius: 50%;\n",
              "      cursor: pointer;\n",
              "      display: none;\n",
              "      fill: #1967D2;\n",
              "      height: 32px;\n",
              "      padding: 0 0 0 0;\n",
              "      width: 32px;\n",
              "    }\n",
              "\n",
              "    .colab-df-convert:hover {\n",
              "      background-color: #E2EBFA;\n",
              "      box-shadow: 0px 1px 2px rgba(60, 64, 67, 0.3), 0px 1px 3px 1px rgba(60, 64, 67, 0.15);\n",
              "      fill: #174EA6;\n",
              "    }\n",
              "\n",
              "    [theme=dark] .colab-df-convert {\n",
              "      background-color: #3B4455;\n",
              "      fill: #D2E3FC;\n",
              "    }\n",
              "\n",
              "    [theme=dark] .colab-df-convert:hover {\n",
              "      background-color: #434B5C;\n",
              "      box-shadow: 0px 1px 3px 1px rgba(0, 0, 0, 0.15);\n",
              "      filter: drop-shadow(0px 1px 2px rgba(0, 0, 0, 0.3));\n",
              "      fill: #FFFFFF;\n",
              "    }\n",
              "  </style>\n",
              "\n",
              "      <script>\n",
              "        const buttonEl =\n",
              "          document.querySelector('#df-98edae98-b3cc-4f8f-a634-a4d84c2dee43 button.colab-df-convert');\n",
              "        buttonEl.style.display =\n",
              "          google.colab.kernel.accessAllowed ? 'block' : 'none';\n",
              "\n",
              "        async function convertToInteractive(key) {\n",
              "          const element = document.querySelector('#df-98edae98-b3cc-4f8f-a634-a4d84c2dee43');\n",
              "          const dataTable =\n",
              "            await google.colab.kernel.invokeFunction('convertToInteractive',\n",
              "                                                     [key], {});\n",
              "          if (!dataTable) return;\n",
              "\n",
              "          const docLinkHtml = 'Like what you see? Visit the ' +\n",
              "            '<a target=\"_blank\" href=https://colab.research.google.com/notebooks/data_table.ipynb>data table notebook</a>'\n",
              "            + ' to learn more about interactive tables.';\n",
              "          element.innerHTML = '';\n",
              "          dataTable['output_type'] = 'display_data';\n",
              "          await google.colab.output.renderOutput(dataTable, element);\n",
              "          const docLink = document.createElement('div');\n",
              "          docLink.innerHTML = docLinkHtml;\n",
              "          element.appendChild(docLink);\n",
              "        }\n",
              "      </script>\n",
              "    </div>\n",
              "  </div>\n",
              "  "
            ]
          },
          "metadata": {},
          "execution_count": 8
        }
      ]
    },
    {
      "cell_type": "markdown",
      "source": [
        "**Para evitar sesgo en el analisis, se excluiran todos los registros que cuenten con valores 0, con esto se tiene un universo mas acotado de examinados, pero con datos solidos para su analisis**"
      ],
      "metadata": {
        "id": "Z6Cpv8gC-IbF"
      }
    },
    {
      "cell_type": "code",
      "source": [
        "glucose = df[\"Glucose\"] != 0\n",
        "BP = df[\"BloodPressure\"] != 0\n",
        "thickness = df[\"SkinThickness\"] != 0\n",
        "insulin = df[\"Insulin\"] != 0\n",
        "bmi = df[\"BMI\"] != 0\n",
        "df = df[glucose & BP & thickness & insulin & bmi]"
      ],
      "metadata": {
        "id": "4KWVQUtm6PwQ"
      },
      "execution_count": 235,
      "outputs": []
    },
    {
      "cell_type": "code",
      "source": [
        "df.describe()"
      ],
      "metadata": {
        "colab": {
          "base_uri": "https://localhost:8080/",
          "height": 300
        },
        "id": "AuAjDSvxG7mm",
        "outputId": "d16b5d4e-6633-4ac7-9c79-47a1717ef2d5"
      },
      "execution_count": 236,
      "outputs": [
        {
          "output_type": "execute_result",
          "data": {
            "text/plain": [
              "       Pregnancies     Glucose  BloodPressure  SkinThickness     Insulin  \\\n",
              "count   392.000000  392.000000     392.000000     392.000000  392.000000   \n",
              "mean      3.301020  122.627551      70.663265      29.145408  156.056122   \n",
              "std       3.211424   30.860781      12.496092      10.516424  118.841690   \n",
              "min       0.000000   56.000000      24.000000       7.000000   14.000000   \n",
              "25%       1.000000   99.000000      62.000000      21.000000   76.750000   \n",
              "50%       2.000000  119.000000      70.000000      29.000000  125.500000   \n",
              "75%       5.000000  143.000000      78.000000      37.000000  190.000000   \n",
              "max      17.000000  198.000000     110.000000      63.000000  846.000000   \n",
              "\n",
              "              BMI  DiabetesPedigreeFunction         Age     Outcome  \n",
              "count  392.000000                392.000000  392.000000  392.000000  \n",
              "mean    33.086224                  0.523046   30.864796    0.331633  \n",
              "std      7.027659                  0.345488   10.200777    0.471401  \n",
              "min     18.200000                  0.085000   21.000000    0.000000  \n",
              "25%     28.400000                  0.269750   23.000000    0.000000  \n",
              "50%     33.200000                  0.449500   27.000000    0.000000  \n",
              "75%     37.100000                  0.687000   36.000000    1.000000  \n",
              "max     67.100000                  2.420000   81.000000    1.000000  "
            ],
            "text/html": [
              "\n",
              "  <div id=\"df-27f5ac37-5153-449f-96c1-67024e9bc934\">\n",
              "    <div class=\"colab-df-container\">\n",
              "      <div>\n",
              "<style scoped>\n",
              "    .dataframe tbody tr th:only-of-type {\n",
              "        vertical-align: middle;\n",
              "    }\n",
              "\n",
              "    .dataframe tbody tr th {\n",
              "        vertical-align: top;\n",
              "    }\n",
              "\n",
              "    .dataframe thead th {\n",
              "        text-align: right;\n",
              "    }\n",
              "</style>\n",
              "<table border=\"1\" class=\"dataframe\">\n",
              "  <thead>\n",
              "    <tr style=\"text-align: right;\">\n",
              "      <th></th>\n",
              "      <th>Pregnancies</th>\n",
              "      <th>Glucose</th>\n",
              "      <th>BloodPressure</th>\n",
              "      <th>SkinThickness</th>\n",
              "      <th>Insulin</th>\n",
              "      <th>BMI</th>\n",
              "      <th>DiabetesPedigreeFunction</th>\n",
              "      <th>Age</th>\n",
              "      <th>Outcome</th>\n",
              "    </tr>\n",
              "  </thead>\n",
              "  <tbody>\n",
              "    <tr>\n",
              "      <th>count</th>\n",
              "      <td>392.000000</td>\n",
              "      <td>392.000000</td>\n",
              "      <td>392.000000</td>\n",
              "      <td>392.000000</td>\n",
              "      <td>392.000000</td>\n",
              "      <td>392.000000</td>\n",
              "      <td>392.000000</td>\n",
              "      <td>392.000000</td>\n",
              "      <td>392.000000</td>\n",
              "    </tr>\n",
              "    <tr>\n",
              "      <th>mean</th>\n",
              "      <td>3.301020</td>\n",
              "      <td>122.627551</td>\n",
              "      <td>70.663265</td>\n",
              "      <td>29.145408</td>\n",
              "      <td>156.056122</td>\n",
              "      <td>33.086224</td>\n",
              "      <td>0.523046</td>\n",
              "      <td>30.864796</td>\n",
              "      <td>0.331633</td>\n",
              "    </tr>\n",
              "    <tr>\n",
              "      <th>std</th>\n",
              "      <td>3.211424</td>\n",
              "      <td>30.860781</td>\n",
              "      <td>12.496092</td>\n",
              "      <td>10.516424</td>\n",
              "      <td>118.841690</td>\n",
              "      <td>7.027659</td>\n",
              "      <td>0.345488</td>\n",
              "      <td>10.200777</td>\n",
              "      <td>0.471401</td>\n",
              "    </tr>\n",
              "    <tr>\n",
              "      <th>min</th>\n",
              "      <td>0.000000</td>\n",
              "      <td>56.000000</td>\n",
              "      <td>24.000000</td>\n",
              "      <td>7.000000</td>\n",
              "      <td>14.000000</td>\n",
              "      <td>18.200000</td>\n",
              "      <td>0.085000</td>\n",
              "      <td>21.000000</td>\n",
              "      <td>0.000000</td>\n",
              "    </tr>\n",
              "    <tr>\n",
              "      <th>25%</th>\n",
              "      <td>1.000000</td>\n",
              "      <td>99.000000</td>\n",
              "      <td>62.000000</td>\n",
              "      <td>21.000000</td>\n",
              "      <td>76.750000</td>\n",
              "      <td>28.400000</td>\n",
              "      <td>0.269750</td>\n",
              "      <td>23.000000</td>\n",
              "      <td>0.000000</td>\n",
              "    </tr>\n",
              "    <tr>\n",
              "      <th>50%</th>\n",
              "      <td>2.000000</td>\n",
              "      <td>119.000000</td>\n",
              "      <td>70.000000</td>\n",
              "      <td>29.000000</td>\n",
              "      <td>125.500000</td>\n",
              "      <td>33.200000</td>\n",
              "      <td>0.449500</td>\n",
              "      <td>27.000000</td>\n",
              "      <td>0.000000</td>\n",
              "    </tr>\n",
              "    <tr>\n",
              "      <th>75%</th>\n",
              "      <td>5.000000</td>\n",
              "      <td>143.000000</td>\n",
              "      <td>78.000000</td>\n",
              "      <td>37.000000</td>\n",
              "      <td>190.000000</td>\n",
              "      <td>37.100000</td>\n",
              "      <td>0.687000</td>\n",
              "      <td>36.000000</td>\n",
              "      <td>1.000000</td>\n",
              "    </tr>\n",
              "    <tr>\n",
              "      <th>max</th>\n",
              "      <td>17.000000</td>\n",
              "      <td>198.000000</td>\n",
              "      <td>110.000000</td>\n",
              "      <td>63.000000</td>\n",
              "      <td>846.000000</td>\n",
              "      <td>67.100000</td>\n",
              "      <td>2.420000</td>\n",
              "      <td>81.000000</td>\n",
              "      <td>1.000000</td>\n",
              "    </tr>\n",
              "  </tbody>\n",
              "</table>\n",
              "</div>\n",
              "      <button class=\"colab-df-convert\" onclick=\"convertToInteractive('df-27f5ac37-5153-449f-96c1-67024e9bc934')\"\n",
              "              title=\"Convert this dataframe to an interactive table.\"\n",
              "              style=\"display:none;\">\n",
              "        \n",
              "  <svg xmlns=\"http://www.w3.org/2000/svg\" height=\"24px\"viewBox=\"0 0 24 24\"\n",
              "       width=\"24px\">\n",
              "    <path d=\"M0 0h24v24H0V0z\" fill=\"none\"/>\n",
              "    <path d=\"M18.56 5.44l.94 2.06.94-2.06 2.06-.94-2.06-.94-.94-2.06-.94 2.06-2.06.94zm-11 1L8.5 8.5l.94-2.06 2.06-.94-2.06-.94L8.5 2.5l-.94 2.06-2.06.94zm10 10l.94 2.06.94-2.06 2.06-.94-2.06-.94-.94-2.06-.94 2.06-2.06.94z\"/><path d=\"M17.41 7.96l-1.37-1.37c-.4-.4-.92-.59-1.43-.59-.52 0-1.04.2-1.43.59L10.3 9.45l-7.72 7.72c-.78.78-.78 2.05 0 2.83L4 21.41c.39.39.9.59 1.41.59.51 0 1.02-.2 1.41-.59l7.78-7.78 2.81-2.81c.8-.78.8-2.07 0-2.86zM5.41 20L4 18.59l7.72-7.72 1.47 1.35L5.41 20z\"/>\n",
              "  </svg>\n",
              "      </button>\n",
              "      \n",
              "  <style>\n",
              "    .colab-df-container {\n",
              "      display:flex;\n",
              "      flex-wrap:wrap;\n",
              "      gap: 12px;\n",
              "    }\n",
              "\n",
              "    .colab-df-convert {\n",
              "      background-color: #E8F0FE;\n",
              "      border: none;\n",
              "      border-radius: 50%;\n",
              "      cursor: pointer;\n",
              "      display: none;\n",
              "      fill: #1967D2;\n",
              "      height: 32px;\n",
              "      padding: 0 0 0 0;\n",
              "      width: 32px;\n",
              "    }\n",
              "\n",
              "    .colab-df-convert:hover {\n",
              "      background-color: #E2EBFA;\n",
              "      box-shadow: 0px 1px 2px rgba(60, 64, 67, 0.3), 0px 1px 3px 1px rgba(60, 64, 67, 0.15);\n",
              "      fill: #174EA6;\n",
              "    }\n",
              "\n",
              "    [theme=dark] .colab-df-convert {\n",
              "      background-color: #3B4455;\n",
              "      fill: #D2E3FC;\n",
              "    }\n",
              "\n",
              "    [theme=dark] .colab-df-convert:hover {\n",
              "      background-color: #434B5C;\n",
              "      box-shadow: 0px 1px 3px 1px rgba(0, 0, 0, 0.15);\n",
              "      filter: drop-shadow(0px 1px 2px rgba(0, 0, 0, 0.3));\n",
              "      fill: #FFFFFF;\n",
              "    }\n",
              "  </style>\n",
              "\n",
              "      <script>\n",
              "        const buttonEl =\n",
              "          document.querySelector('#df-27f5ac37-5153-449f-96c1-67024e9bc934 button.colab-df-convert');\n",
              "        buttonEl.style.display =\n",
              "          google.colab.kernel.accessAllowed ? 'block' : 'none';\n",
              "\n",
              "        async function convertToInteractive(key) {\n",
              "          const element = document.querySelector('#df-27f5ac37-5153-449f-96c1-67024e9bc934');\n",
              "          const dataTable =\n",
              "            await google.colab.kernel.invokeFunction('convertToInteractive',\n",
              "                                                     [key], {});\n",
              "          if (!dataTable) return;\n",
              "\n",
              "          const docLinkHtml = 'Like what you see? Visit the ' +\n",
              "            '<a target=\"_blank\" href=https://colab.research.google.com/notebooks/data_table.ipynb>data table notebook</a>'\n",
              "            + ' to learn more about interactive tables.';\n",
              "          element.innerHTML = '';\n",
              "          dataTable['output_type'] = 'display_data';\n",
              "          await google.colab.output.renderOutput(dataTable, element);\n",
              "          const docLink = document.createElement('div');\n",
              "          docLink.innerHTML = docLinkHtml;\n",
              "          element.appendChild(docLink);\n",
              "        }\n",
              "      </script>\n",
              "    </div>\n",
              "  </div>\n",
              "  "
            ]
          },
          "metadata": {},
          "execution_count": 236
        }
      ]
    },
    {
      "cell_type": "markdown",
      "source": [
        "**Se puede afirmar que el conjunto de datos:**\n",
        "\n",
        "- Su dimension por defecto es: 9 columnas y 768 registros\n",
        "- No tiene valores nulos.\n",
        "- No tiene valores duplicados.\n",
        "- Presenta una cantidad grande de valores en 0 en distintas columnas de vital importancia, estos valores son importantes para la resolucion correcta de este problema. Se procedera a filtrar valores cuyos valores sean 0 para evitar sesgos en los analisis. \n",
        "- El data type de cada columna coincide con el diccionario de datos otorgado"
      ],
      "metadata": {
        "id": "sODWNX9kzPkt"
      }
    },
    {
      "cell_type": "markdown",
      "source": [
        "**Visualizaciones**"
      ],
      "metadata": {
        "id": "f0jskTj_zR-E"
      }
    },
    {
      "cell_type": "code",
      "source": [
        "corr = df.corr()\n",
        "heatmap = sns.heatmap(corr, cmap=\"Greens\",annot=True)"
      ],
      "metadata": {
        "colab": {
          "base_uri": "https://localhost:8080/",
          "height": 390
        },
        "id": "zReeV1glz2qY",
        "outputId": "5fd77057-cee4-49f5-934a-fb2ecc7280cc"
      },
      "execution_count": 237,
      "outputs": [
        {
          "output_type": "display_data",
          "data": {
            "text/plain": [
              "<Figure size 432x288 with 2 Axes>"
            ],
            "image/png": "[encoded data removed]"
          },
          "metadata": {
            "needs_background": "light"
          }
        }
      ]
    },
    {
      "cell_type": "markdown",
      "source": [
        "Se realiza grafico de calor para ver correlaciones en datos de pacientes examinados.\n",
        "- Existe una correlacion moderada positiva entre los indices de glucosa y el resultado positivo, de diabetes.\n",
        "- Tambien es posible ver otra correlacion moderada positiva entre glucosa e insulina, lo cual es un factor directamente relacionado con la diabetes.\n",
        "\n",
        "Con esto se obtiene una gran cantidad de parametros que influyen directamente con el resultado positivo de diabetes. \n",
        "Parametros que pueden ser controlados y monitoreados para evitar la enfermedad."
      ],
      "metadata": {
        "id": "cprLYnwR3UfZ"
      }
    },
    {
      "cell_type": "code",
      "source": [
        "plt.figure(figsize =(12,4))\n",
        "plt.subplot(1,2,1);\n",
        "diabetes = df[\"Outcome\"] == 1\n",
        "df[diabetes][\"Age\"].plot(kind=\"hist\", color=\"gray\", alpha=0.5)\n",
        "plt.title(\"Personas con Diabetes\", fontsize = 12);\n",
        "plt.ylabel(\"Personas examinadas\")\n",
        "plt.xlabel(\"Rango etario\");\n",
        "plt.ylim(bottom=0,top=165);\n",
        "\n",
        "plt.subplot(1,2,2);\n",
        "df[~diabetes][\"Age\"].plot(kind=\"hist\", color=\"orange\", alpha=0.5)\n",
        "plt.title(\"Personas sin Diabetes\", fontsize = 12);\n",
        "plt.ylabel(\"Personas examinadas\")\n",
        "plt.xlabel(\"Rango etario\");\n",
        "plt.ylim(bottom=0,top=165);\n"
      ],
      "metadata": {
        "colab": {
          "base_uri": "https://localhost:8080/",
          "height": 295
        },
        "id": "Zjep13Fg5bDw",
        "outputId": "78fe6a7e-c4b9-4566-d48c-edba02026da4"
      },
      "execution_count": 238,
      "outputs": [
        {
          "output_type": "display_data",
          "data": {
            "text/plain": [
              "<Figure size 864x288 with 2 Axes>"
            ],
            "image/png": "[encoded data removed]"
          },
          "metadata": {
            "needs_background": "light"
          }
        }
      ]
    },
    {
      "cell_type": "markdown",
      "source": [
        "Se realiza histograma para visualizar y comparar rangos etarios de personas con diabetes y sin diabetes.\n",
        "\n",
        "Importante recalcar que ambos graficos estan en la misma escala para evitar sesgos visuales.\n",
        "\n",
        "- El peak de diagnosticos se dio en el rango etario 20 a 30 años e incluso hasta los 35.\n",
        "- Por otra parte la mayor cantidad de no diabeticos tambien se dio entre los años 20 a 30.\n",
        "\n",
        "Como conclusion se obtiene que, si bien la edad no es un factor determinante para el diagnostico de diabetes, si es una enfermedad que abarca los años de manera constante, donde es necesario aprender a convivir con ella.\n",
        "Un positivo hoy lo sera el dia de mañana mientras que, el negativo puede serlo hoy y de no tomar las medidas correspondientes lo sera el dia de mañana."
      ],
      "metadata": {
        "id": "O8pGx8jRCPC6"
      }
    },
    {
      "cell_type": "markdown",
      "source": [
        "# II. Modelos para Machine Learning"
      ],
      "metadata": {
        "id": "STFremgAGMCU"
      }
    },
    {
      "cell_type": "markdown",
      "source": [
        "## Preprocesamiento de datos"
      ],
      "metadata": {
        "id": "G2zqaqeRQvy3"
      }
    },
    {
      "cell_type": "markdown",
      "source": [
        "Preparacion de datos para su modelado\n",
        "- Modelo de validacion train test split, con semilla definida (42)\n",
        "- Escalador de datos numericos\n",
        "- Preparacion de column transformer\n",
        "- Ajuste de column transformer\n",
        "- Transformacion de datos"
      ],
      "metadata": {
        "id": "IqfMNybPHnkQ"
      }
    },
    {
      "cell_type": "code",
      "source": [
        "X = df.drop(\"Outcome\", axis=1)\n",
        "y = df[\"Outcome\"]\n",
        "X_train, X_test, y_train, y_test = train_test_split(X,y, random_state=42)"
      ],
      "metadata": {
        "id": "G0QMUwOJHsqL"
      },
      "execution_count": 239,
      "outputs": []
    },
    {
      "cell_type": "code",
      "source": [
        "#Selector de columnas\n",
        "num_selector = make_column_selector(dtype_include = \"number\")"
      ],
      "metadata": {
        "id": "U782DeHlIddz"
      },
      "execution_count": 240,
      "outputs": []
    },
    {
      "cell_type": "code",
      "source": [
        "#Instanciar scaler\n",
        "scaler = StandardScaler()"
      ],
      "metadata": {
        "id": "iG7CRPiYI6Z7"
      },
      "execution_count": 241,
      "outputs": []
    },
    {
      "cell_type": "code",
      "source": [
        "#Preparacion column transformer\n",
        "num_tuple = (scaler, num_selector)\n",
        "preprocessor = make_column_transformer(num_tuple)\n",
        "preprocessor.fit(X_train)"
      ],
      "metadata": {
        "colab": {
          "base_uri": "https://localhost:8080/"
        },
        "id": "QcV7nGxPJT-G",
        "outputId": "22abd0db-c97e-4e2d-97d5-30fcfffbe30b"
      },
      "execution_count": 242,
      "outputs": [
        {
          "output_type": "execute_result",
          "data": {
            "text/plain": [
              "ColumnTransformer(transformers=[('standardscaler', StandardScaler(),\n",
              "                                 <sklearn.compose._column_transformer.make_column_selector object at 0x7f11a907d250>)])"
            ]
          },
          "metadata": {},
          "execution_count": 242
        }
      ]
    },
    {
      "cell_type": "code",
      "source": [
        "#Transformacion de datos\n",
        "X_train_processed = preprocessor.transform(X_train)\n",
        "X_test_processed = preprocessor.transform(X_test)"
      ],
      "metadata": {
        "id": "oXzgk7wGKJR_"
      },
      "execution_count": 243,
      "outputs": []
    },
    {
      "cell_type": "markdown",
      "source": [
        "**Comprobacion de preprocesamiento exitoso**"
      ],
      "metadata": {
        "id": "NgmEzULFKh2B"
      }
    },
    {
      "cell_type": "code",
      "source": [
        "print(np.isnan(X_train_processed).sum().sum(), 'missing values in training data')\n",
        "print(np.isnan(X_test_processed).sum().sum(), 'missing values in testing data')\n",
        "print('\\n')\n",
        "print('All data in X_train_processed are', X_train_processed.dtype)\n",
        "print('All data in X_test_processed are', X_test_processed.dtype)\n",
        "print('\\n')\n",
        "print('shape of data is', X_train_processed.shape)"
      ],
      "metadata": {
        "colab": {
          "base_uri": "https://localhost:8080/"
        },
        "id": "jZaGLp-qKXkP",
        "outputId": "e854a9e4-4fae-437b-e033-1b26793b3599"
      },
      "execution_count": null,
      "outputs": [
        {
          "output_type": "stream",
          "name": "stdout",
          "text": [
            "0 missing values in training data\n",
            "0 missing values in testing data\n",
            "\n",
            "\n",
            "All data in X_train_processed are float64\n",
            "All data in X_test_processed are float64\n",
            "\n",
            "\n",
            "shape of data is (294, 8)\n"
          ]
        }
      ]
    },
    {
      "cell_type": "markdown",
      "source": [
        "## Modelos de Machine Learning\n",
        "- Random Forest"
      ],
      "metadata": {
        "id": "_tgqXj3QQ3pa"
      }
    },
    {
      "cell_type": "code",
      "source": [
        "rf = RandomForestClassifier(random_state= 42) # no se configura ningun hiperparametro\n",
        "rf.fit(X_train_processed, y_train)# ajuste a datos procesados y vector objetivo\n",
        "rf_train_score = rf.score(X_train_processed, y_train) # score en conjunto de entrenamiento\n",
        "rf_test_score = rf.score(X_test_processed, y_test) # score en conjunto de prueba\n",
        "rf_predict = rf.predict(X_test_processed)\n",
        "print(\"Score para conjunto de entrenamiento por defecto:\", rf_train_score,\"\\n\"\"Score para conjunto de prueba por defecto:\", rf_test_score)"
      ],
      "metadata": {
        "colab": {
          "base_uri": "https://localhost:8080/"
        },
        "id": "zobYsC6WDXDO",
        "outputId": "933a3d24-a881-41fb-b304-b4a6b2e14e0c"
      },
      "execution_count": 244,
      "outputs": [
        {
          "output_type": "stream",
          "name": "stdout",
          "text": [
            "Score para conjunto de entrenamiento por defecto: 1.0 \n",
            "Score para conjunto de prueba por defecto: 0.7857142857142857\n"
          ]
        }
      ]
    },
    {
      "cell_type": "markdown",
      "source": [
        "**optimizacion de modelo Random Forest**\n",
        "\n",
        "- Se utilizaran los hiperparametros 'max_depth' y  'n_estimators' para la optimizacion\n",
        "- el bucle for a continuacion nos ayuda a iterar en un rango dado para buscar el mejor rendimiento del modelo."
      ],
      "metadata": {
        "id": "rM2JOG_WLUgD"
      }
    },
    {
      "cell_type": "code",
      "source": [
        "# Lista de valores a probar para max_depth:\n",
        "max_depth = list(range(10, 15))\n",
        "r2_depth = []\n",
        "for x in max_depth:\n",
        "    rf_x = RandomForestClassifier(max_depth = x,\n",
        "                             random_state = 42)\n",
        "    rf_x.fit(X_train_processed, y_train)\n",
        "    score = rf_x.score(X_test_processed, y_test)\n",
        "    r2_depth.append(score)\n",
        "plt.plot(max_depth, r2_depth)\n",
        "plt.xlabel('max_depth')\n",
        "plt.ylabel('R2');"
      ],
      "metadata": {
        "colab": {
          "base_uri": "https://localhost:8080/",
          "height": 280
        },
        "id": "2e3-wpylLP-6",
        "outputId": "d7e43538-767a-48ed-bc82-a4a5955c2ff7"
      },
      "execution_count": 245,
      "outputs": [
        {
          "output_type": "display_data",
          "data": {
            "text/plain": [
              "<Figure size 432x288 with 1 Axes>"
            ],
            "image/png": "[encoded data removed]"
          },
          "metadata": {
            "needs_background": "light"
          }
        }
      ]
    },
    {
      "cell_type": "markdown",
      "source": [
        "Se obtiene que, el valor optimo de max depth es 12."
      ],
      "metadata": {
        "id": "hXGuI0J-OjJb"
      }
    },
    {
      "cell_type": "code",
      "source": [
        "n_estimators = list(range(10,14))\n",
        "r2_estimators = []\n",
        "for x in n_estimators:\n",
        "    rf_x = RandomForestClassifier( max_depth = 12,\n",
        "                                  n_estimators=x,\n",
        "                             random_state = 42)\n",
        "    rf_x.fit(X_train_processed, y_train)\n",
        "    score_estimators = rf_x.score(X_test_processed, y_test)\n",
        "    r2_estimators.append(score_estimators)\n",
        "plt.plot(n_estimators, r2_estimators)\n",
        "plt.xlabel('n_estimators')\n",
        "plt.ylabel('R2');"
      ],
      "metadata": {
        "colab": {
          "base_uri": "https://localhost:8080/",
          "height": 280
        },
        "id": "MofHGCqALW36",
        "outputId": "9f831da3-c835-4bae-9a7d-62ca4ec623e5"
      },
      "execution_count": 246,
      "outputs": [
        {
          "output_type": "display_data",
          "data": {
            "text/plain": [
              "<Figure size 432x288 with 1 Axes>"
            ],
            "image/png": "[encoded data removed]"
          },
          "metadata": {
            "needs_background": "light"
          }
        }
      ]
    },
    {
      "cell_type": "markdown",
      "source": [
        "Se obtiene que el valor optimo de n_estimators es 12"
      ],
      "metadata": {
        "id": "K0G5FSegOsrT"
      }
    },
    {
      "cell_type": "code",
      "source": [
        "rf_opt = RandomForestClassifier(random_state= 42, max_depth = 12, n_estimators=12)\n",
        "rf_opt.fit(X_train_processed, y_train)\n",
        "rf_train_score_opt = rf_opt.score(X_train_processed, y_train)\n",
        "rf_test_score_opt = rf_opt.score(X_test_processed, y_test)\n",
        "rf_opt_predict = rf_opt.predict(X_test_processed)\n",
        "print(\"Score optimizado de RF para conjunto de entrenamiento:\", rf_train_score_opt,\"\\n\"\"Score optimizado de RF para conjunto de prueba:\", rf_test_score_opt)"
      ],
      "metadata": {
        "colab": {
          "base_uri": "https://localhost:8080/"
        },
        "id": "4rBkt3pvLsHE",
        "outputId": "05193fe2-3f13-42de-baf7-27f8cb25f992"
      },
      "execution_count": 249,
      "outputs": [
        {
          "output_type": "stream",
          "name": "stdout",
          "text": [
            "Score optimizado de RF para conjunto de entrenamiento: 0.9761904761904762 \n",
            "Score optimizado de RF para conjunto de prueba: 0.7959183673469388\n"
          ]
        }
      ]
    },
    {
      "cell_type": "code",
      "source": [
        "acc_score_rf = accuracy_score(y_test, rf_opt_predict)\n",
        "print(\"Precision del modelo RF optimizado:\", acc_score_rf)"
      ],
      "metadata": {
        "colab": {
          "base_uri": "https://localhost:8080/"
        },
        "id": "656o3oSqT49-",
        "outputId": "82870abf-a44e-45f0-becb-40507de42eaf"
      },
      "execution_count": 258,
      "outputs": [
        {
          "output_type": "stream",
          "name": "stdout",
          "text": [
            "Precision del modelo RF optimizado: 0.7959183673469388\n"
          ]
        }
      ]
    },
    {
      "cell_type": "markdown",
      "source": [
        "Como conclusion, usando los hiperparametros encontrados en bucles for, podemos subir el rendimiento del modelo a 0.7959183673469388"
      ],
      "metadata": {
        "id": "_SrgW1EfRCBj"
      }
    },
    {
      "cell_type": "markdown",
      "source": [
        "## Modelos de Machine Learning\n",
        "- KNN"
      ],
      "metadata": {
        "id": "hglBpnJCRTP9"
      }
    },
    {
      "cell_type": "code",
      "source": [
        "knn = KNeighborsClassifier()\n",
        "knn.fit(X_train_processed, y_train)\n",
        "knn_train_score = knn.score(X_train_processed, y_train)\n",
        "knn_test_score = knn.score(X_test_processed, y_test)\n",
        "print(\"Score para conjunto de entrenamiento por defecto:\", knn_train_score,\"\\n\"\"Score para conjunto de prueba por defecto:\", knn_test_score)"
      ],
      "metadata": {
        "colab": {
          "base_uri": "https://localhost:8080/"
        },
        "id": "Thrs7vIlONYE",
        "outputId": "c2b24152-9d6c-41a6-98d6-825e7b21528f"
      },
      "execution_count": 250,
      "outputs": [
        {
          "output_type": "stream",
          "name": "stdout",
          "text": [
            "Score para conjunto de entrenamiento por defecto: 0.8469387755102041 \n",
            "Score para conjunto de prueba por defecto: 0.7346938775510204\n"
          ]
        }
      ]
    },
    {
      "cell_type": "markdown",
      "source": [
        "**optimizacion de modelo KNN**\n",
        "\n",
        "- Se utilizara el hiperparametro  'n_neighbors' para la optimizacion\n",
        "- el bucle for a continuacion nos ayuda a iterar en un rango dado para buscar el mejor rendimiento del modelo."
      ],
      "metadata": {
        "id": "XwR4p4wxRa-E"
      }
    },
    {
      "cell_type": "code",
      "source": [
        "score_knn = []\n",
        "for x in range(1,10):\n",
        "  knn_x = KNeighborsClassifier(n_neighbors=x)\n",
        "  knn_x.fit(X_train_processed,y_train)\n",
        "  knn_score = knn_x.score(X_test_processed, y_test)\n",
        "  score_knn.append(knn_score)\n",
        "score_knn.index(max(score_knn))+1 #busqueda de valor maximo, se pone +1 para compensar dado que rango empieza en 1"
      ],
      "metadata": {
        "colab": {
          "base_uri": "https://localhost:8080/"
        },
        "id": "53y2R6PpRXBx",
        "outputId": "7d8be672-512d-4440-8366-5d9079d366c2"
      },
      "execution_count": 251,
      "outputs": [
        {
          "output_type": "execute_result",
          "data": {
            "text/plain": [
              "8"
            ]
          },
          "metadata": {},
          "execution_count": 251
        }
      ]
    },
    {
      "cell_type": "markdown",
      "source": [
        "Con esto se obtiene que el valor optimo para el modelo KNN es 8, dada la ubicacion del valor maximo arrojado por score_knn"
      ],
      "metadata": {
        "id": "4Q7PFPQuSpTk"
      }
    },
    {
      "cell_type": "code",
      "source": [
        "knn_opt = KNeighborsClassifier(n_neighbors=8)\n",
        "knn_opt.fit(X_train_processed, y_train)\n",
        "knn_opt_train_score = knn_opt.score(X_train_processed, y_train)\n",
        "knn_opt_test_score = knn_opt.score(X_test_processed, y_test)\n",
        "knn_opt_predict = knn_opt.predict(X_test_processed)\n",
        "print(\"Score para conjunto de entrenamiento:\", knn_opt_train_score,\"\\n\"\"Score para conjunto de prueba:\", knn_opt_test_score)"
      ],
      "metadata": {
        "colab": {
          "base_uri": "https://localhost:8080/"
        },
        "id": "W3pdA4n9RfTd",
        "outputId": "488b8659-74e6-416e-f902-e33b33e9a88d"
      },
      "execution_count": 255,
      "outputs": [
        {
          "output_type": "stream",
          "name": "stdout",
          "text": [
            "Score para conjunto de entrenamiento: 0.8197278911564626 \n",
            "Score para conjunto de prueba: 0.7551020408163265\n"
          ]
        }
      ]
    },
    {
      "cell_type": "code",
      "source": [
        "acc_score_knn = accuracy_score(y_test, knn_opt_predict)\n",
        "print(\"Precision del modelo KNN optimizado:\", acc_score_knn)"
      ],
      "metadata": {
        "colab": {
          "base_uri": "https://localhost:8080/"
        },
        "id": "HI5HSB_7Sm1r",
        "outputId": "7506fb0d-b317-49c8-b57f-d633a7665214"
      },
      "execution_count": 256,
      "outputs": [
        {
          "output_type": "stream",
          "name": "stdout",
          "text": [
            "Precision del modelo KNN optimizado: 0.7551020408163265\n"
          ]
        }
      ]
    },
    {
      "cell_type": "markdown",
      "source": [
        "###**Resultados de modelos optimizados en conjuntos de prueba**\n"
      ],
      "metadata": {
        "id": "H1AhfriuaHVs"
      }
    },
    {
      "cell_type": "code",
      "source": [
        "print(\"Score para RF\")\n",
        "print(\"Score optimizado de RF para conjunto de prueba:\", rf_test_score_opt)\n",
        "print(\"Precision del modelo RF optimizado:\", acc_score_rf,\"\\n\")\n",
        "print(\"Score para KNN\")\n",
        "print(\"Score optimizado KNN para conjunto de prueba:\", knn_opt_test_score)\n",
        "print(\"Precision del modelo KNN optimizado:\", acc_score_knn)"
      ],
      "metadata": {
        "colab": {
          "base_uri": "https://localhost:8080/"
        },
        "id": "gVJ_YaHqaNSk",
        "outputId": "7f048b48-8cdf-4ad9-d39f-bef3cf2d0d1c"
      },
      "execution_count": 259,
      "outputs": [
        {
          "output_type": "stream",
          "name": "stdout",
          "text": [
            "Score para RF\n",
            "Score optimizado de RF para conjunto de prueba: 0.7959183673469388\n",
            "Precision del modelo RF optimizado: 0.7959183673469388 \n",
            "\n",
            "Score para KNN\n",
            "Score optimizado KNN para conjunto de prueba: 0.7551020408163265\n",
            "Precision del modelo KNN optimizado: 0.7551020408163265\n"
          ]
        }
      ]
    },
    {
      "cell_type": "markdown",
      "source": [
        "## Conclusion\n",
        "\n",
        "- Segun los datos vistos, al momento de procesarlos en primera instancia se detectan una gran cantidad de datos en 0, los cuales son de vital importancia al momento de querer predecir si un paciente padecera de diabetes o no.\n",
        "ante este problema se urge la toma de muestras para los pacientes mencionados puesto que muchos de ellos podrian estar susceptibles a la enfermedad.\n",
        "\n",
        "- La importancia de estos valores se ve de mejor manera en el grafico de calor mostrado donde todas las caracteristicas del conjunto de datos muestran una correlacion baja - moderada y positiva con la enfermedad.\n",
        "\n",
        "Con respecto a los modelos de Machine Learning:\n",
        "\n",
        "- Se utilizaron los modelos **RandomForest** y **KNN**.\n",
        "\n",
        "- Random Forest obtuvo la mejor puntuacion con respecto a KNN, importante recalcar que la puntuacion mide el rendimiento del modelo y mientras mas cercana a 1 mejor.\n",
        "\n",
        "- Esta superioridad en rendimiento se mantuvo incluso despues de optimizar ambos modelos.\n",
        "\n",
        "- Se recomienda la utilizacion de RandomForest para la prediccion de Diabetes en el paciente."
      ],
      "metadata": {
        "id": "AZJA47xvWST1"
      }
    },
    {
      "cell_type": "markdown",
      "source": [
        "#**Referencias**\n",
        "\n",
        "- [Material Coding Dojo, Machine Learning](https://login.codingdojo.com/course_intro/503) \n",
        "- [Curso CodingDojo - fralfaro](https://github.com/fralfaro/CodingDojo-DataScience)"
      ],
      "metadata": {
        "id": "_yVw5k6FgG6J"
      }
    },
    {
      "cell_type": "code",
      "source": [],
      "metadata": {
        "id": "eSdbeOSnggaI"
      },
      "execution_count": null,
      "outputs": []
    }
  ]
}