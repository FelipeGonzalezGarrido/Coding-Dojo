{
  "nbformat": 4,
  "nbformat_minor": 0,
  "metadata": {
    "colab": {
      "provenance": []
    },
    "kernelspec": {
      "name": "python3",
      "display_name": "Python 3"
    },
    "language_info": {
      "name": "python"
    }
  },
  "cells": [
    {
      "cell_type": "code",
      "execution_count": 1,
      "metadata": {
        "colab": {
          "base_uri": "https://localhost:8080/"
        },
        "id": "9gzCLoOXFhip",
        "outputId": "3e5c612a-cbec-412d-c968-23f2989d9275"
      },
      "outputs": [
        {
          "output_type": "stream",
          "name": "stdout",
          "text": [
            "Mounted at /content/drive\n"
          ]
        }
      ],
      "source": [
        "from google.colab import drive\n",
        "drive.mount (\"/content/drive\")"
      ]
    },
    {
      "cell_type": "code",
      "source": [
        "import pandas as pd\n",
        "import numpy as np\n",
        "from sklearn.model_selection import train_test_split\n",
        "from sklearn.compose import make_column_selector, make_column_transformer\n",
        "from sklearn.preprocessing import StandardScaler, OneHotEncoder"
      ],
      "metadata": {
        "id": "Ni_Gie1v3f19"
      },
      "execution_count": 21,
      "outputs": []
    },
    {
      "cell_type": "code",
      "source": [
        "filename = \"/content/drive/MyDrive/Data CodingDojo/abalones/abalone.data\"\n",
        "\n",
        "df = pd.read_csv(filename)\n",
        "\n",
        "\n",
        "df.head()"
      ],
      "metadata": {
        "colab": {
          "base_uri": "https://localhost:8080/",
          "height": 206
        },
        "id": "79AeS6Sk37YE",
        "outputId": "c493f12e-290b-47b5-cc08-74fa36aeca3c"
      },
      "execution_count": 9,
      "outputs": [
        {
          "output_type": "execute_result",
          "data": {
            "text/plain": [
              "   M  0.455  0.365  0.095   0.514  0.2245   0.101   0.15  15\n",
              "0  M  0.350  0.265  0.090  0.2255  0.0995  0.0485  0.070   7\n",
              "1  F  0.530  0.420  0.135  0.6770  0.2565  0.1415  0.210   9\n",
              "2  M  0.440  0.365  0.125  0.5160  0.2155  0.1140  0.155  10\n",
              "3  I  0.330  0.255  0.080  0.2050  0.0895  0.0395  0.055   7\n",
              "4  I  0.425  0.300  0.095  0.3515  0.1410  0.0775  0.120   8"
            ],
            "text/html": [
              "\n",
              "  <div id=\"df-81163462-2df5-481b-bfa7-f8c64f93e744\">\n",
              "    <div class=\"colab-df-container\">\n",
              "      <div>\n",
              "<style scoped>\n",
              "    .dataframe tbody tr th:only-of-type {\n",
              "        vertical-align: middle;\n",
              "    }\n",
              "\n",
              "    .dataframe tbody tr th {\n",
              "        vertical-align: top;\n",
              "    }\n",
              "\n",
              "    .dataframe thead th {\n",
              "        text-align: right;\n",
              "    }\n",
              "</style>\n",
              "<table border=\"1\" class=\"dataframe\">\n",
              "  <thead>\n",
              "    <tr style=\"text-align: right;\">\n",
              "      <th></th>\n",
              "      <th>M</th>\n",
              "      <th>0.455</th>\n",
              "      <th>0.365</th>\n",
              "      <th>0.095</th>\n",
              "      <th>0.514</th>\n",
              "      <th>0.2245</th>\n",
              "      <th>0.101</th>\n",
              "      <th>0.15</th>\n",
              "      <th>15</th>\n",
              "    </tr>\n",
              "  </thead>\n",
              "  <tbody>\n",
              "    <tr>\n",
              "      <th>0</th>\n",
              "      <td>M</td>\n",
              "      <td>0.350</td>\n",
              "      <td>0.265</td>\n",
              "      <td>0.090</td>\n",
              "      <td>0.2255</td>\n",
              "      <td>0.0995</td>\n",
              "      <td>0.0485</td>\n",
              "      <td>0.070</td>\n",
              "      <td>7</td>\n",
              "    </tr>\n",
              "    <tr>\n",
              "      <th>1</th>\n",
              "      <td>F</td>\n",
              "      <td>0.530</td>\n",
              "      <td>0.420</td>\n",
              "      <td>0.135</td>\n",
              "      <td>0.6770</td>\n",
              "      <td>0.2565</td>\n",
              "      <td>0.1415</td>\n",
              "      <td>0.210</td>\n",
              "      <td>9</td>\n",
              "    </tr>\n",
              "    <tr>\n",
              "      <th>2</th>\n",
              "      <td>M</td>\n",
              "      <td>0.440</td>\n",
              "      <td>0.365</td>\n",
              "      <td>0.125</td>\n",
              "      <td>0.5160</td>\n",
              "      <td>0.2155</td>\n",
              "      <td>0.1140</td>\n",
              "      <td>0.155</td>\n",
              "      <td>10</td>\n",
              "    </tr>\n",
              "    <tr>\n",
              "      <th>3</th>\n",
              "      <td>I</td>\n",
              "      <td>0.330</td>\n",
              "      <td>0.255</td>\n",
              "      <td>0.080</td>\n",
              "      <td>0.2050</td>\n",
              "      <td>0.0895</td>\n",
              "      <td>0.0395</td>\n",
              "      <td>0.055</td>\n",
              "      <td>7</td>\n",
              "    </tr>\n",
              "    <tr>\n",
              "      <th>4</th>\n",
              "      <td>I</td>\n",
              "      <td>0.425</td>\n",
              "      <td>0.300</td>\n",
              "      <td>0.095</td>\n",
              "      <td>0.3515</td>\n",
              "      <td>0.1410</td>\n",
              "      <td>0.0775</td>\n",
              "      <td>0.120</td>\n",
              "      <td>8</td>\n",
              "    </tr>\n",
              "  </tbody>\n",
              "</table>\n",
              "</div>\n",
              "      <button class=\"colab-df-convert\" onclick=\"convertToInteractive('df-81163462-2df5-481b-bfa7-f8c64f93e744')\"\n",
              "              title=\"Convert this dataframe to an interactive table.\"\n",
              "              style=\"display:none;\">\n",
              "        \n",
              "  <svg xmlns=\"http://www.w3.org/2000/svg\" height=\"24px\"viewBox=\"0 0 24 24\"\n",
              "       width=\"24px\">\n",
              "    <path d=\"M0 0h24v24H0V0z\" fill=\"none\"/>\n",
              "    <path d=\"M18.56 5.44l.94 2.06.94-2.06 2.06-.94-2.06-.94-.94-2.06-.94 2.06-2.06.94zm-11 1L8.5 8.5l.94-2.06 2.06-.94-2.06-.94L8.5 2.5l-.94 2.06-2.06.94zm10 10l.94 2.06.94-2.06 2.06-.94-2.06-.94-.94-2.06-.94 2.06-2.06.94z\"/><path d=\"M17.41 7.96l-1.37-1.37c-.4-.4-.92-.59-1.43-.59-.52 0-1.04.2-1.43.59L10.3 9.45l-7.72 7.72c-.78.78-.78 2.05 0 2.83L4 21.41c.39.39.9.59 1.41.59.51 0 1.02-.2 1.41-.59l7.78-7.78 2.81-2.81c.8-.78.8-2.07 0-2.86zM5.41 20L4 18.59l7.72-7.72 1.47 1.35L5.41 20z\"/>\n",
              "  </svg>\n",
              "      </button>\n",
              "      \n",
              "  <style>\n",
              "    .colab-df-container {\n",
              "      display:flex;\n",
              "      flex-wrap:wrap;\n",
              "      gap: 12px;\n",
              "    }\n",
              "\n",
              "    .colab-df-convert {\n",
              "      background-color: #E8F0FE;\n",
              "      border: none;\n",
              "      border-radius: 50%;\n",
              "      cursor: pointer;\n",
              "      display: none;\n",
              "      fill: #1967D2;\n",
              "      height: 32px;\n",
              "      padding: 0 0 0 0;\n",
              "      width: 32px;\n",
              "    }\n",
              "\n",
              "    .colab-df-convert:hover {\n",
              "      background-color: #E2EBFA;\n",
              "      box-shadow: 0px 1px 2px rgba(60, 64, 67, 0.3), 0px 1px 3px 1px rgba(60, 64, 67, 0.15);\n",
              "      fill: #174EA6;\n",
              "    }\n",
              "\n",
              "    [theme=dark] .colab-df-convert {\n",
              "      background-color: #3B4455;\n",
              "      fill: #D2E3FC;\n",
              "    }\n",
              "\n",
              "    [theme=dark] .colab-df-convert:hover {\n",
              "      background-color: #434B5C;\n",
              "      box-shadow: 0px 1px 3px 1px rgba(0, 0, 0, 0.15);\n",
              "      filter: drop-shadow(0px 1px 2px rgba(0, 0, 0, 0.3));\n",
              "      fill: #FFFFFF;\n",
              "    }\n",
              "  </style>\n",
              "\n",
              "      <script>\n",
              "        const buttonEl =\n",
              "          document.querySelector('#df-81163462-2df5-481b-bfa7-f8c64f93e744 button.colab-df-convert');\n",
              "        buttonEl.style.display =\n",
              "          google.colab.kernel.accessAllowed ? 'block' : 'none';\n",
              "\n",
              "        async function convertToInteractive(key) {\n",
              "          const element = document.querySelector('#df-81163462-2df5-481b-bfa7-f8c64f93e744');\n",
              "          const dataTable =\n",
              "            await google.colab.kernel.invokeFunction('convertToInteractive',\n",
              "                                                     [key], {});\n",
              "          if (!dataTable) return;\n",
              "\n",
              "          const docLinkHtml = 'Like what you see? Visit the ' +\n",
              "            '<a target=\"_blank\" href=https://colab.research.google.com/notebooks/data_table.ipynb>data table notebook</a>'\n",
              "            + ' to learn more about interactive tables.';\n",
              "          element.innerHTML = '';\n",
              "          dataTable['output_type'] = 'display_data';\n",
              "          await google.colab.output.renderOutput(dataTable, element);\n",
              "          const docLink = document.createElement('div');\n",
              "          docLink.innerHTML = docLinkHtml;\n",
              "          element.appendChild(docLink);\n",
              "        }\n",
              "      </script>\n",
              "    </div>\n",
              "  </div>\n",
              "  "
            ]
          },
          "metadata": {},
          "execution_count": 9
        }
      ]
    },
    {
      "cell_type": "code",
      "source": [
        "df.columns = [\"Sex\",\"Length\",\"Diameter\",\"Height\",\"Whole_weight\",\"Shucked_weight\",\"Viscera_weight\",\"Shell_weight\",\"Rings\"]"
      ],
      "metadata": {
        "id": "YQAGDhAX4M22"
      },
      "execution_count": 11,
      "outputs": []
    },
    {
      "cell_type": "code",
      "source": [
        "df.info()"
      ],
      "metadata": {
        "colab": {
          "base_uri": "https://localhost:8080/"
        },
        "id": "VNdCsyXm50B8",
        "outputId": "ae42e0d3-b21d-4503-ab0d-4faec1fde7f8"
      },
      "execution_count": 14,
      "outputs": [
        {
          "output_type": "stream",
          "name": "stdout",
          "text": [
            "<class 'pandas.core.frame.DataFrame'>\n",
            "RangeIndex: 4176 entries, 0 to 4175\n",
            "Data columns (total 9 columns):\n",
            " #   Column          Non-Null Count  Dtype  \n",
            "---  ------          --------------  -----  \n",
            " 0   Sex             4176 non-null   object \n",
            " 1   Length          4176 non-null   float64\n",
            " 2   Diameter        4176 non-null   float64\n",
            " 3   Height          4176 non-null   float64\n",
            " 4   Whole_weight    4176 non-null   float64\n",
            " 5   Shucked_weight  4176 non-null   float64\n",
            " 6   Viscera_weight  4176 non-null   float64\n",
            " 7   Shell_weight    4176 non-null   float64\n",
            " 8   Rings           4176 non-null   int64  \n",
            "dtypes: float64(7), int64(1), object(1)\n",
            "memory usage: 293.8+ KB\n"
          ]
        }
      ]
    },
    {
      "cell_type": "markdown",
      "source": [
        "# Matriz de caracteristicas y vector objetivo"
      ],
      "metadata": {
        "id": "OznjGojT6Jh1"
      }
    },
    {
      "cell_type": "code",
      "source": [
        "X = df.drop(columns=\"Rings\")\n",
        "y = df[\"Rings\"]"
      ],
      "metadata": {
        "id": "nwuC-Sjs6EMU"
      },
      "execution_count": 15,
      "outputs": []
    },
    {
      "cell_type": "code",
      "source": [
        "X_train, X_test, y_train, y_test = train_test_split(X,y, random_state = 42)"
      ],
      "metadata": {
        "id": "r4WSmTMG6bLM"
      },
      "execution_count": 16,
      "outputs": []
    },
    {
      "cell_type": "markdown",
      "source": [
        "# Selectores de columnas"
      ],
      "metadata": {
        "id": "2ogdyZ576o-9"
      }
    },
    {
      "cell_type": "code",
      "source": [
        "cat_selector = make_column_selector(dtype_include = \"object\")\n",
        "num_selector = make_column_selector(dtype_include = \"number\")"
      ],
      "metadata": {
        "id": "Es7VGu1M6jW2"
      },
      "execution_count": 17,
      "outputs": []
    },
    {
      "cell_type": "markdown",
      "source": [
        "# Instanciar transformadores"
      ],
      "metadata": {
        "id": "PvX_RdZ966H7"
      }
    },
    {
      "cell_type": "code",
      "source": [
        "scaler = StandardScaler()\n",
        "ohe = OneHotEncoder(handle_unknown=\"ignore\")"
      ],
      "metadata": {
        "id": "QvkR9mlO622O"
      },
      "execution_count": 18,
      "outputs": []
    },
    {
      "cell_type": "markdown",
      "source": [
        "# Emparejar transformador con las columnas"
      ],
      "metadata": {
        "id": "pTTeoAxO7GrI"
      }
    },
    {
      "cell_type": "code",
      "source": [
        "num_tuple = (scaler, num_selector)\n",
        "cat_tuple = (ohe, cat_selector)"
      ],
      "metadata": {
        "id": "EidaoBzT7F0o"
      },
      "execution_count": 19,
      "outputs": []
    },
    {
      "cell_type": "markdown",
      "source": [
        "# Instanciar ColumnTransformer"
      ],
      "metadata": {
        "id": "l9s1olE07YPA"
      }
    },
    {
      "cell_type": "code",
      "source": [
        "col_transformer = make_column_transformer(num_tuple, cat_tuple, remainder=\"passthrough\")"
      ],
      "metadata": {
        "id": "P4j-BP-C7SO7"
      },
      "execution_count": 22,
      "outputs": []
    },
    {
      "cell_type": "markdown",
      "source": [
        "# Encajar el transformador"
      ],
      "metadata": {
        "id": "hZJYXM1u7s3e"
      }
    },
    {
      "cell_type": "code",
      "source": [
        "col_transformer.fit(X_train)"
      ],
      "metadata": {
        "colab": {
          "base_uri": "https://localhost:8080/"
        },
        "id": "AKsilTos7iln",
        "outputId": "e73e5550-9818-4525-e847-c8257cf3ecbe"
      },
      "execution_count": 23,
      "outputs": [
        {
          "output_type": "execute_result",
          "data": {
            "text/plain": [
              "ColumnTransformer(remainder='passthrough',\n",
              "                  transformers=[('standardscaler', StandardScaler(),\n",
              "                                 <sklearn.compose._column_transformer.make_column_selector object at 0x7f7150b61d30>),\n",
              "                                ('onehotencoder',\n",
              "                                 OneHotEncoder(handle_unknown='ignore'),\n",
              "                                 <sklearn.compose._column_transformer.make_column_selector object at 0x7f7150b612b0>)])"
            ]
          },
          "metadata": {},
          "execution_count": 23
        }
      ]
    },
    {
      "cell_type": "markdown",
      "source": [
        "# nombres de columnas para facilitar visualizacion de datos"
      ],
      "metadata": {
        "id": "G1UqEfmADhxw"
      }
    },
    {
      "cell_type": "code",
      "source": [
        "columns = col_transformer.get_feature_names_out()\n"
      ],
      "metadata": {
        "colab": {
          "base_uri": "https://localhost:8080/",
          "height": 35
        },
        "id": "zbTta9Vr_irI",
        "outputId": "51869edd-18a2-4e36-852b-3e89edc270e3"
      },
      "execution_count": 33,
      "outputs": [
        {
          "output_type": "execute_result",
          "data": {
            "text/plain": [
              "'standardscaler__Length'"
            ],
            "application/vnd.google.colaboratory.intrinsic+json": {
              "type": "string"
            }
          },
          "metadata": {},
          "execution_count": 33
        }
      ]
    },
    {
      "cell_type": "markdown",
      "source": [
        "# Transformacion"
      ],
      "metadata": {
        "id": "fwJ6LDn071_1"
      }
    },
    {
      "cell_type": "code",
      "source": [
        "X_train_processed = col_transformer.transform(X_train)\n",
        "X_test_processed = col_transformer.transform(X_test)"
      ],
      "metadata": {
        "id": "O9HU-hzS7zIN"
      },
      "execution_count": 24,
      "outputs": []
    },
    {
      "cell_type": "code",
      "source": [
        "X_train_processed"
      ],
      "metadata": {
        "colab": {
          "base_uri": "https://localhost:8080/"
        },
        "id": "5TLJx3gy8-97",
        "outputId": "95f53d58-a1b1-4ed3-c4b6-ef49da3c553c"
      },
      "execution_count": 26,
      "outputs": [
        {
          "output_type": "execute_result",
          "data": {
            "text/plain": [
              "array([[-1.54642176, -1.5561698 , -1.05355826, ...,  0.        ,\n",
              "         0.        ,  1.        ],\n",
              "       [ 0.79572536,  0.52191671,  0.7068688 , ...,  0.        ,\n",
              "         0.        ,  1.        ],\n",
              "       [ 0.25201264,  0.31917656,  0.35478338, ...,  1.        ,\n",
              "         0.        ,  0.        ],\n",
              "       ...,\n",
              "       [-0.04075575,  0.21780648,  0.23742158, ...,  1.        ,\n",
              "         0.        ,  0.        ],\n",
              "       [ 0.41930886,  0.52191671,  0.23742158, ...,  1.        ,\n",
              "         0.        ,  0.        ],\n",
              "       [ 0.58660508,  0.57260174,  0.00269797, ...,  1.        ,\n",
              "         0.        ,  0.        ]])"
            ]
          },
          "metadata": {},
          "execution_count": 26
        }
      ]
    },
    {
      "cell_type": "markdown",
      "source": [
        "# Visualizacion de transformaciones en DataFrame"
      ],
      "metadata": {
        "id": "vCW_jghy8VRs"
      }
    },
    {
      "cell_type": "code",
      "source": [
        "X_train_df = pd.DataFrame(X_test_processed, columns=columns)\n",
        "X_train_df"
      ],
      "metadata": {
        "colab": {
          "base_uri": "https://localhost:8080/",
          "height": 488
        },
        "id": "-JIGKxXy8BUN",
        "outputId": "d071ec56-5c6b-4a48-a622-b0f07801b33b"
      },
      "execution_count": 35,
      "outputs": [
        {
          "output_type": "execute_result",
          "data": {
            "text/plain": [
              "      standardscaler__Length  standardscaler__Diameter  \\\n",
              "0                   0.753901                  0.927397   \n",
              "1                   0.544781                  0.572602   \n",
              "2                   0.084716                  0.116436   \n",
              "3                   0.963022                  0.978082   \n",
              "4                  -0.208052                 -0.289044   \n",
              "...                      ...                       ...   \n",
              "1039                0.210189                  0.065751   \n",
              "1040               -0.751765                 -0.745209   \n",
              "1041                0.461133                  0.724657   \n",
              "1042                0.963022                  1.079452   \n",
              "1043               -1.211829                 -0.846579   \n",
              "\n",
              "      standardscaler__Height  standardscaler__Whole_weight  \\\n",
              "0                   0.824231                      1.115145   \n",
              "1                   0.237422                      0.654196   \n",
              "2                   0.120060                      0.195286   \n",
              "3                   0.589507                      0.802066   \n",
              "4                   0.354783                     -0.357445   \n",
              "...                      ...                           ...   \n",
              "1039               -0.114664                     -0.112693   \n",
              "1040               -0.701473                     -0.918334   \n",
              "1041                0.941592                      0.855096   \n",
              "1042                1.528401                      1.434342   \n",
              "1043               -0.701473                     -1.060086   \n",
              "\n",
              "      standardscaler__Shucked_weight  standardscaler__Viscera_weight  \\\n",
              "0                           0.895581                        1.354440   \n",
              "1                           1.141683                        0.526742   \n",
              "2                           0.170822                        0.140180   \n",
              "3                           0.728502                        0.804157   \n",
              "4                          -0.540390                       -0.346434   \n",
              "...                              ...                             ...   \n",
              "1039                       -0.262679                       -0.018993   \n",
              "1040                       -0.861000                       -0.864882   \n",
              "1041                        0.606580                        0.808705   \n",
              "1042                        1.369722                        1.395370   \n",
              "1043                       -1.084524                       -0.974029   \n",
              "\n",
              "      standardscaler__Shell_weight  onehotencoder__Sex_F  \\\n",
              "0                         0.380418                   1.0   \n",
              "1                         0.089847                   1.0   \n",
              "2                         0.079085                   0.0   \n",
              "3                         0.868291                   1.0   \n",
              "4                        -0.243771                   1.0   \n",
              "...                            ...                   ...   \n",
              "1039                      0.150831                   1.0   \n",
              "1040                     -0.925358                   1.0   \n",
              "1041                      0.947211                   1.0   \n",
              "1042                      1.173211                   1.0   \n",
              "1043                     -0.961231                   1.0   \n",
              "\n",
              "      onehotencoder__Sex_I  onehotencoder__Sex_M  \n",
              "0                      0.0                   0.0  \n",
              "1                      0.0                   0.0  \n",
              "2                      1.0                   0.0  \n",
              "3                      0.0                   0.0  \n",
              "4                      0.0                   0.0  \n",
              "...                    ...                   ...  \n",
              "1039                   0.0                   0.0  \n",
              "1040                   0.0                   0.0  \n",
              "1041                   0.0                   0.0  \n",
              "1042                   0.0                   0.0  \n",
              "1043                   0.0                   0.0  \n",
              "\n",
              "[1044 rows x 10 columns]"
            ],
            "text/html": [
              "\n",
              "  <div id=\"df-c0b4f8f9-2ceb-4f08-be00-9fde086b684e\">\n",
              "    <div class=\"colab-df-container\">\n",
              "      <div>\n",
              "<style scoped>\n",
              "    .dataframe tbody tr th:only-of-type {\n",
              "        vertical-align: middle;\n",
              "    }\n",
              "\n",
              "    .dataframe tbody tr th {\n",
              "        vertical-align: top;\n",
              "    }\n",
              "\n",
              "    .dataframe thead th {\n",
              "        text-align: right;\n",
              "    }\n",
              "</style>\n",
              "<table border=\"1\" class=\"dataframe\">\n",
              "  <thead>\n",
              "    <tr style=\"text-align: right;\">\n",
              "      <th></th>\n",
              "      <th>standardscaler__Length</th>\n",
              "      <th>standardscaler__Diameter</th>\n",
              "      <th>standardscaler__Height</th>\n",
              "      <th>standardscaler__Whole_weight</th>\n",
              "      <th>standardscaler__Shucked_weight</th>\n",
              "      <th>standardscaler__Viscera_weight</th>\n",
              "      <th>standardscaler__Shell_weight</th>\n",
              "      <th>onehotencoder__Sex_F</th>\n",
              "      <th>onehotencoder__Sex_I</th>\n",
              "      <th>onehotencoder__Sex_M</th>\n",
              "    </tr>\n",
              "  </thead>\n",
              "  <tbody>\n",
              "    <tr>\n",
              "      <th>0</th>\n",
              "      <td>0.753901</td>\n",
              "      <td>0.927397</td>\n",
              "      <td>0.824231</td>\n",
              "      <td>1.115145</td>\n",
              "      <td>0.895581</td>\n",
              "      <td>1.354440</td>\n",
              "      <td>0.380418</td>\n",
              "      <td>1.0</td>\n",
              "      <td>0.0</td>\n",
              "      <td>0.0</td>\n",
              "    </tr>\n",
              "    <tr>\n",
              "      <th>1</th>\n",
              "      <td>0.544781</td>\n",
              "      <td>0.572602</td>\n",
              "      <td>0.237422</td>\n",
              "      <td>0.654196</td>\n",
              "      <td>1.141683</td>\n",
              "      <td>0.526742</td>\n",
              "      <td>0.089847</td>\n",
              "      <td>1.0</td>\n",
              "      <td>0.0</td>\n",
              "      <td>0.0</td>\n",
              "    </tr>\n",
              "    <tr>\n",
              "      <th>2</th>\n",
              "      <td>0.084716</td>\n",
              "      <td>0.116436</td>\n",
              "      <td>0.120060</td>\n",
              "      <td>0.195286</td>\n",
              "      <td>0.170822</td>\n",
              "      <td>0.140180</td>\n",
              "      <td>0.079085</td>\n",
              "      <td>0.0</td>\n",
              "      <td>1.0</td>\n",
              "      <td>0.0</td>\n",
              "    </tr>\n",
              "    <tr>\n",
              "      <th>3</th>\n",
              "      <td>0.963022</td>\n",
              "      <td>0.978082</td>\n",
              "      <td>0.589507</td>\n",
              "      <td>0.802066</td>\n",
              "      <td>0.728502</td>\n",
              "      <td>0.804157</td>\n",
              "      <td>0.868291</td>\n",
              "      <td>1.0</td>\n",
              "      <td>0.0</td>\n",
              "      <td>0.0</td>\n",
              "    </tr>\n",
              "    <tr>\n",
              "      <th>4</th>\n",
              "      <td>-0.208052</td>\n",
              "      <td>-0.289044</td>\n",
              "      <td>0.354783</td>\n",
              "      <td>-0.357445</td>\n",
              "      <td>-0.540390</td>\n",
              "      <td>-0.346434</td>\n",
              "      <td>-0.243771</td>\n",
              "      <td>1.0</td>\n",
              "      <td>0.0</td>\n",
              "      <td>0.0</td>\n",
              "    </tr>\n",
              "    <tr>\n",
              "      <th>...</th>\n",
              "      <td>...</td>\n",
              "      <td>...</td>\n",
              "      <td>...</td>\n",
              "      <td>...</td>\n",
              "      <td>...</td>\n",
              "      <td>...</td>\n",
              "      <td>...</td>\n",
              "      <td>...</td>\n",
              "      <td>...</td>\n",
              "      <td>...</td>\n",
              "    </tr>\n",
              "    <tr>\n",
              "      <th>1039</th>\n",
              "      <td>0.210189</td>\n",
              "      <td>0.065751</td>\n",
              "      <td>-0.114664</td>\n",
              "      <td>-0.112693</td>\n",
              "      <td>-0.262679</td>\n",
              "      <td>-0.018993</td>\n",
              "      <td>0.150831</td>\n",
              "      <td>1.0</td>\n",
              "      <td>0.0</td>\n",
              "      <td>0.0</td>\n",
              "    </tr>\n",
              "    <tr>\n",
              "      <th>1040</th>\n",
              "      <td>-0.751765</td>\n",
              "      <td>-0.745209</td>\n",
              "      <td>-0.701473</td>\n",
              "      <td>-0.918334</td>\n",
              "      <td>-0.861000</td>\n",
              "      <td>-0.864882</td>\n",
              "      <td>-0.925358</td>\n",
              "      <td>1.0</td>\n",
              "      <td>0.0</td>\n",
              "      <td>0.0</td>\n",
              "    </tr>\n",
              "    <tr>\n",
              "      <th>1041</th>\n",
              "      <td>0.461133</td>\n",
              "      <td>0.724657</td>\n",
              "      <td>0.941592</td>\n",
              "      <td>0.855096</td>\n",
              "      <td>0.606580</td>\n",
              "      <td>0.808705</td>\n",
              "      <td>0.947211</td>\n",
              "      <td>1.0</td>\n",
              "      <td>0.0</td>\n",
              "      <td>0.0</td>\n",
              "    </tr>\n",
              "    <tr>\n",
              "      <th>1042</th>\n",
              "      <td>0.963022</td>\n",
              "      <td>1.079452</td>\n",
              "      <td>1.528401</td>\n",
              "      <td>1.434342</td>\n",
              "      <td>1.369722</td>\n",
              "      <td>1.395370</td>\n",
              "      <td>1.173211</td>\n",
              "      <td>1.0</td>\n",
              "      <td>0.0</td>\n",
              "      <td>0.0</td>\n",
              "    </tr>\n",
              "    <tr>\n",
              "      <th>1043</th>\n",
              "      <td>-1.211829</td>\n",
              "      <td>-0.846579</td>\n",
              "      <td>-0.701473</td>\n",
              "      <td>-1.060086</td>\n",
              "      <td>-1.084524</td>\n",
              "      <td>-0.974029</td>\n",
              "      <td>-0.961231</td>\n",
              "      <td>1.0</td>\n",
              "      <td>0.0</td>\n",
              "      <td>0.0</td>\n",
              "    </tr>\n",
              "  </tbody>\n",
              "</table>\n",
              "<p>1044 rows × 10 columns</p>\n",
              "</div>\n",
              "      <button class=\"colab-df-convert\" onclick=\"convertToInteractive('df-c0b4f8f9-2ceb-4f08-be00-9fde086b684e')\"\n",
              "              title=\"Convert this dataframe to an interactive table.\"\n",
              "              style=\"display:none;\">\n",
              "        \n",
              "  <svg xmlns=\"http://www.w3.org/2000/svg\" height=\"24px\"viewBox=\"0 0 24 24\"\n",
              "       width=\"24px\">\n",
              "    <path d=\"M0 0h24v24H0V0z\" fill=\"none\"/>\n",
              "    <path d=\"M18.56 5.44l.94 2.06.94-2.06 2.06-.94-2.06-.94-.94-2.06-.94 2.06-2.06.94zm-11 1L8.5 8.5l.94-2.06 2.06-.94-2.06-.94L8.5 2.5l-.94 2.06-2.06.94zm10 10l.94 2.06.94-2.06 2.06-.94-2.06-.94-.94-2.06-.94 2.06-2.06.94z\"/><path d=\"M17.41 7.96l-1.37-1.37c-.4-.4-.92-.59-1.43-.59-.52 0-1.04.2-1.43.59L10.3 9.45l-7.72 7.72c-.78.78-.78 2.05 0 2.83L4 21.41c.39.39.9.59 1.41.59.51 0 1.02-.2 1.41-.59l7.78-7.78 2.81-2.81c.8-.78.8-2.07 0-2.86zM5.41 20L4 18.59l7.72-7.72 1.47 1.35L5.41 20z\"/>\n",
              "  </svg>\n",
              "      </button>\n",
              "      \n",
              "  <style>\n",
              "    .colab-df-container {\n",
              "      display:flex;\n",
              "      flex-wrap:wrap;\n",
              "      gap: 12px;\n",
              "    }\n",
              "\n",
              "    .colab-df-convert {\n",
              "      background-color: #E8F0FE;\n",
              "      border: none;\n",
              "      border-radius: 50%;\n",
              "      cursor: pointer;\n",
              "      display: none;\n",
              "      fill: #1967D2;\n",
              "      height: 32px;\n",
              "      padding: 0 0 0 0;\n",
              "      width: 32px;\n",
              "    }\n",
              "\n",
              "    .colab-df-convert:hover {\n",
              "      background-color: #E2EBFA;\n",
              "      box-shadow: 0px 1px 2px rgba(60, 64, 67, 0.3), 0px 1px 3px 1px rgba(60, 64, 67, 0.15);\n",
              "      fill: #174EA6;\n",
              "    }\n",
              "\n",
              "    [theme=dark] .colab-df-convert {\n",
              "      background-color: #3B4455;\n",
              "      fill: #D2E3FC;\n",
              "    }\n",
              "\n",
              "    [theme=dark] .colab-df-convert:hover {\n",
              "      background-color: #434B5C;\n",
              "      box-shadow: 0px 1px 3px 1px rgba(0, 0, 0, 0.15);\n",
              "      filter: drop-shadow(0px 1px 2px rgba(0, 0, 0, 0.3));\n",
              "      fill: #FFFFFF;\n",
              "    }\n",
              "  </style>\n",
              "\n",
              "      <script>\n",
              "        const buttonEl =\n",
              "          document.querySelector('#df-c0b4f8f9-2ceb-4f08-be00-9fde086b684e button.colab-df-convert');\n",
              "        buttonEl.style.display =\n",
              "          google.colab.kernel.accessAllowed ? 'block' : 'none';\n",
              "\n",
              "        async function convertToInteractive(key) {\n",
              "          const element = document.querySelector('#df-c0b4f8f9-2ceb-4f08-be00-9fde086b684e');\n",
              "          const dataTable =\n",
              "            await google.colab.kernel.invokeFunction('convertToInteractive',\n",
              "                                                     [key], {});\n",
              "          if (!dataTable) return;\n",
              "\n",
              "          const docLinkHtml = 'Like what you see? Visit the ' +\n",
              "            '<a target=\"_blank\" href=https://colab.research.google.com/notebooks/data_table.ipynb>data table notebook</a>'\n",
              "            + ' to learn more about interactive tables.';\n",
              "          element.innerHTML = '';\n",
              "          dataTable['output_type'] = 'display_data';\n",
              "          await google.colab.output.renderOutput(dataTable, element);\n",
              "          const docLink = document.createElement('div');\n",
              "          docLink.innerHTML = docLinkHtml;\n",
              "          element.appendChild(docLink);\n",
              "        }\n",
              "      </script>\n",
              "    </div>\n",
              "  </div>\n",
              "  "
            ]
          },
          "metadata": {},
          "execution_count": 35
        }
      ]
    }
  ]
}