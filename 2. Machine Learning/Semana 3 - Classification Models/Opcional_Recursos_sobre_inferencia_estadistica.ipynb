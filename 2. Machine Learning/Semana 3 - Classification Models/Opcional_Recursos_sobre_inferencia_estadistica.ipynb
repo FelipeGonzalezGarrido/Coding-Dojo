{
  "nbformat": 4,
  "nbformat_minor": 0,
  "metadata": {
    "colab": {
      "provenance": [],
      "authorship_tag": "ABX9TyMOcgR8MouVwMKDTgGOXJW1",
      "include_colab_link": true
    },
    "kernelspec": {
      "name": "python3",
      "display_name": "Python 3"
    },
    "language_info": {
      "name": "python"
    }
  },
  "cells": [
    {
      "cell_type": "markdown",
      "metadata": {
        "id": "view-in-github",
        "colab_type": "text"
      },
      "source": [
        "<a href=\"https://colab.research.google.com/github/FelipeGonzalezGarrido/Coding-Dojo/blob/main/2.%20Machine%20Learning/Semana%203%20-%20Classification%20Models/Opcional_Recursos_sobre_inferencia_estadistica.ipynb\" target=\"_parent\"><img src=\"https://colab.research.google.com/assets/colab-badge.svg\" alt=\"Open In Colab\"/></a>"
      ]
    },
    {
      "cell_type": "markdown",
      "source": [
        "* [Hypothesis Testing](https://www.statisticshowto.com/probability-and-statistics/hypothesis-testing/)\n",
        "* [P-Values](https://www.scribbr.com/statistics/p-value/)\n",
        "* [Hypothesis testing & p-values](https://www.khanacademy.org/math/statistics-probability/significance-tests-one-sample/more-significance-testing-videos/v/hypothesis-testing-and-p-values)\n",
        "* [Confidence Intervals](https://www.mathsisfun.com/data/confidence-interval.html)\n",
        "* [Confidence Intervals](https://www.khanacademy.org/math/statistics-probability/confidence-intervals-one-sample)\n",
        "* [Data Distributions](https://www.khanacademy.org/math/probability/data-distributions-a1)\n",
        "* [Central Limit Theorem](https://www.khanacademy.org/math/ap-statistics/sampling-distribution-ap/sampling-distribution-mean/v/central-limit-theorem)\n",
        "* [Central Limit Theorem](https://www.investopedia.com/terms/c/central_limit_theorem.asp)\n",
        "* [Statistics Videos](https://www.youtube.com/watch?v=GUQJ7zMoSCM&list=PL0o_zxa4K1BVsziIRdfv4Hl4UIqDZhXWV)"
      ],
      "metadata": {
        "id": "858cMbj-FJtj"
      }
    },
    {
      "cell_type": "code",
      "execution_count": null,
      "metadata": {
        "id": "Gz1CPRerFGV-"
      },
      "outputs": [],
      "source": []
    }
  ]
}