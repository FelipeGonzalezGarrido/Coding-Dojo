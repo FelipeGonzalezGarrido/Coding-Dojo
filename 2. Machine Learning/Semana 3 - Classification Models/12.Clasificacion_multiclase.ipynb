{
  "nbformat": 4,
  "nbformat_minor": 0,
  "metadata": {
    "colab": {
      "provenance": [],
      "authorship_tag": "ABX9TyNNXv2qf/pcNWmGERBzd2Ir",
      "include_colab_link": true
    },
    "kernelspec": {
      "name": "python3",
      "display_name": "Python 3"
    },
    "language_info": {
      "name": "python"
    }
  },
  "cells": [
    {
      "cell_type": "markdown",
      "metadata": {
        "id": "view-in-github",
        "colab_type": "text"
      },
      "source": [
        "<a href=\"https://colab.research.google.com/github/FelipeGonzalezGarrido/Coding-Dojo/blob/main/2.%20Machine%20Learning/Semana%203%20-%20Classification%20Models/12.Clasificacion_multiclase.ipynb\" target=\"_parent\"><img src=\"https://colab.research.google.com/assets/colab-badge.svg\" alt=\"Open In Colab\"/></a>"
      ]
    },
    {
      "cell_type": "markdown",
      "source": [
        "![image.png](data:image/png;base64,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)"
      ],
      "metadata": {
        "id": "-GnpXrHJ3KcC"
      }
    },
    {
      "cell_type": "code",
      "execution_count": 1,
      "metadata": {
        "colab": {
          "base_uri": "https://localhost:8080/"
        },
        "id": "AjAxB-U93EkC",
        "outputId": "b8a61c3b-fd4d-498d-c5fe-d5d093e6bfd8"
      },
      "outputs": [
        {
          "output_type": "stream",
          "name": "stdout",
          "text": [
            "Mounted at /content/drive\n"
          ]
        }
      ],
      "source": [
        "from google.colab import drive\n",
        "drive.mount (\"/content/drive\")"
      ]
    },
    {
      "cell_type": "code",
      "source": [
        "import matplotlib.pyplot as plt\n",
        "import pandas as pd\n",
        "import numpy as np\n",
        "from sklearn.model_selection import train_test_split\n",
        "from sklearn.preprocessing import StandardScaler\n",
        "from sklearn.linear_model import LogisticRegression"
      ],
      "metadata": {
        "id": "toTKSAZ-3PPR"
      },
      "execution_count": 2,
      "outputs": []
    },
    {
      "cell_type": "markdown",
      "source": [
        "##Carguen el conjunto de datos (pequeña tarea)\n",
        "\n",
        "Los datos ( [que pueden descargar aquí](https://archive.ics.uci.edu/ml/machine-learning-databases/wine/)) son los resultados de un análisis químico de vinos producidos en la misma región en Italia, pero derivados de tres cultivares diferentes (tres clases distintas). El análisis determinó las cantidades de 13 componentes encontrados en cada uno de los tres tipos de vinos. Con el conjunto de datos es posible que tengan que convertirlo de un archivo wine.data a un CSV o pueden intentar cargar el archivo .data. "
      ],
      "metadata": {
        "id": "8AfMKkNu3aug"
      }
    },
    {
      "cell_type": "code",
      "source": [
        "col_names = ['Class label', 'Alcohol', 'Malic acid', 'Ash', 'Alcalinity of ash', 'Magnesium', 'Total phenols',\n",
        "'Flavanoids', 'Nonflavanoid phenols', 'Proanthocyanins','Color intensity', 'Hue', 'OD280/OD315 of diluted wines','Proline']\n",
        "### Figure this out!\n",
        "df = pd.read_csv('/content/drive/MyDrive/Data CodingDojo/wine.data', header = None,names = col_names)\n",
        "df.head()"
      ],
      "metadata": {
        "colab": {
          "base_uri": "https://localhost:8080/",
          "height": 206
        },
        "id": "OXNVKgPc3hsz",
        "outputId": "0a10ac9b-b4aa-40cd-dbd8-3ed82234c61c"
      },
      "execution_count": 3,
      "outputs": [
        {
          "output_type": "execute_result",
          "data": {
            "text/plain": [
              "   Class label  Alcohol  Malic acid   Ash  Alcalinity of ash  Magnesium  \\\n",
              "0            1    14.23        1.71  2.43               15.6        127   \n",
              "1            1    13.20        1.78  2.14               11.2        100   \n",
              "2            1    13.16        2.36  2.67               18.6        101   \n",
              "3            1    14.37        1.95  2.50               16.8        113   \n",
              "4            1    13.24        2.59  2.87               21.0        118   \n",
              "\n",
              "   Total phenols  Flavanoids  Nonflavanoid phenols  Proanthocyanins  \\\n",
              "0           2.80        3.06                  0.28             2.29   \n",
              "1           2.65        2.76                  0.26             1.28   \n",
              "2           2.80        3.24                  0.30             2.81   \n",
              "3           3.85        3.49                  0.24             2.18   \n",
              "4           2.80        2.69                  0.39             1.82   \n",
              "\n",
              "   Color intensity   Hue  OD280/OD315 of diluted wines  Proline  \n",
              "0             5.64  1.04                          3.92     1065  \n",
              "1             4.38  1.05                          3.40     1050  \n",
              "2             5.68  1.03                          3.17     1185  \n",
              "3             7.80  0.86                          3.45     1480  \n",
              "4             4.32  1.04                          2.93      735  "
            ],
            "text/html": [
              "\n",
              "  <div id=\"df-6964b0aa-d832-4420-9b6b-11a0c9fe72e4\">\n",
              "    <div class=\"colab-df-container\">\n",
              "      <div>\n",
              "<style scoped>\n",
              "    .dataframe tbody tr th:only-of-type {\n",
              "        vertical-align: middle;\n",
              "    }\n",
              "\n",
              "    .dataframe tbody tr th {\n",
              "        vertical-align: top;\n",
              "    }\n",
              "\n",
              "    .dataframe thead th {\n",
              "        text-align: right;\n",
              "    }\n",
              "</style>\n",
              "<table border=\"1\" class=\"dataframe\">\n",
              "  <thead>\n",
              "    <tr style=\"text-align: right;\">\n",
              "      <th></th>\n",
              "      <th>Class label</th>\n",
              "      <th>Alcohol</th>\n",
              "      <th>Malic acid</th>\n",
              "      <th>Ash</th>\n",
              "      <th>Alcalinity of ash</th>\n",
              "      <th>Magnesium</th>\n",
              "      <th>Total phenols</th>\n",
              "      <th>Flavanoids</th>\n",
              "      <th>Nonflavanoid phenols</th>\n",
              "      <th>Proanthocyanins</th>\n",
              "      <th>Color intensity</th>\n",
              "      <th>Hue</th>\n",
              "      <th>OD280/OD315 of diluted wines</th>\n",
              "      <th>Proline</th>\n",
              "    </tr>\n",
              "  </thead>\n",
              "  <tbody>\n",
              "    <tr>\n",
              "      <th>0</th>\n",
              "      <td>1</td>\n",
              "      <td>14.23</td>\n",
              "      <td>1.71</td>\n",
              "      <td>2.43</td>\n",
              "      <td>15.6</td>\n",
              "      <td>127</td>\n",
              "      <td>2.80</td>\n",
              "      <td>3.06</td>\n",
              "      <td>0.28</td>\n",
              "      <td>2.29</td>\n",
              "      <td>5.64</td>\n",
              "      <td>1.04</td>\n",
              "      <td>3.92</td>\n",
              "      <td>1065</td>\n",
              "    </tr>\n",
              "    <tr>\n",
              "      <th>1</th>\n",
              "      <td>1</td>\n",
              "      <td>13.20</td>\n",
              "      <td>1.78</td>\n",
              "      <td>2.14</td>\n",
              "      <td>11.2</td>\n",
              "      <td>100</td>\n",
              "      <td>2.65</td>\n",
              "      <td>2.76</td>\n",
              "      <td>0.26</td>\n",
              "      <td>1.28</td>\n",
              "      <td>4.38</td>\n",
              "      <td>1.05</td>\n",
              "      <td>3.40</td>\n",
              "      <td>1050</td>\n",
              "    </tr>\n",
              "    <tr>\n",
              "      <th>2</th>\n",
              "      <td>1</td>\n",
              "      <td>13.16</td>\n",
              "      <td>2.36</td>\n",
              "      <td>2.67</td>\n",
              "      <td>18.6</td>\n",
              "      <td>101</td>\n",
              "      <td>2.80</td>\n",
              "      <td>3.24</td>\n",
              "      <td>0.30</td>\n",
              "      <td>2.81</td>\n",
              "      <td>5.68</td>\n",
              "      <td>1.03</td>\n",
              "      <td>3.17</td>\n",
              "      <td>1185</td>\n",
              "    </tr>\n",
              "    <tr>\n",
              "      <th>3</th>\n",
              "      <td>1</td>\n",
              "      <td>14.37</td>\n",
              "      <td>1.95</td>\n",
              "      <td>2.50</td>\n",
              "      <td>16.8</td>\n",
              "      <td>113</td>\n",
              "      <td>3.85</td>\n",
              "      <td>3.49</td>\n",
              "      <td>0.24</td>\n",
              "      <td>2.18</td>\n",
              "      <td>7.80</td>\n",
              "      <td>0.86</td>\n",
              "      <td>3.45</td>\n",
              "      <td>1480</td>\n",
              "    </tr>\n",
              "    <tr>\n",
              "      <th>4</th>\n",
              "      <td>1</td>\n",
              "      <td>13.24</td>\n",
              "      <td>2.59</td>\n",
              "      <td>2.87</td>\n",
              "      <td>21.0</td>\n",
              "      <td>118</td>\n",
              "      <td>2.80</td>\n",
              "      <td>2.69</td>\n",
              "      <td>0.39</td>\n",
              "      <td>1.82</td>\n",
              "      <td>4.32</td>\n",
              "      <td>1.04</td>\n",
              "      <td>2.93</td>\n",
              "      <td>735</td>\n",
              "    </tr>\n",
              "  </tbody>\n",
              "</table>\n",
              "</div>\n",
              "      <button class=\"colab-df-convert\" onclick=\"convertToInteractive('df-6964b0aa-d832-4420-9b6b-11a0c9fe72e4')\"\n",
              "              title=\"Convert this dataframe to an interactive table.\"\n",
              "              style=\"display:none;\">\n",
              "        \n",
              "  <svg xmlns=\"http://www.w3.org/2000/svg\" height=\"24px\"viewBox=\"0 0 24 24\"\n",
              "       width=\"24px\">\n",
              "    <path d=\"M0 0h24v24H0V0z\" fill=\"none\"/>\n",
              "    <path d=\"M18.56 5.44l.94 2.06.94-2.06 2.06-.94-2.06-.94-.94-2.06-.94 2.06-2.06.94zm-11 1L8.5 8.5l.94-2.06 2.06-.94-2.06-.94L8.5 2.5l-.94 2.06-2.06.94zm10 10l.94 2.06.94-2.06 2.06-.94-2.06-.94-.94-2.06-.94 2.06-2.06.94z\"/><path d=\"M17.41 7.96l-1.37-1.37c-.4-.4-.92-.59-1.43-.59-.52 0-1.04.2-1.43.59L10.3 9.45l-7.72 7.72c-.78.78-.78 2.05 0 2.83L4 21.41c.39.39.9.59 1.41.59.51 0 1.02-.2 1.41-.59l7.78-7.78 2.81-2.81c.8-.78.8-2.07 0-2.86zM5.41 20L4 18.59l7.72-7.72 1.47 1.35L5.41 20z\"/>\n",
              "  </svg>\n",
              "      </button>\n",
              "      \n",
              "  <style>\n",
              "    .colab-df-container {\n",
              "      display:flex;\n",
              "      flex-wrap:wrap;\n",
              "      gap: 12px;\n",
              "    }\n",
              "\n",
              "    .colab-df-convert {\n",
              "      background-color: #E8F0FE;\n",
              "      border: none;\n",
              "      border-radius: 50%;\n",
              "      cursor: pointer;\n",
              "      display: none;\n",
              "      fill: #1967D2;\n",
              "      height: 32px;\n",
              "      padding: 0 0 0 0;\n",
              "      width: 32px;\n",
              "    }\n",
              "\n",
              "    .colab-df-convert:hover {\n",
              "      background-color: #E2EBFA;\n",
              "      box-shadow: 0px 1px 2px rgba(60, 64, 67, 0.3), 0px 1px 3px 1px rgba(60, 64, 67, 0.15);\n",
              "      fill: #174EA6;\n",
              "    }\n",
              "\n",
              "    [theme=dark] .colab-df-convert {\n",
              "      background-color: #3B4455;\n",
              "      fill: #D2E3FC;\n",
              "    }\n",
              "\n",
              "    [theme=dark] .colab-df-convert:hover {\n",
              "      background-color: #434B5C;\n",
              "      box-shadow: 0px 1px 3px 1px rgba(0, 0, 0, 0.15);\n",
              "      filter: drop-shadow(0px 1px 2px rgba(0, 0, 0, 0.3));\n",
              "      fill: #FFFFFF;\n",
              "    }\n",
              "  </style>\n",
              "\n",
              "      <script>\n",
              "        const buttonEl =\n",
              "          document.querySelector('#df-6964b0aa-d832-4420-9b6b-11a0c9fe72e4 button.colab-df-convert');\n",
              "        buttonEl.style.display =\n",
              "          google.colab.kernel.accessAllowed ? 'block' : 'none';\n",
              "\n",
              "        async function convertToInteractive(key) {\n",
              "          const element = document.querySelector('#df-6964b0aa-d832-4420-9b6b-11a0c9fe72e4');\n",
              "          const dataTable =\n",
              "            await google.colab.kernel.invokeFunction('convertToInteractive',\n",
              "                                                     [key], {});\n",
              "          if (!dataTable) return;\n",
              "\n",
              "          const docLinkHtml = 'Like what you see? Visit the ' +\n",
              "            '<a target=\"_blank\" href=https://colab.research.google.com/notebooks/data_table.ipynb>data table notebook</a>'\n",
              "            + ' to learn more about interactive tables.';\n",
              "          element.innerHTML = '';\n",
              "          dataTable['output_type'] = 'display_data';\n",
              "          await google.colab.output.renderOutput(dataTable, element);\n",
              "          const docLink = document.createElement('div');\n",
              "          docLink.innerHTML = docLinkHtml;\n",
              "          element.appendChild(docLink);\n",
              "        }\n",
              "      </script>\n",
              "    </div>\n",
              "  </div>\n",
              "  "
            ]
          },
          "metadata": {},
          "execution_count": 3
        }
      ]
    },
    {
      "cell_type": "markdown",
      "source": [
        "##Estrategias de clasificación multiclase\n",
        "\n",
        "Si bien la regresión logística no es el único algoritmo pensado originalmente para la clasificación binaria (perceptrones y máquinas de vectores de apoyo), es una debilidad conocida del algoritmo. Si bien hay formas de ampliar la regresión logística a los problemas multiclases (más de dos clases), esta sección trata las formas generales para ampliar los algoritmos de clasificación binaria al multiclase.\n",
        "\n",
        "###Los dos enfoques que se tratan son los siguientes:\n",
        "\n",
        "* La estrategia uno contra todos divide una clasificación multiclase en un problema de clasificación binaria por clase.\n",
        "* La estrategia uno contra uno divide una clasificación multiclase en un problema de clasificación binaria por cada par de clases."
      ],
      "metadata": {
        "id": "wF6GAOTg37nq"
      }
    },
    {
      "cell_type": "markdown",
      "source": [
        "##Ejemplo teórico de uno contra todos\n",
        "\n",
        "Por ejemplo, un problema de clasificación multiclase con ejemplos de cada clase “setosa”, “versicolor” y “virginica”. Esto se puede dividir en tres conjuntos de datos de clasificación binaria como lo siguiente:\n",
        "\n",
        "* Problema 1 de clasificación binaria: setosa vs. [versicolor, virginica]\n",
        "* Problema 2 de clasificación binaria: versicolor vs. [setosa, virginica]\n",
        "* Problema 3 de clasificación binaria: virginica vs. [setosa, versicolor]\n",
        "\n",
        "Este enfoque requiere que cada modelo prediga una probabilidad de pertenencia a una clase o una puntuación similar a la probabilidad. El argmax de estas puntuaciones (índice de clase con la mayor puntuación) se utiliza para predecir una clase.\n",
        "\n",
        "Este enfoque se suele usar para algoritmos que naturalmente predicen una probabilidad numérica de pertenencia a una clase o puntuación, como la regresión logística.\n",
        "\n",
        "Por lo tanto, la implementación de estos algoritmos en las bibliotecas scikit-learn implementa la estrategia uno contra todos por defecto cuando se usan los algoritmos para la clasificación multiclase. La biblioteca scikit-learn también proporciona una clase OneVsRestClassifier separada que permita la estrategia uno contra todos para que use con cualquier clasificador."
      ],
      "metadata": {
        "id": "LEL7D-0_4O-g"
      }
    },
    {
      "cell_type": "markdown",
      "source": [
        "##**Ejemplo programación uno contra todos**"
      ],
      "metadata": {
        "id": "K7ltgoep46hC"
      }
    },
    {
      "cell_type": "code",
      "source": [
        "# Print out how many classes\n",
        "print('Class labels', np.unique(df['Class label']))"
      ],
      "metadata": {
        "colab": {
          "base_uri": "https://localhost:8080/"
        },
        "id": "dAKjKotS34I2",
        "outputId": "d8e503c7-c26b-4c7b-8928-08ab7fa5cce6"
      },
      "execution_count": 4,
      "outputs": [
        {
          "output_type": "stream",
          "name": "stdout",
          "text": [
            "Class labels [1 2 3]\n"
          ]
        }
      ]
    },
    {
      "cell_type": "code",
      "source": [
        "# Classes aren't balanced.\n",
        "df['Class label'].value_counts(dropna = False)"
      ],
      "metadata": {
        "colab": {
          "base_uri": "https://localhost:8080/"
        },
        "id": "3Ut3gljP4_5b",
        "outputId": "f0debf79-59fa-4463-ac3a-84a7d1c261f1"
      },
      "execution_count": 5,
      "outputs": [
        {
          "output_type": "execute_result",
          "data": {
            "text/plain": [
              "2    71\n",
              "1    59\n",
              "3    48\n",
              "Name: Class label, dtype: int64"
            ]
          },
          "metadata": {},
          "execution_count": 5
        }
      ]
    },
    {
      "cell_type": "code",
      "source": [
        "# Arrange data into features matrix and target vector\n",
        "X = df.loc[:, df.columns[(df.columns != 'Class label')]]\n",
        "y = df.loc[:, 'Class label'].values"
      ],
      "metadata": {
        "id": "4HtKpsqJ5Bz5"
      },
      "execution_count": 6,
      "outputs": []
    },
    {
      "cell_type": "code",
      "source": [
        "# In statistical surveys, \n",
        "# when subpopulations within an overall population vary,\n",
        "# it could be advantageous to sample each subpopulation (stratum) independently. \n",
        "# Stratification is the process of dividing members of the population into homogeneous subgroups before sampling.\n",
        "#help(train_test_split)"
      ],
      "metadata": {
        "id": "0cFxKEaC5KLV"
      },
      "execution_count": 7,
      "outputs": []
    },
    {
      "cell_type": "code",
      "source": [
        "# Split into training and test sets \n",
        "# Providing the class label array y as an argument to stratify ensures both\n",
        "# the training set and test datasets have the same class proportions as the\n",
        "# original dataset\n",
        "X_train, X_test, y_train, y_test =train_test_split(X,\n",
        "                                                   y,\n",
        "                                                   test_size=0.3, \n",
        "                                                   random_state=0, \n",
        "                                                   stratify=y)"
      ],
      "metadata": {
        "id": "AAJMALKk5NWM"
      },
      "execution_count": 8,
      "outputs": []
    },
    {
      "cell_type": "code",
      "source": [
        "unique, counts = np.unique(y_train, return_counts=True)\n",
        "dict(zip(unique, counts))"
      ],
      "metadata": {
        "colab": {
          "base_uri": "https://localhost:8080/"
        },
        "id": "OdKyR0N-5PFv",
        "outputId": "ef4c7273-fc48-4509-f883-ffa6bd2f1d47"
      },
      "execution_count": 9,
      "outputs": [
        {
          "output_type": "execute_result",
          "data": {
            "text/plain": [
              "{1: 41, 2: 50, 3: 33}"
            ]
          },
          "metadata": {},
          "execution_count": 9
        }
      ]
    },
    {
      "cell_type": "code",
      "source": [
        "# Otra forma de verlo es\n",
        "np.unique(y_train, return_counts = True)"
      ],
      "metadata": {
        "colab": {
          "base_uri": "https://localhost:8080/"
        },
        "id": "1nzLOKDZA0oF",
        "outputId": "0c1e6bcb-cafa-464e-bd30-6eb49b857386"
      },
      "execution_count": 19,
      "outputs": [
        {
          "output_type": "execute_result",
          "data": {
            "text/plain": [
              "(array([1, 2, 3]), array([41, 50, 33]))"
            ]
          },
          "metadata": {},
          "execution_count": 19
        }
      ]
    },
    {
      "cell_type": "code",
      "source": [
        "# Standardize Data\n",
        "scaler = StandardScaler()\n",
        "# Fit on training set only.\n",
        "scaler.fit(X_train)\n",
        "# Apply transform to both the training set and the test set.\n",
        "X_train = scaler.transform(X_train)\n",
        "X_test = scaler.transform(X_test)\n",
        "\n"
      ],
      "metadata": {
        "id": "hHJAKRIZ8DYp"
      },
      "execution_count": 12,
      "outputs": []
    },
    {
      "cell_type": "code",
      "source": [
        "log_reg = LogisticRegression(penalty='l1',\n",
        "                        C=1.0,\n",
        "                        solver='liblinear',\n",
        "                        multi_class='ovr')\n",
        "log_reg.fit(X_train, y_train)\n",
        "print('Training accuracy:', log_reg.score(X_train, y_train))\n",
        "print('Test accuracy:', log_reg.score(X_test, y_test))"
      ],
      "metadata": {
        "colab": {
          "base_uri": "https://localhost:8080/"
        },
        "id": "nvdypWNa8RFT",
        "outputId": "b69031c4-bf23-4497-b0dd-a9bba0640a4e"
      },
      "execution_count": 13,
      "outputs": [
        {
          "output_type": "stream",
          "name": "stdout",
          "text": [
            "Training accuracy: 1.0\n",
            "Test accuracy: 1.0\n"
          ]
        }
      ]
    },
    {
      "cell_type": "markdown",
      "source": [
        "Tanto las exactitudes de entrenamiento y de prueba (ambos al 100 por ciento) indican que nuestro modelo hace un trabajo perfecto en ambos conjuntos de datos. Cuando se aceptan los términos de intercepción a través del atributo “log_reg.intercept_”, vemos que el array devuelve tres valores."
      ],
      "metadata": {
        "id": "UhhMWkha8dND"
      }
    },
    {
      "cell_type": "code",
      "source": [
        "log_reg.intercept_"
      ],
      "metadata": {
        "colab": {
          "base_uri": "https://localhost:8080/"
        },
        "id": "bn98vXlS8RiV",
        "outputId": "a75dd09e-0344-45af-e64b-4b0c92ae5544"
      },
      "execution_count": 14,
      "outputs": [
        {
          "output_type": "execute_result",
          "data": {
            "text/plain": [
              "array([-1.26359485, -1.2159835 , -2.37036399])"
            ]
          },
          "metadata": {},
          "execution_count": 14
        }
      ]
    },
    {
      "cell_type": "markdown",
      "source": [
        "Puesto que ajustamos el objeto de regresión logística en un conjunto de datos multiclase a través de un enfoque uno contra todos, la primera intercepción pertenece al modelo que ajusta la clase 1 contra las clases 2 y 3, el segundo valor es la intercepción del modelo que ajusta la clase 2 contra las clases 1 y 3, y el tercer valor es la intercepción del modelo que ajusta la clase 3 contra 1 y 2."
      ],
      "metadata": {
        "id": "1RsLmmsw8izy"
      }
    },
    {
      "cell_type": "code",
      "source": [
        "log_reg.coef_"
      ],
      "metadata": {
        "colab": {
          "base_uri": "https://localhost:8080/"
        },
        "id": "oO8PQoZw8ZWW",
        "outputId": "5f009f80-099d-4a96-926f-0f4325db62a4"
      },
      "execution_count": 15,
      "outputs": [
        {
          "output_type": "execute_result",
          "data": {
            "text/plain": [
              "array([[ 1.24630153,  0.18002886,  0.74636768, -1.16415522,  0.        ,\n",
              "         0.        ,  1.15828968,  0.        ,  0.        ,  0.        ,\n",
              "         0.        ,  0.55820876,  2.50858734],\n",
              "       [-1.53732029, -0.38710197, -0.99519347,  0.36468977, -0.059517  ,\n",
              "         0.        ,  0.66804604,  0.        ,  0.        , -1.9339139 ,\n",
              "         1.23418066,  0.        , -2.2324885 ],\n",
              "       [ 0.1356344 ,  0.16848406,  0.3572293 ,  0.        ,  0.        ,\n",
              "         0.        , -2.43796005,  0.        ,  0.        ,  1.56382951,\n",
              "        -0.81856764, -0.49250089,  0.        ]])"
            ]
          },
          "metadata": {},
          "execution_count": 15
        }
      ]
    },
    {
      "cell_type": "markdown",
      "source": [
        "El array de ponderación a la que se accede mediante el atributo log_reg.coef_ que contiene tres filas de coeficientes de ponderación y un vector de ponderación para cada clase. Cada fila consiste en 13 ponderaciones, donde cada ponderación se multiplica por la característica respectiva en el conjunto de datos de vino de 13 dimensiones para calcular la entrada neta."
      ],
      "metadata": {
        "id": "AHHrsDqe8o1A"
      }
    },
    {
      "cell_type": "markdown",
      "source": [
        "##**Cómo funcionan las predicciones**\n",
        "\n",
        "Scikit-learn emitirá probabilidades para cada clase. La probabilidad más alta será la predicción de clase. Por lo tanto, si se tiene tres clases, scikit-learn emitirá tres probabilidades para el método predict_prob. Si tienen cuatro clases, scikit-learn emitirá 4 probabilidades. En este caso, tenemos tres clases para que el resultado nos de tres probabilidades. Elegimos la clase con la probabilidad más alta."
      ],
      "metadata": {
        "id": "QoQ4ixrp8ya2"
      }
    },
    {
      "cell_type": "code",
      "source": [
        "# La primera clase es la puntuación más alta, por lo que será la predicción 0 (la primera clase) para estos datos\n",
        "log_reg.predict_proba(X_test[0:1])"
      ],
      "metadata": {
        "colab": {
          "base_uri": "https://localhost:8080/"
        },
        "id": "HXZBfW868pPn",
        "outputId": "69e3b0fc-2ea4-448e-a454-e5636fe17251"
      },
      "execution_count": 16,
      "outputs": [
        {
          "output_type": "execute_result",
          "data": {
            "text/plain": [
              "array([[9.76605335e-01, 4.47601118e-04, 2.29470644e-02]])"
            ]
          },
          "metadata": {},
          "execution_count": 16
        }
      ]
    },
    {
      "cell_type": "code",
      "source": [
        "#Podemos obtener la clase asociada con la probabilidad más alta también\n",
        "log_reg.predict(X_test[0:1])"
      ],
      "metadata": {
        "colab": {
          "base_uri": "https://localhost:8080/"
        },
        "id": "ccRXHBhW85or",
        "outputId": "59ee58ee-b862-48dc-afe6-8779c5045f06"
      },
      "execution_count": 17,
      "outputs": [
        {
          "output_type": "execute_result",
          "data": {
            "text/plain": [
              "array([1])"
            ]
          },
          "metadata": {},
          "execution_count": 17
        }
      ]
    },
    {
      "cell_type": "markdown",
      "source": [
        "##Ejemplo teórico de uno contra uno\n",
        "\n",
        "Este enfoque se usó para las máquinas de vectores de soporte (SVM) y los algoritmos relacionados basados en kernel, lo que no se trata en este curso. Esto se debe a que el rendimiento de los métodos de kernel no escala en proporción con el tamaño del conjunto de datos de entrenamiento y el uso de subconjuntos de los datos de entrenamiento puede contrarrestar este efecto.\n",
        "\n",
        "Uno contra uno (OvO para abreviar) es otro método heurístico para usar algoritmos de clasificación binaria para la clasificación multiclase.\n",
        "\n",
        "Como la estrategia uno contra todos, uno contra uno divide un conjunto de datos de clasificación multiclase en problemas de clasificación binaria. Al contrario del uno contra todos, lo divide en un conjunto de datos binario para cada clase, el enfoque uno contra uno divide el conjunto de datos en un conjunto de datos para cada clase frente a todas las demás.\n",
        "\n",
        "Por ejemplo, un problema de clasificación multiclase con ejemplos de cada clase “setosa”, “versicolor” y “virginica”. Esto se puede dividir en tres conjuntos de datos de clasificación binaria como lo siguiente:\n",
        "\n",
        "* Problema 1 de clasificación binaria: setosa vs. versicolor\n",
        "* Problema 2 de clasificación binaria: versicolor vs. virginica\n",
        "* Problema 3 de clasificación binaria: setosa vs. virginica\n",
        "\n",
        "Todo esto no debe verse muy distinto al uno contra todos, pero este método tiene una complejidad O(n_classes^2), lo que significa que es más lento de funcionar. Cuando se tienen n_classes, se necesitará ajustar n_classes * (n_classes - 1) / 2 clasificadores.\n",
        "\n",
        "A continuación, se presenta un ejemplo para mostrar lo descontrolado que puede resultar este proceso. Imaginen que tienen 10 clases con los dígitos 0-9. Esto significa que tendremos que entrenar 45 clasificadores separados. Entrenar un modelo puede tomar tiempo (según el modelo y de la cantidad de datos), pero entrenar 45 separados toma mucho tiempo.\n",
        "\n",
        "(NumClasses * (NumClasses – 1)) / 2\n",
        "(10 * (10 – 1)) / 2\n",
        "(10 * 9) / 2\n",
        "90 / 2\n",
        "45"
      ],
      "metadata": {
        "id": "_3tTngdu9xok"
      }
    },
    {
      "cell_type": "markdown",
      "source": [
        "# Lecturas opcionales\n",
        "\n",
        "https://machinelearningmastery.com/one-vs-rest-and-one-vs-one-for-multi-class-classification/\n",
        "\n",
        "https://scikit-learn.org/stable/modules/generated/sklearn.multiclass.OneVsRestClassifier.html"
      ],
      "metadata": {
        "id": "HrYLaBAd_PwR"
      }
    },
    {
      "cell_type": "code",
      "source": [],
      "metadata": {
        "id": "krEtG9-78_MH"
      },
      "execution_count": null,
      "outputs": []
    }
  ]
}