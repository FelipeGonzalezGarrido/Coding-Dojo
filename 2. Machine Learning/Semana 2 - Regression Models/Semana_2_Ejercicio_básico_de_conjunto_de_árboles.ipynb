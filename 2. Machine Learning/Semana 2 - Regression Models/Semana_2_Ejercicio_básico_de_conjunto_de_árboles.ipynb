{
  "nbformat": 4,
  "nbformat_minor": 0,
  "metadata": {
    "colab": {
      "provenance": [],
      "collapsed_sections": [
        "nJnXHKW_-AZW"
      ],
      "authorship_tag": "ABX9TyNapKDbZ3S4srvkHlFbVbUA",
      "include_colab_link": true
    },
    "kernelspec": {
      "name": "python3",
      "display_name": "Python 3"
    },
    "language_info": {
      "name": "python"
    }
  },
  "cells": [
    {
      "cell_type": "markdown",
      "metadata": {
        "id": "view-in-github",
        "colab_type": "text"
      },
      "source": [
        "<a href=\"https://colab.research.google.com/github/FelipeGonzalezGarrido/Coding-Dojo/blob/main/Ejercicio_b%C3%A1sico_de_conjunto_de_%C3%A1rboles.ipynb\" target=\"_parent\"><img src=\"https://colab.research.google.com/assets/colab-badge.svg\" alt=\"Open In Colab\"/></a>"
      ]
    },
    {
      "cell_type": "code",
      "execution_count": 4,
      "metadata": {
        "id": "qEqJcx6-wDG0"
      },
      "outputs": [],
      "source": [
        "import matplotlib.pyplot as plt\n",
        "import pandas as pd\n",
        "from sklearn.model_selection import train_test_split\n",
        "# Import the bagging regressor\n",
        "from sklearn.ensemble import BaggingRegressor"
      ]
    },
    {
      "cell_type": "code",
      "source": [
        "from google.colab import drive\n",
        "drive.mount (\"/content/drive\")"
      ],
      "metadata": {
        "colab": {
          "base_uri": "https://localhost:8080/"
        },
        "id": "Vr0-Avwq75N1",
        "outputId": "12a1beca-ff3e-401a-dc77-9823df9b5eb2"
      },
      "execution_count": 1,
      "outputs": [
        {
          "output_type": "stream",
          "name": "stdout",
          "text": [
            "Mounted at /content/drive\n"
          ]
        }
      ]
    },
    {
      "cell_type": "code",
      "source": [
        "filename = \"/content/drive/MyDrive/Data CodingDojo/Boston_Housing_from_Sklearn.csv\"\n",
        "df = pd.read_csv(filename)\n",
        "df.head()"
      ],
      "metadata": {
        "colab": {
          "base_uri": "https://localhost:8080/",
          "height": 206
        },
        "id": "47clMkBl79fi",
        "outputId": "b6a42c2d-25f6-4c82-fe0c-9a6ab7cf6144"
      },
      "execution_count": 5,
      "outputs": [
        {
          "output_type": "execute_result",
          "data": {
            "text/plain": [
              "      CRIM    NOX     RM   AGE  PTRATIO  LSTAT  PRICE\n",
              "0  0.00632  0.538  6.575  65.2     15.3   4.98   24.0\n",
              "1  0.02731  0.469  6.421  78.9     17.8   9.14   21.6\n",
              "2  0.02729  0.469  7.185  61.1     17.8   4.03   34.7\n",
              "3  0.03237  0.458  6.998  45.8     18.7   2.94   33.4\n",
              "4  0.06905  0.458  7.147  54.2     18.7   5.33   36.2"
            ],
            "text/html": [
              "\n",
              "  <div id=\"df-95d13f82-49f3-427d-a394-e69df510f361\">\n",
              "    <div class=\"colab-df-container\">\n",
              "      <div>\n",
              "<style scoped>\n",
              "    .dataframe tbody tr th:only-of-type {\n",
              "        vertical-align: middle;\n",
              "    }\n",
              "\n",
              "    .dataframe tbody tr th {\n",
              "        vertical-align: top;\n",
              "    }\n",
              "\n",
              "    .dataframe thead th {\n",
              "        text-align: right;\n",
              "    }\n",
              "</style>\n",
              "<table border=\"1\" class=\"dataframe\">\n",
              "  <thead>\n",
              "    <tr style=\"text-align: right;\">\n",
              "      <th></th>\n",
              "      <th>CRIM</th>\n",
              "      <th>NOX</th>\n",
              "      <th>RM</th>\n",
              "      <th>AGE</th>\n",
              "      <th>PTRATIO</th>\n",
              "      <th>LSTAT</th>\n",
              "      <th>PRICE</th>\n",
              "    </tr>\n",
              "  </thead>\n",
              "  <tbody>\n",
              "    <tr>\n",
              "      <th>0</th>\n",
              "      <td>0.00632</td>\n",
              "      <td>0.538</td>\n",
              "      <td>6.575</td>\n",
              "      <td>65.2</td>\n",
              "      <td>15.3</td>\n",
              "      <td>4.98</td>\n",
              "      <td>24.0</td>\n",
              "    </tr>\n",
              "    <tr>\n",
              "      <th>1</th>\n",
              "      <td>0.02731</td>\n",
              "      <td>0.469</td>\n",
              "      <td>6.421</td>\n",
              "      <td>78.9</td>\n",
              "      <td>17.8</td>\n",
              "      <td>9.14</td>\n",
              "      <td>21.6</td>\n",
              "    </tr>\n",
              "    <tr>\n",
              "      <th>2</th>\n",
              "      <td>0.02729</td>\n",
              "      <td>0.469</td>\n",
              "      <td>7.185</td>\n",
              "      <td>61.1</td>\n",
              "      <td>17.8</td>\n",
              "      <td>4.03</td>\n",
              "      <td>34.7</td>\n",
              "    </tr>\n",
              "    <tr>\n",
              "      <th>3</th>\n",
              "      <td>0.03237</td>\n",
              "      <td>0.458</td>\n",
              "      <td>6.998</td>\n",
              "      <td>45.8</td>\n",
              "      <td>18.7</td>\n",
              "      <td>2.94</td>\n",
              "      <td>33.4</td>\n",
              "    </tr>\n",
              "    <tr>\n",
              "      <th>4</th>\n",
              "      <td>0.06905</td>\n",
              "      <td>0.458</td>\n",
              "      <td>7.147</td>\n",
              "      <td>54.2</td>\n",
              "      <td>18.7</td>\n",
              "      <td>5.33</td>\n",
              "      <td>36.2</td>\n",
              "    </tr>\n",
              "  </tbody>\n",
              "</table>\n",
              "</div>\n",
              "      <button class=\"colab-df-convert\" onclick=\"convertToInteractive('df-95d13f82-49f3-427d-a394-e69df510f361')\"\n",
              "              title=\"Convert this dataframe to an interactive table.\"\n",
              "              style=\"display:none;\">\n",
              "        \n",
              "  <svg xmlns=\"http://www.w3.org/2000/svg\" height=\"24px\"viewBox=\"0 0 24 24\"\n",
              "       width=\"24px\">\n",
              "    <path d=\"M0 0h24v24H0V0z\" fill=\"none\"/>\n",
              "    <path d=\"M18.56 5.44l.94 2.06.94-2.06 2.06-.94-2.06-.94-.94-2.06-.94 2.06-2.06.94zm-11 1L8.5 8.5l.94-2.06 2.06-.94-2.06-.94L8.5 2.5l-.94 2.06-2.06.94zm10 10l.94 2.06.94-2.06 2.06-.94-2.06-.94-.94-2.06-.94 2.06-2.06.94z\"/><path d=\"M17.41 7.96l-1.37-1.37c-.4-.4-.92-.59-1.43-.59-.52 0-1.04.2-1.43.59L10.3 9.45l-7.72 7.72c-.78.78-.78 2.05 0 2.83L4 21.41c.39.39.9.59 1.41.59.51 0 1.02-.2 1.41-.59l7.78-7.78 2.81-2.81c.8-.78.8-2.07 0-2.86zM5.41 20L4 18.59l7.72-7.72 1.47 1.35L5.41 20z\"/>\n",
              "  </svg>\n",
              "      </button>\n",
              "      \n",
              "  <style>\n",
              "    .colab-df-container {\n",
              "      display:flex;\n",
              "      flex-wrap:wrap;\n",
              "      gap: 12px;\n",
              "    }\n",
              "\n",
              "    .colab-df-convert {\n",
              "      background-color: #E8F0FE;\n",
              "      border: none;\n",
              "      border-radius: 50%;\n",
              "      cursor: pointer;\n",
              "      display: none;\n",
              "      fill: #1967D2;\n",
              "      height: 32px;\n",
              "      padding: 0 0 0 0;\n",
              "      width: 32px;\n",
              "    }\n",
              "\n",
              "    .colab-df-convert:hover {\n",
              "      background-color: #E2EBFA;\n",
              "      box-shadow: 0px 1px 2px rgba(60, 64, 67, 0.3), 0px 1px 3px 1px rgba(60, 64, 67, 0.15);\n",
              "      fill: #174EA6;\n",
              "    }\n",
              "\n",
              "    [theme=dark] .colab-df-convert {\n",
              "      background-color: #3B4455;\n",
              "      fill: #D2E3FC;\n",
              "    }\n",
              "\n",
              "    [theme=dark] .colab-df-convert:hover {\n",
              "      background-color: #434B5C;\n",
              "      box-shadow: 0px 1px 3px 1px rgba(0, 0, 0, 0.15);\n",
              "      filter: drop-shadow(0px 1px 2px rgba(0, 0, 0, 0.3));\n",
              "      fill: #FFFFFF;\n",
              "    }\n",
              "  </style>\n",
              "\n",
              "      <script>\n",
              "        const buttonEl =\n",
              "          document.querySelector('#df-95d13f82-49f3-427d-a394-e69df510f361 button.colab-df-convert');\n",
              "        buttonEl.style.display =\n",
              "          google.colab.kernel.accessAllowed ? 'block' : 'none';\n",
              "\n",
              "        async function convertToInteractive(key) {\n",
              "          const element = document.querySelector('#df-95d13f82-49f3-427d-a394-e69df510f361');\n",
              "          const dataTable =\n",
              "            await google.colab.kernel.invokeFunction('convertToInteractive',\n",
              "                                                     [key], {});\n",
              "          if (!dataTable) return;\n",
              "\n",
              "          const docLinkHtml = 'Like what you see? Visit the ' +\n",
              "            '<a target=\"_blank\" href=https://colab.research.google.com/notebooks/data_table.ipynb>data table notebook</a>'\n",
              "            + ' to learn more about interactive tables.';\n",
              "          element.innerHTML = '';\n",
              "          dataTable['output_type'] = 'display_data';\n",
              "          await google.colab.output.renderOutput(dataTable, element);\n",
              "          const docLink = document.createElement('div');\n",
              "          docLink.innerHTML = docLinkHtml;\n",
              "          element.appendChild(docLink);\n",
              "        }\n",
              "      </script>\n",
              "    </div>\n",
              "  </div>\n",
              "  "
            ]
          },
          "metadata": {},
          "execution_count": 5
        }
      ]
    },
    {
      "cell_type": "markdown",
      "source": [
        "![imagen.png](data:image/png;base64,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)"
      ],
      "metadata": {
        "id": "e5Sb6oqs98Jq"
      }
    },
    {
      "cell_type": "markdown",
      "source": [
        "#1. Bagged  Trees"
      ],
      "metadata": {
        "id": "nJnXHKW_-AZW"
      }
    },
    {
      "cell_type": "code",
      "source": [
        "X = df.drop(\"PRICE\", axis=1)\n",
        "\n",
        "y = df[\"PRICE\"]\n",
        "\n",
        "X_train, X_test, y_train, y_test = train_test_split(X,y, random_state = 42)"
      ],
      "metadata": {
        "id": "fTvgxyEn8yQF"
      },
      "execution_count": 6,
      "outputs": []
    },
    {
      "cell_type": "markdown",
      "source": [
        "### Crear instancia de modelo Bagging Tree"
      ],
      "metadata": {
        "id": "UG_Y2AHI-eOs"
      }
    },
    {
      "cell_type": "code",
      "source": [
        "bagreg = BaggingRegressor(random_state = 42)"
      ],
      "metadata": {
        "id": "Z3sp9BnB-dcj"
      },
      "execution_count": 7,
      "outputs": []
    },
    {
      "cell_type": "code",
      "source": [
        "bagreg.fit(X_train, y_train)"
      ],
      "metadata": {
        "colab": {
          "base_uri": "https://localhost:8080/"
        },
        "id": "gkajf1Dr-mRh",
        "outputId": "fa6d57d8-d94e-4915-f92f-385eb0311e0a"
      },
      "execution_count": 8,
      "outputs": [
        {
          "output_type": "execute_result",
          "data": {
            "text/plain": [
              "BaggingRegressor(random_state=42)"
            ]
          },
          "metadata": {},
          "execution_count": 8
        }
      ]
    },
    {
      "cell_type": "markdown",
      "source": [
        "### Evaluacion de rendimiento"
      ],
      "metadata": {
        "id": "oMXqxK1U-t5Q"
      }
    },
    {
      "cell_type": "markdown",
      "source": [
        "resultados por defecto"
      ],
      "metadata": {
        "id": "vXYNTQW7Bdh7"
      }
    },
    {
      "cell_type": "code",
      "source": [
        "bagreg_train_score = bagreg.score(X_train, y_train)\n",
        "bagreg_test_score = bagreg.score(X_test, y_test)\n",
        "print(bagreg_train_score)\n",
        "print(bagreg_test_score)"
      ],
      "metadata": {
        "colab": {
          "base_uri": "https://localhost:8080/"
        },
        "id": "d0R1tv0N-rED",
        "outputId": "0ac162ff-ae03-4fe0-bd2d-f59c7d776407"
      },
      "execution_count": 32,
      "outputs": [
        {
          "output_type": "stream",
          "name": "stdout",
          "text": [
            "0.9606756023782893\n",
            "0.8204208271364619\n"
          ]
        }
      ]
    },
    {
      "cell_type": "markdown",
      "source": [
        "El mejor resultado se obtiene con el n_estimator 8"
      ],
      "metadata": {
        "id": "rpYGuEGUBu3S"
      }
    },
    {
      "cell_type": "code",
      "source": [
        "bagreg_x = BaggingRegressor(random_state = 42, n_estimators= 8)\n",
        "bagreg_x.fit(X_train, y_train)\n",
        "bagreg_x_train_score = bagreg_x.score(X_train, y_train)\n",
        "bagreg_x_test_score = bagreg_x.score(X_test, y_test)\n",
        "print(bagreg_x_train_score)\n",
        "print(bagreg_x_test_score)"
      ],
      "metadata": {
        "colab": {
          "base_uri": "https://localhost:8080/"
        },
        "id": "o9sK0pa6-yGm",
        "outputId": "b78f5b8b-11f1-459e-bad0-1fd1d05e9a49"
      },
      "execution_count": 30,
      "outputs": [
        {
          "output_type": "stream",
          "name": "stdout",
          "text": [
            "0.9646123141098938\n",
            "0.8379219949320379\n"
          ]
        }
      ]
    },
    {
      "cell_type": "code",
      "source": [
        "# Lista de valores a probar para n_estimators:\n",
        "n_estimators_1 = list(range(2, 11))\n",
        "# Lista para almacenar la puntuación para cada valor de n_estimators:\n",
        "r2_1 = []\n",
        "for x in n_estimators_1:\n",
        "    bagreg_x = BaggingRegressor(n_estimators = x, \n",
        "                             random_state = 42)\n",
        "    bagreg_x.fit(X_train, y_train)\n",
        "    score = bagreg_x.score(X_test, y_test)\n",
        "    r2_1.append(score)\n",
        "max(r2_1)"
      ],
      "metadata": {
        "colab": {
          "base_uri": "https://localhost:8080/"
        },
        "id": "TpyBqlNa_wj7",
        "outputId": "931631e1-810e-4aad-fb66-79a271da7951"
      },
      "execution_count": 83,
      "outputs": [
        {
          "output_type": "execute_result",
          "data": {
            "text/plain": [
              "0.8379219949320379"
            ]
          },
          "metadata": {},
          "execution_count": 83
        }
      ]
    },
    {
      "cell_type": "code",
      "source": [
        "import matplotlib.pyplot as plt\n",
        "plt.plot(n_estimators_1, r2_1)\n",
        "plt.xlabel('n_estimators_x')\n",
        "plt.ylabel('R2');"
      ],
      "metadata": {
        "colab": {
          "base_uri": "https://localhost:8080/",
          "height": 281
        },
        "id": "Q-_lJSE_AupN",
        "outputId": "b91d4866-fef9-4480-a85d-3fc4b72321ca"
      },
      "execution_count": 84,
      "outputs": [
        {
          "output_type": "display_data",
          "data": {
            "text/plain": [
              "<Figure size 432x288 with 1 Axes>"
            ],
            "image/png": "[encoded data removed]"
          },
          "metadata": {
            "needs_background": "light"
          }
        }
      ]
    },
    {
      "cell_type": "markdown",
      "source": [
        "#2. Regresion de bosque aleatorio"
      ],
      "metadata": {
        "id": "3t7gIq7wB2XE"
      }
    },
    {
      "cell_type": "code",
      "source": [
        "from sklearn.ensemble import RandomForestRegressor"
      ],
      "metadata": {
        "id": "v7Lt3bEHEGzd"
      },
      "execution_count": 38,
      "outputs": []
    },
    {
      "cell_type": "code",
      "source": [
        "rf = RandomForestRegressor(random_state = 42)"
      ],
      "metadata": {
        "id": "DAnnuzRMA8hR"
      },
      "execution_count": 69,
      "outputs": []
    },
    {
      "cell_type": "code",
      "source": [
        "rf.fit(X_train, y_train)"
      ],
      "metadata": {
        "colab": {
          "base_uri": "https://localhost:8080/"
        },
        "id": "KoTOcuaUEPO4",
        "outputId": "89c9ae8f-64f6-4be7-b629-cbb7d3cea20f"
      },
      "execution_count": 70,
      "outputs": [
        {
          "output_type": "execute_result",
          "data": {
            "text/plain": [
              "RandomForestRegressor(random_state=42)"
            ]
          },
          "metadata": {},
          "execution_count": 70
        }
      ]
    },
    {
      "cell_type": "markdown",
      "source": [
        "### Evaluar rendimiento, configuracion por defecto\n"
      ],
      "metadata": {
        "id": "IgxVaGylEapg"
      }
    },
    {
      "cell_type": "code",
      "source": [
        "rf_train_score = rf.score(X_train, y_train)\n",
        "rf_test_score = rf.score(X_test, y_test)\n",
        "print(rf_train_score)\n",
        "print(rf_test_score)"
      ],
      "metadata": {
        "colab": {
          "base_uri": "https://localhost:8080/"
        },
        "id": "RPcdZCfwEXQB",
        "outputId": "c39e6ac6-7bb0-4ce5-e30d-4ff4df84ec66"
      },
      "execution_count": 82,
      "outputs": [
        {
          "output_type": "stream",
          "name": "stdout",
          "text": [
            "0.9771342521069045\n",
            "0.8338530730048258\n"
          ]
        }
      ]
    },
    {
      "cell_type": "markdown",
      "source": [
        "busqueda de n_estimators optimo"
      ],
      "metadata": {
        "id": "yenyde5xQYrV"
      }
    },
    {
      "cell_type": "code",
      "source": [
        "# Lista de valores a probar para n_estimators:\n",
        "n_estimators_2 = list(range(50, 55))\n",
        "# Lista para almacenar la puntuación para cada valor de n_estimators:\n",
        "r2_2 = []\n",
        "for x in n_estimators_2:\n",
        "    rf_x = RandomForestRegressor(n_estimators = x, \n",
        "                             random_state = 42)\n",
        "    rf_x.fit(X_train, y_train)\n",
        "    score = rf_x.score(X_test, y_test)\n",
        "    r2_2.append(score)\n",
        "max(r2_2)"
      ],
      "metadata": {
        "colab": {
          "base_uri": "https://localhost:8080/"
        },
        "id": "GGolc9MWEmxa",
        "outputId": "4c9327ca-55c2-41aa-dd8c-117d918cca30"
      },
      "execution_count": 100,
      "outputs": [
        {
          "output_type": "execute_result",
          "data": {
            "text/plain": [
              "0.8383435665812522"
            ]
          },
          "metadata": {},
          "execution_count": 100
        }
      ]
    },
    {
      "cell_type": "code",
      "source": [
        "plt.plot(n_estimators_2, r2_2)\n",
        "plt.xlabel('n_estimators_2')\n",
        "plt.ylabel('r2_2');"
      ],
      "metadata": {
        "colab": {
          "base_uri": "https://localhost:8080/",
          "height": 280
        },
        "id": "804CfLROGGlW",
        "outputId": "b177daae-4ee8-4577-fdb2-c36b86fec7b7"
      },
      "execution_count": 101,
      "outputs": [
        {
          "output_type": "display_data",
          "data": {
            "text/plain": [
              "<Figure size 432x288 with 1 Axes>"
            ],
            "image/png": "[encoded data removed]"
          },
          "metadata": {
            "needs_background": "light"
          }
        }
      ]
    },
    {
      "cell_type": "code",
      "source": [
        "rf_x = RandomForestRegressor(random_state = 42, n_estimators=52, max_depth= 16)\n",
        "rf_x.fit(X_train, y_train)\n",
        "rf_x_train_score = rf_x.score(X_train, y_train)\n",
        "rf_x_test_score = rf_x.score(X_test, y_test)\n",
        "print(rf_x_train_score)\n",
        "print(rf_x_test_score)"
      ],
      "metadata": {
        "colab": {
          "base_uri": "https://localhost:8080/"
        },
        "id": "TOrNXyaFOBm9",
        "outputId": "727b732d-b351-4a51-f8d0-933e7c84a1cd"
      },
      "execution_count": 110,
      "outputs": [
        {
          "output_type": "stream",
          "name": "stdout",
          "text": [
            "0.9743208123595688\n",
            "0.8434085806565629\n"
          ]
        }
      ]
    },
    {
      "cell_type": "code",
      "source": [
        "print(rf_train_score)\n",
        "print(rf_test_score)\n",
        "print(rf_x_train_score)\n",
        "print(rf_x_test_score)"
      ],
      "metadata": {
        "colab": {
          "base_uri": "https://localhost:8080/"
        },
        "id": "KfeZzjTbGP0_",
        "outputId": "a4b14fa5-2a4e-47fd-d274-3a68aef2a638"
      },
      "execution_count": 111,
      "outputs": [
        {
          "output_type": "stream",
          "name": "stdout",
          "text": [
            "0.9771342521069045\n",
            "0.8338530730048258\n",
            "0.9743208123595688\n",
            "0.8434085806565629\n"
          ]
        }
      ]
    },
    {
      "cell_type": "markdown",
      "source": [
        "busqueda max_depth optima"
      ],
      "metadata": {
        "id": "izayMyeiVTHJ"
      }
    },
    {
      "cell_type": "code",
      "source": [
        "# Lista de valores a probar para max_depth:\n",
        "max_depth = list(range(2, 20))\n",
        "# Lista para almacenar la puntuación para cada valor de max_depth:\n",
        "r2_depth = []\n",
        "for x in max_depth:\n",
        "    rf_x = RandomForestRegressor(max_depth = x,\n",
        "                                 n_estimators = 52, \n",
        "                             random_state = 42)\n",
        "    rf_x.fit(X_train, y_train)\n",
        "    score = rf_x.score(X_test, y_test)\n",
        "    r2_depth.append(score)"
      ],
      "metadata": {
        "id": "pAxqw6wYOT9O"
      },
      "execution_count": 107,
      "outputs": []
    },
    {
      "cell_type": "code",
      "source": [
        "plt.plot(max_depth, r2_depth)\n",
        "plt.xlabel('max_depth')\n",
        "plt.ylabel('R2');"
      ],
      "metadata": {
        "colab": {
          "base_uri": "https://localhost:8080/",
          "height": 280
        },
        "id": "t9HqdJ3lOw11",
        "outputId": "88d316a8-b204-4340-ff78-4f69135cdd6f"
      },
      "execution_count": 109,
      "outputs": [
        {
          "output_type": "display_data",
          "data": {
            "text/plain": [
              "<Figure size 432x288 with 1 Axes>"
            ],
            "image/png": "[encoded data removed]"
          },
          "metadata": {
            "needs_background": "light"
          }
        }
      ]
    },
    {
      "cell_type": "code",
      "source": [],
      "metadata": {
        "id": "QuZucplLOzFF"
      },
      "execution_count": null,
      "outputs": []
    }
  ]
}
