{
  "nbformat": 4,
  "nbformat_minor": 0,
  "metadata": {
    "colab": {
      "provenance": [],
      "authorship_tag": "ABX9TyOLFEzNec/+uJ1HmksEKyZB",
      "include_colab_link": true
    },
    "kernelspec": {
      "name": "python3",
      "display_name": "Python 3"
    },
    "language_info": {
      "name": "python"
    }
  },
  "cells": [
    {
      "cell_type": "markdown",
      "metadata": {
        "id": "view-in-github",
        "colab_type": "text"
      },
      "source": [
        "<a href=\"https://colab.research.google.com/github/FelipeGonzalezGarrido/Coding-Dojo/blob/main/3.%20Advanced%20Machine%20Learning/Semana%203%20-%20Introduction%20to%20Deep%20Learning/12.RNN_en_Python.ipynb\" target=\"_parent\"><img src=\"https://colab.research.google.com/assets/colab-badge.svg\" alt=\"Open In Colab\"/></a>"
      ]
    },
    {
      "cell_type": "markdown",
      "source": [
        "![image.png](data:image/png;base64,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)"
      ],
      "metadata": {
        "id": "1Qs0Mx6_i9g2"
      }
    },
    {
      "cell_type": "markdown",
      "source": [
        "##**RNN en Keras**\n",
        "\n",
        "Monta los datos"
      ],
      "metadata": {
        "id": "-RpyKaHFjAob"
      }
    },
    {
      "cell_type": "code",
      "execution_count": null,
      "metadata": {
        "colab": {
          "base_uri": "https://localhost:8080/"
        },
        "id": "h9Ihbx5oi2fK",
        "outputId": "b38f8df6-4573-4dee-8630-3da4f9513bef"
      },
      "outputs": [
        {
          "output_type": "stream",
          "name": "stdout",
          "text": [
            "Mounted at /content/drive\n"
          ]
        }
      ],
      "source": [
        "from google.colab import drive\n",
        "drive.mount('/content/drive')"
      ]
    },
    {
      "cell_type": "markdown",
      "source": [
        "Importa las bibliotecas"
      ],
      "metadata": {
        "id": "3VrHblPujFnC"
      }
    },
    {
      "cell_type": "code",
      "source": [
        "# Imports\n",
        "import numpy as np\n",
        "import matplotlib.pyplot as plt\n",
        "import pandas as pd\n",
        "from sklearn.preprocessing import MinMaxScaler\n",
        "from tensorflow.keras.preprocessing.sequence import TimeseriesGenerator\n",
        "from tensorflow.keras.models import Sequential\n",
        "from tensorflow.keras.layers import Dense, LSTM"
      ],
      "metadata": {
        "id": "ZFKp3n-2jEdL"
      },
      "execution_count": null,
      "outputs": []
    },
    {
      "cell_type": "markdown",
      "source": [
        "**Importa los datos**\n",
        "\n",
        "El conjunto de datos que utilizaremos proviene de [Yahoo Finance](https://finance.yahoo.com/quote/AAPL/history?p=AAPL&.tsrc=fin-srch) y refleja la cotización diaria de las acciones de Apple (AAPL). Puedes descargar los datos [aquí](https://s3.amazonaws.com/General_V88/boomyeah2015/codingdojo/curriculum/content/chapter/AAPL.csv). Vamos a ver si podemos utilizar los datos históricos para predecir los precios de cierre del próximo mes. Para este ejemplo, utilizaremos datos de entrenamiento desde el 1 de enero de 2013 hasta el 31 de diciembre de 1019, y nuestro conjunto de prueba será el mes de enero de 2020.\n",
        "\n",
        "Puesto que esto son datos de serie temporal, una RNN es una gran opción para trabajar con estos datos."
      ],
      "metadata": {
        "id": "UZpW6CoBjZTQ"
      }
    },
    {
      "cell_type": "code",
      "source": [
        "# Get data\n",
        "aapl = pd.read_csv('/content/drive/MyDrive/Data CodingDojo/AAPL.csv', index_col = 'Date')\n",
        "aapl.head()"
      ],
      "metadata": {
        "colab": {
          "base_uri": "https://localhost:8080/",
          "height": 238
        },
        "id": "oONSbQVKjnZW",
        "outputId": "f79e47b5-9b0e-4a73-8e4e-f18faa34e738"
      },
      "execution_count": null,
      "outputs": [
        {
          "output_type": "execute_result",
          "data": {
            "text/plain": [
              "                 Open       High        Low      Close  Adj Close     Volume\n",
              "Date                                                                        \n",
              "2013-01-02  19.779285  19.821428  19.343929  19.608213  17.065252  560518000\n",
              "2013-01-03  19.567142  19.631071  19.321428  19.360714  16.849854  352965200\n",
              "2013-01-04  19.177500  19.236786  18.779642  18.821428  16.380503  594333600\n",
              "2013-01-07  18.642857  18.903572  18.400000  18.710714  16.284145  484156400\n",
              "2013-01-08  18.900356  18.996071  18.616072  18.761072  16.327978  458707200"
            ],
            "text/html": [
              "\n",
              "  <div id=\"df-f1169f5b-2957-4831-a883-52ddd0eb7383\">\n",
              "    <div class=\"colab-df-container\">\n",
              "      <div>\n",
              "<style scoped>\n",
              "    .dataframe tbody tr th:only-of-type {\n",
              "        vertical-align: middle;\n",
              "    }\n",
              "\n",
              "    .dataframe tbody tr th {\n",
              "        vertical-align: top;\n",
              "    }\n",
              "\n",
              "    .dataframe thead th {\n",
              "        text-align: right;\n",
              "    }\n",
              "</style>\n",
              "<table border=\"1\" class=\"dataframe\">\n",
              "  <thead>\n",
              "    <tr style=\"text-align: right;\">\n",
              "      <th></th>\n",
              "      <th>Open</th>\n",
              "      <th>High</th>\n",
              "      <th>Low</th>\n",
              "      <th>Close</th>\n",
              "      <th>Adj Close</th>\n",
              "      <th>Volume</th>\n",
              "    </tr>\n",
              "    <tr>\n",
              "      <th>Date</th>\n",
              "      <th></th>\n",
              "      <th></th>\n",
              "      <th></th>\n",
              "      <th></th>\n",
              "      <th></th>\n",
              "      <th></th>\n",
              "    </tr>\n",
              "  </thead>\n",
              "  <tbody>\n",
              "    <tr>\n",
              "      <th>2013-01-02</th>\n",
              "      <td>19.779285</td>\n",
              "      <td>19.821428</td>\n",
              "      <td>19.343929</td>\n",
              "      <td>19.608213</td>\n",
              "      <td>17.065252</td>\n",
              "      <td>560518000</td>\n",
              "    </tr>\n",
              "    <tr>\n",
              "      <th>2013-01-03</th>\n",
              "      <td>19.567142</td>\n",
              "      <td>19.631071</td>\n",
              "      <td>19.321428</td>\n",
              "      <td>19.360714</td>\n",
              "      <td>16.849854</td>\n",
              "      <td>352965200</td>\n",
              "    </tr>\n",
              "    <tr>\n",
              "      <th>2013-01-04</th>\n",
              "      <td>19.177500</td>\n",
              "      <td>19.236786</td>\n",
              "      <td>18.779642</td>\n",
              "      <td>18.821428</td>\n",
              "      <td>16.380503</td>\n",
              "      <td>594333600</td>\n",
              "    </tr>\n",
              "    <tr>\n",
              "      <th>2013-01-07</th>\n",
              "      <td>18.642857</td>\n",
              "      <td>18.903572</td>\n",
              "      <td>18.400000</td>\n",
              "      <td>18.710714</td>\n",
              "      <td>16.284145</td>\n",
              "      <td>484156400</td>\n",
              "    </tr>\n",
              "    <tr>\n",
              "      <th>2013-01-08</th>\n",
              "      <td>18.900356</td>\n",
              "      <td>18.996071</td>\n",
              "      <td>18.616072</td>\n",
              "      <td>18.761072</td>\n",
              "      <td>16.327978</td>\n",
              "      <td>458707200</td>\n",
              "    </tr>\n",
              "  </tbody>\n",
              "</table>\n",
              "</div>\n",
              "      <button class=\"colab-df-convert\" onclick=\"convertToInteractive('df-f1169f5b-2957-4831-a883-52ddd0eb7383')\"\n",
              "              title=\"Convert this dataframe to an interactive table.\"\n",
              "              style=\"display:none;\">\n",
              "        \n",
              "  <svg xmlns=\"http://www.w3.org/2000/svg\" height=\"24px\"viewBox=\"0 0 24 24\"\n",
              "       width=\"24px\">\n",
              "    <path d=\"M0 0h24v24H0V0z\" fill=\"none\"/>\n",
              "    <path d=\"M18.56 5.44l.94 2.06.94-2.06 2.06-.94-2.06-.94-.94-2.06-.94 2.06-2.06.94zm-11 1L8.5 8.5l.94-2.06 2.06-.94-2.06-.94L8.5 2.5l-.94 2.06-2.06.94zm10 10l.94 2.06.94-2.06 2.06-.94-2.06-.94-.94-2.06-.94 2.06-2.06.94z\"/><path d=\"M17.41 7.96l-1.37-1.37c-.4-.4-.92-.59-1.43-.59-.52 0-1.04.2-1.43.59L10.3 9.45l-7.72 7.72c-.78.78-.78 2.05 0 2.83L4 21.41c.39.39.9.59 1.41.59.51 0 1.02-.2 1.41-.59l7.78-7.78 2.81-2.81c.8-.78.8-2.07 0-2.86zM5.41 20L4 18.59l7.72-7.72 1.47 1.35L5.41 20z\"/>\n",
              "  </svg>\n",
              "      </button>\n",
              "      \n",
              "  <style>\n",
              "    .colab-df-container {\n",
              "      display:flex;\n",
              "      flex-wrap:wrap;\n",
              "      gap: 12px;\n",
              "    }\n",
              "\n",
              "    .colab-df-convert {\n",
              "      background-color: #E8F0FE;\n",
              "      border: none;\n",
              "      border-radius: 50%;\n",
              "      cursor: pointer;\n",
              "      display: none;\n",
              "      fill: #1967D2;\n",
              "      height: 32px;\n",
              "      padding: 0 0 0 0;\n",
              "      width: 32px;\n",
              "    }\n",
              "\n",
              "    .colab-df-convert:hover {\n",
              "      background-color: #E2EBFA;\n",
              "      box-shadow: 0px 1px 2px rgba(60, 64, 67, 0.3), 0px 1px 3px 1px rgba(60, 64, 67, 0.15);\n",
              "      fill: #174EA6;\n",
              "    }\n",
              "\n",
              "    [theme=dark] .colab-df-convert {\n",
              "      background-color: #3B4455;\n",
              "      fill: #D2E3FC;\n",
              "    }\n",
              "\n",
              "    [theme=dark] .colab-df-convert:hover {\n",
              "      background-color: #434B5C;\n",
              "      box-shadow: 0px 1px 3px 1px rgba(0, 0, 0, 0.15);\n",
              "      filter: drop-shadow(0px 1px 2px rgba(0, 0, 0, 0.3));\n",
              "      fill: #FFFFFF;\n",
              "    }\n",
              "  </style>\n",
              "\n",
              "      <script>\n",
              "        const buttonEl =\n",
              "          document.querySelector('#df-f1169f5b-2957-4831-a883-52ddd0eb7383 button.colab-df-convert');\n",
              "        buttonEl.style.display =\n",
              "          google.colab.kernel.accessAllowed ? 'block' : 'none';\n",
              "\n",
              "        async function convertToInteractive(key) {\n",
              "          const element = document.querySelector('#df-f1169f5b-2957-4831-a883-52ddd0eb7383');\n",
              "          const dataTable =\n",
              "            await google.colab.kernel.invokeFunction('convertToInteractive',\n",
              "                                                     [key], {});\n",
              "          if (!dataTable) return;\n",
              "\n",
              "          const docLinkHtml = 'Like what you see? Visit the ' +\n",
              "            '<a target=\"_blank\" href=https://colab.research.google.com/notebooks/data_table.ipynb>data table notebook</a>'\n",
              "            + ' to learn more about interactive tables.';\n",
              "          element.innerHTML = '';\n",
              "          dataTable['output_type'] = 'display_data';\n",
              "          await google.colab.output.renderOutput(dataTable, element);\n",
              "          const docLink = document.createElement('div');\n",
              "          docLink.innerHTML = docLinkHtml;\n",
              "          element.appendChild(docLink);\n",
              "        }\n",
              "      </script>\n",
              "    </div>\n",
              "  </div>\n",
              "  "
            ]
          },
          "metadata": {},
          "execution_count": 4
        }
      ]
    },
    {
      "cell_type": "markdown",
      "source": [
        "Visualicemos el precio de cierre de las acciones de Apple a lo largo del tiempo."
      ],
      "metadata": {
        "id": "dYrNAtzHkAUb"
      }
    },
    {
      "cell_type": "code",
      "source": [
        "plt.figure(figsize = (12, 5))\n",
        "aapl['Close'].plot()\n",
        "plt.ylabel('Closing Price');\n"
      ],
      "metadata": {
        "colab": {
          "base_uri": "https://localhost:8080/",
          "height": 334
        },
        "id": "hypdeOBbj5FI",
        "outputId": "7be20935-8e5e-4f24-c709-a0525ec74934"
      },
      "execution_count": null,
      "outputs": [
        {
          "output_type": "display_data",
          "data": {
            "text/plain": [
              "<Figure size 864x360 with 1 Axes>"
            ],
            "image/png": "[encoded data removed]"
          },
          "metadata": {
            "needs_background": "light"
          }
        }
      ]
    },
    {
      "cell_type": "markdown",
      "source": [
        "Divide train/test\n",
        "\n",
        "Puesto que estamos trabajando con datos a lo largo del tiempo, no queremos dividir nuestros datos aleatoriamente en conjuntos de entrenamiento y de prueba. Utilizaremos el último mes de nuestro conjunto de datos (enero de 2020) como nuestro conjunto de prueba."
      ],
      "metadata": {
        "id": "XvSu8ae9kH3B"
      }
    },
    {
      "cell_type": "code",
      "source": [
        "# Split data into training and testing - testing is month of January 2020\n",
        "# We will also only use the closing column\n",
        "train = aapl.loc['2013-01-02':'2019-12-31', ['Close']]\n",
        "test = aapl.loc['2020-01-01':'2020-01-31', ['Close']]"
      ],
      "metadata": {
        "id": "BnYk8W21kBto"
      },
      "execution_count": null,
      "outputs": []
    },
    {
      "cell_type": "markdown",
      "source": [
        "Escala los datos\n",
        "\n",
        "Como siempre, debido a que estamos utilizando una red neuronal, debemos escalar nuestros datos. En este caso, utilizaremos MinMaxScaler para escalar nuestros datos entre 0 y 1."
      ],
      "metadata": {
        "id": "WRih0AuCldI7"
      }
    },
    {
      "cell_type": "code",
      "source": [
        "# Scale data between 0 and 1\n",
        "scaler = MinMaxScaler(feature_range = (0, 1))\n",
        "train = scaler.fit_transform(train)\n",
        "test = scaler.transform(test)"
      ],
      "metadata": {
        "id": "49Sv1YrdkLBj"
      },
      "execution_count": null,
      "outputs": []
    },
    {
      "cell_type": "markdown",
      "source": [
        "Remodela los datos\n",
        "\n",
        "Ahora necesitamos remodelar nuestros datos. En las RNN, utilizamos un número anterior de marcas de tiempo para predecir los próximos valores. Para este ejemplo, utilizaremos los 5 días anteriores de precios de cierre para predecir los precios de cierre del día siguiente. Para hacer esto, necesitamos guardar los precios de las acciones de los 5 días anteriores para nuestro conjunto de características.\n",
        "\n",
        "También necesitamos que nuestros datos sean de 3 dimensiones para pasarlos a través de una capa RNN (utilizaremos una capa LSTM para ejemplo). La primera dimensión es el número de filas, la segunda es el número de pasos de tiempo (días) que estamos utilizando para predecir el precio del día siguiente y la tercera es el número de características. Para este ejemplo, nuestra dimensión será (128, 5, 1), ya que nuestras secuencias de entrenamiento tiene 128 valores, estamos utilizando los últimos 5 días para predecir el día siguiente, y solo usaremos el precio de cierre.\n",
        "\n",
        "Vamos a utilizar el [TimeseriesGenerator](https://keras.io/api/preprocessing/timeseries/#timeseriesgenerator-class) en Keras para obtener los datos en el formato que necesitamos para una RNN. El siguiente código logra esto. Alternativamente, podrías hacer esto a mano. Puedes ver un ejemplo de esta técnica [aquí](https://stackabuse.com/time-series-analysis-with-lstm-using-pythons-keras-library)."
      ],
      "metadata": {
        "id": "mUhP36TVm-IS"
      }
    },
    {
      "cell_type": "code",
      "source": [
        "# Reshape data into sequences using TimeseriesGenerator\n",
        "train_features = TimeseriesGenerator(train, train, length = 5)"
      ],
      "metadata": {
        "id": "JACVn3mulgS3"
      },
      "execution_count": null,
      "outputs": []
    },
    {
      "cell_type": "markdown",
      "source": [
        "##**Paso 1: definir nuestra estructura de red**"
      ],
      "metadata": {
        "id": "GbZaWT-unVsJ"
      }
    },
    {
      "cell_type": "code",
      "source": [
        "# Step 1: Define our network structure\n",
        "# Save the input shape\n",
        "input_shape = train_features[0][0][0].shape\n",
        "input_shape"
      ],
      "metadata": {
        "colab": {
          "base_uri": "https://localhost:8080/"
        },
        "id": "SEdHn7DEnUB_",
        "outputId": "6fa33b3b-08e7-4273-b039-b116e900718e"
      },
      "execution_count": null,
      "outputs": [
        {
          "output_type": "execute_result",
          "data": {
            "text/plain": [
              "(5, 1)"
            ]
          },
          "metadata": {},
          "execution_count": 9
        }
      ]
    },
    {
      "cell_type": "code",
      "source": [
        "# Sequential model\n",
        "model = Sequential()"
      ],
      "metadata": {
        "id": "x5Ws-GpPnZAu"
      },
      "execution_count": null,
      "outputs": []
    },
    {
      "cell_type": "markdown",
      "source": [
        "¡Ahora podemos agregar nuestras capas ocultas! Utilizaremos las tres capas LSTM en esta red.\n",
        "\n",
        "Dado que estamos haciendo una regresión, la función de activación lineal se utilizará en nuestra capa de salida."
      ],
      "metadata": {
        "id": "gs24TlSyndVX"
      }
    },
    {
      "cell_type": "code",
      "source": [
        "# LSTM layer\n",
        "model.add(LSTM(units = 50, \n",
        "               return_sequences = True, # True if next layer will be a recurrent layer\n",
        "               input_shape = input_shape))\n",
        "model.add(LSTM(units = 50, \n",
        "               return_sequences = True))\n",
        "model.add(LSTM(units = 50, \n",
        "               return_sequences = False))\n",
        "# Output layer\n",
        "model.add(Dense(units = 1, activation = 'linear'))"
      ],
      "metadata": {
        "id": "_EoRKxj_ncWU"
      },
      "execution_count": null,
      "outputs": []
    },
    {
      "cell_type": "markdown",
      "source": [
        "##**Paso 2: compilar nuestro modelo**\n",
        "\n",
        "Puesto que este es un problema de regresión, utilizaremos el error cuadrático medio como nuestra función de pérdida."
      ],
      "metadata": {
        "id": "0H21_kHDnm0F"
      }
    },
    {
      "cell_type": "code",
      "source": [
        "# Step 2: Compile\n",
        "model.compile(loss = 'mean_squared_error', optimizer = 'adam')"
      ],
      "metadata": {
        "id": "RDOMkLUCng2O"
      },
      "execution_count": null,
      "outputs": []
    },
    {
      "cell_type": "markdown",
      "source": [
        "##**Paso 3: ajustar nuestro modelo**"
      ],
      "metadata": {
        "id": "jLF8VtyZnu8l"
      }
    },
    {
      "cell_type": "code",
      "source": [
        "# Step 3: Fit our model\n",
        "history = model.fit(train_features, \n",
        "                    epochs=100)"
      ],
      "metadata": {
        "colab": {
          "base_uri": "https://localhost:8080/"
        },
        "id": "3k4xAylOntqB",
        "outputId": "abd69eb5-9594-4c4b-c3dd-ef055dcb26a9"
      },
      "execution_count": null,
      "outputs": [
        {
          "output_type": "stream",
          "name": "stdout",
          "text": [
            "Epoch 1/100\n",
            "14/14 [==============================] - 12s 20ms/step - loss: 0.1098\n",
            "Epoch 2/100\n",
            "14/14 [==============================] - 0s 20ms/step - loss: 0.0282\n",
            "Epoch 3/100\n",
            "14/14 [==============================] - 0s 19ms/step - loss: 0.0278\n",
            "Epoch 4/100\n",
            "14/14 [==============================] - 0s 27ms/step - loss: 0.0145\n",
            "Epoch 5/100\n",
            "14/14 [==============================] - 1s 54ms/step - loss: 0.0068\n",
            "Epoch 6/100\n",
            "14/14 [==============================] - 1s 37ms/step - loss: 0.0021\n",
            "Epoch 7/100\n",
            "14/14 [==============================] - 1s 38ms/step - loss: 9.8662e-04\n",
            "Epoch 8/100\n",
            "14/14 [==============================] - 0s 27ms/step - loss: 4.8470e-04\n",
            "Epoch 9/100\n",
            "14/14 [==============================] - 0s 25ms/step - loss: 6.9054e-04\n",
            "Epoch 10/100\n",
            "14/14 [==============================] - 0s 24ms/step - loss: 6.2805e-04\n",
            "Epoch 11/100\n",
            "14/14 [==============================] - 0s 27ms/step - loss: 5.2378e-04\n",
            "Epoch 12/100\n",
            "14/14 [==============================] - 0s 19ms/step - loss: 8.8868e-04\n",
            "Epoch 13/100\n",
            "14/14 [==============================] - 0s 19ms/step - loss: 5.9844e-04\n",
            "Epoch 14/100\n",
            "14/14 [==============================] - 0s 23ms/step - loss: 0.0010\n",
            "Epoch 15/100\n",
            "14/14 [==============================] - 0s 30ms/step - loss: 5.1774e-04\n",
            "Epoch 16/100\n",
            "14/14 [==============================] - 0s 32ms/step - loss: 6.0182e-04\n",
            "Epoch 17/100\n",
            "14/14 [==============================] - 0s 32ms/step - loss: 5.8336e-04\n",
            "Epoch 18/100\n",
            "14/14 [==============================] - 0s 31ms/step - loss: 4.7450e-04\n",
            "Epoch 19/100\n",
            "14/14 [==============================] - 0s 32ms/step - loss: 4.0574e-04\n",
            "Epoch 20/100\n",
            "14/14 [==============================] - 0s 29ms/step - loss: 3.2091e-04\n",
            "Epoch 21/100\n",
            "14/14 [==============================] - 0s 19ms/step - loss: 3.3286e-04\n",
            "Epoch 22/100\n",
            "14/14 [==============================] - 0s 20ms/step - loss: 3.2097e-04\n",
            "Epoch 23/100\n",
            "14/14 [==============================] - 0s 20ms/step - loss: 3.6488e-04\n",
            "Epoch 24/100\n",
            "14/14 [==============================] - 0s 20ms/step - loss: 2.9611e-04\n",
            "Epoch 25/100\n",
            "14/14 [==============================] - 0s 20ms/step - loss: 3.2447e-04\n",
            "Epoch 26/100\n",
            "14/14 [==============================] - 0s 20ms/step - loss: 4.8961e-04\n",
            "Epoch 27/100\n",
            "14/14 [==============================] - 0s 20ms/step - loss: 3.5985e-04\n",
            "Epoch 28/100\n",
            "14/14 [==============================] - 0s 19ms/step - loss: 3.8014e-04\n",
            "Epoch 29/100\n",
            "14/14 [==============================] - 0s 20ms/step - loss: 2.8792e-04\n",
            "Epoch 30/100\n",
            "14/14 [==============================] - 0s 20ms/step - loss: 3.0154e-04\n",
            "Epoch 31/100\n",
            "14/14 [==============================] - 0s 20ms/step - loss: 4.1594e-04\n",
            "Epoch 32/100\n",
            "14/14 [==============================] - 0s 20ms/step - loss: 3.2801e-04\n",
            "Epoch 33/100\n",
            "14/14 [==============================] - 0s 20ms/step - loss: 2.9305e-04\n",
            "Epoch 34/100\n",
            "14/14 [==============================] - 0s 21ms/step - loss: 3.4446e-04\n",
            "Epoch 35/100\n",
            "14/14 [==============================] - 0s 19ms/step - loss: 3.6241e-04\n",
            "Epoch 36/100\n",
            "14/14 [==============================] - 0s 19ms/step - loss: 4.6802e-04\n",
            "Epoch 37/100\n",
            "14/14 [==============================] - 0s 20ms/step - loss: 4.0073e-04\n",
            "Epoch 38/100\n",
            "14/14 [==============================] - 0s 19ms/step - loss: 3.2081e-04\n",
            "Epoch 39/100\n",
            "14/14 [==============================] - 0s 20ms/step - loss: 2.7811e-04\n",
            "Epoch 40/100\n",
            "14/14 [==============================] - 0s 19ms/step - loss: 3.4339e-04\n",
            "Epoch 41/100\n",
            "14/14 [==============================] - 0s 20ms/step - loss: 3.8152e-04\n",
            "Epoch 42/100\n",
            "14/14 [==============================] - 0s 21ms/step - loss: 3.2384e-04\n",
            "Epoch 43/100\n",
            "14/14 [==============================] - 0s 20ms/step - loss: 3.2237e-04\n",
            "Epoch 44/100\n",
            "14/14 [==============================] - 0s 20ms/step - loss: 2.9104e-04\n",
            "Epoch 45/100\n",
            "14/14 [==============================] - 0s 19ms/step - loss: 3.1487e-04\n",
            "Epoch 46/100\n",
            "14/14 [==============================] - 0s 32ms/step - loss: 3.2196e-04\n",
            "Epoch 47/100\n",
            "14/14 [==============================] - 0s 32ms/step - loss: 3.7185e-04\n",
            "Epoch 48/100\n",
            "14/14 [==============================] - 0s 32ms/step - loss: 3.6076e-04\n",
            "Epoch 49/100\n",
            "14/14 [==============================] - 0s 31ms/step - loss: 3.8835e-04\n",
            "Epoch 50/100\n",
            "14/14 [==============================] - 0s 32ms/step - loss: 3.2898e-04\n",
            "Epoch 51/100\n",
            "14/14 [==============================] - 0s 32ms/step - loss: 4.5619e-04\n",
            "Epoch 52/100\n",
            "14/14 [==============================] - 0s 29ms/step - loss: 3.4696e-04\n",
            "Epoch 53/100\n",
            "14/14 [==============================] - 0s 19ms/step - loss: 3.0117e-04\n",
            "Epoch 54/100\n",
            "14/14 [==============================] - 0s 21ms/step - loss: 4.0588e-04\n",
            "Epoch 55/100\n",
            "14/14 [==============================] - 0s 19ms/step - loss: 4.2544e-04\n",
            "Epoch 56/100\n",
            "14/14 [==============================] - 0s 20ms/step - loss: 5.2035e-04\n",
            "Epoch 57/100\n",
            "14/14 [==============================] - 0s 20ms/step - loss: 3.1453e-04\n",
            "Epoch 58/100\n",
            "14/14 [==============================] - 0s 20ms/step - loss: 3.1952e-04\n",
            "Epoch 59/100\n",
            "14/14 [==============================] - 0s 20ms/step - loss: 2.8004e-04\n",
            "Epoch 60/100\n",
            "14/14 [==============================] - 0s 20ms/step - loss: 3.8462e-04\n",
            "Epoch 61/100\n",
            "14/14 [==============================] - 0s 19ms/step - loss: 5.5981e-04\n",
            "Epoch 62/100\n",
            "14/14 [==============================] - 0s 20ms/step - loss: 3.9674e-04\n",
            "Epoch 63/100\n",
            "14/14 [==============================] - 0s 20ms/step - loss: 3.7922e-04\n",
            "Epoch 64/100\n",
            "14/14 [==============================] - 0s 21ms/step - loss: 4.4398e-04\n",
            "Epoch 65/100\n",
            "14/14 [==============================] - 0s 20ms/step - loss: 3.6314e-04\n",
            "Epoch 66/100\n",
            "14/14 [==============================] - 0s 23ms/step - loss: 5.0734e-04\n",
            "Epoch 67/100\n",
            "14/14 [==============================] - 0s 19ms/step - loss: 4.5910e-04\n",
            "Epoch 68/100\n",
            "14/14 [==============================] - 0s 20ms/step - loss: 0.0010\n",
            "Epoch 69/100\n",
            "14/14 [==============================] - 0s 20ms/step - loss: 0.0011\n",
            "Epoch 70/100\n",
            "14/14 [==============================] - 0s 20ms/step - loss: 0.0016\n",
            "Epoch 71/100\n",
            "14/14 [==============================] - 0s 21ms/step - loss: 0.0029\n",
            "Epoch 72/100\n",
            "14/14 [==============================] - 0s 20ms/step - loss: 0.0029\n",
            "Epoch 73/100\n",
            "14/14 [==============================] - 0s 19ms/step - loss: 0.0027\n",
            "Epoch 74/100\n",
            "14/14 [==============================] - 0s 20ms/step - loss: 0.0025\n",
            "Epoch 75/100\n",
            "14/14 [==============================] - 0s 21ms/step - loss: 0.0026\n",
            "Epoch 76/100\n",
            "14/14 [==============================] - 0s 20ms/step - loss: 0.0021\n",
            "Epoch 77/100\n",
            "14/14 [==============================] - 0s 20ms/step - loss: 8.0006e-04\n",
            "Epoch 78/100\n",
            "14/14 [==============================] - 0s 30ms/step - loss: 9.0834e-04\n",
            "Epoch 79/100\n",
            "14/14 [==============================] - 0s 33ms/step - loss: 5.1401e-04\n",
            "Epoch 80/100\n",
            "14/14 [==============================] - 0s 32ms/step - loss: 3.0208e-04\n",
            "Epoch 81/100\n",
            "14/14 [==============================] - 0s 33ms/step - loss: 3.1347e-04\n",
            "Epoch 82/100\n",
            "14/14 [==============================] - 0s 32ms/step - loss: 3.4242e-04\n",
            "Epoch 83/100\n",
            "14/14 [==============================] - 1s 34ms/step - loss: 2.8305e-04\n",
            "Epoch 84/100\n",
            "14/14 [==============================] - 0s 26ms/step - loss: 2.9266e-04\n",
            "Epoch 85/100\n",
            "14/14 [==============================] - 0s 19ms/step - loss: 2.8271e-04\n",
            "Epoch 86/100\n",
            "14/14 [==============================] - 0s 21ms/step - loss: 2.7244e-04\n",
            "Epoch 87/100\n",
            "14/14 [==============================] - 0s 21ms/step - loss: 2.8639e-04\n",
            "Epoch 88/100\n",
            "14/14 [==============================] - 0s 21ms/step - loss: 2.8826e-04\n",
            "Epoch 89/100\n",
            "14/14 [==============================] - 0s 19ms/step - loss: 2.7273e-04\n",
            "Epoch 90/100\n",
            "14/14 [==============================] - 0s 21ms/step - loss: 3.2400e-04\n",
            "Epoch 91/100\n",
            "14/14 [==============================] - 0s 19ms/step - loss: 3.1640e-04\n",
            "Epoch 92/100\n",
            "14/14 [==============================] - 0s 20ms/step - loss: 3.2496e-04\n",
            "Epoch 93/100\n",
            "14/14 [==============================] - 0s 19ms/step - loss: 3.6608e-04\n",
            "Epoch 94/100\n",
            "14/14 [==============================] - 0s 19ms/step - loss: 4.0488e-04\n",
            "Epoch 95/100\n",
            "14/14 [==============================] - 0s 19ms/step - loss: 3.2609e-04\n",
            "Epoch 96/100\n",
            "14/14 [==============================] - 0s 19ms/step - loss: 2.8646e-04\n",
            "Epoch 97/100\n",
            "14/14 [==============================] - 0s 20ms/step - loss: 3.0399e-04\n",
            "Epoch 98/100\n",
            "14/14 [==============================] - 0s 20ms/step - loss: 3.1227e-04\n",
            "Epoch 99/100\n",
            "14/14 [==============================] - 0s 19ms/step - loss: 3.1358e-04\n",
            "Epoch 100/100\n",
            "14/14 [==============================] - 0s 20ms/step - loss: 3.1651e-04\n"
          ]
        }
      ]
    },
    {
      "cell_type": "code",
      "source": [
        "# Visualize the loss\n",
        "plt.plot(history.history['loss'], label='Train loss')\n",
        "plt.legend();"
      ],
      "metadata": {
        "colab": {
          "base_uri": "https://localhost:8080/",
          "height": 265
        },
        "id": "jNA2-uSwnyQ8",
        "outputId": "17c36eba-7417-44de-9a09-5f78b060cd29"
      },
      "execution_count": null,
      "outputs": [
        {
          "output_type": "display_data",
          "data": {
            "text/plain": [
              "<Figure size 432x288 with 1 Axes>"
            ],
            "image/png": "[encoded data removed]"
          },
          "metadata": {
            "needs_background": "light"
          }
        }
      ]
    },
    {
      "cell_type": "markdown",
      "source": [
        "**Predice los precios de las acciones para el mes de enero de 2020**\n",
        "\n",
        "Ahora predigamos los precios de cierre para el mes de enero de 2020 utilizando los precios de cierre de los 5 días anteriores. Para hacer esto, necesitamos hacer el mismo preprocesamiento a nuestros datos de prueba que hicimos con nuestros datos de entrenamiento."
      ],
      "metadata": {
        "id": "ixNlPaCWoGGD"
      }
    },
    {
      "cell_type": "code",
      "source": [
        "test_features = TimeseriesGenerator(test, test, length = 5)"
      ],
      "metadata": {
        "id": "H-BDpA7on235"
      },
      "execution_count": null,
      "outputs": []
    },
    {
      "cell_type": "markdown",
      "source": [
        "Podemos guardar nuestras predicciones en nuestro conjunto de prueba:\n",
        "\n"
      ],
      "metadata": {
        "id": "Jwia7enZoN8r"
      }
    },
    {
      "cell_type": "code",
      "source": [
        "preds = model.predict(test_features)"
      ],
      "metadata": {
        "colab": {
          "base_uri": "https://localhost:8080/"
        },
        "id": "2-EIotvpoMXn",
        "outputId": "ddcc6c8c-3657-4b58-ed9b-171bd2d67a0b"
      },
      "execution_count": null,
      "outputs": [
        {
          "output_type": "stream",
          "name": "stdout",
          "text": [
            "1/1 [==============================] - 1s 1s/step\n"
          ]
        }
      ]
    },
    {
      "cell_type": "markdown",
      "source": [
        "Y ahora visualizaremos nuestras predicciones de modelo comparado con los precios de cierre reales para las acciones de Apple para el mes de enero de 2020:"
      ],
      "metadata": {
        "id": "og4WKKnUoUVb"
      }
    },
    {
      "cell_type": "code",
      "source": [
        "plt.figure(figsize = (12, 5))\n",
        "plt.plot(scaler.inverse_transform(test), label='Actual Price')\n",
        "# Note: there are less prices for the predicted price than the actual price, \n",
        "# because we need to use 5 days of prices to create our first prediction\n",
        "plt.plot(range(5, len(test)), scaler.inverse_transform(preds), label='Predicted Price')\n",
        "plt.title('Apple Closing Stock Price Prediction')\n",
        "plt.xlabel('Day (January 2020)')\n",
        "plt.ylabel('Closing Price')\n",
        "plt.legend();"
      ],
      "metadata": {
        "colab": {
          "base_uri": "https://localhost:8080/",
          "height": 350
        },
        "id": "9-T5pCAgoQnb",
        "outputId": "0f2b941b-6f41-4031-bbca-e9e890dc460d"
      },
      "execution_count": null,
      "outputs": [
        {
          "output_type": "display_data",
          "data": {
            "text/plain": [
              "<Figure size 864x360 with 1 Axes>"
            ],
            "image/png": "[encoded data removed]"
          },
          "metadata": {
            "needs_background": "light"
          }
        }
      ]
    }
  ]
}