{
  "nbformat": 4,
  "nbformat_minor": 0,
  "metadata": {
    "colab": {
      "provenance": [],
      "authorship_tag": "ABX9TyNejA0hk6BSysBuOijbAMmG",
      "include_colab_link": true
    },
    "kernelspec": {
      "name": "python3",
      "display_name": "Python 3"
    },
    "language_info": {
      "name": "python"
    }
  },
  "cells": [
    {
      "cell_type": "markdown",
      "metadata": {
        "id": "view-in-github",
        "colab_type": "text"
      },
      "source": [
        "<a href=\"https://colab.research.google.com/github/FelipeGonzalezGarrido/Coding-Dojo/blob/main/3.%20Advanced%20Machine%20Learning/Semana%203%20-%20Introduction%20to%20Deep%20Learning/10.CNN_en_Python.ipynb\" target=\"_parent\"><img src=\"https://colab.research.google.com/assets/colab-badge.svg\" alt=\"Open In Colab\"/></a>"
      ]
    },
    {
      "cell_type": "markdown",
      "source": [
        "![image.png](data:image/png;base64,iVBORw0KGgoAAAANSUhEUgAAAnYAAACWCAYAAABTj8VSAAAgAElEQVR4nO3deVRT19oH4F8CCRBAEYmoIEEcMAIiouCAVhRFVEQUlIq1ikNbFcertrZWba/e2lbrLVIrVVRqrd6PWgHHiuKAA4giRUEUrGFwZhA0QCDJ9wcr5xKSQAJYNfd91upaNTnDu/fZ55yXvfc5YQmFQjkIIYQQQshbj/26AyCEEEIIIa2DEjtCCCGEED1BiR0hhBBCiJ6gxI4QQgghRE9QYkcIIYQQoicosSOEEEII0ROU2BFCCCGE6AlK7AghhBBC9AQldoQQQggheoISO0IIIYQQPUGJHSGEEEKInqDEjhBCCCFET1BiRwghhBCiJyixI4QQQgjRE5TYEUIIIYToCUrsCCGEEEL0hOHr2KmjoyPs7OwglUqRl5cHkUik9bqzZs3CpEmTUF1djb179yIhIeGVxSkQCPDJJ5+ga9euSE9PxxdffAGxWPzK9vc68Xg8uLu7w9jYGFVVVbh27ZrelvVt4ebmBisrK5XzZMWKFRgxYgSKi4vx/fffIzU19W+L6XXumxBCSNNanNjx+XyMGDEC9vb2zGf379/HmTNn8PTpU7XrjB8/Hn5+fqipqcHBgwexZ88erffn5eUFExMTmJiYYNiwYS1O7Dw9PdGmTRu1yYy3tzcEAgEMDAzQu3dvDBkyBKdOnWrR/t5Ujo6OWLBgAaysrPDs2TNs2rQJ6enprzus/2nTpk2Dm5ub0nni5uYGd3d3cDgcdOzYEUOHDv3bkqvXuW9CCCHaaXZiJxQKMX36dLi5uYHL5ap8P2PGDFy6dAlRUVEaE7zmePDgAezs7CCXy5Gfn9/i7c2bNw8CgUBtMiMSiVBVVQUOh4Py8nIUFha2eH+EtEROTg5KSkpgZWWF6upqFBUV/U/smxBCiHaaldgNHjwYCxcuRIcOHQAAcrkc1dXVkMlkYLPZMDIygpGREby9vdGzZ09ERka22l/2//rXv+Du7g6JRIKUlJRW2aYmSUlJePDgAWxsbHQeMibkVRCLxVi7di2cnZ1RVlb2t/aqvs59E0II0Y7OiZ2bmxvCw8PB5/Mhl8uRm5uLXbt2IS0tjVnGy8sL7733HhwcHGBjY4M5c+bg8ePHjSZGAoEAzs7OsLOzQ25uLm7cuKG2p69Lly4wNjYGh8OBQCBQu00+n4++ffvC0dERDx8+xL1791RuQnw+H87OzjA0rKsCNpsNe3t7WFlZMcOyANChQwcYGBigY8eOEIlEGuc91afNfDVPT084OTkBAO7evdvknDbFNl1cXFBaWorbt283+8bq5uaGXr16wcTEBOnp6Tptx9HREc7OzujUqRPu3r2L27dvNzvh1XTMNdWx4vPa2lrcvHkTT58+ZeKxsrJCVlaW2nqsfzzKy8uRkpICgUCA/v374/nz50hMTFS7vKKu7927p/aPiMa221g8jdXD7du3kZKS0ug6tra2MDQ0hIWFBfh8vlKdaaKpHSrOle7duyM/Px83b96ESCRi5sECQH5+PnJycjTuuyFtzj9CCCGvhs6J3aRJk2BlZQW5XI709HSsW7dO5WaRnJyM69evY926dXBzc4O9vT2mTp2Kr7/+WmV7XC4XX3/9NVxdXWFgYMB8Xl1drXYot7H5eUKhELNmzYKLiws4HA7zuVwux4MHD3DgwAEcP34cANC3b1+Eh4eDx+MBACwtLbFgwQIAYIZlATDzzkQiEVJSUuDu7o6goCAYGhoiJSUFn376qUqZAgIC8N5774HL5SIzMxMXLlwAUJcIhIWFYeTIkTA3N1dap6KiAqdPn0Z0dLRSffJ4PHz44YcYOXIkjIyMlMr08OFDxMTEqCQmmvj7+2Pq1KmwtrYGi8UCALz77rsoLS3FsWPHGl3Xz88PISEh6Ny5M7MuANTU1CAzMxO7d+9Gdna2VnEIhUJ88MEHEAqFKsc8OTkZlpaWKnPLgP/OOROLxfj5558xYsQIdO/eXSmeiooK/PHHH9i+fTvzWf35g/n5+RgyZAh8fHzA5XJx/Phxpv74fD7mzZuHwYMHq9R1aWkpDh06hAMHDqjdbkFBASZPnqzSjl++fIkTJ04oxaNtPWhSvx4iIiJw6tQp5jNNGk414PP5WLhwIQYMGKA0laKmpgYZGRkoLS3FqFGjAADHjx9nEjt1+65fHm3PP6DuQaigoCAAQGxsLHbv3q0xfkIIIdrRKbHz8PBAr169wGKx8OzZM/z6668aexbEYjHi4+Ph4OAACwsLuLq6QigUKt382Ww2/Pz8mCSnuroahoaGMDAwgJGREYYPH462bduqTR7VxbZ48WJYW1sDAKRSKaqrq8HhcMDhcGBjY4OFCxeiY8eOLbqBXLt2DT4+PrCysoK9vb1KmQDA2dkZXC4XEomEGYLm8Xj4/PPP4e7uziQi1dXVYLPZ4HA4MDc3R0BAAOzs7JTKO3/+fIwePRpsNhsymYxZx8jICJ07d8bcuXNRVVXVaCIA/PcmqkhYFMPnXC4XlpaWePfddyGXy7VaVzHsbmRkBA6Hg379+sHGxgb//ve/mxxyb3ic6teDkZERRowYAYlE0ug2OBwOpk+fDlNTU6YcHA4HbDYb5ubmCAwMRJs2bZjkvL5OnTrB1tYWbLbym34EAgFWr14NBwcHsFgslbq2tLTErFmzYGdnp/YPFBsbG9ja2jLlUbRjU1NTBAYGwtDQEBEREa1aD83VsKxAXUKnOKbu7u6orq7WaZvNOf8GDhzItKk+ffq0YgkJIeR/l07vsXN0dISZmRkA4M6dO00OryQnJzMTrNu2bQtHR0el7w0MDGBubo6HDx9i8+bNGDduHAIDAxETE4OXL1+CxWKhb9++mD17dpOxBQcHw9raGnK5HH/++SeWLFmCCRMmYPLkyYiLi0N1dTWMjIzg6+sLNzc3nDp1ChMmTGCG+Z49e4YVK1bAx8cHISEhGsuWnp6OvLw8AHW9fJ6enkrfC4VC5gnh0tJS3LhxAwAwe/Zs9OvXDywWi3lVxLhx4+Dn54edO3fi+fPnTHnnz58PoG7Yy8XFBWw2G8+fP8eWLVvg7++P4OBgJCcnQyaTwdLSEgMHDmy0btzc3ODr6wsjIyPIZDKkp6dj0aJFGD9+PObOncskhYphaU3rVldXIy4uDsHBwfD398fixYvx559/Qi6Xw9raGsHBwVofJwBKx33y5MmIiYnBixcvlHrL1OFwOODxeMjLy8Mnn3yCcePGITQ0FEePHoVEIgGbzcbQoUMRGBiodt2qqipcuXIF27dvx5EjRwAAU6dORdeuXQHUPTSzevVq+Pv7Y9y4cdi9ezcqKipgYGCAwYMHY+zYsSrbZbPZKCgoYOKZPn06zpw5A6lUCjabjYEDB0IoFLZqPdSnaLv1/zt37hzkcjnzoJGi101RVhaLhefPn2Pnzp3w8/PDuHHj8P333+PZs2cwNjbWet/1y6Pt+QfUXUOkUimkUinu3bun0/4IIYSop1Ni16FDB3A4HMhkMq2fdFU8ucrhcJR6JxSKi4sRERHBDNGIxWLExMTg119/ZXow+vXrx/SGqKMYkgPqbsr//ve/mV40xZDRuXPnmETIy8tLl2KruHr1KvO0rGKenIKnpycsLS0hl8tx69YtZGdnw9bWFv369QObzcbLly+xb98+xMfHM+scOHAAe/bswcuXL8Fms+Hm5gahUIh27doxw2RVVVVMEioWi5nhsb/++gtSqbTReIcNGwZLS0sAQEZGBtauXcvUj0gkwrp165Camqq2x06xrkwmQ3JyMiIiIpjexOzsbGzZsgX3798HAHTv3h3vvPOOxjjqHydNx/3gwYNa9RaJRCJs3LiRmdv59OlTfPfddzh+/DhkMhmMjY0xbNgwlfWqqqqwe/dufPbZZ/jtt9+Qk5MDoVAIV1dXsNlslJSUYMeOHUpzRn/55RfExcWhpqYGZmZmahPpiooK7Nu3TymerVu34s6dOwAACwsLpleqNetBk5CQEAwcOFCld71+WV++fIk9e/YoDS/Hx8cjKioKFRUVWu+rueff5s2b8fHHH+Pjjz9W6s0khBDSfM16KlYqlep04QfqeucUvX31ZWZmqh2+i4+Ph4+PD+zt7WFpaYmePXtqfN1Ijx49mLlyhYWF6NmzJ3r27Km0zOPHjyGRSGBsbMxMCm+utLQ0BAQEoEuXLrC3t4eHhwdTBicnJ3A4HIjFYuYBDMXkfqDuHX/q3r2XkJAAHx8fODk5Mb2bhw8fxqNHj8Dn89GhQwd8/vnnSEpKwsmTJ5GSkqL1U8EODg5gs9moqqrCxYsX1Q5rJyUlwdnZWWXuX/11Hzx4wMy7qq+oqAhdu3aFsbExunbtinPnzqmNo/5xauy4Dx8+nEkU1JFKpbh69arahzaSk5MxZMgQWFlZoWPHjnBxcVH6vri4GFevXlX6zNHREW3btgUAPHnyBG3btlUpZ0VFBV6+fAkLCwvY2Nio7Le0tBRXrlxR+kwsFuP+/fsQCoVgs9kwMTFp1XrQxM3NDQEBAUq9rIoe6Ppl1dQWk5KS4OPjo9IbrUlLzj96qIIQQlqXTomdRCKBTCYDh8NB+/bttVpHcTOrqalBcXGx0nc1NTUakzWxWIzS0lLY29uDxWIpTS5vyMzMjPney8uryR45CwsLrWLXpLCwEDdu3ICNjQ3Mzc3Rp08fpKamwsPDgxmGffDgAfPQRMeOHZlhzsZ6OouKiuDk5AQDAwMmxl9//RUWFhawtbUFn8/HlClTEBwczCQSP//8c5O9p4qEuqqqCo8fP1a7TGlpKaqrq1USO8W6xsbGeO+99xrdj6GhIdq1a9doHAYGBpBKpRpjFovFTf7RUF1drXHoLj09HS9fvoSVlRVYLJbK8HJtba1Km7OwsGDaj1AoVBoyVYfH46kkjHK5XOtf6mitetBk6tSpzANO169fV+qRq1/WxtpNSUmJ1vv7u88/QgghmumU2BUUFOjU68Xj8Zgh1JqaGjx8+LB5UWpJLpdDIpE0OTT55MmTFu8rMzMTw4cPh7m5OTMc26dPH5ibm0MqlSI9PV3nn+RS96Ln1NRU3Lx5ExMmTIC3tze6dOnCPPAwduxYuLu7a/XQAlDXa6puH9pQPEyg6QELoK4n7dmzZ01ui8ViNTuOV626urrJ9lNaWoq8vDyVOaO6ehX1EBYWhj59+oDFYqGoqAg7d+7UuGxr7/vvPP8IIYSop1Ni13AI0t/fv9Gf9JowYQK6dOkCQLkHS4HD4WicO2dra8u8AFkikeDFixca91NSUoKamhpwOBycO3dO7VOLre3MmTPw9/eHi4sLunTpgkGDBsHJyQmGhoYoLS1VGmLKz8+HRCJhng5Up34SXFtbi0ePHjHficViHDhwAAcOHACPx8PIkSMxfvx4ODg4wNraGgEBAY0mdqWlpRAIBMyTtOp06NCBGU5Tt251dTUiIyNx4sQJrepHnfrHqWPHjmqX4fF4jfb6AYCRkREcHBzUfjdo0CBmqLG6uhpPnz4Fn89vdHuPHj1CbW0tOBwOsrOz8Y9//EOL0jRfa9VDQx4eHhg1ahS4XC6qqqpw+PBhleHq+mVVHHN1f4Boiqup8vxd5x8hhBD1dHp4orCwECkpKaitrYWpqSmCgoLg4eGhdtnBgwcz83wkEgkuXbqk9gbSt29ftUM348ePZx62ePbsGTIyMjTGdevWLSbxc3JygkAgUPqex+Phs88+Q1RUFLZv347JkyerbIPFYqm8AqMpt27dQm1tLczNzTFkyBAmib1z545SonXnzh1maKtz587w9/dX2VZISAjTC/rs2TPcvHkT3t7eOHjwIOLj4/HDDz8wN+GEhAT8+OOPzNB2Uzfh27dvo7a2Flwul/n92/p4PB58fHzUJnaKdY2NjTFgwACV7z08PPDdd98hKioK3377rcrDJA3rq/5xUlcP7777rsbkV0HxdGrDcgCAj48Pk9gVFhZq9TNwN2/eZHoa7e3t1bbHhQsXIioqCjt27MCcOXOa3GZjWqse6uPxeAgODgafz4dMJsPFixfx+++/qyxXv6x2dnYICQlRWcbf319ljlxjWuP8I4QQ0jp0y2QAxMTEMK+4sLGxwaeffoqVK1cyrzAYOnQo1q5di48//pj5dYqMjAzExMSo3Z6FhQWWLl2KGTNmgM/nw9HREWvWrEFAQAAMDQ1RXV2Ns2fPNjqsmZqaysTUuXNnfP7558zNmc/nY8WKFRg6dCgcHBxgbm6OrKwsZl3FDalNmzYYNGiQ2mRBk4sXL6K4uBgGBgYYOnQozM3NIZFIcPPmTaXlCgsLkZycjJqaGpiamiIsLAyzZs0Cn8+HQCDA4sWLMXHiRObddxcuXEBhYSHu3r0LsVgMHo8He3t7zJ07FzweDzweDx4eHmjTpo1SGTQ5deoUM7eua9euWLt2LfPKDi8vL2zatAl9+/ZtdF0WiwUvLy+sW7eOqaP+/fvjgw8+gLOzM7p27YrKykrcunVLYxz1j5OZmRnCwsLw4YcfMvWwatUqTJo0SenltprY2Njgn//8JwIDA5n6+OabbzB06FCwWCxUVFRo/eLm+n+wWFhYYMGCBZgwYQKAuqQkPDwcfn5+cHBwQIcOHZjX3TRXa9aDwrvvvgtnZ2cAdQ9F7N+/v8mycrlcTJ48GatWrYJAIACfz8eHH36IsLAwmJqaNqs8upx/s2bNwtGjR3H06FHMmjVL6/0RQgjRTOenYsViMb755hssXboU7u7uMDU1xejRozF69GiVZaVSKZKTk7F582a125JKpXj58iXatGmDGTNmYMaMGUrfy2QynD9/XmnytyYxMTGwtraGo6MjBAIB1q1bp7JMRUUFDh48qPRC4dzcXAiFQnA4HEycOBETJ05U+uWJxmRnZyMvLw/W1tbMjVDdkDNQ9xCEra0thgwZAnNzc4SGhiI0NFSlPs6ePYvo6GgAdTfh8+fPMy8H9vf3V+ndqa6uxuXLlxuNUyQSITY2FmFhYTA3N4ednR2WLVuGZcuWKW1HLpervL9MJBLh119/xZw5c2BhYaF2crxcLse9e/canc+lEBMTA1tbW+YmHxQUxPz6gKIOysvLmaRVnZqaGrx48QKdOnXCggULmF8MUZBIJEhISEBSUlKT8dSPq0uXLhgwYAD4fD4WLVqERYsWKS1TXV2N+Ph4nbbb2P4aqweZTNZkPdTXq1cvJhF0cHDArl27lL6v/8sTMTExsLe3h7u7O4yMjDBq1Cilp4AVv7Shy1Bwc84/ekExIYS0Pp177IC6p+lWr16NrVu3qn2PmkQiQU5ODr799lt8+eWXGnvbZDIZjhw5grNnzyq9s0sul6OsrAyxsbFaJVhAXQKyfv16nD59Gi9fvlTZz927d7FhwwaVOYG7du3C6dOnUVFR0eiDAZqkpaWhsrKSifvWrVtqh//EYjHWr1+P6OholJSUKO1LLpfj8ePH2L17t8r8pN27d2Pbtm0oKipSWaekpAS7d+/WKvFNSEjAhg0bcPfuXchkMuZzmUyGe/fu4YcfftDY83fixAl89dVXyM7ORk1NjdJ3ih7Vzz77TKvfjBWJRPjss8/UHnNFeZrqEaupqcEvv/yC69evK8WjqMfo6GgmOdaWWCzGhg0b8Pvvv6OsrEylrouKirBt27ZW+9mrxuqhrKwM+/bta3HPoCZisRhffPEF4uLiVJ68raioQFxcnNav0lFozvlHLygmhJDWxxIKhbpnM2oofoT82bNnzXo3Vf0fVG9sG8uXL9f4W7Hq4qn/g/FvEsWPrDf8ofvGCAQCdOvWDQYGBkq/JKArPp8PZ2dnsFgsrfetoO6H75tL22Ou8M0336j8Tmn9bbSkThpqzvFpCU9PT7Rp06bZ509r7Fub46nuGKij7fmnmMJB77MjhJDW0awXFKvT0guzWCxWO4TZXG/6jSInJ0fnJEQkErVKgvH06dNmDye25nFqjW21drtRaM7xaYmWJMhv4r61Pf/e9POUEELeNs0aiiWEEEIIIW+eVuuxe9Vmz54Na2tr5ulNqVSKsrKy1xwVIfrP1tYWEyZMQPv27ZnXoDT1bklCCCGvx1uT2DV8b1lRUZHSD7UTQl4NPp+PYcOGMb93LJfLkZub2+TT2IQQQv5+b01iV1VVBbFYjOrqaty4cQOHDh3S6uWzRH8o2kBlZSVqa2tfdzj/M2pra1FZWcn8fu21a9fw888/v+6wCCGEqNFqT8USQgghhJDXix6eIIQQQgjRE5TYEUIIIYToCUrsCCGEEEL0BCV2hBBCCCF6ghI7QgghhBA9QYkdIYQQQoieoMSOEEIIIURPUGJHCCGEEKInKLEjhBBCCNETlNgRQgghhOgJSuwIIYQQQvQEJXaEEEIIIXqCEjtCCCGEED1BiR0hhBBCiJ6gxI4QQgghRE9QYkcIIYQQoicosSOEEEII0ROU2BFCCCGE6AlK7AghhBBC9AQldoQQQggheoISO0IIIYQQPUGJHSGEEEKInqDEjhBCCCFET1BiRwghhBCiJyixI4QQQgjRE5TYEUIIIYToCUrsCCGEEEL0BCV2hBBCCCF6ghI7QgghhBA9QYkdIYQQQoieeCMSO4FAAD6f/7rDIK8Aj8eDp6fn6w7jreLu7g5bW9vXHQYhhJC30CtL7MLDwxEZGdnoMkuXLsXRo0exZcsWODs7Y926dThy5AiCg4NfVViIjIxEeHh4s9YNDw/H7t274eLi0spR6Sc/Pz9s374dEyZM0Gm9yMhIfPnllzrvryXH9k3A5/Oxdu1aLFq0CO3atXvd4byVmtt2CCFEXxg2d0WhUIjPPvsMXC4X33zzDVJTU5W+53K5MDY21rj+O++8Ay8vLyQnJ+Nf//oXAKBt27YwNTWFSCRqblhNMjY2BpfLbda6XC4XJiYmMDRsdrW1Kjc3NyxbtgynT5/Gnj17Xnc4DB6PhyVLlqBv3744f/48oqOjdVrf2Ni40bbT2HrNPbav28SJExESEoL8/Hx89dVXyM7Oft0hvZWa23YIIURfNDtD6du3L8zNzcFms+Hp6amS2DXFzs4OAJCWlsZ8dvjwYRw+fLi5IZE3RJcuXVBYWIiffvoJT58+fd3hvBWkUin27t2L48ePv+5QCCGEvMWandh5eHjgwYMHqKqqgpOTE3g8HsRisVbrhoeHY8yYMeBwOFi8eDHmzJmDH3/8EZ06dcLw4cMRERGBzMxMhIeHo1evXrhw4QLGjx+PNm3aQCqVIisrC1FRUUo9e0KhENOnT0fv3r1hYGCA8vJyHDlyBHw+H/369cOWLVuQmZmpVXyatqWOn58fAgIC0KlTJ7BYLDx58gRHjhxpMkEVCoUIDQ2FUCgEh8NBZWUlLl++jKioKKYe+Xw+Zs+ejQEDBjDLnD59GlFRUZg2bRqCg4PB4/EQHByMSZMmoaCgAAsWLGh2XNOmTcPw4cORmJiIUaNGwdramqnvffv2AYBSvRQXF+M///mPSjLSp08fDBs2DEFBQZDL5Xj48CHi4uJUlvPz88OkSZNgbW0NuVyO/Px87N27V2kZb29vzJ49G8eOHcP+/fuVvvvyyy9haWnJlFmd4OBg+Pr6okOHDo3Gokn//v3x/vvvw87ODiwWC48fP8bBgweRmJjILKPNsWzYlp8/f650rCZMmABra2t8+OGHTD3MmjULJSUlWLNmjcb62rlzJzIyMjTG3zC26upqpKWlITo6Winp1nQsGsYQGRmJ27dvo6CgAOPHj0eHDh0glUohEomwb98+pT/UACAkJETl3D1x4gTCwsJw/fp1nD17FsuWLUP79u2V1isuLm70nNWm7dSPwdfXF+3bt4dcLkdhYSH+85//4Ny5cwCAoKAguLq6YufOna90tIAQQv4OzUrsPDw80LlzZ1y6dAnPnz+Hv78/hg4dipMnT2q1/h9//AE2m43hw4fj0KFDKCwsxM2bNyEQCJSGOrlcLjp37gx/f3/88ccfuH79Ovr164cJEyZg1apV+Mc//gGxWAwPDw8sXboUUqkUhw4dwqNHj2BjY4PAwECIxWKdhk+b2lZ9YWFhCAwMxO3btxEbGwsAGDp0KMLCwmBpaalxCFKxj5qaGhw8eBCFhYXo06cPfHx80LlzZ6xbtw5isRiLFi2Ck5MT4uLicPfuXQwcOBDjxo2DRCJBUlISxGIxpkyZgpSUFGRlZaG8vLxFcXG5XFhaWmLy5Mm4dOkSvv32W7i4uCA4OBhLlixBbW0txGIxtmzZAgCYNGkS5s2bB0NDQyQkJAAAVq5ciXfeeQdpaWnMvkeOHIn58+ejU6dOzL7DwsIwadIk3L17F/Hx8aiqqsLAgQOxcuVKsFgslJSUAAAMDQ1hYmKidoi1qWE3bWPRRCgUYsmSJRCLxdi+fTtqa2sxfvx4zJkzB8XFxUhPT9f6WCracmBgIDIyMnDhwgWt6kHR5hQJrkgkwv79+2FsbIzg4GAsXLgQ69evR2FhoUr8itgqKyuxf/9+PHz4kImtU6dOWL16NcRisdYxKOq8Z8+eGDx4MM6dO4e8vDy0adMG48aNw+rVq7F7926mLaxatQrDhg1DWloaLl++zNT/woULweVyweVykZeXh+joaOY4slgshISEoKamBqWlpWqPi7Ztp34MV65cQXR0NMzMzDB69GgsXrwYbdq0QUJCApydneHq6gpXV1dK7Aghb71mJXaenp5gsVhITU1FWVkZfHx84O7urnVil5OTg0GDBkEmk+HRo0dISkrSuCyXy8W+ffvw22+/AQAyMzMhkUgQHByM0aNH4/DhwwgICAAAfP/990pDwllZWVi+fDnkcrnWZdN2W0KhECNGjEBqaqrSZO3ExER88skn8PX1xc2bN9UOUQcEBEAikeDzzz9nbiSXLl1CUVERZs6ciWnTpmHnzp3o3Lkz8vLymJ6IS5cuwc7ODj169MCePXtgaWkJqVSK58+f49SpUy2OCwBMTExw7Ngx5sGXnJwcyOVyzJo1C/n5+Vi7di1zo8/Pz8cXX3yBITK0X4QAACAASURBVEOGICEhAd7e3vDw8MD58+exadMmZpsnTpzAmjVrMGbMGNy8eRMVFRUYMWIEsrKymMQHAE6dOoXZs2cjKChI6+OlibaxNDaFwNbWFiYmJkhMTMSJEycAAFVVVZg3bx6cnZ2Rnp6u9bEEAA6Hg5iYGPz+++8A/nustKkHgUAAFouFEydOMOeLqakpJk6cCKFQqDaxU8S2fv16pdgeP36MGTNmYNq0abh48aLOx8LW1hbR0dFMAgfUTalYs2YN/Pz8cPr0aQwcOFBj/X/yySfw9vYGAIjFYibJBep6Ntu1a4fo6Gi1ZdKlzkaMGIEBAwYgISEBP/74I/P5uXPnsH79ekyaNAnp6elYt26dyn4IIeRtpfNTsTweD05OTigqKsLly5eRnZ0NkUgER0fHV/KKhvLycty5c0fpszt37qCqqgrW1tZwcXGBg4MDbt26pXKTTk1N1Xr4FYBO2+rfvz9MTExw9epVle2kpaXB0NAQjo6Oje6jYe9AQkICysrK0L17dwDAgwcP4ODggMmTJzPLLFmyBJ9++qnGMjQ3LoWqqiqV+r537x5evHiBvLw8pd4bkUiEJ0+eMK+qcXZ2hkwmw/nz51W2e/78ebDZbLi5uaF///4wNTXFpUuXVHpBT548iSdPnmiMT1vaxtKYwsJCVFZWwtPTE66urgCA5ORkzJgxAz///LNOxxIAKioqkJuby/xbl3oQiUSQy+Xw8fGBQCAAAMTGxmL69OlMUl9fY7GdPHkSW7ZswYULF5p1LPLz85WSOkV8GRkZsLKyYnq/5HK52vo/e/Ys07tcn5eXF7y8vJCamqqyfQVd4nV1dYVUKlU5F8RiMW7dugVzc3P07NlT7X4IIeRtpXOP3cCBA2FlZcX0YADA1atX0atXLwwZMgQHDx5s1QDFYrFKciaTycBms2FmZgZDQ0NIpVIUFRWpXb+yslLrfemyLQMDAxgbG2PBggWYP3++0nJsNhtsNhsGBgZq98FisZinghsyMjJihpJ27tyJefPmISwsDDNnzsS9e/dw8uRJHDt2TGMZmhuXglgsxrNnzzR+3xgul4sXL16onfNVXl6O2tpamJmZobq6Gi9fvkRBQYHKcoWFhaitrW3W/psTS2Oys7OxZ88eTJ06FV9//TUqKiqQkZGB+Ph4ZGRk6HQsAdW2bGBgoHU9JCUloX379ggMDERUVBSKi4tx7do1xMbGqh0+VLRldQ+v1O8lGzRokM7HQtP5UVFRAQMDA5iZmYHNZqO8vFxt/VdVValsl8fjISgoCBUVFSpzKevTpc7YbDYsLCywdu1atduRSqWNnguEEPI2alZiZ2JigkGDBsHDwwNA3QXU2NgYffr0afXEThuGhoYaX3Cs64Vbl21VVlbihx9+wJkzZ3TaB1A3NPrdd981uoxIJGJ650aMGAE/Pz8sWLAAQqEQmzdv1rheS+JqKR6PB0dHR6Snpyt9bmxsDDabDYlEwiynrp55PB5YLNbfGktjEhMTkZiYCD6fj1GjRmHUqFH4/PPP8dNPP+Hx48fMMk0dy8Zi1LYeYmNjERsbC4FAAF9fX3h7e8PNzQ2bN29WKSNQ15YtLS1bNQYAGrfJYrEgl8shlUoB1A0VC4VCXLt2TWk5Nputst0ZM2ZAIBAgJiamyXluusRbUlKCjRs36tRzTwghbzOdhmJtbW3Ro0cPFBQU4M6dO8jLy0NeXh7u3r2L3NxcdOvWrcnhrdaWnp6Ohw8fokePHipDwQKBAE5OTq9kW1lZWaipqVE7lBMWFoaYmBgMHjxY4z4EAgF4PJ7Sdx4eHti7dy/mzZsHW1tbzJ8/H76+vgCAM2fOYMWKFcjOzkbv3r01lqG5cbWGu3fvgsPhoFevXirfubq6gs1m49atW0yMffr0UVlO8QSrwrNnz1BTUwMrKyul5Xg8XqMv8dU2lsYMHjwY4eHhEAqFePr0Kfbv349t27ahtrYWTk5OWh9LTXSpB19fX8yfPx+2trYQiUSIiorC3r17wePxmGHi+tLT01FcXIwePXqoxObt7Y1ffvkF8+bN0ykGha5duzJ/1Cko4qioqMCdO3eY+lf3Mu8BAwagbdu2zL89PDwwfPhwXL9+nZl/qIku8d69excGBgZKw+EKK1euxE8//QQHB4dG90cIIW8bnRK7IUOGwMLCAklJSdi0aZPSf3FxcTA0NIS7u/urilWjM2fOwMrKCsuWLYNQKATw3ycaTU1NX8m2UlNTcePGDfj6+iI0NJT53N/fH2PHjsWDBw9w6dIljfuws7PDypUrmZ4HoVCI999/HxwOB1evXkVJSQmcnZ0xdepU5sYtFArB5/OZ4b3a2loYGhrC3t6euXm3JK6WSkxMRF5eHiZPnqw0LzA0NBR+fn7Izs7GmTNnkJqaiuvXr2Po0KEIDw9nYvfz80NgYCBkMhmzbnp6Ou7fv49BgwbB398fQF0SsXjx4kbndGobi7+/P/bv34+QkBCVbRgZGeGdd97BlClTmBi7desGLpeL4uJiANodS010qYd27dph1KhRCAwMZD5TJCwPHz5Uu/0TJ06gQ4cOKrFNmzYNcrkcFy5c0CkGBbFYjDlz5qB///4A6l7Ls3LlSnTv3h1JSUkoLCxEYmIicnNzERAQoNQOQ0ND4e3tzQyZKl7XU1tbyzy53Bhd4k1MTMT9+/cREhICPz8/5vNZs2Zh8ODByMnJwb179xAUFIQvv/ySmbtICCFvM52GYvv06YOysjJcvHhR5bsrV65gypQpcHV1VekheNUSEhJgZGSEKVOmYOvWrZBIJGCz2bhx4wZSUlJ0SjY1bSszMxNXr15V6pGMiIiARCLBlClTMG3aNObztLQ0bNu2rdF9AMDUqVMRExPDJGgFBQXYtm0bM6y2Y8cOfPDBB/jqq6+YZe7fv8+8Uy4zMxOpqanw8fFBfHw8RCIRZs+e3ey4WkosFuObb75h5gWGhYWBzWZDJpMhOTkZ//73v5llIyIiwGazMWbMGIwdOxYymQwSiQR//PEHkzAobN++HYsWLcLChQvx4YcfgsViQSQS4fbt2zA3N29RLI6OjpDJZGrnginmtU2ZMgW//fYbpFIpWCwWkpOT8Z///AeA9sdSE031EB8frzRv78CBA2jXrh1Gjx6NMWPGAABqampw8uRJjU+j12/L9WO7f/8+tm7dyvy6hbYxKNy6dQscDod5mpTD4UAsFuO3335DTEwMU/+RkZH46KOPMH36dKYdvnjxAnFxcczPzDk6OqJLly6wsrJCRESE0vGLiIhQ+2CItm1H0QYWLlzI/AfU/UF09uxZ7NixAwDodSeEEL3CEgqF2r8L5C0gEAhgY2ODGzduaP3C5NbYlpubG7hcLlJSUnTeh729PbKysjT+SgOfz0fv3r1x//59nW88zY2rNSiS4KaSG22Xa2k9qNvHDz/8gMLCQmzcuLHR9R0dHdGhQwdcu3ZNY1vQ5lg2J0Z1y+l6TLVty03FsGvXLmRlZTFzPD09PVFWVoacnJxG96/tcrrSts4UMUgkEq2WJYSQt5XeJXaEaGvQoEGYO3cu9u3b91oeNHkbNUzsCCGEvFl0fo8dIfpCKpXi7NmzlNQRQgjRG83+rVhC3napqamN/vIEIYQQ8rahxI4QorWoqCiUlZW97jAIIYRoQHPsCCGEEEL0BM2xI4QQQgjRE5TYEUIIIYToCUrsCCGEEEL0BCV2hBBCCCF6ghI7QgghhBA9QYkdIYQQQoieoMSOEEIIIURPUGJHCCGEEKInKLEjhBBCCNETlNgRQgghhOgJSuwIIYQQQvQEJXaEEEIIIXqCEjtCCCGEED1BiR0hhBBCiJ6gxI4QQgghRE9QYkcIIYQQoicosSOEEEII0ROU2BFCCCGE6AlK7AghhBBC9AQldoQQQggheoISO0IIIYQQPUGJHSGEEEKInqDEjhBCCCFET1BiRwghhBCiJyixI4QQQgjRE5TYEUIIIYToCUrsCCGEEEL0BCV2hBBCCCF6ghI7QgghhBA9QYkdIYSQZhEIBODz+a87DEJIPQZ8Pn/d6w6itfD5fAwYMAAA8Pz5c62/U/Dy8sLWrVsxbNgwHDt2DC4uLvjnP/8Jc3NzZGZmYt26dfjHP/6BmpoaZGVlvdrCqOHp6QkzMzMUFxczn/F4PAwcOBCdOnVCUVHR3x4TIdpyc3ODt7c3PDw8YGZmhmfPnqGmpkZpGUdHR/Tu3Vvtd3w+H+7u7qisrIRYLNZp2f8FkZGR6NatG1JTU1t1u+que0uXLsWaNWswcuRI3L9/HytWrMCcOXNQVFSE/Pz8Vt2/Lhpes1+X8PBwfPTRR7h37x6ePHny2uJoqWnTpmHVqlUoLS3F/fv3m72d133v/F+jVz12ffv2xaJFi+Dt7d3kd25ubvj5558xc+ZMZpn79+8jIyMD2dnZAABDQ0OYmJiAy+UCAG7cuIHs7GyIRKK/oTSq5s2bh/HjxzP/5vF4WLx4MZYuXYoOHTq8lpgIaYqPjw/27t2LjRs3YuzYsRg2bBg+/vhj/PLLL/joo4+Ulh0/fjxWr16Nd999V2U7ffv2xYIFC9C3b1+dl/1fYGxszFyrWlPD694777wDLy8vJCcnY/LkyUhKSsL169eRnZ2NgoKCVt+/Lhpes18XLpcLExMTGBoa6rzu8uXLsWvXrlcQle5aUo76Xve9839Ny46WniksLMT69es1fn/48GEcPnz4b4yoceHh4fD09MShQ4eQkJDwusMhRIW/vz9mzZqFvLw8fPXVV8wfTTweD/Pnz8f48ePRpk0bbNq0SWk9Hx8fZGZmatX7pMuyRHcNr3t2dnYAgLS0NOazNyURIW+mN+3eqe/+JxO7adOmITg4GDweD8HBwZg0aRIKCgqwYMECREZG4vbt24iIiFC73vDhwxEREYHhw4dj1KhRKsucOnWKWVcoFGL69Ono3bs3DAwMUF5ejiNHjoDP56Nfv37YsmULMjMzERkZiTt37sDExAQDBgzA2bNn1e6/vvDwcAwaNAjx8fGIiYlR+k4oFCI0NBRCoRAcDgeVlZW4fPkyoqKimGGp8PBw9OrVCxcuXMD48ePx/PlzLFiwAADg5+eHSZMmwdraGnK5HPn5+di7dy9mzZqFkpISrFmzRuNyO3fuREZGhsaYe/XqhaioKISGhqJHjx4wMDBAcXExTp48iQMHDigtr20cjdVfSEgIkzxIpVJkZWXhxIkTCAsLw/Xr1xut55CQEPj6+qJ9+/aQy+V4+PAh4uLicPz4cQB1wz7h4eG4cuUKunXrBkdHRxw6dAj79+8Hn89HWFgY+vfvDyMjI9TU1ODGjRuIiYlR+quVz+dj9uzZGDBgAHOszp49i4qKCowZMwa7du1CUlJSo8erYR3Xb1sKLi4uWLZsGVNmRVtOTEzEqFGjmjyGzalHW1tbTJo0Cfn5+Vi7dq3SkKhYLMa3334LExMTeHp6wtvbG0lJSQCAR48eQSKRICgoCDdv3mx0KFWXZetTlH/37t3w8fFB3759weFwUFFRgeTkZOzdu1dpW61xLmvbntXx8/NDQEAAOnXqBBaLpfGcqU/btqVuudOnTyMqKkqprhTXvTFjxoDD4WDx4sWYM2cOfvzxRzg7O6NXr15KbVLbmLVpW42da03h8/l477334OnpCRMTE9TU1CA7Oxu//PIL84eGpuPT2PUM0NwuNB3Dpo5/ZGQk7O3tYWhoiPj4eNTW1iI2Npa5pryqcmhqK1VVVWrL3NT9paH6bSgzM1PletamTRvU1NTg6tWr2LVrFwQCAd5//33Y2dmBxWKhsLAQ0dHRSn9MaNu+GztODc9fbcvX8DxXd968Tm9MYrdo0SImUTp16hS+//77V7avixcvQiwWY8qUKUhJSUFWVhbKy8sBND6cUb9b+o8//sDt27eZ7xwdHTFq1Chm/p6HhweWLl0KqVSKQ4cO4dGjR7CxsUFgYCDEYrFS97axsTEGDRoEiUSCEydO4Pz5843GHxYWhpEjR+Lo0aOIjo5W+k6x35qaGhw8eBCFhYXo06cPfHx80LlzZ6xbtw5isRhcLhedO3dGYGAgMjIycOHCBWbbkyZNwt27dxEfH4+qqioMHDgQK1euBIvFYhq2t7c3Zs+eDZFIhP3798PY2BjBwcFYuHAh1q9fj8LCQrX117ZtWyxfvhx//fUXduzYAQAYOnQo3nvvPdjZ2eHrr7/WKY7G6m/VqlUYNmwY0tLScPnyZQDAyJEjsXDhQnC53EaHa1atWgUvLy9cvHgRFy9ehJmZGUaPHo158+bB1NQUsbGxMDQ0BI/Hg5+fH8rKyhAbG4vLly9DIBDg008/haWlJY4cOYKcnBx0794dvr6++PTTT7FhwwaIRCJmufbt2+PUqVPIy8uDpaUlxo4dCxaLBR6Px7QRTcdLXR2rGzppOETF5XJhaWmJyZMn49KlS/j+++/h6OiIgIAArFixAhs2bGBuFs2txyFDhqBNmzaIi4vTeMH/8ssvVT6TyWQ4cuQIpk+fjpCQEJU23txl6+NyuTA1NcXcuXPx/Plz7NmzB1VVVXB3d8e4ceMgEAjwxRdfQCwWt8q5rEt7bigsLAyBgYH4888/ERsbC6DunAkNDUXbtm2Z86g+XdrWokWL4OTkhLi4ONy9excDBw7EuHHjIJFIsGfPHpXrHpvNxvDhw3Ho0CEUFhbi5s2b6NevH4yNjXWOWdu2pelca4pAIMDq1avRvn17JCYmMvUwbtw4fP755/juu++QmprarOtZU+2i4THU5vjHxMRg9OjR6N69O/bt2wepVIq8vLxXWo6m2gqLxVIpc1P3l4YaXpcU1zN/f3+cPHkSKSkpGDx4MCZOnAg+n4927drhr7/+wp49e9C+fXtMnToVy5cvZ8qpS/vW5fzVtnyK87ysrAw7duxAcXExxo4di4CAABgZGTXZMfOqvRGJ3aJFizBhwgTm34r/f1XJnUgkgqWlJaRSKZ4/f45Tp07pvI2cnBzk5OQAqMvw33//fdy5c4e5iAUEBACoK0P9IaKsrCwsX74ccrlcaXvV1dX4/PPPm5yD0KVLF3h5eeHSpUv46aefVL4PCAiARCJR2talS5dQVFSEmTNnYtq0adi5cycAgMPhICYmBr///jtTjhEjRiArK0vpBD116hRmz56NoKAgZj8CgQAsFgsnTpxg/ioyNTXFxIkTIRQK1V5AgLq/spKSkvDVV18xn504cQKffPIJPDw84O3tjUePHmkdh6b6GzFiBDw8PHD+/HmlYT7FvtTNw1QYMWIEBgwYgKNHj+LHH39kPj937hw2btyIcePG4cqVKwDqbjhFRUVYvXo1E+fixYvRtm1bbN26FcnJyQCAy5cvIycnB8uWLUNoaCg2btzIXMSio6OVhtKvXLmCNWvWqCRnDY9XS5mYmODYsWOIjIwEAGRmZqKkpATz58/HsGHDkJ2d3aJ6tLW1RU1NTbPm1SQkJMDZ2RkjR47EzZs3Gx1m1WXZ+tq1a4dbt24p9SYq2pi/vz8mTJiAAwcOtPhc1uW8akixbmpqqlISnJiYyDy8kJ6erlJmXdpW586dkZeXh7179wKou17Y2dmhR48eKvHk5ORg0KBBkMlkePToEXPuNydmMzMzndqWunOtKRMmTACfz8fu3btV6uGLL77Au+++yyQKul7PtG0Xuhz/lJQUeHl5oba2Vum+FB4e/srKoUtb0eX+0hQul4t9+/bht99+A1DXtng8HsaPH49r164ptR2xWIzFixdjyJAhSE1N1TlmQLvzV5fySSQS/Otf/2KWu3btGjZs2ID+/fvD1tZW4z3w7/BGPDyhbkhT3WdvqqCgIBgaGuL//u//IBaL4eLiAgcHB9y6dUvlgpuamqr2aa2HDx9qdQPs3bs3Hjx4gG3btql8V3+/DbeVkJCAsrIydO/enfmsoqICubm5zL/79+8PU1NTXLp0SeXCefLkSaWnu0QiEeRyOXx8fCAQCAAAsbGxmD59eqOJckVFBc6dO6fy+aVLlwAAPXv21CkOhYb15+rqCrlcrrb38+zZs0wPrTqurq6QSqW4evWq0udisRjbt29HdHQ0SkpKmM9FIpFSnM7OzigoKGCSOoXU1FQUFBSga9euzHL5+fkq8yNFIhGuXr0KqVSq9HnD49VSlZWVSkM4QN2Fsby8nHmFRUvqsaX2798PsViMoKAg8Hi8VltWobq6mum9ry85ORkvXrxA9+7dW+Vcbk57rr+uiYmJSlsE6np3IiMj8ddff6l8p0vbevDgARwcHDB58mTmsyVLluDTTz/VGFdjtI25OW2r4bnWlN69e6OgoEBtPaSlpcHGxgaDBg3S+XqmS7toyfF/1eUAtG8rut5fmlJRUYF79+4pfXbnzh2IxWKV61xycjLKy8vRuXPnZsfc1HHStXwPHjxQWS43NxdcLhddunTRuh5ehTeix+5tFhgYiH79+uHIkSNMwzE0NIRUKtX4+pHKykqVz54+farV/tLS0iAUCrFu3TqVbm9DQ0OwWCzmqbWGjIyMlBISsVis1LANDAzw8uVLtU+2FRYWora2lvl3UlIS2rdvj8DAQERFRaG4uBjXrl1DbGxsowlqeXm52rke5eXlqK2thZmZGaqrq7WOQ6Fh/bHZbI37qqqqUruN+uu+fPlSJekBlHtqAaCmpgalpaUq6wuFQsTHx6usz+Fw8ODBA2Y5TW2kuroaMplM6bOGx6ulKisrVWIXi8WQy+Vo27YtE2Nz61Emk4HFYoHNbt7fjyKRCPHx8ZgxYwaCgoLw8OHDVllWQVMby8nJQXV1Ndq2bdsq57Iu51VDBgYGqKysVHt9EIlEGs81XdrWzp07MW/ePISFhWHmzJm4d+8eTp48iWPHjmmMqzHaxqxr21J3rjWFy+WqTXyBusTCwMAAZmZmOHXqlE7XM13aRUuO/6suB6B9W9H1/tKUly9fIj09XevlmxuztsdJ1/Kpa99yuRxcLhdmZmY6lae1vRGJ3alTp5SGYhWf6erFixeora2FkZFRa4XWKIFAgIkTJ0IkEuHXX39V+s7Q0FDjizsNDAyavc/i4mJER0dj1qxZWLFiBb755huVvwITExPx3XffNWv7PB5Pbdw8Hk9prgVQ95dgbGwsBAIBfH194e3tDTc3N2zevFnjCWtiYoJu3bqpJChsNhssFos5IXWJQxNTU1MIhUJcu3ZN7b4aw+Px4Ojo2OwLT2ZmJj7++OMml9P0mpqGc1tep+bWY15eHry8vNCzZ0+VdRUEAgEcHBxw7949tTcexTDr6NGjmxyC1mVZoG4+nCKBrU/RxhR/9bfGudyS9mxiYgJLS0ut9lOftm1LJBIxvXMjRoyAn58fFixYAKFQiM2bN+u8X11ibsk5qi1Nx87IyAhyuRwSiQSA7tczXdpFa1zPXlU5AN2uQy25v7QmbWPW9fx9U8rXEm/EUOz333+P+Ph4VFZWorKyEvHx8c2aX1dQUACxWMw8jl+fQCCATCbT+FdPc0ybNg3GxsaIjY1VSq7S09Px8OFD9OjRA7a2tipxODk5tWi/CQkJOHz4MNzc3BAeHq6yX4FAoDIc5eHhgb1792LevHkat5uVlYWamhr06dNH5TtfX1+lE8nX1xfz58+Hra0tRCIRoqKisHfvXvB4PLi6umrch4WFBTw8PFQ+HzBgALhcLvLy8nSKQ5O7d++Cw+HAxcVF7b7U3dAV8vPzweVy0atXL5Xv1q5di59++gkODg4a18/Ly0PHjh2ZoRAFW1tb7Nixg7mJ5uXlwdbWFm5ubkrLKeqwOe+OKi4uBofDUamjDh06aD1EWV9L6jExMRGPHz/GyJEjVeoCqCvnwoULMX/+fFhbW2vczv79+1FbW4uRI0c2Ga8uyyqeyG3I19cX7dq1Q25ubqucyy1pz7m5uZDL5ejdu7fKdwsXLsS+ffswePBgle+0bVu2traYP38+fH19AQBnzpzBihUrkJ2drXaf2tA25pa0LW3l5eWhU6dOEAqFSp/zeDwIhUI8e/YMV69e1fl6pku7aI3r2asqh2Lb2rSVlt5fWpOuMWtznN6k8rXUG5HYAXXJnb+/P/z9/Zv90ERhYSGuX78OV1dXLF68mDk4fn5+GDVqFPLy8pj5XbW1tTA0NIS9vX2zbnj+/v7w8PBAcnKyylwqoO4CaWVlhWXLljEno1AoxJIlS2Bqatqs8tUXExOD+Ph4DB06FKtWrVLar52dHVauXMn8laJ4uIPD4aid96KQmpqK69evY+jQoQgPD1eqv8DAQKXhm3bt2mHUqFEIDAxkPlPMP2hsGOzFixd45513EBoaynwWGhoKPz8/5OTkID4+Xqc4NElMTERubi4CAgJU9uXt7d3o8MfRo0eRm5uLiRMnws/Pj/l87ty5GDBgAP7880+VuSEN921kZISlS5cyx57P52P+/PmwsrJieicSExMhl8uxcOFC9O/fn1lu5cqVsLW1VZljp42MjAxIJBIEBAQotbvJkycrPbWorZbUo1gsxp49e2BsbIwvv/xSqVfey8sLmzZtglAoxLFjxxp94EEkEiEuLg62trZNnqu6LPvixQs4OTmptLGQkBA8efIEJ06cANDyc7kl7Tk5ORlXr17F8OHDleo/MDAQI0eOxF9//cXMT61P27ZVUlICZ2dnTJ06lbnxC4VC8Pl8nYbVmhNzS9qWthITE2FgYIDw8HCmfIp6cHBwwNmzZyEWi5t1PdO2Xeh6/GUyGdq2bav08MirLIcu16GW3F9ak64xa3v+vinla6k3Yii2NUVERKC2thajR4/G2LFjUVtbCzabjYyMDGzfvp1ZTvFCUx8fH8THx0MkEmH27Nla76dnz54wNzdHQEAA89QNUJf1r1ixAgkJCTAyMsKUKVOwdetWSCQSsNls3LhxAykpKXB3d29xWaOjo2FgYIBx48YhPDwcERERzGTSqVOnIiYmhklgCwoKsG3btiaHFiMiIsBmvAWz+wAAA8pJREFUszFmzBiMHTsWMpkMEokE8fHxSvMODhw4gHbt2mH06NEYM2YMgLo5MCdPnsTJkyc1br+8vBzHjx/HlClTMG3aNAB1wy7Xr1/H1q1bdY5DE7FYjMjISHz00UeYPn06s68XL14gLi5OZehf07qLFi3CggULwGKxmFdYNPVKjdTUVERERGDmzJnYsmULcwyKi4uxZ88eJmFITU3Frl278N5772Hjxo2QSCQwMDBAbm4u/vjjD6YXRRfp6enYtWsXwsLClNpdWlpas3pAWlKPijJu2LAB06dPxwcffICPPvoIMpkMhoaGyM/PR2RkJPNewMb8/vvvcHZ2Zn4WsDWWlUgkOHz4MCZMmAA/Pz/I5XIYGhrizp07+OGHH5in2lrjXG5Je1asO23aNKb+gboHjjS9M0vbtiUWi7Fjxw588MEH+Oqrr5i2ev/+fezbt6/JcrUk5pa2LW2kpqZi8+bNmD17Nr7++mvU1NSAw+Hg+fPniImJYd5i0JzrmaZ2kZmZiatXryr1July/C9evAgXFxesXr0aK1euxMGDB7Fnz55XVg5NbeWvv/7C6dOn4ePjo1RmoPn3l9aiy7VTl/P3TSlfS7GEQqG86cXeTo6OjuDxeK/9YAgEAtjY2ODGjRt/6+9WCgQC2NvbIysrS+uHM+pTXJiaqj83NzdwuVykpKQ0utzy5cvRu3dvJoF2dHSEhYVFk+tpG0djPD09UVZWpvTgw9+xLp/PR+/evXH//v1GHyrh8/no1asXbt++3axjpY6joyM6dOiAa9eutVq7a0ldvElmzpyJkSNHYsuWLUhPT9f6HG2Nc7kl7bk562rbtrRtq7rSNuZX3bZ4PB769u2LoqKiRsun7fWsPl3aRUuvZ6+yHLpch1p6f2ktusZc/zgtX74cAwYMwKZNm1SOx5tSvubQ68SOvFkaJnaEvC4NEztCiH4KDQ1F3759ER0drfKmgw0bNsDa2hqLFi36WztdXrU3Zo4dIYQQQkhrevDgAbp164awsDClp2Pnzp0LFxcXpKWl6VVSB+jhHDtCCCGEEOC/71wNCQlBTEwMysvLYWxsDENDQ5w+fVrlt9b1AQ3Fkr+NtnPqCHnVXte8V0LI6+Pp6Yk2bdowv8HbmnNJ3ySU2BFCCCGE6AmaY0cIIYQQoicosSOEEEII0ROU2BFCCCGE6AlK7AghhBBC9AQldoQQQggheoISO0IIIYQQPUGJHSGEEEKInqDEjhBCCCFET1BiRwghhBCiJyixI4QQQgjRE5TYEUIIIYToCUrsCCGEEEL0xP8D75l5OODL4mYAAAAASUVORK5CYII=)"
      ],
      "metadata": {
        "id": "ncHcPC2GY3dM"
      }
    },
    {
      "cell_type": "markdown",
      "source": [
        "## CNN en Keras"
      ],
      "metadata": {
        "id": "bKPX64lcY5e-"
      }
    },
    {
      "cell_type": "code",
      "execution_count": 1,
      "metadata": {
        "id": "3DQc1n0EYu9L"
      },
      "outputs": [],
      "source": [
        "import numpy as np\n",
        "import matplotlib.pyplot as plt\n",
        "import pandas as pd\n",
        "from sklearn.preprocessing import StandardScaler\n",
        "from tensorflow.keras.models import Sequential\n",
        "from tensorflow.keras.layers import Dense, Flatten, Conv2D, MaxPooling2D\n",
        "from tensorflow.keras.utils import to_categorical\n",
        "from tensorflow.keras.datasets import mnist"
      ]
    },
    {
      "cell_type": "markdown",
      "source": [
        "**Importa los datos**\n",
        "\n",
        "El conjunto de datos que utilizaremos aqui son los datos MNIST que se crean en Keras. Estos datos tienen un monton de digitos escritos a mano del 0 al 9. Esta tarea se trata de clasificar que digito es cada imagen. Esta es una tarea facil para hacer, pero es una muy dificil para una computadora"
      ],
      "metadata": {
        "id": "16iaSczUY9ZR"
      }
    },
    {
      "cell_type": "code",
      "source": [
        "# Get data - it is already split into training and testing sets\n",
        "(X_train, y_train), (X_test, y_test) = mnist.load_data()\n",
        "\n",
        "X_train.shape"
      ],
      "metadata": {
        "colab": {
          "base_uri": "https://localhost:8080/"
        },
        "id": "Mdl7aGTSY8Qu",
        "outputId": "c8bff8b2-f44c-43b0-d742-6f87c3c3d36f"
      },
      "execution_count": 2,
      "outputs": [
        {
          "output_type": "stream",
          "name": "stdout",
          "text": [
            "Downloading data from https://storage.googleapis.com/tensorflow/tf-keras-datasets/mnist.npz\n",
            "11490434/11490434 [==============================] - 0s 0us/step\n"
          ]
        },
        {
          "output_type": "execute_result",
          "data": {
            "text/plain": [
              "(60000, 28, 28)"
            ]
          },
          "metadata": {},
          "execution_count": 2
        }
      ]
    },
    {
      "cell_type": "markdown",
      "source": [
        "**Escala los datos**\n",
        "\n",
        "Queremos escalar nuestros datos entre 0 y 1. Esta es una opción común, ya que puede mejorar la velocidad. \n",
        "\n",
        "Puesto que nuestros pixeles son valores numéricos entre 0 y 25, simplemente podemos dividir el valor máximo para alcanzar esto. "
      ],
      "metadata": {
        "id": "SxT6wlanZU6H"
      }
    },
    {
      "cell_type": "code",
      "source": [
        "# Scale data between 0 and 1\n",
        "X_train = X_train / 255\n",
        "X_test = X_test / 255"
      ],
      "metadata": {
        "id": "2v-ETDpoZRoL"
      },
      "execution_count": 3,
      "outputs": []
    },
    {
      "cell_type": "markdown",
      "source": [
        "**Remodela los datos**\n",
        "\n",
        "Ahora necesitamos remodelar nuestros datos. Actualmente, cada imagen tiene 28 pixeles por 28 pixeles. Puesto que cada píxel solo tiene un valor de color, necesitamos remodelar esto a que sea 28x28x1. Si teníamos valores RBG (rojo, azul y verde), podemos remodelar esto a 28x28x3."
      ],
      "metadata": {
        "id": "ePMTcy5KZheT"
      }
    },
    {
      "cell_type": "code",
      "source": [
        "# Reshape data\n",
        "X_train = X_train.reshape(X_train.shape[0], 28, 28, 1)\n",
        "X_test = X_test.reshape(X_test.shape[0], 28, 28, 1)"
      ],
      "metadata": {
        "id": "NWTAPpb8ZiyX"
      },
      "execution_count": 5,
      "outputs": []
    },
    {
      "cell_type": "markdown",
      "source": [
        "**Formato objetivo**\n",
        "\n",
        "También necesitamos convertir nuestro objetivo a una categoría.\n",
        "\n",
        "Puesto que nuestro objetivo es **numérico (0, 1, 2, 3, etc.)**,  nuestra computadora va a reorganizar los dígitos más altos como de mayor valor numérico. Sin embargo, todo lo que estamos haciendo en este problema es clasificar cuál imagen es cuál. Un 9 no debe tener más valor que un 1 en este caso. Clasificar un 8 como un 7 no es mejor que clasificarlo como un 2. Ambos están incorrectos.\n",
        "\n",
        "Afortunadamente, Keras hace esto fácil para utilizar la clase to_categorical."
      ],
      "metadata": {
        "id": "q4qQwtKaZumJ"
      }
    },
    {
      "cell_type": "code",
      "source": [
        "y_train = to_categorical(y_train, num_classes = 10)\n",
        "y_test = to_categorical(y_test, num_classes = 10)"
      ],
      "metadata": {
        "id": "I6FPglf4Zpmq"
      },
      "execution_count": 6,
      "outputs": []
    },
    {
      "cell_type": "markdown",
      "source": [
        "##¡Ahora podemos crear nuestra CNN!\n",
        "\n",
        "**Paso 1:** definir nuestra estructura de red"
      ],
      "metadata": {
        "id": "8h1w_Yz4Z6uq"
      }
    },
    {
      "cell_type": "code",
      "source": [
        "# Step 1: Define our network structure\n",
        "# Save the input shape\n",
        "input_shape = X_train.shape[1:4]\n",
        "input_shape"
      ],
      "metadata": {
        "colab": {
          "base_uri": "https://localhost:8080/"
        },
        "id": "Kh18iPiSZ4wg",
        "outputId": "b2214b51-7eae-44bc-cae4-9ecb4ab4b52e"
      },
      "execution_count": 7,
      "outputs": [
        {
          "output_type": "execute_result",
          "data": {
            "text/plain": [
              "(28, 28, 1)"
            ]
          },
          "metadata": {},
          "execution_count": 7
        }
      ]
    },
    {
      "cell_type": "code",
      "source": [
        "# Sequential model\n",
        "model = Sequential()"
      ],
      "metadata": {
        "id": "wMzlTPdxZ-FT"
      },
      "execution_count": 8,
      "outputs": []
    },
    {
      "cell_type": "markdown",
      "source": [
        "¡Ahora podemos agregar nuestras capas ocultas! Utilizaremos una capa convolucional seguida por una capa de agrupación, una capa de aplanamiento y, por último, una capa de salida densa.\n",
        "\n",
        "Debido a que estamos haciendo una clasificación multiclase, la función de activación softmax se utilizará en nuestra capa de salida."
      ],
      "metadata": {
        "id": "NoLVJAp1aCsk"
      }
    },
    {
      "cell_type": "code",
      "source": [
        "# Convolutional layer\n",
        "model.add(Conv2D(filters = 8, # How many filters you want to use\n",
        "                 kernel_size = 3, # size of each filter\n",
        "                 input_shape = input_shape)) # What is the shape of your input features (we defined this above)\n",
        "# Pooling layer\n",
        "model.add(MaxPooling2D(pool_size = 2)) # Size of pooling\n",
        "# Flattening layer\n",
        "model.add(Flatten())\n",
        "# Output layer\n",
        "model.add(Dense(10, # How many output possibilities we have\n",
        "                activation = 'softmax')) # What activation function are you using?"
      ],
      "metadata": {
        "id": "qzl5MtVwaBRK"
      },
      "execution_count": 9,
      "outputs": []
    },
    {
      "cell_type": "markdown",
      "source": [
        "**Paso 2: compilar nuestro modelo**\n",
        "\n",
        "Puesto que esto es un problema de **clasificación multiclase, utilizaremos la entropía cruzada categórica como función de pérdida.**También podemos rastrear la exactitud a lo largo del tiempo especificando esto en el parámetro de las métricas."
      ],
      "metadata": {
        "id": "ym9DKBwTaP7Q"
      }
    },
    {
      "cell_type": "code",
      "source": [
        "# Step 2: Compile\n",
        "model.compile(loss = 'categorical_crossentropy', optimizer = 'adam', metrics = ['acc'])"
      ],
      "metadata": {
        "id": "36uTlFG_aOJm"
      },
      "execution_count": 10,
      "outputs": []
    },
    {
      "cell_type": "markdown",
      "source": [
        "**Paso 3: ajustar nuestro modelo**\n",
        "\n"
      ],
      "metadata": {
        "id": "PcB8dKXVacLi"
      }
    },
    {
      "cell_type": "code",
      "source": [
        "# Step 3: Fit our model\n",
        "history = model.fit(X_train, y_train,\n",
        "                    validation_data = (X_test, y_test), \n",
        "                    epochs=20)"
      ],
      "metadata": {
        "id": "KZet4mjsaXvn"
      },
      "execution_count": null,
      "outputs": []
    },
    {
      "cell_type": "code",
      "source": [
        "# Visualize the loss\n",
        "plt.plot(history.history['loss'], label='Train loss')\n",
        "plt.plot(history.history['val_loss'], label='Test Loss')\n",
        "plt.legend();"
      ],
      "metadata": {
        "colab": {
          "base_uri": "https://localhost:8080/",
          "height": 265
        },
        "id": "s-jgIaSGaaKX",
        "outputId": "4f9ae5a4-e444-46cf-b4c2-6ee767ad619a"
      },
      "execution_count": 14,
      "outputs": [
        {
          "output_type": "display_data",
          "data": {
            "text/plain": [
              "<Figure size 432x288 with 1 Axes>"
            ],
            "image/png": "[encoded data removed]"
          },
          "metadata": {
            "needs_background": "light"
          }
        }
      ]
    },
    {
      "cell_type": "code",
      "source": [
        "# Visualize the accuracy\n",
        "plt.plot(history.history['acc'], label='Train Accuracy')\n",
        "plt.plot(history.history['val_acc'], label='Test Accuracy')\n",
        "plt.legend();"
      ],
      "metadata": {
        "colab": {
          "base_uri": "https://localhost:8080/",
          "height": 265
        },
        "id": "yliVZfZyal7d",
        "outputId": "93a77698-4f6d-4afa-e4e3-2096bb5f5365"
      },
      "execution_count": 15,
      "outputs": [
        {
          "output_type": "display_data",
          "data": {
            "text/plain": [
              "<Figure size 432x288 with 1 Axes>"
            ],
            "image/png": "[encoded data removed]"
          },
          "metadata": {
            "needs_background": "light"
          }
        }
      ]
    },
    {
      "cell_type": "markdown",
      "source": [
        "###**¡Podemos ver después solo 20 épocas, tenemos una exactitud de prueba de casi el 98 %!**"
      ],
      "metadata": {
        "id": "OWrWEGrIapfv"
      }
    }
  ]
}