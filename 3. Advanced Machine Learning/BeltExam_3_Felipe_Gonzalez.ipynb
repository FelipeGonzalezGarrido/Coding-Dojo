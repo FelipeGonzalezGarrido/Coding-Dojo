{
  "nbformat": 4,
  "nbformat_minor": 0,
  "metadata": {
    "colab": {
      "provenance": [],
      "machine_shape": "hm"
    },
    "kernelspec": {
      "name": "python3",
      "display_name": "Python 3"
    },
    "language_info": {
      "name": "python"
    },
    "gpuClass": "standard"
  },
  "cells": [
    {
      "cell_type": "markdown",
      "source": [
        "# Examen de Cinturón\n",
        "\n",
        "## Datos Personales\n",
        "\n",
        "* **Nombre Completo**: Felipe Gonzalez Garrido\n",
        "* **ID Coding Dojo**: 80479\n",
        "* **Track**: ADVANCED MACHINE LEARNING V22.1\n",
        "* **Nombre del examen**: Letras\n",
        "* **Intento**: 1"
      ],
      "metadata": {
        "id": "8acx2sdEcf1V"
      }
    },
    {
      "cell_type": "markdown",
      "source": [
        "## Descripción del Problema 1\n",
        "\n",
        "Usa este conjunto de datos para analizar las letras que aparecen con más frecuencia en el idioma inglés.\n",
        "\n",
        "## Descripción del Problema 2\n",
        "\n",
        "La tarea para la parte 2 es construir un modelo que clasifique letras escritas a mano\n"
      ],
      "metadata": {
        "id": "Ym4RVT7edHhl"
      }
    },
    {
      "cell_type": "markdown",
      "source": [
        "## Solución"
      ],
      "metadata": {
        "id": "hz8enNhRdMb1"
      }
    },
    {
      "cell_type": "markdown",
      "source": [
        "###Librerias a utilizar"
      ],
      "metadata": {
        "id": "xqQPtKjthnqH"
      }
    },
    {
      "cell_type": "code",
      "source": [
        "import pandas as pd\n",
        "from sklearn.model_selection import train_test_split\n",
        "from tensorflow.keras.models import Sequential\n",
        "from tensorflow.keras.layers import Dense,Dropout\n",
        "from sklearn.decomposition import PCA\n",
        "from sklearn.preprocessing import StandardScaler\n",
        "from tensorflow.keras.utils import to_categorical\n",
        "import matplotlib.pyplot as plt\n",
        "from tensorflow.keras.callbacks import EarlyStopping"
      ],
      "metadata": {
        "id": "bYAKvzZWx-VD"
      },
      "execution_count": 25,
      "outputs": []
    },
    {
      "cell_type": "code",
      "source": [
        "from google.colab import drive\n",
        "drive.mount (\"/content/drive\")"
      ],
      "metadata": {
        "colab": {
          "base_uri": "https://localhost:8080/"
        },
        "id": "X_gZ5TFfg-qk",
        "outputId": "eb37d5be-060a-4583-a123-f3083707783f"
      },
      "execution_count": 1,
      "outputs": [
        {
          "output_type": "stream",
          "name": "stdout",
          "text": [
            "Drive already mounted at /content/drive; to attempt to forcibly remount, call drive.mount(\"/content/drive\", force_remount=True).\n"
          ]
        }
      ]
    },
    {
      "cell_type": "code",
      "source": [
        "df = pd.read_excel(\"/content/drive/MyDrive/Data CodingDojo/letter_frequency.xlsx\")\n",
        "df.head()"
      ],
      "metadata": {
        "colab": {
          "base_uri": "https://localhost:8080/",
          "height": 206
        },
        "id": "bUGf_V9NhKFu",
        "outputId": "0d30d35a-de71-4566-b6d5-2d855b8c4477"
      },
      "execution_count": 3,
      "outputs": [
        {
          "output_type": "execute_result",
          "data": {
            "text/plain": [
              "   Unnamed: 0 Letter Frequency  Proportion\n",
              "0         0.0      A   8.4966%       43.31\n",
              "1         1.0      B    2.072%       10.56\n",
              "2         2.0      C   4.5388%       23.13\n",
              "3         3.0      D   3.3844%       17.25\n",
              "4         4.0      E  11.1607%       56.88"
            ],
            "text/html": [
              "\n",
              "  <div id=\"df-d283e711-87db-4f74-8b59-f45d209711b0\">\n",
              "    <div class=\"colab-df-container\">\n",
              "      <div>\n",
              "<style scoped>\n",
              "    .dataframe tbody tr th:only-of-type {\n",
              "        vertical-align: middle;\n",
              "    }\n",
              "\n",
              "    .dataframe tbody tr th {\n",
              "        vertical-align: top;\n",
              "    }\n",
              "\n",
              "    .dataframe thead th {\n",
              "        text-align: right;\n",
              "    }\n",
              "</style>\n",
              "<table border=\"1\" class=\"dataframe\">\n",
              "  <thead>\n",
              "    <tr style=\"text-align: right;\">\n",
              "      <th></th>\n",
              "      <th>Unnamed: 0</th>\n",
              "      <th>Letter</th>\n",
              "      <th>Frequency</th>\n",
              "      <th>Proportion</th>\n",
              "    </tr>\n",
              "  </thead>\n",
              "  <tbody>\n",
              "    <tr>\n",
              "      <th>0</th>\n",
              "      <td>0.0</td>\n",
              "      <td>A</td>\n",
              "      <td>8.4966%</td>\n",
              "      <td>43.31</td>\n",
              "    </tr>\n",
              "    <tr>\n",
              "      <th>1</th>\n",
              "      <td>1.0</td>\n",
              "      <td>B</td>\n",
              "      <td>2.072%</td>\n",
              "      <td>10.56</td>\n",
              "    </tr>\n",
              "    <tr>\n",
              "      <th>2</th>\n",
              "      <td>2.0</td>\n",
              "      <td>C</td>\n",
              "      <td>4.5388%</td>\n",
              "      <td>23.13</td>\n",
              "    </tr>\n",
              "    <tr>\n",
              "      <th>3</th>\n",
              "      <td>3.0</td>\n",
              "      <td>D</td>\n",
              "      <td>3.3844%</td>\n",
              "      <td>17.25</td>\n",
              "    </tr>\n",
              "    <tr>\n",
              "      <th>4</th>\n",
              "      <td>4.0</td>\n",
              "      <td>E</td>\n",
              "      <td>11.1607%</td>\n",
              "      <td>56.88</td>\n",
              "    </tr>\n",
              "  </tbody>\n",
              "</table>\n",
              "</div>\n",
              "      <button class=\"colab-df-convert\" onclick=\"convertToInteractive('df-d283e711-87db-4f74-8b59-f45d209711b0')\"\n",
              "              title=\"Convert this dataframe to an interactive table.\"\n",
              "              style=\"display:none;\">\n",
              "        \n",
              "  <svg xmlns=\"http://www.w3.org/2000/svg\" height=\"24px\"viewBox=\"0 0 24 24\"\n",
              "       width=\"24px\">\n",
              "    <path d=\"M0 0h24v24H0V0z\" fill=\"none\"/>\n",
              "    <path d=\"M18.56 5.44l.94 2.06.94-2.06 2.06-.94-2.06-.94-.94-2.06-.94 2.06-2.06.94zm-11 1L8.5 8.5l.94-2.06 2.06-.94-2.06-.94L8.5 2.5l-.94 2.06-2.06.94zm10 10l.94 2.06.94-2.06 2.06-.94-2.06-.94-.94-2.06-.94 2.06-2.06.94z\"/><path d=\"M17.41 7.96l-1.37-1.37c-.4-.4-.92-.59-1.43-.59-.52 0-1.04.2-1.43.59L10.3 9.45l-7.72 7.72c-.78.78-.78 2.05 0 2.83L4 21.41c.39.39.9.59 1.41.59.51 0 1.02-.2 1.41-.59l7.78-7.78 2.81-2.81c.8-.78.8-2.07 0-2.86zM5.41 20L4 18.59l7.72-7.72 1.47 1.35L5.41 20z\"/>\n",
              "  </svg>\n",
              "      </button>\n",
              "      \n",
              "  <style>\n",
              "    .colab-df-container {\n",
              "      display:flex;\n",
              "      flex-wrap:wrap;\n",
              "      gap: 12px;\n",
              "    }\n",
              "\n",
              "    .colab-df-convert {\n",
              "      background-color: #E8F0FE;\n",
              "      border: none;\n",
              "      border-radius: 50%;\n",
              "      cursor: pointer;\n",
              "      display: none;\n",
              "      fill: #1967D2;\n",
              "      height: 32px;\n",
              "      padding: 0 0 0 0;\n",
              "      width: 32px;\n",
              "    }\n",
              "\n",
              "    .colab-df-convert:hover {\n",
              "      background-color: #E2EBFA;\n",
              "      box-shadow: 0px 1px 2px rgba(60, 64, 67, 0.3), 0px 1px 3px 1px rgba(60, 64, 67, 0.15);\n",
              "      fill: #174EA6;\n",
              "    }\n",
              "\n",
              "    [theme=dark] .colab-df-convert {\n",
              "      background-color: #3B4455;\n",
              "      fill: #D2E3FC;\n",
              "    }\n",
              "\n",
              "    [theme=dark] .colab-df-convert:hover {\n",
              "      background-color: #434B5C;\n",
              "      box-shadow: 0px 1px 3px 1px rgba(0, 0, 0, 0.15);\n",
              "      filter: drop-shadow(0px 1px 2px rgba(0, 0, 0, 0.3));\n",
              "      fill: #FFFFFF;\n",
              "    }\n",
              "  </style>\n",
              "\n",
              "      <script>\n",
              "        const buttonEl =\n",
              "          document.querySelector('#df-d283e711-87db-4f74-8b59-f45d209711b0 button.colab-df-convert');\n",
              "        buttonEl.style.display =\n",
              "          google.colab.kernel.accessAllowed ? 'block' : 'none';\n",
              "\n",
              "        async function convertToInteractive(key) {\n",
              "          const element = document.querySelector('#df-d283e711-87db-4f74-8b59-f45d209711b0');\n",
              "          const dataTable =\n",
              "            await google.colab.kernel.invokeFunction('convertToInteractive',\n",
              "                                                     [key], {});\n",
              "          if (!dataTable) return;\n",
              "\n",
              "          const docLinkHtml = 'Like what you see? Visit the ' +\n",
              "            '<a target=\"_blank\" href=https://colab.research.google.com/notebooks/data_table.ipynb>data table notebook</a>'\n",
              "            + ' to learn more about interactive tables.';\n",
              "          element.innerHTML = '';\n",
              "          dataTable['output_type'] = 'display_data';\n",
              "          await google.colab.output.renderOutput(dataTable, element);\n",
              "          const docLink = document.createElement('div');\n",
              "          docLink.innerHTML = docLinkHtml;\n",
              "          element.appendChild(docLink);\n",
              "        }\n",
              "      </script>\n",
              "    </div>\n",
              "  </div>\n",
              "  "
            ]
          },
          "metadata": {},
          "execution_count": 3
        }
      ]
    },
    {
      "cell_type": "markdown",
      "source": [
        "### I.- Análisis Exploratorio Parte **1**"
      ],
      "metadata": {
        "id": "FWMmDDa9dO-I"
      }
    },
    {
      "cell_type": "markdown",
      "source": [
        "**Manipulación de datos**\n",
        "\n",
        "- Se comenzara con una breve vista a la estructura del conjunto de datos"
      ],
      "metadata": {
        "id": "5UOnfv6ndSYf"
      }
    },
    {
      "cell_type": "code",
      "source": [
        "df.info()"
      ],
      "metadata": {
        "colab": {
          "base_uri": "https://localhost:8080/"
        },
        "id": "75iF71B8htmn",
        "outputId": "24a26ccb-8d69-464a-9edc-bd5f1ebe62ed"
      },
      "execution_count": 4,
      "outputs": [
        {
          "output_type": "stream",
          "name": "stdout",
          "text": [
            "<class 'pandas.core.frame.DataFrame'>\n",
            "RangeIndex: 26 entries, 0 to 25\n",
            "Data columns (total 4 columns):\n",
            " #   Column      Non-Null Count  Dtype  \n",
            "---  ------      --------------  -----  \n",
            " 0   Unnamed: 0  26 non-null     float64\n",
            " 1   Letter      26 non-null     object \n",
            " 2   Frequency   26 non-null     object \n",
            " 3   Proportion  26 non-null     float64\n",
            "dtypes: float64(2), object(2)\n",
            "memory usage: 960.0+ bytes\n"
          ]
        }
      ]
    },
    {
      "cell_type": "code",
      "source": [
        "df.describe()"
      ],
      "metadata": {
        "colab": {
          "base_uri": "https://localhost:8080/",
          "height": 300
        },
        "id": "2xyeI9QTh5xV",
        "outputId": "a2b1d9be-ba86-44b9-9788-603a75740f2f"
      },
      "execution_count": 5,
      "outputs": [
        {
          "output_type": "execute_result",
          "data": {
            "text/plain": [
              "       Unnamed: 0  Proportion\n",
              "count   26.000000   26.000000\n",
              "mean    12.500000   19.603077\n",
              "std      7.648529   15.385597\n",
              "min      0.000000    1.000000\n",
              "25%      6.250000    7.192500\n",
              "50%     12.500000   15.750000\n",
              "75%     18.750000   32.747500\n",
              "max     25.000000   56.880000"
            ],
            "text/html": [
              "\n",
              "  <div id=\"df-9111c3ec-0734-4e44-8bf2-436c4ffed78b\">\n",
              "    <div class=\"colab-df-container\">\n",
              "      <div>\n",
              "<style scoped>\n",
              "    .dataframe tbody tr th:only-of-type {\n",
              "        vertical-align: middle;\n",
              "    }\n",
              "\n",
              "    .dataframe tbody tr th {\n",
              "        vertical-align: top;\n",
              "    }\n",
              "\n",
              "    .dataframe thead th {\n",
              "        text-align: right;\n",
              "    }\n",
              "</style>\n",
              "<table border=\"1\" class=\"dataframe\">\n",
              "  <thead>\n",
              "    <tr style=\"text-align: right;\">\n",
              "      <th></th>\n",
              "      <th>Unnamed: 0</th>\n",
              "      <th>Proportion</th>\n",
              "    </tr>\n",
              "  </thead>\n",
              "  <tbody>\n",
              "    <tr>\n",
              "      <th>count</th>\n",
              "      <td>26.000000</td>\n",
              "      <td>26.000000</td>\n",
              "    </tr>\n",
              "    <tr>\n",
              "      <th>mean</th>\n",
              "      <td>12.500000</td>\n",
              "      <td>19.603077</td>\n",
              "    </tr>\n",
              "    <tr>\n",
              "      <th>std</th>\n",
              "      <td>7.648529</td>\n",
              "      <td>15.385597</td>\n",
              "    </tr>\n",
              "    <tr>\n",
              "      <th>min</th>\n",
              "      <td>0.000000</td>\n",
              "      <td>1.000000</td>\n",
              "    </tr>\n",
              "    <tr>\n",
              "      <th>25%</th>\n",
              "      <td>6.250000</td>\n",
              "      <td>7.192500</td>\n",
              "    </tr>\n",
              "    <tr>\n",
              "      <th>50%</th>\n",
              "      <td>12.500000</td>\n",
              "      <td>15.750000</td>\n",
              "    </tr>\n",
              "    <tr>\n",
              "      <th>75%</th>\n",
              "      <td>18.750000</td>\n",
              "      <td>32.747500</td>\n",
              "    </tr>\n",
              "    <tr>\n",
              "      <th>max</th>\n",
              "      <td>25.000000</td>\n",
              "      <td>56.880000</td>\n",
              "    </tr>\n",
              "  </tbody>\n",
              "</table>\n",
              "</div>\n",
              "      <button class=\"colab-df-convert\" onclick=\"convertToInteractive('df-9111c3ec-0734-4e44-8bf2-436c4ffed78b')\"\n",
              "              title=\"Convert this dataframe to an interactive table.\"\n",
              "              style=\"display:none;\">\n",
              "        \n",
              "  <svg xmlns=\"http://www.w3.org/2000/svg\" height=\"24px\"viewBox=\"0 0 24 24\"\n",
              "       width=\"24px\">\n",
              "    <path d=\"M0 0h24v24H0V0z\" fill=\"none\"/>\n",
              "    <path d=\"M18.56 5.44l.94 2.06.94-2.06 2.06-.94-2.06-.94-.94-2.06-.94 2.06-2.06.94zm-11 1L8.5 8.5l.94-2.06 2.06-.94-2.06-.94L8.5 2.5l-.94 2.06-2.06.94zm10 10l.94 2.06.94-2.06 2.06-.94-2.06-.94-.94-2.06-.94 2.06-2.06.94z\"/><path d=\"M17.41 7.96l-1.37-1.37c-.4-.4-.92-.59-1.43-.59-.52 0-1.04.2-1.43.59L10.3 9.45l-7.72 7.72c-.78.78-.78 2.05 0 2.83L4 21.41c.39.39.9.59 1.41.59.51 0 1.02-.2 1.41-.59l7.78-7.78 2.81-2.81c.8-.78.8-2.07 0-2.86zM5.41 20L4 18.59l7.72-7.72 1.47 1.35L5.41 20z\"/>\n",
              "  </svg>\n",
              "      </button>\n",
              "      \n",
              "  <style>\n",
              "    .colab-df-container {\n",
              "      display:flex;\n",
              "      flex-wrap:wrap;\n",
              "      gap: 12px;\n",
              "    }\n",
              "\n",
              "    .colab-df-convert {\n",
              "      background-color: #E8F0FE;\n",
              "      border: none;\n",
              "      border-radius: 50%;\n",
              "      cursor: pointer;\n",
              "      display: none;\n",
              "      fill: #1967D2;\n",
              "      height: 32px;\n",
              "      padding: 0 0 0 0;\n",
              "      width: 32px;\n",
              "    }\n",
              "\n",
              "    .colab-df-convert:hover {\n",
              "      background-color: #E2EBFA;\n",
              "      box-shadow: 0px 1px 2px rgba(60, 64, 67, 0.3), 0px 1px 3px 1px rgba(60, 64, 67, 0.15);\n",
              "      fill: #174EA6;\n",
              "    }\n",
              "\n",
              "    [theme=dark] .colab-df-convert {\n",
              "      background-color: #3B4455;\n",
              "      fill: #D2E3FC;\n",
              "    }\n",
              "\n",
              "    [theme=dark] .colab-df-convert:hover {\n",
              "      background-color: #434B5C;\n",
              "      box-shadow: 0px 1px 3px 1px rgba(0, 0, 0, 0.15);\n",
              "      filter: drop-shadow(0px 1px 2px rgba(0, 0, 0, 0.3));\n",
              "      fill: #FFFFFF;\n",
              "    }\n",
              "  </style>\n",
              "\n",
              "      <script>\n",
              "        const buttonEl =\n",
              "          document.querySelector('#df-9111c3ec-0734-4e44-8bf2-436c4ffed78b button.colab-df-convert');\n",
              "        buttonEl.style.display =\n",
              "          google.colab.kernel.accessAllowed ? 'block' : 'none';\n",
              "\n",
              "        async function convertToInteractive(key) {\n",
              "          const element = document.querySelector('#df-9111c3ec-0734-4e44-8bf2-436c4ffed78b');\n",
              "          const dataTable =\n",
              "            await google.colab.kernel.invokeFunction('convertToInteractive',\n",
              "                                                     [key], {});\n",
              "          if (!dataTable) return;\n",
              "\n",
              "          const docLinkHtml = 'Like what you see? Visit the ' +\n",
              "            '<a target=\"_blank\" href=https://colab.research.google.com/notebooks/data_table.ipynb>data table notebook</a>'\n",
              "            + ' to learn more about interactive tables.';\n",
              "          element.innerHTML = '';\n",
              "          dataTable['output_type'] = 'display_data';\n",
              "          await google.colab.output.renderOutput(dataTable, element);\n",
              "          const docLink = document.createElement('div');\n",
              "          docLink.innerHTML = docLinkHtml;\n",
              "          element.appendChild(docLink);\n",
              "        }\n",
              "      </script>\n",
              "    </div>\n",
              "  </div>\n",
              "  "
            ]
          },
          "metadata": {},
          "execution_count": 5
        }
      ]
    },
    {
      "cell_type": "code",
      "source": [
        "df.duplicated().sum()"
      ],
      "metadata": {
        "colab": {
          "base_uri": "https://localhost:8080/"
        },
        "id": "va8o5vDXiBJ9",
        "outputId": "87c4b4fc-9799-484b-b25d-8e3054633883"
      },
      "execution_count": 6,
      "outputs": [
        {
          "output_type": "execute_result",
          "data": {
            "text/plain": [
              "0"
            ]
          },
          "metadata": {},
          "execution_count": 6
        }
      ]
    },
    {
      "cell_type": "markdown",
      "source": [
        "**Con lo revisado podemos concluir que las columnas:**\n",
        "\n",
        "\"Unnamed: 0\": es una especie de indice pero en float. Por lo tanto puede ser eliminada.\n",
        "\n",
        "\"Frecuency\" : Muestra un porcentaje, incluyendo el simbolo el cual debe ser eliminado para transformar el datatype a float.\n",
        "\n",
        "**En cuanto al dataframe podemos ver que:**\n",
        "\n",
        "- No tiene valores nulos\n",
        "- No tiene valores duplicados"
      ],
      "metadata": {
        "id": "389WWbfEid8H"
      }
    },
    {
      "cell_type": "markdown",
      "source": [
        "**Eliminacion de columna \"Unnamed: 0\"**"
      ],
      "metadata": {
        "id": "rjanWxN6qmTl"
      }
    },
    {
      "cell_type": "code",
      "source": [
        "df.drop(columns=\"Unnamed: 0\", inplace=True)"
      ],
      "metadata": {
        "id": "z833T4_kkBD3"
      },
      "execution_count": 7,
      "outputs": []
    },
    {
      "cell_type": "markdown",
      "source": [
        "**Limpieza de columna \"Frequency\" y transformacion de DataType**"
      ],
      "metadata": {
        "id": "t7zUa2rwqqWg"
      }
    },
    {
      "cell_type": "code",
      "source": [
        "df[\"Frequency\"] = df[\"Frequency\"].str.replace(\"%\",\"\")\n",
        "df[\"Frequency\"] = df[\"Frequency\"].astype(\"float\")\n",
        "df.info()"
      ],
      "metadata": {
        "colab": {
          "base_uri": "https://localhost:8080/"
        },
        "id": "f1IEQLprja5U",
        "outputId": "f7f4d394-3b70-42e7-83e3-a8aaff38e678"
      },
      "execution_count": 8,
      "outputs": [
        {
          "output_type": "stream",
          "name": "stdout",
          "text": [
            "<class 'pandas.core.frame.DataFrame'>\n",
            "RangeIndex: 26 entries, 0 to 25\n",
            "Data columns (total 3 columns):\n",
            " #   Column      Non-Null Count  Dtype  \n",
            "---  ------      --------------  -----  \n",
            " 0   Letter      26 non-null     object \n",
            " 1   Frequency   26 non-null     float64\n",
            " 2   Proportion  26 non-null     float64\n",
            "dtypes: float64(2), object(1)\n",
            "memory usage: 752.0+ bytes\n"
          ]
        }
      ]
    },
    {
      "cell_type": "markdown",
      "source": [
        "**Visualizacion de frecuencia de las letras**"
      ],
      "metadata": {
        "id": "pgKTC2YFoFfe"
      }
    },
    {
      "cell_type": "markdown",
      "source": [
        "- Crearemos un dataframe nuevo para cuidar data original, y se utilizara cada letra como indice para ayudar la visualizacion del grafico"
      ],
      "metadata": {
        "id": "j0gL9YTjpsik"
      }
    },
    {
      "cell_type": "code",
      "source": [
        "df2 = df.copy()\n",
        "df2.set_index(\"Letter\", inplace=True)"
      ],
      "metadata": {
        "id": "SOe1kBxBpkAT"
      },
      "execution_count": 9,
      "outputs": []
    },
    {
      "cell_type": "code",
      "source": [
        "df2[\"Frequency\"].plot(kind=\"bar\", color=\"gray\",alpha=.7, edgecolor=\"black\")\n",
        "plt.ylabel(\"Frecuencia\")\n",
        "plt.xlabel(\"Letra\")\n",
        "plt.title(\"Frecuencia de las Letras\")\n",
        "plt.xticks(rotation=0,fontsize=10);"
      ],
      "metadata": {
        "colab": {
          "base_uri": "https://localhost:8080/",
          "height": 295
        },
        "id": "hFus9Xyokpdo",
        "outputId": "d090ff1f-4455-43d7-ae92-09102b971508"
      },
      "execution_count": 10,
      "outputs": [
        {
          "output_type": "display_data",
          "data": {
            "text/plain": [
              "<Figure size 432x288 with 1 Axes>"
            ],
            "image/png": "[encoded data removed]"
          },
          "metadata": {
            "needs_background": "light"
          }
        }
      ]
    },
    {
      "cell_type": "markdown",
      "source": [
        "- Es posible apreciar claramente que la letra mas utilizada es la \"E\""
      ],
      "metadata": {
        "id": "ZuBSKOM1rGA1"
      }
    },
    {
      "cell_type": "markdown",
      "source": [
        "**Utilizar Python o SQL para mostrar las 5 letras más comunes junto con sus frecuencias y proporciones**"
      ],
      "metadata": {
        "id": "TxKyKuxnmaep"
      }
    },
    {
      "cell_type": "code",
      "source": [
        "df.sort_values([\"Frequency\"], ascending=False).head()"
      ],
      "metadata": {
        "colab": {
          "base_uri": "https://localhost:8080/",
          "height": 206
        },
        "id": "dFOFerbllVDe",
        "outputId": "3cb211a7-08d1-40d2-b97e-7cf6c9b47464"
      },
      "execution_count": 11,
      "outputs": [
        {
          "output_type": "execute_result",
          "data": {
            "text/plain": [
              "   Letter  Frequency  Proportion\n",
              "4       E    11.1607       56.88\n",
              "0       A     8.4966       43.31\n",
              "17      R     7.5809       38.64\n",
              "8       I     7.5448       38.45\n",
              "14      O     7.1635       36.51"
            ],
            "text/html": [
              "\n",
              "  <div id=\"df-82d69a0b-7daa-4803-843c-7ea576a76cef\">\n",
              "    <div class=\"colab-df-container\">\n",
              "      <div>\n",
              "<style scoped>\n",
              "    .dataframe tbody tr th:only-of-type {\n",
              "        vertical-align: middle;\n",
              "    }\n",
              "\n",
              "    .dataframe tbody tr th {\n",
              "        vertical-align: top;\n",
              "    }\n",
              "\n",
              "    .dataframe thead th {\n",
              "        text-align: right;\n",
              "    }\n",
              "</style>\n",
              "<table border=\"1\" class=\"dataframe\">\n",
              "  <thead>\n",
              "    <tr style=\"text-align: right;\">\n",
              "      <th></th>\n",
              "      <th>Letter</th>\n",
              "      <th>Frequency</th>\n",
              "      <th>Proportion</th>\n",
              "    </tr>\n",
              "  </thead>\n",
              "  <tbody>\n",
              "    <tr>\n",
              "      <th>4</th>\n",
              "      <td>E</td>\n",
              "      <td>11.1607</td>\n",
              "      <td>56.88</td>\n",
              "    </tr>\n",
              "    <tr>\n",
              "      <th>0</th>\n",
              "      <td>A</td>\n",
              "      <td>8.4966</td>\n",
              "      <td>43.31</td>\n",
              "    </tr>\n",
              "    <tr>\n",
              "      <th>17</th>\n",
              "      <td>R</td>\n",
              "      <td>7.5809</td>\n",
              "      <td>38.64</td>\n",
              "    </tr>\n",
              "    <tr>\n",
              "      <th>8</th>\n",
              "      <td>I</td>\n",
              "      <td>7.5448</td>\n",
              "      <td>38.45</td>\n",
              "    </tr>\n",
              "    <tr>\n",
              "      <th>14</th>\n",
              "      <td>O</td>\n",
              "      <td>7.1635</td>\n",
              "      <td>36.51</td>\n",
              "    </tr>\n",
              "  </tbody>\n",
              "</table>\n",
              "</div>\n",
              "      <button class=\"colab-df-convert\" onclick=\"convertToInteractive('df-82d69a0b-7daa-4803-843c-7ea576a76cef')\"\n",
              "              title=\"Convert this dataframe to an interactive table.\"\n",
              "              style=\"display:none;\">\n",
              "        \n",
              "  <svg xmlns=\"http://www.w3.org/2000/svg\" height=\"24px\"viewBox=\"0 0 24 24\"\n",
              "       width=\"24px\">\n",
              "    <path d=\"M0 0h24v24H0V0z\" fill=\"none\"/>\n",
              "    <path d=\"M18.56 5.44l.94 2.06.94-2.06 2.06-.94-2.06-.94-.94-2.06-.94 2.06-2.06.94zm-11 1L8.5 8.5l.94-2.06 2.06-.94-2.06-.94L8.5 2.5l-.94 2.06-2.06.94zm10 10l.94 2.06.94-2.06 2.06-.94-2.06-.94-.94-2.06-.94 2.06-2.06.94z\"/><path d=\"M17.41 7.96l-1.37-1.37c-.4-.4-.92-.59-1.43-.59-.52 0-1.04.2-1.43.59L10.3 9.45l-7.72 7.72c-.78.78-.78 2.05 0 2.83L4 21.41c.39.39.9.59 1.41.59.51 0 1.02-.2 1.41-.59l7.78-7.78 2.81-2.81c.8-.78.8-2.07 0-2.86zM5.41 20L4 18.59l7.72-7.72 1.47 1.35L5.41 20z\"/>\n",
              "  </svg>\n",
              "      </button>\n",
              "      \n",
              "  <style>\n",
              "    .colab-df-container {\n",
              "      display:flex;\n",
              "      flex-wrap:wrap;\n",
              "      gap: 12px;\n",
              "    }\n",
              "\n",
              "    .colab-df-convert {\n",
              "      background-color: #E8F0FE;\n",
              "      border: none;\n",
              "      border-radius: 50%;\n",
              "      cursor: pointer;\n",
              "      display: none;\n",
              "      fill: #1967D2;\n",
              "      height: 32px;\n",
              "      padding: 0 0 0 0;\n",
              "      width: 32px;\n",
              "    }\n",
              "\n",
              "    .colab-df-convert:hover {\n",
              "      background-color: #E2EBFA;\n",
              "      box-shadow: 0px 1px 2px rgba(60, 64, 67, 0.3), 0px 1px 3px 1px rgba(60, 64, 67, 0.15);\n",
              "      fill: #174EA6;\n",
              "    }\n",
              "\n",
              "    [theme=dark] .colab-df-convert {\n",
              "      background-color: #3B4455;\n",
              "      fill: #D2E3FC;\n",
              "    }\n",
              "\n",
              "    [theme=dark] .colab-df-convert:hover {\n",
              "      background-color: #434B5C;\n",
              "      box-shadow: 0px 1px 3px 1px rgba(0, 0, 0, 0.15);\n",
              "      filter: drop-shadow(0px 1px 2px rgba(0, 0, 0, 0.3));\n",
              "      fill: #FFFFFF;\n",
              "    }\n",
              "  </style>\n",
              "\n",
              "      <script>\n",
              "        const buttonEl =\n",
              "          document.querySelector('#df-82d69a0b-7daa-4803-843c-7ea576a76cef button.colab-df-convert');\n",
              "        buttonEl.style.display =\n",
              "          google.colab.kernel.accessAllowed ? 'block' : 'none';\n",
              "\n",
              "        async function convertToInteractive(key) {\n",
              "          const element = document.querySelector('#df-82d69a0b-7daa-4803-843c-7ea576a76cef');\n",
              "          const dataTable =\n",
              "            await google.colab.kernel.invokeFunction('convertToInteractive',\n",
              "                                                     [key], {});\n",
              "          if (!dataTable) return;\n",
              "\n",
              "          const docLinkHtml = 'Like what you see? Visit the ' +\n",
              "            '<a target=\"_blank\" href=https://colab.research.google.com/notebooks/data_table.ipynb>data table notebook</a>'\n",
              "            + ' to learn more about interactive tables.';\n",
              "          element.innerHTML = '';\n",
              "          dataTable['output_type'] = 'display_data';\n",
              "          await google.colab.output.renderOutput(dataTable, element);\n",
              "          const docLink = document.createElement('div');\n",
              "          docLink.innerHTML = docLinkHtml;\n",
              "          element.appendChild(docLink);\n",
              "        }\n",
              "      </script>\n",
              "    </div>\n",
              "  </div>\n",
              "  "
            ]
          },
          "metadata": {},
          "execution_count": 11
        }
      ]
    },
    {
      "cell_type": "markdown",
      "source": [
        "**Utilizar Python o SQL para mostrar las 5 letras menos comunes junto con sus frecuencias y proporciones**"
      ],
      "metadata": {
        "id": "wUtd29zzmfk1"
      }
    },
    {
      "cell_type": "code",
      "source": [
        "df.sort_values([\"Frequency\"], ascending=True).head()"
      ],
      "metadata": {
        "colab": {
          "base_uri": "https://localhost:8080/",
          "height": 206
        },
        "id": "VZ_Mu773mLo0",
        "outputId": "81de176e-67a7-4609-d436-093f5ce1dacf"
      },
      "execution_count": 12,
      "outputs": [
        {
          "output_type": "execute_result",
          "data": {
            "text/plain": [
              "   Letter  Frequency  Proportion\n",
              "16      Q     0.1962        1.00\n",
              "9       J     0.1965        1.00\n",
              "25      Z     0.2722        1.39\n",
              "23      X     0.2902        1.48\n",
              "21      V     1.0074        5.13"
            ],
            "text/html": [
              "\n",
              "  <div id=\"df-5a432e06-4b98-401c-a50e-7c1e14ee2f35\">\n",
              "    <div class=\"colab-df-container\">\n",
              "      <div>\n",
              "<style scoped>\n",
              "    .dataframe tbody tr th:only-of-type {\n",
              "        vertical-align: middle;\n",
              "    }\n",
              "\n",
              "    .dataframe tbody tr th {\n",
              "        vertical-align: top;\n",
              "    }\n",
              "\n",
              "    .dataframe thead th {\n",
              "        text-align: right;\n",
              "    }\n",
              "</style>\n",
              "<table border=\"1\" class=\"dataframe\">\n",
              "  <thead>\n",
              "    <tr style=\"text-align: right;\">\n",
              "      <th></th>\n",
              "      <th>Letter</th>\n",
              "      <th>Frequency</th>\n",
              "      <th>Proportion</th>\n",
              "    </tr>\n",
              "  </thead>\n",
              "  <tbody>\n",
              "    <tr>\n",
              "      <th>16</th>\n",
              "      <td>Q</td>\n",
              "      <td>0.1962</td>\n",
              "      <td>1.00</td>\n",
              "    </tr>\n",
              "    <tr>\n",
              "      <th>9</th>\n",
              "      <td>J</td>\n",
              "      <td>0.1965</td>\n",
              "      <td>1.00</td>\n",
              "    </tr>\n",
              "    <tr>\n",
              "      <th>25</th>\n",
              "      <td>Z</td>\n",
              "      <td>0.2722</td>\n",
              "      <td>1.39</td>\n",
              "    </tr>\n",
              "    <tr>\n",
              "      <th>23</th>\n",
              "      <td>X</td>\n",
              "      <td>0.2902</td>\n",
              "      <td>1.48</td>\n",
              "    </tr>\n",
              "    <tr>\n",
              "      <th>21</th>\n",
              "      <td>V</td>\n",
              "      <td>1.0074</td>\n",
              "      <td>5.13</td>\n",
              "    </tr>\n",
              "  </tbody>\n",
              "</table>\n",
              "</div>\n",
              "      <button class=\"colab-df-convert\" onclick=\"convertToInteractive('df-5a432e06-4b98-401c-a50e-7c1e14ee2f35')\"\n",
              "              title=\"Convert this dataframe to an interactive table.\"\n",
              "              style=\"display:none;\">\n",
              "        \n",
              "  <svg xmlns=\"http://www.w3.org/2000/svg\" height=\"24px\"viewBox=\"0 0 24 24\"\n",
              "       width=\"24px\">\n",
              "    <path d=\"M0 0h24v24H0V0z\" fill=\"none\"/>\n",
              "    <path d=\"M18.56 5.44l.94 2.06.94-2.06 2.06-.94-2.06-.94-.94-2.06-.94 2.06-2.06.94zm-11 1L8.5 8.5l.94-2.06 2.06-.94-2.06-.94L8.5 2.5l-.94 2.06-2.06.94zm10 10l.94 2.06.94-2.06 2.06-.94-2.06-.94-.94-2.06-.94 2.06-2.06.94z\"/><path d=\"M17.41 7.96l-1.37-1.37c-.4-.4-.92-.59-1.43-.59-.52 0-1.04.2-1.43.59L10.3 9.45l-7.72 7.72c-.78.78-.78 2.05 0 2.83L4 21.41c.39.39.9.59 1.41.59.51 0 1.02-.2 1.41-.59l7.78-7.78 2.81-2.81c.8-.78.8-2.07 0-2.86zM5.41 20L4 18.59l7.72-7.72 1.47 1.35L5.41 20z\"/>\n",
              "  </svg>\n",
              "      </button>\n",
              "      \n",
              "  <style>\n",
              "    .colab-df-container {\n",
              "      display:flex;\n",
              "      flex-wrap:wrap;\n",
              "      gap: 12px;\n",
              "    }\n",
              "\n",
              "    .colab-df-convert {\n",
              "      background-color: #E8F0FE;\n",
              "      border: none;\n",
              "      border-radius: 50%;\n",
              "      cursor: pointer;\n",
              "      display: none;\n",
              "      fill: #1967D2;\n",
              "      height: 32px;\n",
              "      padding: 0 0 0 0;\n",
              "      width: 32px;\n",
              "    }\n",
              "\n",
              "    .colab-df-convert:hover {\n",
              "      background-color: #E2EBFA;\n",
              "      box-shadow: 0px 1px 2px rgba(60, 64, 67, 0.3), 0px 1px 3px 1px rgba(60, 64, 67, 0.15);\n",
              "      fill: #174EA6;\n",
              "    }\n",
              "\n",
              "    [theme=dark] .colab-df-convert {\n",
              "      background-color: #3B4455;\n",
              "      fill: #D2E3FC;\n",
              "    }\n",
              "\n",
              "    [theme=dark] .colab-df-convert:hover {\n",
              "      background-color: #434B5C;\n",
              "      box-shadow: 0px 1px 3px 1px rgba(0, 0, 0, 0.15);\n",
              "      filter: drop-shadow(0px 1px 2px rgba(0, 0, 0, 0.3));\n",
              "      fill: #FFFFFF;\n",
              "    }\n",
              "  </style>\n",
              "\n",
              "      <script>\n",
              "        const buttonEl =\n",
              "          document.querySelector('#df-5a432e06-4b98-401c-a50e-7c1e14ee2f35 button.colab-df-convert');\n",
              "        buttonEl.style.display =\n",
              "          google.colab.kernel.accessAllowed ? 'block' : 'none';\n",
              "\n",
              "        async function convertToInteractive(key) {\n",
              "          const element = document.querySelector('#df-5a432e06-4b98-401c-a50e-7c1e14ee2f35');\n",
              "          const dataTable =\n",
              "            await google.colab.kernel.invokeFunction('convertToInteractive',\n",
              "                                                     [key], {});\n",
              "          if (!dataTable) return;\n",
              "\n",
              "          const docLinkHtml = 'Like what you see? Visit the ' +\n",
              "            '<a target=\"_blank\" href=https://colab.research.google.com/notebooks/data_table.ipynb>data table notebook</a>'\n",
              "            + ' to learn more about interactive tables.';\n",
              "          element.innerHTML = '';\n",
              "          dataTable['output_type'] = 'display_data';\n",
              "          await google.colab.output.renderOutput(dataTable, element);\n",
              "          const docLink = document.createElement('div');\n",
              "          docLink.innerHTML = docLinkHtml;\n",
              "          element.appendChild(docLink);\n",
              "        }\n",
              "      </script>\n",
              "    </div>\n",
              "  </div>\n",
              "  "
            ]
          },
          "metadata": {},
          "execution_count": 12
        }
      ]
    },
    {
      "cell_type": "markdown",
      "source": [
        "Con la ayuda del metodo .sort_values y el parametro ascending, podemos ordenar el conjunto de datos segun la columna \"Frequency\" de forma descendente o ascendente dependiendo si es True o False. Mientras que .head() por defecto nos mostrara 5 registros."
      ],
      "metadata": {
        "id": "alsa2pjFmkKD"
      }
    },
    {
      "cell_type": "markdown",
      "source": [
        "**Filtrar el conjunto de datos para mostrar solo filas para vocales (A, E, I, O, U)**"
      ],
      "metadata": {
        "id": "GnbLxRR0owj5"
      }
    },
    {
      "cell_type": "code",
      "source": [
        "vocales = df[\"Letter\"].isin([\"A\",\"E\",\"I\",\"O\",\"U\"])\n",
        "df[vocales]"
      ],
      "metadata": {
        "colab": {
          "base_uri": "https://localhost:8080/",
          "height": 206
        },
        "id": "Xy1qjqPPovnQ",
        "outputId": "f3b8e262-96eb-4b12-fa36-cdafe1d3709c"
      },
      "execution_count": 13,
      "outputs": [
        {
          "output_type": "execute_result",
          "data": {
            "text/plain": [
              "   Letter  Frequency  Proportion\n",
              "0       A     8.4966       43.31\n",
              "4       E    11.1607       56.88\n",
              "8       I     7.5448       38.45\n",
              "14      O     7.1635       36.51\n",
              "20      U     3.6308       18.51"
            ],
            "text/html": [
              "\n",
              "  <div id=\"df-6e097bcc-e944-43c2-a764-3159f84a2f4f\">\n",
              "    <div class=\"colab-df-container\">\n",
              "      <div>\n",
              "<style scoped>\n",
              "    .dataframe tbody tr th:only-of-type {\n",
              "        vertical-align: middle;\n",
              "    }\n",
              "\n",
              "    .dataframe tbody tr th {\n",
              "        vertical-align: top;\n",
              "    }\n",
              "\n",
              "    .dataframe thead th {\n",
              "        text-align: right;\n",
              "    }\n",
              "</style>\n",
              "<table border=\"1\" class=\"dataframe\">\n",
              "  <thead>\n",
              "    <tr style=\"text-align: right;\">\n",
              "      <th></th>\n",
              "      <th>Letter</th>\n",
              "      <th>Frequency</th>\n",
              "      <th>Proportion</th>\n",
              "    </tr>\n",
              "  </thead>\n",
              "  <tbody>\n",
              "    <tr>\n",
              "      <th>0</th>\n",
              "      <td>A</td>\n",
              "      <td>8.4966</td>\n",
              "      <td>43.31</td>\n",
              "    </tr>\n",
              "    <tr>\n",
              "      <th>4</th>\n",
              "      <td>E</td>\n",
              "      <td>11.1607</td>\n",
              "      <td>56.88</td>\n",
              "    </tr>\n",
              "    <tr>\n",
              "      <th>8</th>\n",
              "      <td>I</td>\n",
              "      <td>7.5448</td>\n",
              "      <td>38.45</td>\n",
              "    </tr>\n",
              "    <tr>\n",
              "      <th>14</th>\n",
              "      <td>O</td>\n",
              "      <td>7.1635</td>\n",
              "      <td>36.51</td>\n",
              "    </tr>\n",
              "    <tr>\n",
              "      <th>20</th>\n",
              "      <td>U</td>\n",
              "      <td>3.6308</td>\n",
              "      <td>18.51</td>\n",
              "    </tr>\n",
              "  </tbody>\n",
              "</table>\n",
              "</div>\n",
              "      <button class=\"colab-df-convert\" onclick=\"convertToInteractive('df-6e097bcc-e944-43c2-a764-3159f84a2f4f')\"\n",
              "              title=\"Convert this dataframe to an interactive table.\"\n",
              "              style=\"display:none;\">\n",
              "        \n",
              "  <svg xmlns=\"http://www.w3.org/2000/svg\" height=\"24px\"viewBox=\"0 0 24 24\"\n",
              "       width=\"24px\">\n",
              "    <path d=\"M0 0h24v24H0V0z\" fill=\"none\"/>\n",
              "    <path d=\"M18.56 5.44l.94 2.06.94-2.06 2.06-.94-2.06-.94-.94-2.06-.94 2.06-2.06.94zm-11 1L8.5 8.5l.94-2.06 2.06-.94-2.06-.94L8.5 2.5l-.94 2.06-2.06.94zm10 10l.94 2.06.94-2.06 2.06-.94-2.06-.94-.94-2.06-.94 2.06-2.06.94z\"/><path d=\"M17.41 7.96l-1.37-1.37c-.4-.4-.92-.59-1.43-.59-.52 0-1.04.2-1.43.59L10.3 9.45l-7.72 7.72c-.78.78-.78 2.05 0 2.83L4 21.41c.39.39.9.59 1.41.59.51 0 1.02-.2 1.41-.59l7.78-7.78 2.81-2.81c.8-.78.8-2.07 0-2.86zM5.41 20L4 18.59l7.72-7.72 1.47 1.35L5.41 20z\"/>\n",
              "  </svg>\n",
              "      </button>\n",
              "      \n",
              "  <style>\n",
              "    .colab-df-container {\n",
              "      display:flex;\n",
              "      flex-wrap:wrap;\n",
              "      gap: 12px;\n",
              "    }\n",
              "\n",
              "    .colab-df-convert {\n",
              "      background-color: #E8F0FE;\n",
              "      border: none;\n",
              "      border-radius: 50%;\n",
              "      cursor: pointer;\n",
              "      display: none;\n",
              "      fill: #1967D2;\n",
              "      height: 32px;\n",
              "      padding: 0 0 0 0;\n",
              "      width: 32px;\n",
              "    }\n",
              "\n",
              "    .colab-df-convert:hover {\n",
              "      background-color: #E2EBFA;\n",
              "      box-shadow: 0px 1px 2px rgba(60, 64, 67, 0.3), 0px 1px 3px 1px rgba(60, 64, 67, 0.15);\n",
              "      fill: #174EA6;\n",
              "    }\n",
              "\n",
              "    [theme=dark] .colab-df-convert {\n",
              "      background-color: #3B4455;\n",
              "      fill: #D2E3FC;\n",
              "    }\n",
              "\n",
              "    [theme=dark] .colab-df-convert:hover {\n",
              "      background-color: #434B5C;\n",
              "      box-shadow: 0px 1px 3px 1px rgba(0, 0, 0, 0.15);\n",
              "      filter: drop-shadow(0px 1px 2px rgba(0, 0, 0, 0.3));\n",
              "      fill: #FFFFFF;\n",
              "    }\n",
              "  </style>\n",
              "\n",
              "      <script>\n",
              "        const buttonEl =\n",
              "          document.querySelector('#df-6e097bcc-e944-43c2-a764-3159f84a2f4f button.colab-df-convert');\n",
              "        buttonEl.style.display =\n",
              "          google.colab.kernel.accessAllowed ? 'block' : 'none';\n",
              "\n",
              "        async function convertToInteractive(key) {\n",
              "          const element = document.querySelector('#df-6e097bcc-e944-43c2-a764-3159f84a2f4f');\n",
              "          const dataTable =\n",
              "            await google.colab.kernel.invokeFunction('convertToInteractive',\n",
              "                                                     [key], {});\n",
              "          if (!dataTable) return;\n",
              "\n",
              "          const docLinkHtml = 'Like what you see? Visit the ' +\n",
              "            '<a target=\"_blank\" href=https://colab.research.google.com/notebooks/data_table.ipynb>data table notebook</a>'\n",
              "            + ' to learn more about interactive tables.';\n",
              "          element.innerHTML = '';\n",
              "          dataTable['output_type'] = 'display_data';\n",
              "          await google.colab.output.renderOutput(dataTable, element);\n",
              "          const docLink = document.createElement('div');\n",
              "          docLink.innerHTML = docLinkHtml;\n",
              "          element.appendChild(docLink);\n",
              "        }\n",
              "      </script>\n",
              "    </div>\n",
              "  </div>\n",
              "  "
            ]
          },
          "metadata": {},
          "execution_count": 13
        }
      ]
    },
    {
      "cell_type": "markdown",
      "source": [
        "**Fin parte 1**"
      ],
      "metadata": {
        "id": "LFpGLqvUrapi"
      }
    },
    {
      "cell_type": "markdown",
      "source": [
        "### I.- Análisis Exploratorio Parte **2**"
      ],
      "metadata": {
        "id": "qnYPBT9Qrc63"
      }
    },
    {
      "cell_type": "code",
      "source": [
        "df1 = pd.read_csv(\"/content/drive/MyDrive/Data CodingDojo/train.csv\")\n",
        "df2 = pd.read_csv(\"/content/drive/MyDrive/Data CodingDojo/test.csv\")\n",
        "df = pd.concat([df1, df2], axis=0)\n",
        "df.head()"
      ],
      "metadata": {
        "colab": {
          "base_uri": "https://localhost:8080/",
          "height": 236
        },
        "id": "tCEWOLgdrnga",
        "outputId": "09864694-0539-4084-ddb5-72ec3e4077fd"
      },
      "execution_count": 5,
      "outputs": [
        {
          "output_type": "execute_result",
          "data": {
            "text/plain": [
              "   letter  0.1  0.2  0.3  0.4  0.5  0.6  0.7  0.8  0.9  ...  0.639  0.640  \\\n",
              "0       0    0    0    0    0    0    0    0    0    0  ...      0      0   \n",
              "1       0    0    0    0    0    0    0    0    0    0  ...      0      0   \n",
              "2       0    0    0    0    0    0    0    0    0    0  ...      0      0   \n",
              "3       0    0    0    0    0    0    0    0    0    0  ...      0      0   \n",
              "4       0    0    0    0    0    0    0    0    0    0  ...      0      0   \n",
              "\n",
              "   0.641  0.642  0.643  0.644  0.645  0.646  0.647  0.648  \n",
              "0      0      0      0      0      0      0      0      0  \n",
              "1      0      0      0      0      0      0      0      0  \n",
              "2      0      0      0      0      0      0      0      0  \n",
              "3      0      0      0      0      0      0      0      0  \n",
              "4      0      0      0      0      0      0      0      0  \n",
              "\n",
              "[5 rows x 785 columns]"
            ],
            "text/html": [
              "\n",
              "  <div id=\"df-133689cb-bfa8-4965-a40d-98cc0d5394d3\">\n",
              "    <div class=\"colab-df-container\">\n",
              "      <div>\n",
              "<style scoped>\n",
              "    .dataframe tbody tr th:only-of-type {\n",
              "        vertical-align: middle;\n",
              "    }\n",
              "\n",
              "    .dataframe tbody tr th {\n",
              "        vertical-align: top;\n",
              "    }\n",
              "\n",
              "    .dataframe thead th {\n",
              "        text-align: right;\n",
              "    }\n",
              "</style>\n",
              "<table border=\"1\" class=\"dataframe\">\n",
              "  <thead>\n",
              "    <tr style=\"text-align: right;\">\n",
              "      <th></th>\n",
              "      <th>letter</th>\n",
              "      <th>0.1</th>\n",
              "      <th>0.2</th>\n",
              "      <th>0.3</th>\n",
              "      <th>0.4</th>\n",
              "      <th>0.5</th>\n",
              "      <th>0.6</th>\n",
              "      <th>0.7</th>\n",
              "      <th>0.8</th>\n",
              "      <th>0.9</th>\n",
              "      <th>...</th>\n",
              "      <th>0.639</th>\n",
              "      <th>0.640</th>\n",
              "      <th>0.641</th>\n",
              "      <th>0.642</th>\n",
              "      <th>0.643</th>\n",
              "      <th>0.644</th>\n",
              "      <th>0.645</th>\n",
              "      <th>0.646</th>\n",
              "      <th>0.647</th>\n",
              "      <th>0.648</th>\n",
              "    </tr>\n",
              "  </thead>\n",
              "  <tbody>\n",
              "    <tr>\n",
              "      <th>0</th>\n",
              "      <td>0</td>\n",
              "      <td>0</td>\n",
              "      <td>0</td>\n",
              "      <td>0</td>\n",
              "      <td>0</td>\n",
              "      <td>0</td>\n",
              "      <td>0</td>\n",
              "      <td>0</td>\n",
              "      <td>0</td>\n",
              "      <td>0</td>\n",
              "      <td>...</td>\n",
              "      <td>0</td>\n",
              "      <td>0</td>\n",
              "      <td>0</td>\n",
              "      <td>0</td>\n",
              "      <td>0</td>\n",
              "      <td>0</td>\n",
              "      <td>0</td>\n",
              "      <td>0</td>\n",
              "      <td>0</td>\n",
              "      <td>0</td>\n",
              "    </tr>\n",
              "    <tr>\n",
              "      <th>1</th>\n",
              "      <td>0</td>\n",
              "      <td>0</td>\n",
              "      <td>0</td>\n",
              "      <td>0</td>\n",
              "      <td>0</td>\n",
              "      <td>0</td>\n",
              "      <td>0</td>\n",
              "      <td>0</td>\n",
              "      <td>0</td>\n",
              "      <td>0</td>\n",
              "      <td>...</td>\n",
              "      <td>0</td>\n",
              "      <td>0</td>\n",
              "      <td>0</td>\n",
              "      <td>0</td>\n",
              "      <td>0</td>\n",
              "      <td>0</td>\n",
              "      <td>0</td>\n",
              "      <td>0</td>\n",
              "      <td>0</td>\n",
              "      <td>0</td>\n",
              "    </tr>\n",
              "    <tr>\n",
              "      <th>2</th>\n",
              "      <td>0</td>\n",
              "      <td>0</td>\n",
              "      <td>0</td>\n",
              "      <td>0</td>\n",
              "      <td>0</td>\n",
              "      <td>0</td>\n",
              "      <td>0</td>\n",
              "      <td>0</td>\n",
              "      <td>0</td>\n",
              "      <td>0</td>\n",
              "      <td>...</td>\n",
              "      <td>0</td>\n",
              "      <td>0</td>\n",
              "      <td>0</td>\n",
              "      <td>0</td>\n",
              "      <td>0</td>\n",
              "      <td>0</td>\n",
              "      <td>0</td>\n",
              "      <td>0</td>\n",
              "      <td>0</td>\n",
              "      <td>0</td>\n",
              "    </tr>\n",
              "    <tr>\n",
              "      <th>3</th>\n",
              "      <td>0</td>\n",
              "      <td>0</td>\n",
              "      <td>0</td>\n",
              "      <td>0</td>\n",
              "      <td>0</td>\n",
              "      <td>0</td>\n",
              "      <td>0</td>\n",
              "      <td>0</td>\n",
              "      <td>0</td>\n",
              "      <td>0</td>\n",
              "      <td>...</td>\n",
              "      <td>0</td>\n",
              "      <td>0</td>\n",
              "      <td>0</td>\n",
              "      <td>0</td>\n",
              "      <td>0</td>\n",
              "      <td>0</td>\n",
              "      <td>0</td>\n",
              "      <td>0</td>\n",
              "      <td>0</td>\n",
              "      <td>0</td>\n",
              "    </tr>\n",
              "    <tr>\n",
              "      <th>4</th>\n",
              "      <td>0</td>\n",
              "      <td>0</td>\n",
              "      <td>0</td>\n",
              "      <td>0</td>\n",
              "      <td>0</td>\n",
              "      <td>0</td>\n",
              "      <td>0</td>\n",
              "      <td>0</td>\n",
              "      <td>0</td>\n",
              "      <td>0</td>\n",
              "      <td>...</td>\n",
              "      <td>0</td>\n",
              "      <td>0</td>\n",
              "      <td>0</td>\n",
              "      <td>0</td>\n",
              "      <td>0</td>\n",
              "      <td>0</td>\n",
              "      <td>0</td>\n",
              "      <td>0</td>\n",
              "      <td>0</td>\n",
              "      <td>0</td>\n",
              "    </tr>\n",
              "  </tbody>\n",
              "</table>\n",
              "<p>5 rows × 785 columns</p>\n",
              "</div>\n",
              "      <button class=\"colab-df-convert\" onclick=\"convertToInteractive('df-133689cb-bfa8-4965-a40d-98cc0d5394d3')\"\n",
              "              title=\"Convert this dataframe to an interactive table.\"\n",
              "              style=\"display:none;\">\n",
              "        \n",
              "  <svg xmlns=\"http://www.w3.org/2000/svg\" height=\"24px\"viewBox=\"0 0 24 24\"\n",
              "       width=\"24px\">\n",
              "    <path d=\"M0 0h24v24H0V0z\" fill=\"none\"/>\n",
              "    <path d=\"M18.56 5.44l.94 2.06.94-2.06 2.06-.94-2.06-.94-.94-2.06-.94 2.06-2.06.94zm-11 1L8.5 8.5l.94-2.06 2.06-.94-2.06-.94L8.5 2.5l-.94 2.06-2.06.94zm10 10l.94 2.06.94-2.06 2.06-.94-2.06-.94-.94-2.06-.94 2.06-2.06.94z\"/><path d=\"M17.41 7.96l-1.37-1.37c-.4-.4-.92-.59-1.43-.59-.52 0-1.04.2-1.43.59L10.3 9.45l-7.72 7.72c-.78.78-.78 2.05 0 2.83L4 21.41c.39.39.9.59 1.41.59.51 0 1.02-.2 1.41-.59l7.78-7.78 2.81-2.81c.8-.78.8-2.07 0-2.86zM5.41 20L4 18.59l7.72-7.72 1.47 1.35L5.41 20z\"/>\n",
              "  </svg>\n",
              "      </button>\n",
              "      \n",
              "  <style>\n",
              "    .colab-df-container {\n",
              "      display:flex;\n",
              "      flex-wrap:wrap;\n",
              "      gap: 12px;\n",
              "    }\n",
              "\n",
              "    .colab-df-convert {\n",
              "      background-color: #E8F0FE;\n",
              "      border: none;\n",
              "      border-radius: 50%;\n",
              "      cursor: pointer;\n",
              "      display: none;\n",
              "      fill: #1967D2;\n",
              "      height: 32px;\n",
              "      padding: 0 0 0 0;\n",
              "      width: 32px;\n",
              "    }\n",
              "\n",
              "    .colab-df-convert:hover {\n",
              "      background-color: #E2EBFA;\n",
              "      box-shadow: 0px 1px 2px rgba(60, 64, 67, 0.3), 0px 1px 3px 1px rgba(60, 64, 67, 0.15);\n",
              "      fill: #174EA6;\n",
              "    }\n",
              "\n",
              "    [theme=dark] .colab-df-convert {\n",
              "      background-color: #3B4455;\n",
              "      fill: #D2E3FC;\n",
              "    }\n",
              "\n",
              "    [theme=dark] .colab-df-convert:hover {\n",
              "      background-color: #434B5C;\n",
              "      box-shadow: 0px 1px 3px 1px rgba(0, 0, 0, 0.15);\n",
              "      filter: drop-shadow(0px 1px 2px rgba(0, 0, 0, 0.3));\n",
              "      fill: #FFFFFF;\n",
              "    }\n",
              "  </style>\n",
              "\n",
              "      <script>\n",
              "        const buttonEl =\n",
              "          document.querySelector('#df-133689cb-bfa8-4965-a40d-98cc0d5394d3 button.colab-df-convert');\n",
              "        buttonEl.style.display =\n",
              "          google.colab.kernel.accessAllowed ? 'block' : 'none';\n",
              "\n",
              "        async function convertToInteractive(key) {\n",
              "          const element = document.querySelector('#df-133689cb-bfa8-4965-a40d-98cc0d5394d3');\n",
              "          const dataTable =\n",
              "            await google.colab.kernel.invokeFunction('convertToInteractive',\n",
              "                                                     [key], {});\n",
              "          if (!dataTable) return;\n",
              "\n",
              "          const docLinkHtml = 'Like what you see? Visit the ' +\n",
              "            '<a target=\"_blank\" href=https://colab.research.google.com/notebooks/data_table.ipynb>data table notebook</a>'\n",
              "            + ' to learn more about interactive tables.';\n",
              "          element.innerHTML = '';\n",
              "          dataTable['output_type'] = 'display_data';\n",
              "          await google.colab.output.renderOutput(dataTable, element);\n",
              "          const docLink = document.createElement('div');\n",
              "          docLink.innerHTML = docLinkHtml;\n",
              "          element.appendChild(docLink);\n",
              "        }\n",
              "      </script>\n",
              "    </div>\n",
              "  </div>\n",
              "  "
            ]
          },
          "metadata": {},
          "execution_count": 5
        }
      ]
    },
    {
      "cell_type": "code",
      "source": [
        "X = df.drop(columns=\"letter\")\n",
        "y = df[\"letter\"]"
      ],
      "metadata": {
        "id": "yHsQ911o3H8d"
      },
      "execution_count": 6,
      "outputs": []
    },
    {
      "cell_type": "code",
      "source": [
        "X_train, X_test, y_train, y_test = train_test_split(X,y, random_state = 42)"
      ],
      "metadata": {
        "id": "NyOFsDXHtX2p"
      },
      "execution_count": 7,
      "outputs": []
    },
    {
      "cell_type": "markdown",
      "source": [
        "**Como nuestra columna objetivo esta en forma numerica, es necesario aplicar la clase to_categorical, de keras para el correcto funcionamiento**"
      ],
      "metadata": {
        "id": "8m8QWMxaMKIo"
      }
    },
    {
      "cell_type": "code",
      "source": [
        "y_train = to_categorical(y_train, num_classes=26)\n",
        "y_test = to_categorical(y_test, num_classes=26)"
      ],
      "metadata": {
        "id": "GtyHrgvvJb6m"
      },
      "execution_count": 8,
      "outputs": []
    },
    {
      "cell_type": "markdown",
      "source": [
        "**Se realiza reduccion de dimensionalidad a nuestro conjunto de datos para acelerar su procesamiento. En especial en la iteracion de las Epocas**"
      ],
      "metadata": {
        "id": "NanqDbF4WGCY"
      }
    },
    {
      "cell_type": "code",
      "source": [
        "pca = PCA(n_components=.98)\n",
        "X_train = pca.fit_transform(X_train)\n",
        "X_test = pca.transform(X_test)"
      ],
      "metadata": {
        "id": "K8oU-rGtSQqU"
      },
      "execution_count": 9,
      "outputs": []
    },
    {
      "cell_type": "markdown",
      "source": [
        "### II.- Modelo Neural\n"
      ],
      "metadata": {
        "id": "n--8pO-KdXMG"
      }
    },
    {
      "cell_type": "markdown",
      "source": [
        "Definimos el input_shape con el PCA.98 aplicado para reducir la dimensionalidad.\n",
        "\n",
        "Debido a la capacidad de computo reducido de google colab esto es extremadamente necesario."
      ],
      "metadata": {
        "id": "kZUM_dVxaNzq"
      }
    },
    {
      "cell_type": "code",
      "source": [
        "input_shape = X_train.shape[1]\n",
        "input_shape"
      ],
      "metadata": {
        "colab": {
          "base_uri": "https://localhost:8080/"
        },
        "id": "RSnTZ1cB0vLX",
        "outputId": "99f43481-6876-462a-f561-e3f8849b42f6"
      },
      "execution_count": 10,
      "outputs": [
        {
          "output_type": "execute_result",
          "data": {
            "text/plain": [
              "192"
            ]
          },
          "metadata": {},
          "execution_count": 10
        }
      ]
    },
    {
      "cell_type": "markdown",
      "source": [
        "Se define nuestro modelo secuencial"
      ],
      "metadata": {
        "id": "nRBJGLOFab4D"
      }
    },
    {
      "cell_type": "code",
      "source": [
        "model = Sequential()"
      ],
      "metadata": {
        "id": "XcsVwEAP00hl"
      },
      "execution_count": 35,
      "outputs": []
    },
    {
      "cell_type": "markdown",
      "source": [
        "###**Primer modelo neural a utilizar**\n",
        "- Se realiza de forma minimalista para comprobar que procesos anteriores hayan sido abordados correctamente.\n",
        "- Debido a los buenos resultados obtenidos con PCA.95 el modelo a continuacion rinde de forma excelente por lo que no fue necesario ajustar mas parametro para una mejor puntuacion o score."
      ],
      "metadata": {
        "id": "9YPZhBs8Lpxt"
      }
    },
    {
      "cell_type": "code",
      "source": [
        "model.add(Dense(192, input_dim = input_shape,activation = 'relu'))\n",
        "model.add(Dense(26, activation = 'softmax'))\n",
        "model.compile(loss = 'categorical_crossentropy', optimizer = 'adam', metrics = ['acc'])\n",
        "early_stopping = EarlyStopping(patience = 5)"
      ],
      "metadata": {
        "id": "Q71Ugg3x02gj"
      },
      "execution_count": 36,
      "outputs": []
    },
    {
      "cell_type": "code",
      "source": [
        "history = model.fit(X_train, y_train,\n",
        "                    validation_data = (X_test, y_test), \n",
        "                    epochs=35)"
      ],
      "metadata": {
        "colab": {
          "base_uri": "https://localhost:8080/"
        },
        "id": "iCIy7KKK1bSr",
        "outputId": "d21779ff-0804-4a2d-dc3f-4d61b24f3f8c"
      },
      "execution_count": 43,
      "outputs": [
        {
          "output_type": "stream",
          "name": "stdout",
          "text": [
            "Epoch 1/35\n",
            "8730/8730 [==============================] - 22s 3ms/step - loss: 2.1845 - acc: 0.9890 - val_loss: 9.6072 - val_acc: 0.9777\n",
            "Epoch 2/35\n",
            "8730/8730 [==============================] - 23s 3ms/step - loss: 2.2287 - acc: 0.9896 - val_loss: 10.1868 - val_acc: 0.9774\n",
            "Epoch 3/35\n",
            "8730/8730 [==============================] - 22s 3ms/step - loss: 2.2043 - acc: 0.9900 - val_loss: 9.9204 - val_acc: 0.9783\n",
            "Epoch 4/35\n",
            "8730/8730 [==============================] - 24s 3ms/step - loss: 2.0895 - acc: 0.9903 - val_loss: 9.7252 - val_acc: 0.9802\n",
            "Epoch 5/35\n",
            "8730/8730 [==============================] - 23s 3ms/step - loss: 2.0539 - acc: 0.9906 - val_loss: 9.7720 - val_acc: 0.9809\n",
            "Epoch 6/35\n",
            "8730/8730 [==============================] - 26s 3ms/step - loss: 2.1239 - acc: 0.9906 - val_loss: 10.4336 - val_acc: 0.9795\n",
            "Epoch 7/35\n",
            "8730/8730 [==============================] - 26s 3ms/step - loss: 2.0365 - acc: 0.9912 - val_loss: 11.2531 - val_acc: 0.9797\n",
            "Epoch 8/35\n",
            "8730/8730 [==============================] - 26s 3ms/step - loss: 2.0704 - acc: 0.9912 - val_loss: 11.2985 - val_acc: 0.9795\n",
            "Epoch 9/35\n",
            "8730/8730 [==============================] - 24s 3ms/step - loss: 2.0880 - acc: 0.9916 - val_loss: 11.3756 - val_acc: 0.9807\n",
            "Epoch 10/35\n",
            "8730/8730 [==============================] - 24s 3ms/step - loss: 1.9982 - acc: 0.9920 - val_loss: 11.1404 - val_acc: 0.9813\n",
            "Epoch 11/35\n",
            "8730/8730 [==============================] - 24s 3ms/step - loss: 1.9635 - acc: 0.9921 - val_loss: 12.1068 - val_acc: 0.9802\n",
            "Epoch 12/35\n",
            "8730/8730 [==============================] - 25s 3ms/step - loss: 1.9161 - acc: 0.9925 - val_loss: 12.5284 - val_acc: 0.9806\n",
            "Epoch 13/35\n",
            "8730/8730 [==============================] - 24s 3ms/step - loss: 2.0533 - acc: 0.9925 - val_loss: 11.9239 - val_acc: 0.9829\n",
            "Epoch 14/35\n",
            "8730/8730 [==============================] - 25s 3ms/step - loss: 1.9204 - acc: 0.9928 - val_loss: 12.3853 - val_acc: 0.9820\n",
            "Epoch 15/35\n",
            "8730/8730 [==============================] - 24s 3ms/step - loss: 1.9337 - acc: 0.9929 - val_loss: 12.6228 - val_acc: 0.9825\n",
            "Epoch 16/35\n",
            "8730/8730 [==============================] - 24s 3ms/step - loss: 1.8202 - acc: 0.9932 - val_loss: 13.8098 - val_acc: 0.9808\n",
            "Epoch 17/35\n",
            "8730/8730 [==============================] - 22s 3ms/step - loss: 1.8506 - acc: 0.9934 - val_loss: 12.8791 - val_acc: 0.9832\n",
            "Epoch 18/35\n",
            "8730/8730 [==============================] - 25s 3ms/step - loss: 1.8870 - acc: 0.9933 - val_loss: 13.0468 - val_acc: 0.9820\n",
            "Epoch 19/35\n",
            "8730/8730 [==============================] - 24s 3ms/step - loss: 1.7988 - acc: 0.9936 - val_loss: 14.4588 - val_acc: 0.9811\n",
            "Epoch 20/35\n",
            "8730/8730 [==============================] - 22s 3ms/step - loss: 1.9291 - acc: 0.9938 - val_loss: 13.3641 - val_acc: 0.9833\n",
            "Epoch 21/35\n",
            "8730/8730 [==============================] - 24s 3ms/step - loss: 1.8364 - acc: 0.9939 - val_loss: 14.3266 - val_acc: 0.9829\n",
            "Epoch 22/35\n",
            "8730/8730 [==============================] - 24s 3ms/step - loss: 1.7624 - acc: 0.9941 - val_loss: 13.9789 - val_acc: 0.9834\n",
            "Epoch 23/35\n",
            "8730/8730 [==============================] - 24s 3ms/step - loss: 1.6978 - acc: 0.9940 - val_loss: 14.6190 - val_acc: 0.9832\n",
            "Epoch 24/35\n",
            "8730/8730 [==============================] - 23s 3ms/step - loss: 1.7199 - acc: 0.9944 - val_loss: 16.1869 - val_acc: 0.9820\n",
            "Epoch 25/35\n",
            "8730/8730 [==============================] - 24s 3ms/step - loss: 1.7941 - acc: 0.9943 - val_loss: 15.0278 - val_acc: 0.9841\n",
            "Epoch 26/35\n",
            "8730/8730 [==============================] - 25s 3ms/step - loss: 1.7963 - acc: 0.9944 - val_loss: 15.4027 - val_acc: 0.9841\n",
            "Epoch 27/35\n",
            "8730/8730 [==============================] - 24s 3ms/step - loss: 1.5930 - acc: 0.9949 - val_loss: 16.4781 - val_acc: 0.9831\n",
            "Epoch 28/35\n",
            "8730/8730 [==============================] - 28s 3ms/step - loss: 1.7345 - acc: 0.9948 - val_loss: 16.5934 - val_acc: 0.9844\n",
            "Epoch 29/35\n",
            "8730/8730 [==============================] - 23s 3ms/step - loss: 1.8578 - acc: 0.9946 - val_loss: 17.5196 - val_acc: 0.9838\n",
            "Epoch 30/35\n",
            "8730/8730 [==============================] - 23s 3ms/step - loss: 1.7146 - acc: 0.9949 - val_loss: 16.3389 - val_acc: 0.9850\n",
            "Epoch 31/35\n",
            "8730/8730 [==============================] - 23s 3ms/step - loss: 1.6563 - acc: 0.9950 - val_loss: 17.2184 - val_acc: 0.9831\n",
            "Epoch 32/35\n",
            "8730/8730 [==============================] - 23s 3ms/step - loss: 1.7168 - acc: 0.9951 - val_loss: 17.4252 - val_acc: 0.9848\n",
            "Epoch 33/35\n",
            "8730/8730 [==============================] - 24s 3ms/step - loss: 1.8203 - acc: 0.9949 - val_loss: 18.4288 - val_acc: 0.9838\n",
            "Epoch 34/35\n",
            "8730/8730 [==============================] - 23s 3ms/step - loss: 1.6927 - acc: 0.9953 - val_loss: 17.6428 - val_acc: 0.9846\n",
            "Epoch 35/35\n",
            "8730/8730 [==============================] - 24s 3ms/step - loss: 1.5721 - acc: 0.9954 - val_loss: 17.6336 - val_acc: 0.9847\n"
          ]
        }
      ]
    },
    {
      "cell_type": "code",
      "source": [
        "plt.plot(history.history['acc'], label='Train acc')\n",
        "plt.plot(history.history['val_acc'], label='Test acc')\n",
        "plt.legend();"
      ],
      "metadata": {
        "colab": {
          "base_uri": "https://localhost:8080/",
          "height": 265
        },
        "id": "tc-YJlYn1dE3",
        "outputId": "d6198c34-9824-4e13-fd4b-ee159f783214"
      },
      "execution_count": 45,
      "outputs": [
        {
          "output_type": "display_data",
          "data": {
            "text/plain": [
              "<Figure size 432x288 with 1 Axes>"
            ],
            "image/png": "[encoded data removed]"
          },
          "metadata": {
            "needs_background": "light"
          }
        }
      ]
    },
    {
      "cell_type": "code",
      "source": [
        "model.predict(X_test)"
      ],
      "metadata": {
        "colab": {
          "base_uri": "https://localhost:8080/"
        },
        "id": "cnP5RSKBitGX",
        "outputId": "29224b7f-24aa-4710-849b-1579de182e4f"
      },
      "execution_count": 59,
      "outputs": [
        {
          "output_type": "stream",
          "name": "stdout",
          "text": [
            "2910/2910 [==============================] - 4s 1ms/step\n"
          ]
        },
        {
          "output_type": "execute_result",
          "data": {
            "text/plain": [
              "array([[0.        , 0.        , 0.        , ..., 0.        , 0.        ,\n",
              "        0.        ],\n",
              "       [0.        , 0.        , 0.        , ..., 0.        , 0.        ,\n",
              "        0.        ],\n",
              "       [0.        , 0.        , 0.99999994, ..., 0.        , 0.        ,\n",
              "        0.        ],\n",
              "       ...,\n",
              "       [0.        , 0.        , 0.        , ..., 0.        , 0.        ,\n",
              "        0.        ],\n",
              "       [0.        , 0.        , 0.        , ..., 0.        , 0.        ,\n",
              "        0.        ],\n",
              "       [0.        , 0.        , 0.        , ..., 0.        , 0.        ,\n",
              "        0.        ]], dtype=float32)"
            ]
          },
          "metadata": {},
          "execution_count": 59
        }
      ]
    },
    {
      "cell_type": "markdown",
      "source": [
        "**Es posible apreciar que en  35 epocas, nuestro modelo alcanzo un score de .98 lo cual es realmente bueno para nuestras predicciones.**"
      ],
      "metadata": {
        "id": "KBFH_8LRfzZ9"
      }
    },
    {
      "cell_type": "markdown",
      "source": [
        "**Visualizaciones**"
      ],
      "metadata": {
        "id": "d7WCE-d6dUjC"
      }
    },
    {
      "cell_type": "code",
      "source": [
        "df[\"letter\"].value_counts().plot(kind=\"bar\", color=\"gray\", edgecolor=\"black\");\n",
        "plt.title(\"Total de Letras y su incidencia\", fontsize=12)\n",
        "plt.xticks(rotation=\"horizontal\")"
      ],
      "metadata": {
        "colab": {
          "base_uri": "https://localhost:8080/",
          "height": 335
        },
        "id": "H7yvlGQ5IlIn",
        "outputId": "484acfbe-3a03-49a0-e0ae-789b8bb86ce6"
      },
      "execution_count": 55,
      "outputs": [
        {
          "output_type": "execute_result",
          "data": {
            "text/plain": [
              "(array([ 0,  1,  2,  3,  4,  5,  6,  7,  8,  9, 10, 11, 12, 13, 14, 15, 16,\n",
              "        17, 18, 19, 20, 21, 22, 23, 24, 25]),\n",
              " <a list of 26 Text major ticklabel objects>)"
            ]
          },
          "metadata": {},
          "execution_count": 55
        },
        {
          "output_type": "display_data",
          "data": {
            "text/plain": [
              "<Figure size 432x288 with 1 Axes>"
            ],
            "image/png": "[encoded data removed]"
          },
          "metadata": {
            "needs_background": "light"
          }
        }
      ]
    },
    {
      "cell_type": "markdown",
      "source": [
        "- En este grafico podemos apreciar las letras que contiene nuestro conjunto de datos como tambien las mas utilizadas y las menos utilizadas."
      ],
      "metadata": {
        "id": "G1eBrLfFZ0gA"
      }
    },
    {
      "cell_type": "code",
      "source": [
        "df[\"letter\"].value_counts().head(3).plot(kind=\"line\", marker=\".\", color=\"orange\")\n",
        "plt.title(\"Letras con mayor incidencia en conjunto de datos\")"
      ],
      "metadata": {
        "colab": {
          "base_uri": "https://localhost:8080/",
          "height": 299
        },
        "id": "wEzWE8tbfHeT",
        "outputId": "b97226fe-d94c-4892-e2d3-a549ddf88111"
      },
      "execution_count": 53,
      "outputs": [
        {
          "output_type": "execute_result",
          "data": {
            "text/plain": [
              "Text(0.5, 1.0, 'Letras con mayor incidencia en conjunto de datos')"
            ]
          },
          "metadata": {},
          "execution_count": 53
        },
        {
          "output_type": "display_data",
          "data": {
            "text/plain": [
              "<Figure size 432x288 with 1 Axes>"
            ],
            "image/png": "[encoded data removed]"
          },
          "metadata": {
            "needs_background": "light"
          }
        }
      ]
    },
    {
      "cell_type": "markdown",
      "source": [
        "- Top 3 letras con mayor uso, estas corresponden a:\n",
        "\n",
        ">14: O, la mas utilizada\n",
        "\n",
        ">18: S, segunda mas utilizada\n",
        "\n",
        ">20: U, tercera mas utilizada\n",
        "\n",
        "Con respecto a las 3 letras mas utilizadas, una pequeña busqueda en internet nos dice.\n",
        "\n",
        "\"Osu, significa aguantar bajo presión\"\n",
        "\n"
      ],
      "metadata": {
        "id": "R3TFtdhjZ9VS"
      }
    },
    {
      "cell_type": "code",
      "source": [
        "df[\"letter\"].value_counts().tail(3).plot(kind=\"pie\")\n",
        "plt.title(\"Letras con menor incidencia\", fontsize = 12)"
      ],
      "metadata": {
        "colab": {
          "base_uri": "https://localhost:8080/",
          "height": 282
        },
        "id": "ug_tHkZyhRNG",
        "outputId": "73cee213-f0ae-4591-fb58-e2939fa463d0"
      },
      "execution_count": 51,
      "outputs": [
        {
          "output_type": "execute_result",
          "data": {
            "text/plain": [
              "Text(0.5, 1.0, 'Letras con menor incidencia')"
            ]
          },
          "metadata": {},
          "execution_count": 51
        },
        {
          "output_type": "display_data",
          "data": {
            "text/plain": [
              "<Figure size 432x288 with 1 Axes>"
            ],
            "image/png": "[encoded data removed]"
          },
          "metadata": {}
        }
      ]
    },
    {
      "cell_type": "markdown",
      "source": [
        "- Y finalmente para mostrar las ultimas letras, o las menos utilizadas. realizamos un pie chart.\n",
        "\n",
        "21: V\n",
        "\n",
        "5: F\n",
        "\n",
        "9: J"
      ],
      "metadata": {
        "id": "BviFgH_oh32-"
      }
    },
    {
      "cell_type": "markdown",
      "source": [
        "## Conclusiones\n",
        "\n",
        "* Despues del procesamiento dado al conjunto de datos entregado, y dadas sus dimensiones. es posible apreciar el gran poder que nos brindan las redes neuronales al momento de predecir valores.\n",
        "\n",
        "* La importancia de utilizar todas las herramientas a disposicion para un buen resultado es fundamental. Sin la aplicacion de PCA la realizacion de este problema hubiera sido imposible.\n",
        "* Con el resultado otorgado con nuestra red neuronal, es posible obtener excelentes resultados de prediccion con datos nuevos."
      ],
      "metadata": {
        "id": "8bPNbsAedcNP"
      }
    },
    {
      "cell_type": "markdown",
      "source": [
        "## Referencias\n",
        "\n",
        "* [Curso MAT281_2022](https://github.com/fralfaro/MAT281_2022)\n",
        "* [Curso CodingDojo-DataScience](https://github.com/fralfaro/CodingDojo-DataScience)\n",
        "* [Plataforma CodingDojo-DataScience](https://login.codingdojo.com/)\n",
        "* Internet, para traduccion de osu!"
      ],
      "metadata": {
        "id": "d1gqE8KYdfOd"
      }
    },
    {
      "cell_type": "code",
      "source": [],
      "metadata": {
        "id": "mlTo_eokdFc0"
      },
      "execution_count": null,
      "outputs": []
    }
  ]
}