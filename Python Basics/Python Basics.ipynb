{
 "cells": [
  {
   "cell_type": "markdown",
   "metadata": {},
   "source": [
    "## Tipos de datos\n",
    "Valores booleanos = True or False\n",
    "\n",
    "Numeros = INT - FLOAT\n",
    "\n",
    "Strings = texto entre \"\" o ''\n",
    "\n",
    "## Tipos de datos compuestos\n",
    "Tuplas = contiene un grupo de valores entre () y es inmutable, no se puede modificar.\n",
    "\n",
    "Listas = contiene grupo de valores entre [], es mutable, se puede modificar.\n",
    "\n",
    ".append() aniade un valor al final de la lista\n",
    "\n",
    ".pop() elimina el valor al final de la lista\n",
    "\n",
    ".pop(int) elimina el valor indicado segun ubicacion, donde 0 es el primer dato\n",
    "\n",
    ".insert(x,y) aniade un valor y en lugar x de la lista.\n",
    "\n",
    "Diccionarios = grupo de datos pares llave - valor, indexados por llaves unicas usadas para acceder a los valores. se almacenan en {}"
   ]
  },
  {
   "cell_type": "markdown",
   "metadata": {},
   "source": [
    "##### BUCLE FOR CON RANGO\n",
    "#la funcion range posee 3 argumentos, y se puede interpretar de la siguientes formas\n",
    "\n",
    "for x in range(0,10,1): # si se quiere empezar de 0 al 10 con incremento de 1\n",
    "\n",
    "for x in range (0,10):\n",
    "\n",
    "for x in range(10):\n",
    "\n",
    "## Lista\n",
    "\n",
    "si el bucle se hara sobre una lista no es necesario especificar la longitud de esta.\n",
    "\n",
    "lista = [1,2,3]\n",
    "\n",
    "for x in lista():      es lo mismo que       for x in range(len(lista)):\n"
   ]
  },
  {
   "cell_type": "code",
   "execution_count": null,
   "metadata": {
    "scrolled": true
   },
   "outputs": [],
   "source": [
    "my_list = [\"abc\", 123, \"xyz\"] # lista con 3 elementos\n",
    "for i in range(0, 3): # i toma el valor numero dado en funcion rango.\n",
    "    print(i, my_list[i]) # 1 = 0, my_list[0] = 0, abc"
   ]
  },
  {
   "cell_type": "code",
   "execution_count": 12,
   "metadata": {},
   "outputs": [
    {
     "name": "stdout",
     "output_type": "stream",
     "text": [
      "name :  Noelle\n",
      "language :  Python\n"
     ]
    }
   ],
   "source": [
    "my_dict = { \"name\": \"Noelle\", \"language\": \"Python\" }\n",
    "for k in my_dict: # al iterar en diccionarios se hara solo con las llaves del diccionario y no los valores\n",
    "    print(k, \": \", my_dict[k])\n"
   ]
  },
  {
   "cell_type": "code",
   "execution_count": 10,
   "metadata": {},
   "outputs": [
    {
     "name": "stdout",
     "output_type": "stream",
     "text": [
      "Noelle\n",
      "Python\n"
     ]
    }
   ],
   "source": [
    "my_dict = { \"name\": \"Noelle\", \"language\": \"Python\" }\n",
    "for k in my_dict:# para obtener el valor de un diccionario\n",
    "    print(my_dict[k])"
   ]
  },
  {
   "cell_type": "code",
   "execution_count": null,
   "metadata": {},
   "outputs": [],
   "source": [
    "#  forma de iterar a través de las llaves\n",
    "for key in capitals.keys():\n",
    "     print(key)\n",
    "# para iterar a través de los valores\n",
    "for val in capitals.values():\n",
    "     print(val)\n",
    "# para iterar a través de llaves y valores\n",
    "for key, val in capitals.items():\n",
    "     print(key, \" = \", val)"
   ]
  },
  {
   "cell_type": "code",
   "execution_count": null,
   "metadata": {},
   "outputs": [],
   "source": [
    "count = 0\n",
    "while count < 5:\n",
    "    print(\"looping - \", count)\n",
    "    count += 1"
   ]
  },
  {
   "cell_type": "markdown",
   "metadata": {},
   "source": [
    "## Break \n",
    "termina de forma abrupta un bucle"
   ]
  },
  {
   "cell_type": "code",
   "execution_count": null,
   "metadata": {},
   "outputs": [],
   "source": [
    "for val in \"string\":\n",
    "    if val == \"i\":\n",
    "        break\n",
    "    print(val)"
   ]
  },
  {
   "cell_type": "markdown",
   "metadata": {},
   "source": [
    "## Continue\n",
    "omite todas las sentencias restantes en la iteracion actual del bucle y continua la ejecucion normal al comienzo del ciclo"
   ]
  },
  {
   "cell_type": "code",
   "execution_count": null,
   "metadata": {
    "scrolled": true
   },
   "outputs": [],
   "source": [
    "for val in \"string\":\n",
    "    if val == \"i\": ## cuando val llego a la i cancelo la iteracion y continuo con la siguiente\n",
    "        continue\n",
    "    print(val)"
   ]
  },
  {
   "cell_type": "code",
   "execution_count": null,
   "metadata": {},
   "outputs": [],
   "source": [
    "y = 3\n",
    "while y > 0:\n",
    "    print(y)\n",
    "    y = y - 1\n",
    "    if y == 0:\n",
    "        break\n",
    "else:# solo se ejecuta en una salida limpia del ciclo while (es decir, no en una interrupción)\n",
    "    print(\"Final else statement\")\n",
    "# output: 3, 2, 1"
   ]
  },
  {
   "cell_type": "markdown",
   "metadata": {},
   "source": [
    "## Funciones \n",
    "\n",
    "\n",
    "Una funcion es un bloque de codigo con nombre que podemos ejecutar para realizar una tarea especifica.\n",
    "\n",
    "para obtener el valor obtenido desde una funcion se utiliza la sentencia Return. \n",
    "\n",
    "Si una funcion contiene 2 sentencias return, solo aplicara el primero e ignorara todo el resto\n",
    "\n",
    "al llamar una funcion que no tiene una sentencia return, devolvera el valor (None)"
   ]
  },
  {
   "cell_type": "markdown",
   "metadata": {},
   "source": [
    "## Print VS Return\n",
    "\n",
    "la funcion print realiza una \"impresion\" de un valor. mientras que Return devuelve el resultado de una funcion, si asi se desea. por defecto el valor de una funcion es None"
   ]
  },
  {
   "cell_type": "code",
   "execution_count": null,
   "metadata": {},
   "outputs": [],
   "source": [
    "def add(a,b):\t# nombre de la función: 'add', parámetros: a y b\n",
    "    x = a + b\t# proceso\n",
    "    return x"
   ]
  },
  {
   "cell_type": "code",
   "execution_count": null,
   "metadata": {},
   "outputs": [],
   "source": [
    "new_val = add(3, 5)    # llamar la función add, con argumentos 3 y 5\n",
    "print(new_val)    # el resultado de la función add se envía y se guarda en new_val, por lo que veremos 8"
   ]
  },
  {
   "cell_type": "code",
   "execution_count": null,
   "metadata": {},
   "outputs": [],
   "source": [
    "def say_hi(name):\n",
    "    print(\"Hi, \" + name)\n",
    "say_hi('Michael')\n",
    "say_hi('Anna')\n",
    "say_hi('Eli')"
   ]
  },
  {
   "cell_type": "code",
   "execution_count": null,
   "metadata": {},
   "outputs": [],
   "source": [
    "def say_hi(name):\n",
    "    return \"Hi \" + name\n",
    "greeting = say_hi(\"Michael\") # el valor devuelto por la función say_hi se asigna a la variable 'saludo'\n",
    "print(greeting) # esto dará como resultado 'Hola Michael'"
   ]
  },
  {
   "cell_type": "code",
   "execution_count": null,
   "metadata": {},
   "outputs": [],
   "source": [
    "def add(a, b):\n",
    "    x = a + b\n",
    "    return x\n",
    "sum1 = add(4,6)\n",
    "sum2 = add(1,4)\n",
    "sum3 = sum1 + sum2\n",
    "\n",
    "sum3"
   ]
  },
  {
   "cell_type": "code",
   "execution_count": null,
   "metadata": {},
   "outputs": [],
   "source": [
    "def say_hi(name):\n",
    "    return \"Hi \" + name\n",
    "greeting = say_hi(\"Michael\") # el valor devuelto por la función say_hi se asigna a la variable 'saludo'\n",
    "print(greeting) # esto dará como resultado 'Hola Michael'"
   ]
  },
  {
   "cell_type": "markdown",
   "metadata": {},
   "source": [
    "## Parametros por defecto y argumentos con nombre"
   ]
  },
  {
   "cell_type": "code",
   "execution_count": null,
   "metadata": {},
   "outputs": [],
   "source": [
    "def beCheerful(name='', repeat=2):\t\t# establecer valores predeterminados al declarar los parámetros\n",
    "\tprint(f\"good morning {name}\\n\" * repeat)\n",
    "beCheerful()\t\t\t\t# output: Buenos dias (repetido en 2 lineas)\n",
    "beCheerful(\"tim\")\t\t        # output: Buenos días tim (repetido en 2 líneas)\n",
    "beCheerful(name=\"john\")\t\t\t# output: buenos días john (repetido en 2 líneas)\n",
    "beCheerful(repeat=2)\t\t\t# output: Buenos dias (repetido en 6 lineas)\n",
    "beCheerful(name=\"michael\", repeat=5)\t# output: buenos días michael (repetido en 5 líneas)\n",
    "# NOTA: ¡el orden de los argumentos no importa si somos explícitos al enviar nuestros argumentos!\n",
    "beCheerful(repeat=2, name=\"kb\")\t\t# output: Buenos dias kb (repetido en 3 lineas)"
   ]
  },
  {
   "cell_type": "markdown",
   "metadata": {},
   "source": [
    "Ten en cuenta las diferentes maneras en que podemos llamar a esta función. Aunque nuestra función define 2 parámetros, si:\n",
    "\n",
    "    No se proporcionan argumentos: se utilizan los valores por defecto.\n",
    "    Se proporciona un argumento unnamed: el valor proporcionado se usa como valor para el primer parámetro, y se usa el valor predeterminado del segundo parámetro.\n",
    "    Se proporciona un argumento named: el valor proporcionado se usa como el valor del parámetro del mismo nombre, y se usa el valor predeterminado del otro parámetro.\n",
    "    Proporcionan ambos argumentos unnamed: valores asignados a los parámetros en orden (es decir, lo que hemos estado hacienda hasta este momento).\n",
    "    Se proporcionan ambos argumentos named: los valores se asignan al parámetro asociado (¡y luego el orden no importa!)."
   ]
  },
  {
   "cell_type": "code",
   "execution_count": null,
   "metadata": {
    "scrolled": true
   },
   "outputs": [],
   "source": [
    "def test(name='', repeat=2):\n",
    "    print(f\"hello {name}, fuck you \\n\"* repeat) # parametro repeat debe ir fuera del string si se busca multiplicarla\n",
    "test()"
   ]
  },
  {
   "cell_type": "markdown",
   "metadata": {},
   "source": [
    "# actualizacion de valores en listas y diccionarios"
   ]
  },
  {
   "cell_type": "code",
   "execution_count": null,
   "metadata": {},
   "outputs": [],
   "source": [
    "x = [ [5,2,3], [10,8,9] ] \n",
    "students = [{'first_name':  'Michael', 'last_name' : 'Jordan'},{'first_name' : 'John', 'last_name' : 'Rosales'}]\n",
    "sports_directory = {'basketball' : ['Kobe', 'Jordan', 'James', 'Curry'],'soccer' : ['Messi', 'Ronaldo', 'Rooney']}\n",
    "z = [ {'x': 10, 'y': 20} ]\n",
    "\n",
    "x[1][0] = 15\n",
    "\n",
    "students[0][\"last_name\"] = \"Bryant\" # el [0] indica la ubicacion del valor a editar, en este caso es el primer diccionario dentro de la lista.\n",
    "\n",
    "sports_directory[\"soccer\"][0] = \"Andrés\" # como el dato se encuentra en la lista, se debe especificar el valor y luego la ubicacion del elemento a modificar\n",
    "\n",
    "z[0][\"y\"] = 30 # se indica que en lista 0(primera) se modificara valor \"Y\" del diccionario\n",
    "print(x)\n",
    "print(students)\n",
    "print(sports_directory)\n",
    "print(z)"
   ]
  },
  {
   "cell_type": "code",
   "execution_count": null,
   "metadata": {},
   "outputs": [],
   "source": [
    "empty_dict = {}\n",
    "new_person = {'name': 'John', 'age': 38, 'weight': 160.2, 'has_glasses': False}\n",
    "new_person['name'] = 'Jack'\t# actualizar si existe la llave\n",
    "new_person['hobbies'] = ['climbing', 'coding']\t# agregar un par llave-valor si la llave no existe\n",
    "print(new_person)\t\n",
    "# output: {'name': 'Jack', 'age': 38, 'weight': 160.2, 'has_glasses': False, 'hobbies': ['climbing', 'coding']}\n",
    "w = new_person.pop('weight')\t# remover la llave indicada y devolverel valor\n",
    "print(w)\t\t# output: 160.2\n",
    "print(new_person)\t\n",
    "# output: {'name': 'Jack', 'age': 38, 'has_glasses': False, 'hobbies': ['climbing', 'coding']} "
   ]
  },
  {
   "cell_type": "markdown",
   "metadata": {},
   "source": [
    "# ALGORITMOS"
   ]
  },
  {
   "cell_type": "code",
   "execution_count": null,
   "metadata": {},
   "outputs": [],
   "source": [
    "arr = [1,5,3,3]\n",
    "def bubbleSort(arr):\n",
    "    count = 0\n",
    "    for j in range(len(arr)-1):\n",
    "        for x in range(len(arr)-1-j):\n",
    "            print(\"\\n\",\"*\"*80, \"\\ncomparing \", arr[x], arr[x+1])\n",
    "            if arr[x] > arr[x+1]:\n",
    "                arr[x],arr[x+1]= arr[x+1], arr[x]\n",
    "                print(\"Swapped\", arr[x],arr[x+1])\n",
    "                print(\"array is now: \",arr)\n",
    "                count = count + 1\n",
    "                print(count)\n",
    "            else:\n",
    "                print(\"no need to swap\", arr[x], arr[x+1])\n",
    "print(bubbleSort(arr))"
   ]
  },
  {
   "cell_type": "code",
   "execution_count": null,
   "metadata": {
    "scrolled": false
   },
   "outputs": [],
   "source": [
    "def porInsercion(lista):\n",
    "    for x in range(1,len(lista)): # el ordenamiento por insercion compara un elemento con el ubicado a la izquierda. por ende se parte desde indice 1 en lugar de 0. (0 no tiene elementos a la izquierda)\n",
    "        valor_inicial = lista[x] # lista = [3,2,1]  valor inicial = [2]\n",
    "        i = x - 1  # i vale\n",
    "        while i >= 0:\n",
    "            if valor_inicial < lista[i]:\n",
    "                lista[i+1] = lista[i] # camia el numero del espacio i al espacio de la derecha i +1\n",
    "                lista[i] = valor_inicial # cambia valor al espacio i\n",
    "                i = i - 1\n",
    "            else:\n",
    "                break\n",
    "                \n",
    "lista = [1,2,3,4,5,6,6,6,4,4,3,2,1]\n",
    "\n",
    "\n",
    "\n",
    "porInsercion(lista)\n",
    "print(lista)"
   ]
  },
  {
   "cell_type": "markdown",
   "metadata": {},
   "source": [
    "### OBJECT ORIENTED PROGRAMMING\n",
    "\n",
    "CLASES Y OBJETOS\n",
    "\n",
    "UNA CLASE TIENE:\n",
    "    ATRIBUTOS(CONJUNTO DE VARIABLES): CARACTERISTICAS COMPARTIDAS POR TODAS LAS INSTANCIAS DEL TIPO DE CLASE.\n",
    "    METODOS (FUNCIONES), CONSTRUCTOR/DECONSTRUCTOR: ACCIONES QUE PUEDE REALIZAR UN OBJETO, POR EJEMPLO: UN USUARIO\n",
    "        DEBERIA PODER HACER UN RETIRO, MIENTRAS QUE OTRO USUARIO PUEDE HACER UN DEPOSITO, MIENTRAS QUE OTRO. AMBAS COSAS.\n",
    "    TANTO ATRIBUTOS COMO METODOS PUEDEN SER PUBLICOS (HEREDABLES) O PRIVADOS ( NO HEREDABLES).\n",
    "    SI SON PROTECTED PUEDEN SER HEREDABLES A PESAR DE SER PRIVATE.\n",
    "    LA HERENCIA PUEDE DARSE A OTRAS CLASES O INSTANCIAS. Y SE TRATA DE PASAR LOS MISMOS ATRIBUTOS O METODOS."
   ]
  },
  {
   "cell_type": "code",
   "execution_count": null,
   "metadata": {},
   "outputs": [],
   "source": [
    "# CLASE\n",
    "class User:\n",
    "    def __init__(self): # el PARAMETRO self es implicito, debe indicarse siempre al construir una clase.\n",
    "        self.name = \"Michael\" # ATRIBUTO. debe indicarse anteponiendo self.\n",
    "        self.email = \"michael@codingdojo.cl\"\n",
    "# los parametros de una clase definidos indican el valor a devolver cuando se llame una instancia.\n",
    "#INSTANCIA\n",
    "guido = User() # creacion de INSTANCIA\n",
    "#Para obtener un atributo de una clase, en nuestra instancia. se debe indicar por nombre del atributo\n",
    "print(test.name) # OUTPUT: Michael    # valor indicado por defecto en el atributo name de la clase user.\n",
    "#Para establecer los valores para los atributos de cada instancia\n",
    "guido.name = \"Guido\" # variable.atributo = valor (string,integer,etc)\n",
    "print(guido.name)"
   ]
  },
  {
   "cell_type": "code",
   "execution_count": null,
   "metadata": {},
   "outputs": [],
   "source": [
    "class prueba:\n",
    "    def __init__(self): # metodo init , parametro self\n",
    "        self.edad = 0 # valor por defecto. puede ser cambiado asignando otro con variable.edad = (int)\n",
    "        self.estatura = 1.7      \n",
    "felipe = prueba()\n",
    "chimuelo = prueba()\n",
    "felipe.edad = 31\n",
    "chimuelo.edad = 4\n",
    "print(felipe.edad)\n",
    "print(chimuelo.edad)"
   ]
  },
  {
   "cell_type": "code",
   "execution_count": null,
   "metadata": {},
   "outputs": [],
   "source": [
    "class User:\n",
    "    def __init__(self, username, email): # 2 parametros adicionales\n",
    "        self.name = username\n",
    "        self.email = email\n",
    "        self.account_balance = 0\n",
    "guido = User(\"Guido van Rossum\", \"guido@python.com\")\n",
    "felipe = User(\"Felipe Gonzalez\", \"felipe.gonzalez.garrido@gmail.com\")\n",
    "print(guido.name)\n",
    "print(felipe.name)\n",
    "print(felipe.email)"
   ]
  },
  {
   "cell_type": "markdown",
   "metadata": {},
   "source": [
    "### Metodos"
   ]
  },
  {
   "cell_type": "code",
   "execution_count": null,
   "metadata": {},
   "outputs": [],
   "source": [
    "#clases\n",
    "class User:\n",
    "    def __init__(self, username, email): # 2 parametros adicionales\n",
    "        self.name = username\n",
    "        self.email = email\n",
    "        self.account_balance = 0\n",
    "    def make_deposit(self, amount): # metodo, toma como argumento el monto del deposito\n",
    "        self.account_balance += amount\n",
    "#instancias\n",
    "guido = User(\"Guido van Rossum\", \"guido@python.com\") \n",
    "felipe = User(\"Felipe Gonzalez\", \"felipe.gonzalez.garrido@gmail.com\")\n",
    "guido.make_deposit(100)\n",
    "guido.make_deposit(200)\n",
    "felipe.make_deposit(100)\n",
    "\n",
    "print(guido.account_balance)\n",
    "print(felipe.account_balance)"
   ]
  },
  {
   "cell_type": "markdown",
   "metadata": {},
   "source": [
    "Self\n",
    "\n",
    "El parámetro self incluye toda la información \n",
    "sobre el objeto individual que ha llamado al método. \n",
    "\n",
    "Pero, ¿cómo se transmite? Según la firma del método de depósito o el método __init__, \n",
    "\n",
    "requieren 2 y 3 argumentos, respectivamente. Sin embargo, cuando los llamamos, pasamos solo 1 y 2. \n",
    "\n",
    "¿Qué está pasando aquí?  Debido a que estamos invocando el método desde la instancia, esto se conoce \n",
    "\n",
    "como paso implícito de self. Cuando invocamos un método desde una instancia, esa instancia, \n",
    "\n",
    "junto con toda su información (nombre, correo electrónico, saldo), se pasa como self.\n"
   ]
  },
  {
   "cell_type": "code",
   "execution_count": 9,
   "metadata": {},
   "outputs": [
    {
     "name": "stdout",
     "output_type": "stream",
     "text": [
      "Saldo de Felipe: 130\n",
      "Saldo Test_user: 10\n",
      "Saldo Transferencia de Guido: -100\n",
      "Saldo Transferencia Test_user: 210\n"
     ]
    }
   ],
   "source": [
    "class User:\n",
    "    def __init__(self,username, email):\n",
    "        self.name = username\n",
    "        self.email = email\n",
    "        self.account_balance = 0\n",
    "    def make_deposit(self, amount):\n",
    "        self.account_balance += amount\n",
    "    def make_withdrawal(self, amount):\n",
    "        self.account_balance -= amount\n",
    "    def display_user_balance(self):\n",
    "        self.account_balance\n",
    "    def transfer_money(self, other_user, amount):\n",
    "        test_user.account_balance += amount        \n",
    "        self.account_balance -= amount\n",
    "\n",
    "\n",
    "guido = User(\"Guido van Rossum\", \"guido@python.com\")\n",
    "felipe = User(\"Felipe Gonzalez\", \"felipe.gonzalez.garrido@gmail.com\")\n",
    "test_user = User(\"Test User\", \"test@test.com\")\n",
    "\n",
    "guido.make_deposit(1000)\n",
    "guido.make_deposit(100)\n",
    "guido.make_deposit(1000)\n",
    "guido.make_withdrawal(2000)\n",
    "\n",
    "felipe.make_deposit(100)\n",
    "felipe.make_deposit(1020)\n",
    "felipe.make_withdrawal(900)\n",
    "felipe.make_withdrawal(90)\n",
    "print(f\"Saldo de Felipe: {felipe.account_balance}\")\n",
    "\n",
    "test_user.make_deposit(100)\n",
    "test_user.make_withdrawal(30)\n",
    "test_user.make_withdrawal(30)\n",
    "test_user.make_withdrawal(30)\n",
    "print(f\"Saldo Test_user: {test_user.account_balance}\")\n",
    "\n",
    "\n",
    "guido.transfer_money(test_user, 200)\n",
    "print(f\"Saldo Transferencia de Guido: {guido.account_balance}\")\n",
    "print(f\"Saldo Transferencia Test_user: {test_user.account_balance}\")"
   ]
  },
  {
   "cell_type": "code",
   "execution_count": 46,
   "metadata": {},
   "outputs": [
    {
     "name": "stdout",
     "output_type": "stream",
     "text": [
      "first_name  -  Michael\n",
      "last_name  -  Jordan\n",
      "first_name  -  John\n",
      "last_name  -  Rosales\n",
      "first_name  -  Mark\n",
      "last_name  -  Guillen\n",
      "first_name  -  KB\n",
      "last_name  -  Tonel\n",
      "None\n"
     ]
    }
   ],
   "source": [
    "\n",
    "students = [\n",
    "         {'first_name':  'Michael', 'last_name' : 'Jordan'},\n",
    "         {'first_name' : 'John', 'last_name' : 'Rosales'},\n",
    "         {'first_name' : 'Mark', 'last_name' : 'Guillen'},\n",
    "         {'first_name' : 'KB', 'last_name' : 'Tonel'}\n",
    "]\n",
    "\n",
    "def iterateDictionary(students):\n",
    "    for x in range(0,len(students)):\n",
    "        dicti = students[x]\n",
    "        for y in dicti:\n",
    "            print(y, \" - \", dicti[y])\n",
    "\n",
    "\n",
    "\n",
    "\n",
    "\n",
    "print(iterateDictionary(students))"
   ]
  },
  {
   "cell_type": "markdown",
   "metadata": {},
   "source": [
    "### Tuplas"
   ]
  },
  {
   "cell_type": "code",
   "execution_count": 2,
   "metadata": {},
   "outputs": [
    {
     "name": "stdout",
     "output_type": "stream",
     "text": [
      "()\n"
     ]
    }
   ],
   "source": [
    "emptyTuple = ()\n",
    "emptyTuple = tuple()\n",
    "print(emptyTuple) # ambas formas mostradas sirven para inicializar una tupla vacia"
   ]
  },
  {
   "cell_type": "code",
   "execution_count": null,
   "metadata": {},
   "outputs": [],
   "source": [
    "# para inicializar una tupla con valores se hace de 2 formas.\n",
    "z = (3,7,4,2)"
   ]
  }
 ],
 "metadata": {
  "kernelspec": {
   "display_name": "Python 3",
   "language": "python",
   "name": "python3"
  },
  "language_info": {
   "codemirror_mode": {
    "name": "ipython",
    "version": 3
   },
   "file_extension": ".py",
   "mimetype": "text/x-python",
   "name": "python",
   "nbconvert_exporter": "python",
   "pygments_lexer": "ipython3",
   "version": "3.8.5"
  },
  "vscode": {
   "interpreter": {
    "hash": "1a0efc7ed7210c8daa9aadd584bbae766f571d407ba1506112b0e572af6a4d67"
   }
  }
 },
 "nbformat": 4,
 "nbformat_minor": 4
}
